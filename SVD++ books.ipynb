{
 "cells": [
  {
   "cell_type": "code",
   "execution_count": 1,
   "metadata": {},
   "outputs": [
    {
     "name": "stderr",
     "output_type": "stream",
     "text": [
      "/Users/kanupriyaarora/opt/anaconda3/lib/python3.8/site-packages/pandas/core/computation/expressions.py:20: UserWarning: Pandas requires version '2.7.3' or newer of 'numexpr' (version '2.7.2' currently installed).\n",
      "  from pandas.core.computation.check import NUMEXPR_INSTALLED\n"
     ]
    }
   ],
   "source": [
    "\n",
    "import numpy as np\n",
    "import pandas as pd\n",
    "from matplotlib import pyplot as plt\n",
    "from surprise import SVDpp\n",
    "from surprise import Dataset\n",
    "from surprise import Reader\n",
    "from surprise import accuracy\n",
    "from collections import defaultdict\n",
    "from surprise.model_selection import train_test_split \n",
    "from sklearn.model_selection import train_test_split \n",
    "from sklearn.metrics import roc_auc_score\n"
   ]
  },
  {
   "cell_type": "code",
   "execution_count": 35,
   "metadata": {},
   "outputs": [],
   "source": [
    "#reading files\n",
    "df_books = pd.read_csv('goodreads_books_poetry.csv')\n",
    "df_users = pd.read_csv('goodreads_interactions_poetry.csv')\n"
   ]
  },
  {
   "cell_type": "code",
   "execution_count": null,
   "metadata": {},
   "outputs": [],
   "source": [
    "df_users.columns"
   ]
  },
  {
   "cell_type": "code",
   "execution_count": 7,
   "metadata": {},
   "outputs": [],
   "source": [
    "df_books = df_books[df_books['language_code'] == 'eng']"
   ]
  },
  {
   "cell_type": "code",
   "execution_count": 9,
   "metadata": {},
   "outputs": [
    {
     "data": {
      "text/plain": [
       "(8393, 29)"
      ]
     },
     "execution_count": 9,
     "metadata": {},
     "output_type": "execute_result"
    }
   ],
   "source": [
    "df_books.shape"
   ]
  },
  {
   "cell_type": "code",
   "execution_count": 11,
   "metadata": {},
   "outputs": [],
   "source": [
    "# Extract the unique book_id values from df_books\n",
    "valid_book_ids = df_books['book_id'].unique()\n",
    "\n",
    "# Filter the rows in df_users\n",
    "df_users = df_users[df_users['book_id'].isin(valid_book_ids)]"
   ]
  },
  {
   "cell_type": "code",
   "execution_count": 5,
   "metadata": {},
   "outputs": [
    {
     "data": {
      "text/html": [
       "<div>\n",
       "<style scoped>\n",
       "    .dataframe tbody tr th:only-of-type {\n",
       "        vertical-align: middle;\n",
       "    }\n",
       "\n",
       "    .dataframe tbody tr th {\n",
       "        vertical-align: top;\n",
       "    }\n",
       "\n",
       "    .dataframe thead th {\n",
       "        text-align: right;\n",
       "    }\n",
       "</style>\n",
       "<table border=\"1\" class=\"dataframe\">\n",
       "  <thead>\n",
       "    <tr style=\"text-align: right;\">\n",
       "      <th></th>\n",
       "      <th>user_id</th>\n",
       "      <th>book_id</th>\n",
       "      <th>review_id</th>\n",
       "      <th>is_read</th>\n",
       "      <th>rating</th>\n",
       "      <th>review_text_incomplete</th>\n",
       "      <th>date_added</th>\n",
       "      <th>date_updated</th>\n",
       "      <th>read_at</th>\n",
       "      <th>started_at</th>\n",
       "    </tr>\n",
       "  </thead>\n",
       "  <tbody>\n",
       "    <tr>\n",
       "      <th>0</th>\n",
       "      <td>8842281e1d1347389f2ab93d60773d4d</td>\n",
       "      <td>1384</td>\n",
       "      <td>1bad0122cebb4aa9213f9fe1aa281f66</td>\n",
       "      <td>True</td>\n",
       "      <td>4</td>\n",
       "      <td>NaN</td>\n",
       "      <td>Wed May 09 09:33:44 -0700 2007</td>\n",
       "      <td>Wed May 09 09:33:44 -0700 2007</td>\n",
       "      <td>NaN</td>\n",
       "      <td>NaN</td>\n",
       "    </tr>\n",
       "    <tr>\n",
       "      <th>1</th>\n",
       "      <td>8842281e1d1347389f2ab93d60773d4d</td>\n",
       "      <td>1376</td>\n",
       "      <td>eb6e502d0c04d57b43a5a02c21b64ab4</td>\n",
       "      <td>True</td>\n",
       "      <td>4</td>\n",
       "      <td>NaN</td>\n",
       "      <td>Wed May 09 09:33:18 -0700 2007</td>\n",
       "      <td>Wed May 09 09:33:18 -0700 2007</td>\n",
       "      <td>NaN</td>\n",
       "      <td>NaN</td>\n",
       "    </tr>\n",
       "    <tr>\n",
       "      <th>2</th>\n",
       "      <td>8842281e1d1347389f2ab93d60773d4d</td>\n",
       "      <td>30119</td>\n",
       "      <td>787564bef16cb1f43e0f641ab59d25b7</td>\n",
       "      <td>True</td>\n",
       "      <td>5</td>\n",
       "      <td>NaN</td>\n",
       "      <td>Sat Jan 13 13:44:20 -0800 2007</td>\n",
       "      <td>Wed Mar 22 11:45:08 -0700 2017</td>\n",
       "      <td>Tue Mar 01 00:00:00 -0800 1983</td>\n",
       "      <td>NaN</td>\n",
       "    </tr>\n",
       "    <tr>\n",
       "      <th>3</th>\n",
       "      <td>72fb0d0087d28c832f15776b0d936598</td>\n",
       "      <td>24769928</td>\n",
       "      <td>8c80ee74743d4b3b123dd1a2e0c0bcac</td>\n",
       "      <td>False</td>\n",
       "      <td>0</td>\n",
       "      <td>NaN</td>\n",
       "      <td>Wed Apr 27 11:05:51 -0700 2016</td>\n",
       "      <td>Wed Apr 27 11:05:52 -0700 2016</td>\n",
       "      <td>NaN</td>\n",
       "      <td>NaN</td>\n",
       "    </tr>\n",
       "    <tr>\n",
       "      <th>4</th>\n",
       "      <td>72fb0d0087d28c832f15776b0d936598</td>\n",
       "      <td>30119</td>\n",
       "      <td>2a83589fb597309934ec9b1db5876aaf</td>\n",
       "      <td>True</td>\n",
       "      <td>3</td>\n",
       "      <td>NaN</td>\n",
       "      <td>Mon Jun 04 18:58:08 -0700 2012</td>\n",
       "      <td>Mon Jun 04 18:58:13 -0700 2012</td>\n",
       "      <td>NaN</td>\n",
       "      <td>NaN</td>\n",
       "    </tr>\n",
       "  </tbody>\n",
       "</table>\n",
       "</div>"
      ],
      "text/plain": [
       "                            user_id   book_id  \\\n",
       "0  8842281e1d1347389f2ab93d60773d4d      1384   \n",
       "1  8842281e1d1347389f2ab93d60773d4d      1376   \n",
       "2  8842281e1d1347389f2ab93d60773d4d     30119   \n",
       "3  72fb0d0087d28c832f15776b0d936598  24769928   \n",
       "4  72fb0d0087d28c832f15776b0d936598     30119   \n",
       "\n",
       "                          review_id  is_read  rating review_text_incomplete  \\\n",
       "0  1bad0122cebb4aa9213f9fe1aa281f66     True       4                    NaN   \n",
       "1  eb6e502d0c04d57b43a5a02c21b64ab4     True       4                    NaN   \n",
       "2  787564bef16cb1f43e0f641ab59d25b7     True       5                    NaN   \n",
       "3  8c80ee74743d4b3b123dd1a2e0c0bcac    False       0                    NaN   \n",
       "4  2a83589fb597309934ec9b1db5876aaf     True       3                    NaN   \n",
       "\n",
       "                       date_added                    date_updated  \\\n",
       "0  Wed May 09 09:33:44 -0700 2007  Wed May 09 09:33:44 -0700 2007   \n",
       "1  Wed May 09 09:33:18 -0700 2007  Wed May 09 09:33:18 -0700 2007   \n",
       "2  Sat Jan 13 13:44:20 -0800 2007  Wed Mar 22 11:45:08 -0700 2017   \n",
       "3  Wed Apr 27 11:05:51 -0700 2016  Wed Apr 27 11:05:52 -0700 2016   \n",
       "4  Mon Jun 04 18:58:08 -0700 2012  Mon Jun 04 18:58:13 -0700 2012   \n",
       "\n",
       "                          read_at started_at  \n",
       "0                             NaN        NaN  \n",
       "1                             NaN        NaN  \n",
       "2  Tue Mar 01 00:00:00 -0800 1983        NaN  \n",
       "3                             NaN        NaN  \n",
       "4                             NaN        NaN  "
      ]
     },
     "execution_count": 5,
     "metadata": {},
     "output_type": "execute_result"
    }
   ],
   "source": [
    "df_users.head()"
   ]
  },
  {
   "cell_type": "code",
   "execution_count": 12,
   "metadata": {},
   "outputs": [],
   "source": [
    "df_users=df_users[['user_id', 'book_id', 'rating']]"
   ]
  },
  {
   "cell_type": "code",
   "execution_count": 13,
   "metadata": {},
   "outputs": [
    {
     "data": {
      "text/html": [
       "<div>\n",
       "<style scoped>\n",
       "    .dataframe tbody tr th:only-of-type {\n",
       "        vertical-align: middle;\n",
       "    }\n",
       "\n",
       "    .dataframe tbody tr th {\n",
       "        vertical-align: top;\n",
       "    }\n",
       "\n",
       "    .dataframe thead th {\n",
       "        text-align: right;\n",
       "    }\n",
       "</style>\n",
       "<table border=\"1\" class=\"dataframe\">\n",
       "  <thead>\n",
       "    <tr style=\"text-align: right;\">\n",
       "      <th></th>\n",
       "      <th>user_id</th>\n",
       "      <th>book_id</th>\n",
       "      <th>rating</th>\n",
       "    </tr>\n",
       "  </thead>\n",
       "  <tbody>\n",
       "    <tr>\n",
       "      <th>0</th>\n",
       "      <td>8842281e1d1347389f2ab93d60773d4d</td>\n",
       "      <td>1384</td>\n",
       "      <td>4</td>\n",
       "    </tr>\n",
       "    <tr>\n",
       "      <th>1</th>\n",
       "      <td>8842281e1d1347389f2ab93d60773d4d</td>\n",
       "      <td>1376</td>\n",
       "      <td>4</td>\n",
       "    </tr>\n",
       "    <tr>\n",
       "      <th>2</th>\n",
       "      <td>8842281e1d1347389f2ab93d60773d4d</td>\n",
       "      <td>30119</td>\n",
       "      <td>5</td>\n",
       "    </tr>\n",
       "    <tr>\n",
       "      <th>3</th>\n",
       "      <td>72fb0d0087d28c832f15776b0d936598</td>\n",
       "      <td>24769928</td>\n",
       "      <td>0</td>\n",
       "    </tr>\n",
       "    <tr>\n",
       "      <th>4</th>\n",
       "      <td>72fb0d0087d28c832f15776b0d936598</td>\n",
       "      <td>30119</td>\n",
       "      <td>3</td>\n",
       "    </tr>\n",
       "  </tbody>\n",
       "</table>\n",
       "</div>"
      ],
      "text/plain": [
       "                            user_id   book_id  rating\n",
       "0  8842281e1d1347389f2ab93d60773d4d      1384       4\n",
       "1  8842281e1d1347389f2ab93d60773d4d      1376       4\n",
       "2  8842281e1d1347389f2ab93d60773d4d     30119       5\n",
       "3  72fb0d0087d28c832f15776b0d936598  24769928       0\n",
       "4  72fb0d0087d28c832f15776b0d936598     30119       3"
      ]
     },
     "execution_count": 13,
     "metadata": {},
     "output_type": "execute_result"
    }
   ],
   "source": [
    "df_users.head()"
   ]
  },
  {
   "cell_type": "code",
   "execution_count": 14,
   "metadata": {},
   "outputs": [
    {
     "name": "stdout",
     "output_type": "stream",
     "text": [
      "Training data size: (1014663, 3)\n",
      "Test data size: (338221, 3)\n"
     ]
    }
   ],
   "source": [
    "#splitting data into train and test sets\n",
    "train_split, test_split = train_test_split(df_users, test_size = 0.25, random_state = 20)\n",
    "print(\"Training data size:\", train_split.shape)\n",
    "print(\"Test data size:\", test_split.shape)\n"
   ]
  },
  {
   "cell_type": "code",
   "execution_count": 15,
   "metadata": {},
   "outputs": [
    {
     "name": "stdout",
     "output_type": "stream",
     "text": [
      "Test set size: 338221\n"
     ]
    }
   ],
   "source": [
    "#reader for parsing the ratings file\n",
    "reader = Reader(rating_scale=(1, 5))\n",
    "#building the train and test set, loading the data from dataframe \n",
    "train_build = Dataset.load_from_df(train_split, reader)\n",
    "test_build = Dataset.load_from_df(test_split, reader)\n",
    "trainset = train_build.build_full_trainset()\n",
    "testset = test_build.build_full_trainset().build_testset() \n",
    "print(\"Test set size:\", len(testset))\n"
   ]
  },
  {
   "cell_type": "code",
   "execution_count": 17,
   "metadata": {},
   "outputs": [
    {
     "data": {
      "text/plain": [
       "<surprise.prediction_algorithms.matrix_factorization.SVDpp at 0x7ff6bff716a0>"
      ]
     },
     "execution_count": 17,
     "metadata": {},
     "output_type": "execute_result"
    }
   ],
   "source": [
    "#model building\n",
    "#takes in factors, epochs, learning rate and regularization parameter \n",
    "model = SVDpp(n_factors=30,n_epochs=20,lr_all=0.01,reg_all=0.05) \n",
    "model.fit(trainset)\n"
   ]
  },
  {
   "cell_type": "code",
   "execution_count": 18,
   "metadata": {},
   "outputs": [
    {
     "name": "stdout",
     "output_type": "stream",
     "text": [
      "RMSE: 1.8019\n"
     ]
    },
    {
     "data": {
      "text/plain": [
       "1.8018896613803914"
      ]
     },
     "execution_count": 18,
     "metadata": {},
     "output_type": "execute_result"
    }
   ],
   "source": [
    "#making predictions\n",
    "predictions = model.test(testset)\n",
    "#calculating rmse\n",
    "accuracy.rmse(predictions, verbose = True)\n",
    "#Save all the predicted ratings and convert it to a dataframe \n",
    "\n"
   ]
  },
  {
   "cell_type": "code",
   "execution_count": 19,
   "metadata": {},
   "outputs": [
    {
     "name": "stdout",
     "output_type": "stream",
     "text": [
      "                               user   book_id  predicted_rating\n",
      "0  95c25c4181bd7449f1ce2e2dafe7c21e     30119          2.139364\n",
      "1  091402d81bef94103c1ef99586c4d365     27822          1.922856\n",
      "2  091402d81bef94103c1ef99586c4d365      1420          2.014041\n",
      "3  c958665f697b9b750102b28d61680a0b  18263725          2.905318\n",
      "4  a8e23ebfd310fc499af43ace51b1c894      1715          1.946904\n",
      "(338221, 3)\n"
     ]
    }
   ],
   "source": [
    "all_recommendations_list = defaultdict(list)\n",
    "all_recommendations_df = pd.DataFrame([])\n",
    "# Create empty lists to collect data for each column\n",
    "user_list = []\n",
    "book_id_list = []\n",
    "predicted_rating_list = []\n",
    "\n",
    "for uid, iid, true_r, est, _ in predictions:\n",
    "    all_recommendations_list[uid].append((iid, est))\n",
    "    user_list.append(uid)\n",
    "    book_id_list.append(iid)\n",
    "    predicted_rating_list.append(est)\n",
    "\n",
    "\n",
    "#for uid, iid, true_r, est, _ in predictions:\n",
    "    #all_recommendations_list[uid].append((iid, est))\n",
    "    \n",
    "# Create a DataFrame using the collected data\n",
    "all_recommendations_df = pd.DataFrame({'user': user_list, 'book_id': book_id_list, 'predicted_rating': predicted_rating_list})\n",
    "    #all_recommendations_df = all_recommendations_df.append(pd.DataFrame({'user': uid, 'movieId': iid, 'predicted_rating' : est}, index=[0]), ignore_index=True); \n",
    "print(all_recommendations_df.head(5)) \n",
    "print(all_recommendations_df.shape)\n",
    "\n"
   ]
  },
  {
   "cell_type": "code",
   "execution_count": 20,
   "metadata": {},
   "outputs": [
    {
     "name": "stdout",
     "output_type": "stream",
     "text": [
      "                               user  book_id  predicted_rating        isbn  \\\n",
      "0  95c25c4181bd7449f1ce2e2dafe7c21e    30119          2.139364  0060513039   \n",
      "1  a8e23ebfd310fc499af43ace51b1c894    30119          3.126805  0060513039   \n",
      "2  a5b0434e1f3179930816fea2b9193b6e    30119          2.909621  0060513039   \n",
      "3  238dcb73b558f030afd477ed6be48232    30119          3.330055  0060513039   \n",
      "4  87070937fd0a8f99c7dd0dfceef7ee37    30119          1.000000  0060513039   \n",
      "\n",
      "   text_reviews_count series country_code language_code  \\\n",
      "0                8950     []           US           eng   \n",
      "1                8950     []           US           eng   \n",
      "2                8950     []           US           eng   \n",
      "3                8950     []           US           eng   \n",
      "4                8950     []           US           eng   \n",
      "\n",
      "                                     popular_shelves asin  ...         isbn13  \\\n",
      "0  [{'count': '20447', 'name': 'to-read'}, {'coun...  NaN  ...  9780060513030   \n",
      "1  [{'count': '20447', 'name': 'to-read'}, {'coun...  NaN  ...  9780060513030   \n",
      "2  [{'count': '20447', 'name': 'to-read'}, {'coun...  NaN  ...  9780060513030   \n",
      "3  [{'count': '20447', 'name': 'to-read'}, {'coun...  NaN  ...  9780060513030   \n",
      "4  [{'count': '20447', 'name': 'to-read'}, {'coun...  NaN  ...  9780060513030   \n",
      "\n",
      "   publication_month edition_information publication_year  \\\n",
      "0               11.0                 NaN           2002.0   \n",
      "1               11.0                 NaN           2002.0   \n",
      "2               11.0                 NaN           2002.0   \n",
      "3               11.0                 NaN           2002.0   \n",
      "4               11.0                 NaN           2002.0   \n",
      "\n",
      "                                                 url  \\\n",
      "0  https://www.goodreads.com/book/show/30119.Wher...   \n",
      "1  https://www.goodreads.com/book/show/30119.Wher...   \n",
      "2  https://www.goodreads.com/book/show/30119.Wher...   \n",
      "3  https://www.goodreads.com/book/show/30119.Wher...   \n",
      "4  https://www.goodreads.com/book/show/30119.Wher...   \n",
      "\n",
      "                                           image_url ratings_count work_id  \\\n",
      "0  https://images.gr-assets.com/books/1168052448m...       1029527   30518   \n",
      "1  https://images.gr-assets.com/books/1168052448m...       1029527   30518   \n",
      "2  https://images.gr-assets.com/books/1168052448m...       1029527   30518   \n",
      "3  https://images.gr-assets.com/books/1168052448m...       1029527   30518   \n",
      "4  https://images.gr-assets.com/books/1168052448m...       1029527   30518   \n",
      "\n",
      "                     title     title_without_series  \n",
      "0  Where the Sidewalk Ends  Where the Sidewalk Ends  \n",
      "1  Where the Sidewalk Ends  Where the Sidewalk Ends  \n",
      "2  Where the Sidewalk Ends  Where the Sidewalk Ends  \n",
      "3  Where the Sidewalk Ends  Where the Sidewalk Ends  \n",
      "4  Where the Sidewalk Ends  Where the Sidewalk Ends  \n",
      "\n",
      "[5 rows x 31 columns]\n"
     ]
    }
   ],
   "source": [
    "#Merging with movies file to get genre, title information for predictions\n",
    "all_recommendations_df_details = pd.merge(all_recommendations_df,df_books, on='book_id', how='inner') \n",
    "print(all_recommendations_df_details.head(5))\n"
   ]
  },
  {
   "cell_type": "code",
   "execution_count": 34,
   "metadata": {},
   "outputs": [
    {
     "data": {
      "text/plain": [
       "Index(['user', 'book_id', 'predicted_rating', 'isbn', 'text_reviews_count',\n",
       "       'series', 'country_code', 'language_code', 'popular_shelves', 'asin',\n",
       "       'is_ebook', 'average_rating', 'kindle_asin', 'similar_books',\n",
       "       'description', 'format', 'link', 'authors', 'publisher', 'num_pages',\n",
       "       'publication_day', 'isbn13', 'publication_month', 'edition_information',\n",
       "       'publication_year', 'url', 'image_url', 'ratings_count', 'work_id',\n",
       "       'title', 'title_without_series'],\n",
       "      dtype='object')"
      ]
     },
     "execution_count": 34,
     "metadata": {},
     "output_type": "execute_result"
    }
   ],
   "source": [
    "all_recommendations_df_details.columns"
   ]
  },
  {
   "cell_type": "code",
   "execution_count": 21,
   "metadata": {},
   "outputs": [],
   "source": [
    "#List of top n recommendations list as per SVD++\n",
    "def get_top_n_recommendation_list_df(all_recommendations_df_details, n=10):\n",
    "    top_n_recommendations_df = all_recommendations_df_details.sort_values(['user','predicted_rating'] ,ascending=[True, False])\n",
    "    return top_n_recommendations_df\n"
   ]
  },
  {
   "cell_type": "code",
   "execution_count": 22,
   "metadata": {},
   "outputs": [
    {
     "name": "stdout",
     "output_type": "stream",
     "text": [
      "                                    user   book_id  predicted_rating  \\\n",
      "257732  0001085188e302fc6b2568de45a5f56b  32334098          1.000000   \n",
      "191271  00013344a98d0147eacab88d3e1502ef      5932          4.888991   \n",
      "274369  00013344a98d0147eacab88d3e1502ef    138165          4.674417   \n",
      "106610  000192962b87d560f00b06fdcbd71681     30118          4.082191   \n",
      "83978   000243c8e211fb3f359e4ff45ca899ea     15997          1.000000   \n",
      "\n",
      "              isbn  text_reviews_count       series country_code  \\\n",
      "257732  144948641X                 221  ['1137480']           US   \n",
      "191271  0143039962                 882           []           US   \n",
      "274369  0393974979                  19           []           US   \n",
      "106610  0060513063                2222           []           US   \n",
      "83978   0140424393                2098   ['465549']           US   \n",
      "\n",
      "       language_code                                    popular_shelves asin  \\\n",
      "257732           eng  [{'count': '62826', 'name': 'to-read'}, {'coun...  NaN   \n",
      "191271           eng  [{'count': '890', 'name': 'to-read'}, {'count'...  NaN   \n",
      "274369           eng  [{'count': '1079', 'name': 'to-read'}, {'count...  NaN   \n",
      "106610           eng  [{'count': '95074', 'name': 'to-read'}, {'coun...  NaN   \n",
      "83978            eng  [{'count': '7151', 'name': 'currently-reading'...  NaN   \n",
      "\n",
      "        ...         isbn13  publication_month  \\\n",
      "257732  ...  9781449486419                2.0   \n",
      "191271  ...  9780143039969               12.0   \n",
      "274369  ...  9780393974973                3.0   \n",
      "106610  ...  9780060513061               10.0   \n",
      "83978   ...  9780140424393                2.0   \n",
      "\n",
      "                     edition_information publication_year  \\\n",
      "257732                               NaN           2017.0   \n",
      "191271                               NaN           2006.0   \n",
      "274369                               NaN           2000.0   \n",
      "106610  20th Anniversary Edition with CD           2002.0   \n",
      "83978                                NaN           2003.0   \n",
      "\n",
      "                                                      url  \\\n",
      "257732  https://www.goodreads.com/book/show/32334098-t...   \n",
      "191271  https://www.goodreads.com/book/show/5932.Twent...   \n",
      "274369  https://www.goodreads.com/book/show/138165.Poe...   \n",
      "106610  https://www.goodreads.com/book/show/30118.A_Li...   \n",
      "83978   https://www.goodreads.com/book/show/15997.Para...   \n",
      "\n",
      "                                                image_url ratings_count  \\\n",
      "257732  https://images.gr-assets.com/books/1487511102m...          1049   \n",
      "191271  https://images.gr-assets.com/books/1447622711m...         32000   \n",
      "274369  https://s.gr-assets.com/assets/nophoto/book/11...          2573   \n",
      "106610  https://images.gr-assets.com/books/1427169918m...        304689   \n",
      "83978   https://images.gr-assets.com/books/1455618673m...         97784   \n",
      "\n",
      "         work_id                                    title  \\\n",
      "257732  50494177   The Princess Saves Herself in This One   \n",
      "191271   2103337  Twenty Love Poems and a Song of Despair   \n",
      "274369    133178                  Poetry, Drama and Prose   \n",
      "106610    142009                     A Light in the Attic   \n",
      "83978    1031493                            Paradise Lost   \n",
      "\n",
      "                           title_without_series  \n",
      "257732   The Princess Saves Herself in This One  \n",
      "191271  Twenty Love Poems and a Song of Despair  \n",
      "274369                  Poetry, Drama and Prose  \n",
      "106610                     A Light in the Attic  \n",
      "83978                             Paradise Lost  \n",
      "\n",
      "[5 rows x 31 columns]\n"
     ]
    }
   ],
   "source": [
    "top_n_recommendations_df = get_top_n_recommendation_list_df(all_recommendations_df_details, 10) \n",
    "print(top_n_recommendations_df.head())\n"
   ]
  },
  {
   "cell_type": "code",
   "execution_count": 23,
   "metadata": {},
   "outputs": [],
   "source": [
    "metrics=[]\n",
    "true_positives_array = []\n",
    "est_array = []\n",
    "for rating_threshold in np.arange(0,5.5,0.5):\n",
    "    truePositives = 0\n",
    "    trueNegatives = 0\n",
    "    falseNegatives = 0\n",
    "    falsePositives = 0\n",
    "    accuracy =0\n",
    "    precision =0\n",
    "    recall =0\n",
    "    f1_score = 0\n",
    "    for uid,_, true_r, est, _ in predictions:\n",
    "        if(true_r >= rating_threshold and est >= rating_threshold):\n",
    "            truePositives = truePositives + 1 \n",
    "            true_positives_array.append(true_r) \n",
    "            est_array.append(est)\n",
    "#here\n",
    "        elif(true_r >= rating_threshold and est<= rating_threshold):\n",
    "            falseNegatives = falseNegatives + 1 \n",
    "        elif(true_r <= rating_threshold and est >=rating_threshold):\n",
    "             falsePositives = falsePositives + 1 \n",
    "        elif(true_r <= rating_threshold and est<=rating_threshold):\n",
    "            trueNegatives = trueNegatives + 1 \n",
    "        if(truePositives > 0):\n",
    "            accuracy = (truePositives + trueNegatives ) / (truePositives + trueNegatives + falsePositives + falseNegatives)\n",
    "            precision = truePositives / (truePositives + falsePositives)\n",
    "            recall = truePositives / (truePositives + falseNegatives) \n",
    "            f1_score = 2 * (precision * recall) / (precision + recall)\n",
    "\n"
   ]
  },
  {
   "cell_type": "code",
   "execution_count": 24,
   "metadata": {},
   "outputs": [
    {
     "name": "stdout",
     "output_type": "stream",
     "text": [
      "AUC Score:  0.6871795906097623\n"
     ]
    }
   ],
   "source": [
    "metrics.append([rating_threshold,truePositives,trueNegatives,falsePositives,falseNegatives,accuracy,precision,recall,f1_score])\n",
    "metrics_df = pd.DataFrame(metrics)\n",
    "metrics_df.rename(columns={0:'rating_threshold', 1:'truePositives', 2: 'trueNegatives', 3: 'falsePositives', 4:'falseNegatives', 5: 'Accuracy', 6: 'Precision', 7:'Recall', 8:'F1 Score'},inplace=True)\n",
    "true_bin_array =[]\n",
    "for x in true_positives_array:\n",
    "    if x >= rating_threshold: \n",
    "        x=1\n",
    "    else: \n",
    "        x=0\n",
    "    true_bin_array.append(x)\n",
    "auc_score =roc_auc_score(true_bin_array,est_array,multi_class='raise',average='macro')\n",
    "print('AUC Score: ',auc_score)\n"
   ]
  },
  {
   "cell_type": "code",
   "execution_count": 27,
   "metadata": {},
   "outputs": [
    {
     "name": "stdout",
     "output_type": "stream",
     "text": [
      "{'topN': 5, 'Precision': 0.9514744846167148, 'Recall': 0.6194278743750823}\n",
      "{'topN': 6, 'Precision': 0.9514117043667423, 'Recall': 0.6205048448279459}\n",
      "{'topN': 7, 'Precision': 0.9513568286518761, 'Recall': 0.6211155210775254}\n",
      "{'topN': 8, 'Precision': 0.9513252485140271, 'Recall': 0.6215143435700378}\n",
      "{'topN': 9, 'Precision': 0.9512958978604388, 'Recall': 0.6217608647218136}\n",
      "{'topN': 10, 'Precision': 0.9512856118307823, 'Recall': 0.6219511636655016}\n",
      "                                 user_id   book_id  rating        isbn  \\\n",
      "7028    0001085188e302fc6b2568de45a5f56b     30119       5  0060513039   \n",
      "134334  0001085188e302fc6b2568de45a5f56b     30118       5  0060513063   \n",
      "183629  0001085188e302fc6b2568de45a5f56b      1420       0  0521618746   \n",
      "790800  0001085188e302fc6b2568de45a5f56b  32334098       0  144948641X   \n",
      "\n",
      "        text_reviews_count       series country_code language_code  \\\n",
      "7028                  8950           []           US           eng   \n",
      "134334                2222           []           US           eng   \n",
      "183629                5737           []           US           eng   \n",
      "790800                 221  ['1137480']           US           eng   \n",
      "\n",
      "                                          popular_shelves asin  ...  \\\n",
      "7028    [{'count': '20447', 'name': 'to-read'}, {'coun...  NaN  ...   \n",
      "134334  [{'count': '95074', 'name': 'to-read'}, {'coun...  NaN  ...   \n",
      "183629  [{'count': '1659', 'name': 'school'}, {'count'...  NaN  ...   \n",
      "790800  [{'count': '62826', 'name': 'to-read'}, {'coun...  NaN  ...   \n",
      "\n",
      "               isbn13  publication_month               edition_information  \\\n",
      "7028    9780060513030               11.0                               NaN   \n",
      "134334  9780060513061               10.0  20th Anniversary Edition with CD   \n",
      "183629  9780521618748                8.0                               NaN   \n",
      "790800  9781449486419                2.0                               NaN   \n",
      "\n",
      "       publication_year                                                url  \\\n",
      "7028             2002.0  https://www.goodreads.com/book/show/30119.Wher...   \n",
      "134334           2002.0  https://www.goodreads.com/book/show/30118.A_Li...   \n",
      "183629           2005.0    https://www.goodreads.com/book/show/1420.Hamlet   \n",
      "790800           2017.0  https://www.goodreads.com/book/show/32334098-t...   \n",
      "\n",
      "                                                image_url ratings_count  \\\n",
      "7028    https://images.gr-assets.com/books/1168052448m...       1029527   \n",
      "134334  https://images.gr-assets.com/books/1427169918m...        304689   \n",
      "183629  https://images.gr-assets.com/books/1351051208m...        526122   \n",
      "790800  https://images.gr-assets.com/books/1487511102m...          1049   \n",
      "\n",
      "         work_id                                   title  \\\n",
      "7028       30518                 Where the Sidewalk Ends   \n",
      "134334    142009                    A Light in the Attic   \n",
      "183629   1885548                                  Hamlet   \n",
      "790800  50494177  The Princess Saves Herself in This One   \n",
      "\n",
      "                          title_without_series  \n",
      "7028                   Where the Sidewalk Ends  \n",
      "134334                    A Light in the Attic  \n",
      "183629                                  Hamlet  \n",
      "790800  The Princess Saves Herself in This One  \n",
      "\n",
      "[4 rows x 31 columns]\n",
      "                                    user   book_id  predicted_rating  \\\n",
      "257732  0001085188e302fc6b2568de45a5f56b  32334098               1.0   \n",
      "\n",
      "              isbn  text_reviews_count       series country_code  \\\n",
      "257732  144948641X                 221  ['1137480']           US   \n",
      "\n",
      "       language_code                                    popular_shelves asin  \\\n",
      "257732           eng  [{'count': '62826', 'name': 'to-read'}, {'coun...  NaN   \n",
      "\n",
      "        ...         isbn13  publication_month edition_information  \\\n",
      "257732  ...  9781449486419                2.0                 NaN   \n",
      "\n",
      "       publication_year                                                url  \\\n",
      "257732           2017.0  https://www.goodreads.com/book/show/32334098-t...   \n",
      "\n",
      "                                                image_url ratings_count  \\\n",
      "257732  https://images.gr-assets.com/books/1487511102m...          1049   \n",
      "\n",
      "         work_id                                   title  \\\n",
      "257732  50494177  The Princess Saves Herself in This One   \n",
      "\n",
      "                          title_without_series  \n",
      "257732  The Princess Saves Herself in This One  \n",
      "\n",
      "[1 rows x 31 columns]\n"
     ]
    }
   ],
   "source": [
    "#Calculate precision and recall at n\n",
    "def get_precision_recall_at_n(predictions,topn,rating_threshold): \n",
    "    all_actual_predicted_list = defaultdict(list)\n",
    "    precision = dict()\n",
    "    recall= dict()\n",
    "    no_of_relevant_items = 0 \n",
    "    no_of_recommended_items_at_top_n = 0 \n",
    "    no_of_relevant_recommended_items_at_top_n = 0  \n",
    "    for uid, iid, true_r, est, _ in predictions:\n",
    "        all_actual_predicted_list[uid].append((est, true_r)) \n",
    "    for uid, user_ratings in all_actual_predicted_list.items():\n",
    "        user_ratings.sort(key=lambda x: x[0], reverse=True)\n",
    "        no_of_relevant_items = sum((true_r >= rating_threshold) for (_, true_r) in user_ratings)\n",
    "        no_of_recommended_items_at_top_n = sum((est >= rating_threshold) for (est, _) in user_ratings[:topn])\n",
    "        no_of_relevant_recommended_items_at_top_n = sum(((true_r >= rating_threshold) and (est >= rating_threshold)) for (est, true_r) in user_ratings[:topn])\n",
    "        precision[uid] = no_of_relevant_recommended_items_at_top_n / no_of_recommended_items_at_top_n if no_of_recommended_items_at_top_n != 0 else 1\n",
    "        recall[uid] = no_of_relevant_recommended_items_at_top_n / no_of_relevant_items if no_of_relevant_items != 0 else 1\n",
    "    return precision, recall \n",
    "\n",
    "rating_threshold=3 \n",
    "precision_recall_at_n = [] \n",
    "for topn in range(2,20):\n",
    "    precision, recall = get_precision_recall_at_n(predictions,topn,rating_threshold)\n",
    "    precision_at_n = sum(prec for prec in precision.values()) / len(precision)\n",
    "\n",
    "    recall_at_n = sum(rec for rec in recall.values()) / len(recall)\n",
    "    precision_recall_at_n.append({'topN' : topn, 'Precision' : precision_at_n, 'Recall': recall_at_n})\n",
    "for n in range(3,9):\n",
    "    print(precision_recall_at_n[n])\n",
    "#get user high rated and liked movies\n",
    "all_book_df_details = pd.merge(df_users,df_books, on='book_id', how='inner')\n",
    "all_book_df_details = all_book_df_details.sort_values(['user_id','rating'],ascending=[True, False])\n",
    "print(all_book_df_details.loc[all_book_df_details['user_id'] == \"0001085188e302fc6b2568de45a5f56b\"].head(10)) #user 10 top 10 rated movies\n",
    "#user 10 top 10 movie recommendations list \n",
    "print(top_n_recommendations_df.loc[top_n_recommendations_df['user'] == \"0001085188e302fc6b2568de45a5f56b\"].head(10))"
   ]
  },
  {
   "cell_type": "code",
   "execution_count": null,
   "metadata": {},
   "outputs": [],
   "source": []
  }
 ],
 "metadata": {
  "kernelspec": {
   "display_name": "Python 3",
   "language": "python",
   "name": "python3"
  },
  "language_info": {
   "codemirror_mode": {
    "name": "ipython",
    "version": 3
   },
   "file_extension": ".py",
   "mimetype": "text/x-python",
   "name": "python",
   "nbconvert_exporter": "python",
   "pygments_lexer": "ipython3",
   "version": "3.8.2"
  }
 },
 "nbformat": 4,
 "nbformat_minor": 4
}
