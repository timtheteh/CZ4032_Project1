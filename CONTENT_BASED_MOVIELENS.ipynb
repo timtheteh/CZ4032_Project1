{
 "cells": [
  {
   "cell_type": "code",
   "execution_count": 5,
   "id": "bd52fee4-d69f-4ed4-906b-2d954a03249b",
   "metadata": {},
   "outputs": [],
   "source": [
    "import pandas as pd\n",
    "from sklearn.feature_extraction.text import TfidfVectorizer\n",
    "from sklearn.metrics.pairwise import linear_kernel"
   ]
  },
  {
   "cell_type": "code",
   "execution_count": 6,
   "id": "4aef03ff-c7b7-4dd3-b69c-c16743b689c3",
   "metadata": {},
   "outputs": [],
   "source": [
    "\n",
    "import numpy as np\n",
    "from sklearn.metrics import pairwise_distances"
   ]
  },
  {
   "cell_type": "code",
   "execution_count": 7,
   "id": "00ea6d93-4b30-463d-8f61-c73a8db6887b",
   "metadata": {},
   "outputs": [],
   "source": [
    "import pandas as pd\n",
    "movies_df = pd.read_csv('movies.csv', sep='\\t', encoding='latin-1', usecols=['movie_id', 'title', 'genres'])"
   ]
  },
  {
   "cell_type": "code",
   "execution_count": 8,
   "id": "e42c14f0-39ca-4893-8c2a-7c6aa11a2792",
   "metadata": {},
   "outputs": [
    {
     "data": {
      "text/html": [
       "<div>\n",
       "<style scoped>\n",
       "    .dataframe tbody tr th:only-of-type {\n",
       "        vertical-align: middle;\n",
       "    }\n",
       "\n",
       "    .dataframe tbody tr th {\n",
       "        vertical-align: top;\n",
       "    }\n",
       "\n",
       "    .dataframe thead th {\n",
       "        text-align: right;\n",
       "    }\n",
       "</style>\n",
       "<table border=\"1\" class=\"dataframe\">\n",
       "  <thead>\n",
       "    <tr style=\"text-align: right;\">\n",
       "      <th></th>\n",
       "      <th>movie_id</th>\n",
       "      <th>title</th>\n",
       "      <th>genres</th>\n",
       "    </tr>\n",
       "  </thead>\n",
       "  <tbody>\n",
       "    <tr>\n",
       "      <th>0</th>\n",
       "      <td>1</td>\n",
       "      <td>Toy Story (1995)</td>\n",
       "      <td>Animation|Children's|Comedy</td>\n",
       "    </tr>\n",
       "    <tr>\n",
       "      <th>1</th>\n",
       "      <td>2</td>\n",
       "      <td>Jumanji (1995)</td>\n",
       "      <td>Adventure|Children's|Fantasy</td>\n",
       "    </tr>\n",
       "    <tr>\n",
       "      <th>2</th>\n",
       "      <td>3</td>\n",
       "      <td>Grumpier Old Men (1995)</td>\n",
       "      <td>Comedy|Romance</td>\n",
       "    </tr>\n",
       "    <tr>\n",
       "      <th>3</th>\n",
       "      <td>4</td>\n",
       "      <td>Waiting to Exhale (1995)</td>\n",
       "      <td>Comedy|Drama</td>\n",
       "    </tr>\n",
       "    <tr>\n",
       "      <th>4</th>\n",
       "      <td>5</td>\n",
       "      <td>Father of the Bride Part II (1995)</td>\n",
       "      <td>Comedy</td>\n",
       "    </tr>\n",
       "  </tbody>\n",
       "</table>\n",
       "</div>"
      ],
      "text/plain": [
       "   movie_id                               title                        genres\n",
       "0         1                    Toy Story (1995)   Animation|Children's|Comedy\n",
       "1         2                      Jumanji (1995)  Adventure|Children's|Fantasy\n",
       "2         3             Grumpier Old Men (1995)                Comedy|Romance\n",
       "3         4            Waiting to Exhale (1995)                  Comedy|Drama\n",
       "4         5  Father of the Bride Part II (1995)                        Comedy"
      ]
     },
     "execution_count": 8,
     "metadata": {},
     "output_type": "execute_result"
    }
   ],
   "source": [
    "movies_df.head()"
   ]
  },
  {
   "cell_type": "code",
   "execution_count": 9,
   "id": "4e427ced-7c2d-45f7-9cc1-cdd8a4de2b44",
   "metadata": {},
   "outputs": [
    {
     "data": {
      "text/plain": [
       "(18,\n",
       " array(['Animation', \"Children's\", 'Comedy', 'Adventure', 'Fantasy',\n",
       "        'Romance', 'Drama', 'Action', 'Crime', 'Thriller', 'Horror',\n",
       "        'Sci-Fi', 'Documentary', 'War', 'Musical', 'Mystery', 'Film-Noir',\n",
       "        'Western'], dtype=object))"
      ]
     },
     "execution_count": 9,
     "metadata": {},
     "output_type": "execute_result"
    }
   ],
   "source": [
    "all_genres = movies_df['genres'].str.split('|').explode()\n",
    "\n",
    "# Get unique genres from the list\n",
    "unique_genres = all_genres.unique()\n",
    "\n",
    "# Count the number of unique genres\n",
    "num_unique_genres = len(unique_genres)\n",
    "num_unique_genres, unique_genres"
   ]
  },
  {
   "cell_type": "code",
   "execution_count": 10,
   "id": "f1535010-596f-4682-929a-025d348662c9",
   "metadata": {},
   "outputs": [
    {
     "data": {
      "text/html": [
       "<div>\n",
       "<style scoped>\n",
       "    .dataframe tbody tr th:only-of-type {\n",
       "        vertical-align: middle;\n",
       "    }\n",
       "\n",
       "    .dataframe tbody tr th {\n",
       "        vertical-align: top;\n",
       "    }\n",
       "\n",
       "    .dataframe thead th {\n",
       "        text-align: right;\n",
       "    }\n",
       "</style>\n",
       "<table border=\"1\" class=\"dataframe\">\n",
       "  <thead>\n",
       "    <tr style=\"text-align: right;\">\n",
       "      <th></th>\n",
       "      <th>movie_id</th>\n",
       "      <th>title</th>\n",
       "      <th>genres</th>\n",
       "    </tr>\n",
       "  </thead>\n",
       "  <tbody>\n",
       "    <tr>\n",
       "      <th>0</th>\n",
       "      <td>1</td>\n",
       "      <td>Toy Story (1995)</td>\n",
       "      <td>Animation Children's Comedy</td>\n",
       "    </tr>\n",
       "    <tr>\n",
       "      <th>1</th>\n",
       "      <td>2</td>\n",
       "      <td>Jumanji (1995)</td>\n",
       "      <td>Adventure Children's Fantasy</td>\n",
       "    </tr>\n",
       "    <tr>\n",
       "      <th>2</th>\n",
       "      <td>3</td>\n",
       "      <td>Grumpier Old Men (1995)</td>\n",
       "      <td>Comedy Romance</td>\n",
       "    </tr>\n",
       "    <tr>\n",
       "      <th>3</th>\n",
       "      <td>4</td>\n",
       "      <td>Waiting to Exhale (1995)</td>\n",
       "      <td>Comedy Drama</td>\n",
       "    </tr>\n",
       "    <tr>\n",
       "      <th>4</th>\n",
       "      <td>5</td>\n",
       "      <td>Father of the Bride Part II (1995)</td>\n",
       "      <td>Comedy</td>\n",
       "    </tr>\n",
       "    <tr>\n",
       "      <th>...</th>\n",
       "      <td>...</td>\n",
       "      <td>...</td>\n",
       "      <td>...</td>\n",
       "    </tr>\n",
       "    <tr>\n",
       "      <th>3878</th>\n",
       "      <td>3948</td>\n",
       "      <td>Meet the Parents (2000)</td>\n",
       "      <td>Comedy</td>\n",
       "    </tr>\n",
       "    <tr>\n",
       "      <th>3879</th>\n",
       "      <td>3949</td>\n",
       "      <td>Requiem for a Dream (2000)</td>\n",
       "      <td>Drama</td>\n",
       "    </tr>\n",
       "    <tr>\n",
       "      <th>3880</th>\n",
       "      <td>3950</td>\n",
       "      <td>Tigerland (2000)</td>\n",
       "      <td>Drama</td>\n",
       "    </tr>\n",
       "    <tr>\n",
       "      <th>3881</th>\n",
       "      <td>3951</td>\n",
       "      <td>Two Family House (2000)</td>\n",
       "      <td>Drama</td>\n",
       "    </tr>\n",
       "    <tr>\n",
       "      <th>3882</th>\n",
       "      <td>3952</td>\n",
       "      <td>Contender, The (2000)</td>\n",
       "      <td>Drama Thriller</td>\n",
       "    </tr>\n",
       "  </tbody>\n",
       "</table>\n",
       "<p>3883 rows × 3 columns</p>\n",
       "</div>"
      ],
      "text/plain": [
       "      movie_id                               title  \\\n",
       "0            1                    Toy Story (1995)   \n",
       "1            2                      Jumanji (1995)   \n",
       "2            3             Grumpier Old Men (1995)   \n",
       "3            4            Waiting to Exhale (1995)   \n",
       "4            5  Father of the Bride Part II (1995)   \n",
       "...        ...                                 ...   \n",
       "3878      3948             Meet the Parents (2000)   \n",
       "3879      3949          Requiem for a Dream (2000)   \n",
       "3880      3950                    Tigerland (2000)   \n",
       "3881      3951             Two Family House (2000)   \n",
       "3882      3952               Contender, The (2000)   \n",
       "\n",
       "                            genres  \n",
       "0      Animation Children's Comedy  \n",
       "1     Adventure Children's Fantasy  \n",
       "2                   Comedy Romance  \n",
       "3                     Comedy Drama  \n",
       "4                           Comedy  \n",
       "...                            ...  \n",
       "3878                        Comedy  \n",
       "3879                         Drama  \n",
       "3880                         Drama  \n",
       "3881                         Drama  \n",
       "3882                Drama Thriller  \n",
       "\n",
       "[3883 rows x 3 columns]"
      ]
     },
     "execution_count": 10,
     "metadata": {},
     "output_type": "execute_result"
    }
   ],
   "source": [
    "movies_df['genres'] = movies_df['genres'].str.replace('|', ' ')\n",
    "movies_df"
   ]
  },
  {
   "cell_type": "code",
   "execution_count": 11,
   "id": "698e46b9-4bd3-4626-8102-38a8f71cb294",
   "metadata": {},
   "outputs": [
    {
     "data": {
      "text/plain": [
       "0        Animation Children's Comedy\n",
       "1       Adventure Children's Fantasy\n",
       "2                     Comedy Romance\n",
       "3                       Comedy Drama\n",
       "4                             Comedy\n",
       "                    ...             \n",
       "3878                          Comedy\n",
       "3879                           Drama\n",
       "3880                           Drama\n",
       "3881                           Drama\n",
       "3882                  Drama Thriller\n",
       "Name: genres, Length: 3883, dtype: object"
      ]
     },
     "execution_count": 11,
     "metadata": {},
     "output_type": "execute_result"
    }
   ],
   "source": [
    "movies_df['genres'].fillna(\"\").astype('str')"
   ]
  },
  {
   "cell_type": "code",
   "execution_count": 12,
   "id": "d0d43c0e-ce40-4a03-9209-6a5d3fbfbb2b",
   "metadata": {},
   "outputs": [],
   "source": [
    "ratings_df = pd.read_csv('ratings.csv', sep='\\t', encoding='latin-1')"
   ]
  },
  {
   "cell_type": "code",
   "execution_count": 13,
   "id": "f1226b4e-97c4-46f7-845e-5ab2d8f4c8c4",
   "metadata": {},
   "outputs": [
    {
     "data": {
      "text/html": [
       "<div>\n",
       "<style scoped>\n",
       "    .dataframe tbody tr th:only-of-type {\n",
       "        vertical-align: middle;\n",
       "    }\n",
       "\n",
       "    .dataframe tbody tr th {\n",
       "        vertical-align: top;\n",
       "    }\n",
       "\n",
       "    .dataframe thead th {\n",
       "        text-align: right;\n",
       "    }\n",
       "</style>\n",
       "<table border=\"1\" class=\"dataframe\">\n",
       "  <thead>\n",
       "    <tr style=\"text-align: right;\">\n",
       "      <th></th>\n",
       "      <th>Unnamed: 0</th>\n",
       "      <th>user_id</th>\n",
       "      <th>movie_id</th>\n",
       "      <th>rating</th>\n",
       "      <th>timestamp</th>\n",
       "      <th>user_emb_id</th>\n",
       "      <th>movie_emb_id</th>\n",
       "    </tr>\n",
       "  </thead>\n",
       "  <tbody>\n",
       "    <tr>\n",
       "      <th>0</th>\n",
       "      <td>0</td>\n",
       "      <td>1</td>\n",
       "      <td>1193</td>\n",
       "      <td>5</td>\n",
       "      <td>978300760</td>\n",
       "      <td>0</td>\n",
       "      <td>1192</td>\n",
       "    </tr>\n",
       "    <tr>\n",
       "      <th>1</th>\n",
       "      <td>1</td>\n",
       "      <td>1</td>\n",
       "      <td>661</td>\n",
       "      <td>3</td>\n",
       "      <td>978302109</td>\n",
       "      <td>0</td>\n",
       "      <td>660</td>\n",
       "    </tr>\n",
       "    <tr>\n",
       "      <th>2</th>\n",
       "      <td>2</td>\n",
       "      <td>1</td>\n",
       "      <td>914</td>\n",
       "      <td>3</td>\n",
       "      <td>978301968</td>\n",
       "      <td>0</td>\n",
       "      <td>913</td>\n",
       "    </tr>\n",
       "    <tr>\n",
       "      <th>3</th>\n",
       "      <td>3</td>\n",
       "      <td>1</td>\n",
       "      <td>3408</td>\n",
       "      <td>4</td>\n",
       "      <td>978300275</td>\n",
       "      <td>0</td>\n",
       "      <td>3407</td>\n",
       "    </tr>\n",
       "    <tr>\n",
       "      <th>4</th>\n",
       "      <td>4</td>\n",
       "      <td>1</td>\n",
       "      <td>2355</td>\n",
       "      <td>5</td>\n",
       "      <td>978824291</td>\n",
       "      <td>0</td>\n",
       "      <td>2354</td>\n",
       "    </tr>\n",
       "    <tr>\n",
       "      <th>...</th>\n",
       "      <td>...</td>\n",
       "      <td>...</td>\n",
       "      <td>...</td>\n",
       "      <td>...</td>\n",
       "      <td>...</td>\n",
       "      <td>...</td>\n",
       "      <td>...</td>\n",
       "    </tr>\n",
       "    <tr>\n",
       "      <th>1000204</th>\n",
       "      <td>1000204</td>\n",
       "      <td>6040</td>\n",
       "      <td>1091</td>\n",
       "      <td>1</td>\n",
       "      <td>956716541</td>\n",
       "      <td>6039</td>\n",
       "      <td>1090</td>\n",
       "    </tr>\n",
       "    <tr>\n",
       "      <th>1000205</th>\n",
       "      <td>1000205</td>\n",
       "      <td>6040</td>\n",
       "      <td>1094</td>\n",
       "      <td>5</td>\n",
       "      <td>956704887</td>\n",
       "      <td>6039</td>\n",
       "      <td>1093</td>\n",
       "    </tr>\n",
       "    <tr>\n",
       "      <th>1000206</th>\n",
       "      <td>1000206</td>\n",
       "      <td>6040</td>\n",
       "      <td>562</td>\n",
       "      <td>5</td>\n",
       "      <td>956704746</td>\n",
       "      <td>6039</td>\n",
       "      <td>561</td>\n",
       "    </tr>\n",
       "    <tr>\n",
       "      <th>1000207</th>\n",
       "      <td>1000207</td>\n",
       "      <td>6040</td>\n",
       "      <td>1096</td>\n",
       "      <td>4</td>\n",
       "      <td>956715648</td>\n",
       "      <td>6039</td>\n",
       "      <td>1095</td>\n",
       "    </tr>\n",
       "    <tr>\n",
       "      <th>1000208</th>\n",
       "      <td>1000208</td>\n",
       "      <td>6040</td>\n",
       "      <td>1097</td>\n",
       "      <td>4</td>\n",
       "      <td>956715569</td>\n",
       "      <td>6039</td>\n",
       "      <td>1096</td>\n",
       "    </tr>\n",
       "  </tbody>\n",
       "</table>\n",
       "<p>1000209 rows × 7 columns</p>\n",
       "</div>"
      ],
      "text/plain": [
       "         Unnamed: 0  user_id  movie_id  rating  timestamp  user_emb_id  \\\n",
       "0                 0        1      1193       5  978300760            0   \n",
       "1                 1        1       661       3  978302109            0   \n",
       "2                 2        1       914       3  978301968            0   \n",
       "3                 3        1      3408       4  978300275            0   \n",
       "4                 4        1      2355       5  978824291            0   \n",
       "...             ...      ...       ...     ...        ...          ...   \n",
       "1000204     1000204     6040      1091       1  956716541         6039   \n",
       "1000205     1000205     6040      1094       5  956704887         6039   \n",
       "1000206     1000206     6040       562       5  956704746         6039   \n",
       "1000207     1000207     6040      1096       4  956715648         6039   \n",
       "1000208     1000208     6040      1097       4  956715569         6039   \n",
       "\n",
       "         movie_emb_id  \n",
       "0                1192  \n",
       "1                 660  \n",
       "2                 913  \n",
       "3                3407  \n",
       "4                2354  \n",
       "...               ...  \n",
       "1000204          1090  \n",
       "1000205          1093  \n",
       "1000206           561  \n",
       "1000207          1095  \n",
       "1000208          1096  \n",
       "\n",
       "[1000209 rows x 7 columns]"
      ]
     },
     "execution_count": 13,
     "metadata": {},
     "output_type": "execute_result"
    }
   ],
   "source": [
    "ratings_df"
   ]
  },
  {
   "cell_type": "markdown",
   "id": "f0669cb8-ffae-4735-9aa0-a65c2674262c",
   "metadata": {},
   "source": [
    "# 1) Changing input data for TFIDF"
   ]
  },
  {
   "cell_type": "markdown",
   "id": "3999bf0c-92c7-4050-b023-5822c0a8f9a2",
   "metadata": {},
   "source": [
    "## TFIDF TRAINED ON ONLY MOVIE GENRE"
   ]
  },
  {
   "cell_type": "code",
   "execution_count": 14,
   "id": "d2db965d-00b0-47cb-b06a-08eb889877a0",
   "metadata": {},
   "outputs": [],
   "source": [
    "tf = TfidfVectorizer(analyzer='word',ngram_range=(1, 1),min_df=0.0)"
   ]
  },
  {
   "cell_type": "code",
   "execution_count": 15,
   "id": "81ac6172-1c70-483b-84f4-fcf40c59c4b4",
   "metadata": {},
   "outputs": [],
   "source": [
    "tfidf_matrix_genres = tf.fit_transform(movies_df['genres'])\n"
   ]
  },
  {
   "cell_type": "code",
   "execution_count": 16,
   "id": "e88594f9-fe54-4422-becc-9fee340ad2d4",
   "metadata": {},
   "outputs": [
    {
     "data": {
      "text/plain": [
       "(3883, 20)"
      ]
     },
     "execution_count": 16,
     "metadata": {},
     "output_type": "execute_result"
    }
   ],
   "source": [
    "(tfidf_matrix_genres.shape)"
   ]
  },
  {
   "cell_type": "code",
   "execution_count": 17,
   "id": "839a9df2-c162-4b88-a1c2-338d9dad9ec3",
   "metadata": {},
   "outputs": [],
   "source": [
    "cosine_sim = linear_kernel(tfidf_matrix_genres, tfidf_matrix_genres)"
   ]
  },
  {
   "cell_type": "code",
   "execution_count": 18,
   "id": "9be483a9-848c-4d8e-82aa-d9b3cfcd5758",
   "metadata": {},
   "outputs": [],
   "source": [
    "# Construct a reverse mapping of indices and movie titles\n",
    "indices = pd.Series(movies_df.index, index=movies_df['title']).to_dict()\n",
    "\n",
    "def get_recommendations(title, k):\n",
    "    # Get the index of the movie that matches the title\n",
    "    idx = indices[title]\n",
    "\n",
    "    # Get the pairwise similarity scores with that movie\n",
    "    sim_scores = list(enumerate(cosine_sim[idx]))\n",
    "\n",
    "    # Sort the movies based on the similarity scores\n",
    "    sim_scores = sorted(sim_scores, key=lambda x: x[1], reverse=True)\n",
    "\n",
    "    # Get the scores of the 10 most similar movies\n",
    "    sim_scores = sim_scores[1:k]\n",
    "\n",
    "    # Get the movie indices\n",
    "    movie_indices = [i[0] for i in sim_scores]\n",
    "\n",
    "    # Return the top 10 most similar movies\n",
    "    return movies_df['title'].iloc[movie_indices]"
   ]
  },
  {
   "cell_type": "code",
   "execution_count": 19,
   "id": "555e4701-1be1-4e3a-bf95-a378f96e0c2c",
   "metadata": {
    "scrolled": true
   },
   "outputs": [],
   "source": [
    "rec_only_genres=get_recommendations('Good Will Hunting (1997)',20).head(20)"
   ]
  },
  {
   "cell_type": "code",
   "execution_count": 20,
   "id": "d6884d58-5705-4de1-a397-d770e4a81a97",
   "metadata": {},
   "outputs": [
    {
     "data": {
      "text/plain": [
       "25                                       Othello (1995)\n",
       "26                                  Now and Then (1995)\n",
       "29    Shanghai Triad (Yao a yao yao dao waipo qiao) ...\n",
       "30                               Dangerous Minds (1995)\n",
       "35                              Dead Man Walking (1995)\n",
       "39                      Cry, the Beloved Country (1995)\n",
       "42                                   Restoration (1995)\n",
       "52                                      Lamerica (1994)\n",
       "54                                       Georgia (1995)\n",
       "56                         Home for the Holidays (1995)\n",
       "61                            Mr. Holland's Opus (1995)\n",
       "66                                      Two Bits (1995)\n",
       "77                           Crossing Guard, The (1995)\n",
       "79         White Balloon, The (Badkonake Sefid ) (1995)\n",
       "81                      Antonia's Line (Antonia) (1995)\n",
       "82      Once Upon a Time... When We Were Colored (1995)\n",
       "89                   Journey of August King, The (1995)\n",
       "92                               Beautiful Girls (1996)\n",
       "95                              Hate (Haine, La) (1995)\n",
       "Name: title, dtype: object"
      ]
     },
     "execution_count": 20,
     "metadata": {},
     "output_type": "execute_result"
    }
   ],
   "source": [
    "rec_only_genres"
   ]
  },
  {
   "cell_type": "markdown",
   "id": "3c1ac1a7-a335-4d97-8336-64880bf1fe1a",
   "metadata": {},
   "source": [
    "## TFIDF WITH TITLES AND GENRES"
   ]
  },
  {
   "cell_type": "code",
   "execution_count": 21,
   "id": "380be9cf-ac20-4f3d-9c65-4547da70be87",
   "metadata": {},
   "outputs": [],
   "source": [
    "movies_df['combined_content'] = movies_df['title'] + \" \" + movies_df['genres']"
   ]
  },
  {
   "cell_type": "code",
   "execution_count": 22,
   "id": "ab5cefe2-9133-4d9f-828c-dc7a8ea952fd",
   "metadata": {},
   "outputs": [],
   "source": [
    "tf =TfidfVectorizer(analyzer='word', ngram_range=(1, 2), min_df=0.0, stop_words='english')"
   ]
  },
  {
   "cell_type": "code",
   "execution_count": 23,
   "id": "8d89d71a-4d5b-4e27-b531-30f12dd18627",
   "metadata": {},
   "outputs": [],
   "source": [
    "tfidf_matrix_combined = tf.fit_transform(movies_df['combined_content'])"
   ]
  },
  {
   "cell_type": "code",
   "execution_count": 24,
   "id": "2eb0742c-8f42-4206-8414-7bf5a3125925",
   "metadata": {},
   "outputs": [
    {
     "data": {
      "text/plain": [
       "(3883, 12883)"
      ]
     },
     "execution_count": 24,
     "metadata": {},
     "output_type": "execute_result"
    }
   ],
   "source": [
    "(tfidf_matrix_combined.shape)"
   ]
  },
  {
   "cell_type": "code",
   "execution_count": 25,
   "id": "d5919f6a-74fc-48ec-8cbd-306cc3888249",
   "metadata": {},
   "outputs": [],
   "source": [
    "cosine_sim = linear_kernel(tfidf_matrix_combined, tfidf_matrix_combined)"
   ]
  },
  {
   "cell_type": "code",
   "execution_count": 26,
   "id": "694ea057-44ea-4468-9dbb-434b3e60d474",
   "metadata": {},
   "outputs": [],
   "source": [
    "# Construct a reverse mapping of indices and movie titles\n",
    "indices = pd.Series(movies_df.index, index=movies_df['title']).to_dict()\n",
    "\n",
    "def get_recommendations(title, k):\n",
    "    # Get the index of the movie that matches the title\n",
    "    idx = indices[title]\n",
    "\n",
    "    # Get the pairwise similarity scores with that movie\n",
    "    sim_scores = list(enumerate(cosine_sim[idx]))\n",
    "\n",
    "    # Sort the movies based on the similarity scores\n",
    "    sim_scores = sorted(sim_scores, key=lambda x: x[1], reverse=True)\n",
    "\n",
    "    # Get the scores of the 10 most similar movies\n",
    "    sim_scores = sim_scores[1:k]\n",
    "\n",
    "    # Get the movie indices\n",
    "    movie_indices = [i[0] for i in sim_scores]\n",
    "\n",
    "    # Return the top 10 most similar movies\n",
    "    return movies_df['title'].iloc[movie_indices]"
   ]
  },
  {
   "cell_type": "code",
   "execution_count": 27,
   "id": "f74eb1a0-afe8-44ec-b95e-8f71c3b42024",
   "metadata": {},
   "outputs": [],
   "source": [
    "rec_combined=get_recommendations('Good Will Hunting (1997)',20).head(20)"
   ]
  },
  {
   "cell_type": "code",
   "execution_count": 28,
   "id": "99ca64c5-27e7-48af-8655-5dbc0d3a85fb",
   "metadata": {},
   "outputs": [
    {
     "data": {
      "text/plain": [
       "1475              All Over Me (1997)\n",
       "1493                  Nowhere (1997)\n",
       "1726       As Good As It Gets (1997)\n",
       "2208    Somewhere in the City (1997)\n",
       "2626                Boys, The (1997)\n",
       "3380         Good Mother, The (1988)\n",
       "1670     Sweet Hereafter, The (1997)\n",
       "1677             Postman, The (1997)\n",
       "1750                     Eden (1997)\n",
       "2493                  Bandits (1997)\n",
       "2996                Ten Benny (1997)\n",
       "3378          Good Earth, The (1937)\n",
       "2199          Few Good Men, A (1992)\n",
       "1103                   Drunks (1997)\n",
       "1417              Prefontaine (1997)\n",
       "1438                 Rosewood (1997)\n",
       "1474                Traveller (1997)\n",
       "1567                      187 (1997)\n",
       "1585             Locusts, The (1997)\n",
       "Name: title, dtype: object"
      ]
     },
     "execution_count": 28,
     "metadata": {},
     "output_type": "execute_result"
    }
   ],
   "source": [
    "rec_combined"
   ]
  },
  {
   "cell_type": "markdown",
   "id": "e6d6fb7f-bd00-4a07-a818-a9e06a1522f5",
   "metadata": {},
   "source": [
    "## The interesting thing we found is that by traininng with the title names, if you do not remove the year from the title, the recommendations will be quite similar in those terms, but if that is good or bad really depends on the overall goal of the system\n",
    "### Here we can see how such factors can influence a content based model. \n",
    "### We will now try it with removing the year from the title to see how it affects our model"
   ]
  },
  {
   "cell_type": "markdown",
   "id": "9894a702-15bc-4fbc-adc4-cc86467ecb75",
   "metadata": {},
   "source": [
    "## TFIDF WITH CLEANED TITLES"
   ]
  },
  {
   "cell_type": "code",
   "execution_count": 29,
   "id": "ddd77077-b022-4a2b-948b-e609c61863dc",
   "metadata": {},
   "outputs": [],
   "source": [
    "movies_df['clean_title'] = movies_df['title']\n"
   ]
  },
  {
   "cell_type": "code",
   "execution_count": 30,
   "id": "942492c8-652a-43a7-9456-c41df9eef25b",
   "metadata": {},
   "outputs": [],
   "source": [
    "def remove_year(title):\n",
    "    if '(' in title and ')' in title:\n",
    "        title = title.split('(')[0]\n",
    "    return title.strip()\n",
    "\n",
    "movies_df['clean_title'] = movies_df['clean_title'].apply(remove_year)"
   ]
  },
  {
   "cell_type": "code",
   "execution_count": 31,
   "id": "e04aac32-cfdf-488a-95f2-ce34db2f4609",
   "metadata": {},
   "outputs": [
    {
     "data": {
      "text/html": [
       "<div>\n",
       "<style scoped>\n",
       "    .dataframe tbody tr th:only-of-type {\n",
       "        vertical-align: middle;\n",
       "    }\n",
       "\n",
       "    .dataframe tbody tr th {\n",
       "        vertical-align: top;\n",
       "    }\n",
       "\n",
       "    .dataframe thead th {\n",
       "        text-align: right;\n",
       "    }\n",
       "</style>\n",
       "<table border=\"1\" class=\"dataframe\">\n",
       "  <thead>\n",
       "    <tr style=\"text-align: right;\">\n",
       "      <th></th>\n",
       "      <th>movie_id</th>\n",
       "      <th>title</th>\n",
       "      <th>genres</th>\n",
       "      <th>combined_content</th>\n",
       "      <th>clean_title</th>\n",
       "    </tr>\n",
       "  </thead>\n",
       "  <tbody>\n",
       "    <tr>\n",
       "      <th>0</th>\n",
       "      <td>1</td>\n",
       "      <td>Toy Story (1995)</td>\n",
       "      <td>Animation Children's Comedy</td>\n",
       "      <td>Toy Story (1995) Animation Children's Comedy</td>\n",
       "      <td>Toy Story</td>\n",
       "    </tr>\n",
       "    <tr>\n",
       "      <th>1</th>\n",
       "      <td>2</td>\n",
       "      <td>Jumanji (1995)</td>\n",
       "      <td>Adventure Children's Fantasy</td>\n",
       "      <td>Jumanji (1995) Adventure Children's Fantasy</td>\n",
       "      <td>Jumanji</td>\n",
       "    </tr>\n",
       "    <tr>\n",
       "      <th>2</th>\n",
       "      <td>3</td>\n",
       "      <td>Grumpier Old Men (1995)</td>\n",
       "      <td>Comedy Romance</td>\n",
       "      <td>Grumpier Old Men (1995) Comedy Romance</td>\n",
       "      <td>Grumpier Old Men</td>\n",
       "    </tr>\n",
       "    <tr>\n",
       "      <th>3</th>\n",
       "      <td>4</td>\n",
       "      <td>Waiting to Exhale (1995)</td>\n",
       "      <td>Comedy Drama</td>\n",
       "      <td>Waiting to Exhale (1995) Comedy Drama</td>\n",
       "      <td>Waiting to Exhale</td>\n",
       "    </tr>\n",
       "    <tr>\n",
       "      <th>4</th>\n",
       "      <td>5</td>\n",
       "      <td>Father of the Bride Part II (1995)</td>\n",
       "      <td>Comedy</td>\n",
       "      <td>Father of the Bride Part II (1995) Comedy</td>\n",
       "      <td>Father of the Bride Part II</td>\n",
       "    </tr>\n",
       "    <tr>\n",
       "      <th>...</th>\n",
       "      <td>...</td>\n",
       "      <td>...</td>\n",
       "      <td>...</td>\n",
       "      <td>...</td>\n",
       "      <td>...</td>\n",
       "    </tr>\n",
       "    <tr>\n",
       "      <th>3878</th>\n",
       "      <td>3948</td>\n",
       "      <td>Meet the Parents (2000)</td>\n",
       "      <td>Comedy</td>\n",
       "      <td>Meet the Parents (2000) Comedy</td>\n",
       "      <td>Meet the Parents</td>\n",
       "    </tr>\n",
       "    <tr>\n",
       "      <th>3879</th>\n",
       "      <td>3949</td>\n",
       "      <td>Requiem for a Dream (2000)</td>\n",
       "      <td>Drama</td>\n",
       "      <td>Requiem for a Dream (2000) Drama</td>\n",
       "      <td>Requiem for a Dream</td>\n",
       "    </tr>\n",
       "    <tr>\n",
       "      <th>3880</th>\n",
       "      <td>3950</td>\n",
       "      <td>Tigerland (2000)</td>\n",
       "      <td>Drama</td>\n",
       "      <td>Tigerland (2000) Drama</td>\n",
       "      <td>Tigerland</td>\n",
       "    </tr>\n",
       "    <tr>\n",
       "      <th>3881</th>\n",
       "      <td>3951</td>\n",
       "      <td>Two Family House (2000)</td>\n",
       "      <td>Drama</td>\n",
       "      <td>Two Family House (2000) Drama</td>\n",
       "      <td>Two Family House</td>\n",
       "    </tr>\n",
       "    <tr>\n",
       "      <th>3882</th>\n",
       "      <td>3952</td>\n",
       "      <td>Contender, The (2000)</td>\n",
       "      <td>Drama Thriller</td>\n",
       "      <td>Contender, The (2000) Drama Thriller</td>\n",
       "      <td>Contender, The</td>\n",
       "    </tr>\n",
       "  </tbody>\n",
       "</table>\n",
       "<p>3883 rows × 5 columns</p>\n",
       "</div>"
      ],
      "text/plain": [
       "      movie_id                               title  \\\n",
       "0            1                    Toy Story (1995)   \n",
       "1            2                      Jumanji (1995)   \n",
       "2            3             Grumpier Old Men (1995)   \n",
       "3            4            Waiting to Exhale (1995)   \n",
       "4            5  Father of the Bride Part II (1995)   \n",
       "...        ...                                 ...   \n",
       "3878      3948             Meet the Parents (2000)   \n",
       "3879      3949          Requiem for a Dream (2000)   \n",
       "3880      3950                    Tigerland (2000)   \n",
       "3881      3951             Two Family House (2000)   \n",
       "3882      3952               Contender, The (2000)   \n",
       "\n",
       "                            genres  \\\n",
       "0      Animation Children's Comedy   \n",
       "1     Adventure Children's Fantasy   \n",
       "2                   Comedy Romance   \n",
       "3                     Comedy Drama   \n",
       "4                           Comedy   \n",
       "...                            ...   \n",
       "3878                        Comedy   \n",
       "3879                         Drama   \n",
       "3880                         Drama   \n",
       "3881                         Drama   \n",
       "3882                Drama Thriller   \n",
       "\n",
       "                                  combined_content  \\\n",
       "0     Toy Story (1995) Animation Children's Comedy   \n",
       "1      Jumanji (1995) Adventure Children's Fantasy   \n",
       "2           Grumpier Old Men (1995) Comedy Romance   \n",
       "3            Waiting to Exhale (1995) Comedy Drama   \n",
       "4        Father of the Bride Part II (1995) Comedy   \n",
       "...                                            ...   \n",
       "3878                Meet the Parents (2000) Comedy   \n",
       "3879              Requiem for a Dream (2000) Drama   \n",
       "3880                        Tigerland (2000) Drama   \n",
       "3881                 Two Family House (2000) Drama   \n",
       "3882          Contender, The (2000) Drama Thriller   \n",
       "\n",
       "                      clean_title  \n",
       "0                       Toy Story  \n",
       "1                         Jumanji  \n",
       "2                Grumpier Old Men  \n",
       "3               Waiting to Exhale  \n",
       "4     Father of the Bride Part II  \n",
       "...                           ...  \n",
       "3878             Meet the Parents  \n",
       "3879          Requiem for a Dream  \n",
       "3880                    Tigerland  \n",
       "3881             Two Family House  \n",
       "3882               Contender, The  \n",
       "\n",
       "[3883 rows x 5 columns]"
      ]
     },
     "execution_count": 31,
     "metadata": {},
     "output_type": "execute_result"
    }
   ],
   "source": [
    "movies_df"
   ]
  },
  {
   "cell_type": "code",
   "execution_count": 32,
   "id": "50ac059c-1f77-4ecb-a224-5158189dd92f",
   "metadata": {},
   "outputs": [],
   "source": [
    "movies_df['combined_content'] = movies_df['clean_title'] + \" \" + movies_df['genres']"
   ]
  },
  {
   "cell_type": "code",
   "execution_count": 33,
   "id": "7d8e3d5c-5270-436b-85f5-243658b8a3b7",
   "metadata": {},
   "outputs": [
    {
     "data": {
      "text/html": [
       "<div>\n",
       "<style scoped>\n",
       "    .dataframe tbody tr th:only-of-type {\n",
       "        vertical-align: middle;\n",
       "    }\n",
       "\n",
       "    .dataframe tbody tr th {\n",
       "        vertical-align: top;\n",
       "    }\n",
       "\n",
       "    .dataframe thead th {\n",
       "        text-align: right;\n",
       "    }\n",
       "</style>\n",
       "<table border=\"1\" class=\"dataframe\">\n",
       "  <thead>\n",
       "    <tr style=\"text-align: right;\">\n",
       "      <th></th>\n",
       "      <th>movie_id</th>\n",
       "      <th>title</th>\n",
       "      <th>genres</th>\n",
       "      <th>combined_content</th>\n",
       "      <th>clean_title</th>\n",
       "    </tr>\n",
       "  </thead>\n",
       "  <tbody>\n",
       "    <tr>\n",
       "      <th>0</th>\n",
       "      <td>1</td>\n",
       "      <td>Toy Story (1995)</td>\n",
       "      <td>Animation Children's Comedy</td>\n",
       "      <td>Toy Story Animation Children's Comedy</td>\n",
       "      <td>Toy Story</td>\n",
       "    </tr>\n",
       "    <tr>\n",
       "      <th>1</th>\n",
       "      <td>2</td>\n",
       "      <td>Jumanji (1995)</td>\n",
       "      <td>Adventure Children's Fantasy</td>\n",
       "      <td>Jumanji Adventure Children's Fantasy</td>\n",
       "      <td>Jumanji</td>\n",
       "    </tr>\n",
       "    <tr>\n",
       "      <th>2</th>\n",
       "      <td>3</td>\n",
       "      <td>Grumpier Old Men (1995)</td>\n",
       "      <td>Comedy Romance</td>\n",
       "      <td>Grumpier Old Men Comedy Romance</td>\n",
       "      <td>Grumpier Old Men</td>\n",
       "    </tr>\n",
       "    <tr>\n",
       "      <th>3</th>\n",
       "      <td>4</td>\n",
       "      <td>Waiting to Exhale (1995)</td>\n",
       "      <td>Comedy Drama</td>\n",
       "      <td>Waiting to Exhale Comedy Drama</td>\n",
       "      <td>Waiting to Exhale</td>\n",
       "    </tr>\n",
       "    <tr>\n",
       "      <th>4</th>\n",
       "      <td>5</td>\n",
       "      <td>Father of the Bride Part II (1995)</td>\n",
       "      <td>Comedy</td>\n",
       "      <td>Father of the Bride Part II Comedy</td>\n",
       "      <td>Father of the Bride Part II</td>\n",
       "    </tr>\n",
       "    <tr>\n",
       "      <th>...</th>\n",
       "      <td>...</td>\n",
       "      <td>...</td>\n",
       "      <td>...</td>\n",
       "      <td>...</td>\n",
       "      <td>...</td>\n",
       "    </tr>\n",
       "    <tr>\n",
       "      <th>3878</th>\n",
       "      <td>3948</td>\n",
       "      <td>Meet the Parents (2000)</td>\n",
       "      <td>Comedy</td>\n",
       "      <td>Meet the Parents Comedy</td>\n",
       "      <td>Meet the Parents</td>\n",
       "    </tr>\n",
       "    <tr>\n",
       "      <th>3879</th>\n",
       "      <td>3949</td>\n",
       "      <td>Requiem for a Dream (2000)</td>\n",
       "      <td>Drama</td>\n",
       "      <td>Requiem for a Dream Drama</td>\n",
       "      <td>Requiem for a Dream</td>\n",
       "    </tr>\n",
       "    <tr>\n",
       "      <th>3880</th>\n",
       "      <td>3950</td>\n",
       "      <td>Tigerland (2000)</td>\n",
       "      <td>Drama</td>\n",
       "      <td>Tigerland Drama</td>\n",
       "      <td>Tigerland</td>\n",
       "    </tr>\n",
       "    <tr>\n",
       "      <th>3881</th>\n",
       "      <td>3951</td>\n",
       "      <td>Two Family House (2000)</td>\n",
       "      <td>Drama</td>\n",
       "      <td>Two Family House Drama</td>\n",
       "      <td>Two Family House</td>\n",
       "    </tr>\n",
       "    <tr>\n",
       "      <th>3882</th>\n",
       "      <td>3952</td>\n",
       "      <td>Contender, The (2000)</td>\n",
       "      <td>Drama Thriller</td>\n",
       "      <td>Contender, The Drama Thriller</td>\n",
       "      <td>Contender, The</td>\n",
       "    </tr>\n",
       "  </tbody>\n",
       "</table>\n",
       "<p>3883 rows × 5 columns</p>\n",
       "</div>"
      ],
      "text/plain": [
       "      movie_id                               title  \\\n",
       "0            1                    Toy Story (1995)   \n",
       "1            2                      Jumanji (1995)   \n",
       "2            3             Grumpier Old Men (1995)   \n",
       "3            4            Waiting to Exhale (1995)   \n",
       "4            5  Father of the Bride Part II (1995)   \n",
       "...        ...                                 ...   \n",
       "3878      3948             Meet the Parents (2000)   \n",
       "3879      3949          Requiem for a Dream (2000)   \n",
       "3880      3950                    Tigerland (2000)   \n",
       "3881      3951             Two Family House (2000)   \n",
       "3882      3952               Contender, The (2000)   \n",
       "\n",
       "                            genres                       combined_content  \\\n",
       "0      Animation Children's Comedy  Toy Story Animation Children's Comedy   \n",
       "1     Adventure Children's Fantasy   Jumanji Adventure Children's Fantasy   \n",
       "2                   Comedy Romance        Grumpier Old Men Comedy Romance   \n",
       "3                     Comedy Drama         Waiting to Exhale Comedy Drama   \n",
       "4                           Comedy     Father of the Bride Part II Comedy   \n",
       "...                            ...                                    ...   \n",
       "3878                        Comedy                Meet the Parents Comedy   \n",
       "3879                         Drama              Requiem for a Dream Drama   \n",
       "3880                         Drama                        Tigerland Drama   \n",
       "3881                         Drama                 Two Family House Drama   \n",
       "3882                Drama Thriller          Contender, The Drama Thriller   \n",
       "\n",
       "                      clean_title  \n",
       "0                       Toy Story  \n",
       "1                         Jumanji  \n",
       "2                Grumpier Old Men  \n",
       "3               Waiting to Exhale  \n",
       "4     Father of the Bride Part II  \n",
       "...                           ...  \n",
       "3878             Meet the Parents  \n",
       "3879          Requiem for a Dream  \n",
       "3880                    Tigerland  \n",
       "3881             Two Family House  \n",
       "3882               Contender, The  \n",
       "\n",
       "[3883 rows x 5 columns]"
      ]
     },
     "execution_count": 33,
     "metadata": {},
     "output_type": "execute_result"
    }
   ],
   "source": [
    "movies_df"
   ]
  },
  {
   "cell_type": "code",
   "execution_count": 34,
   "id": "7c2c0c9d-19b1-40de-bce0-15c0d5ecdb78",
   "metadata": {},
   "outputs": [],
   "source": [
    "tf =TfidfVectorizer(analyzer='word', ngram_range=(1, 2), min_df=0.0, stop_words='english')"
   ]
  },
  {
   "cell_type": "code",
   "execution_count": 35,
   "id": "85850867-8b1e-4319-8a74-1774c00d40ea",
   "metadata": {},
   "outputs": [],
   "source": [
    "tfidf_matrix_combined = tf.fit_transform(movies_df['combined_content'])"
   ]
  },
  {
   "cell_type": "code",
   "execution_count": 36,
   "id": "c02daf9a-7d27-4d2e-ae8e-43cba18456a1",
   "metadata": {},
   "outputs": [
    {
     "data": {
      "text/plain": [
       "(3883, 10471)"
      ]
     },
     "execution_count": 36,
     "metadata": {},
     "output_type": "execute_result"
    }
   ],
   "source": [
    "(tfidf_matrix_combined.shape)"
   ]
  },
  {
   "cell_type": "code",
   "execution_count": 37,
   "id": "26fcd918-afef-414c-9b15-5fc4eaf29f43",
   "metadata": {},
   "outputs": [],
   "source": [
    "cosine_sim = linear_kernel(tfidf_matrix_combined, tfidf_matrix_combined)"
   ]
  },
  {
   "cell_type": "code",
   "execution_count": 38,
   "id": "bb7e910f-1e80-4233-95e0-d81ee6a7a37a",
   "metadata": {},
   "outputs": [],
   "source": [
    "# Construct a reverse mapping of indices and movie titles\n",
    "indices = pd.Series(movies_df.index, index=movies_df['title']).to_dict()\n",
    "\n",
    "def get_recommendations(title, k):\n",
    "    # Get the index of the movie that matches the title\n",
    "    idx = indices[title]\n",
    "\n",
    "    # Get the pairwise similarity scores with that movie\n",
    "    sim_scores = list(enumerate(cosine_sim[idx]))\n",
    "\n",
    "    # Sort the movies based on the similarity scores\n",
    "    sim_scores = sorted(sim_scores, key=lambda x: x[1], reverse=True)\n",
    "\n",
    "    # Get the scores of the 10 most similar movies\n",
    "    sim_scores = sim_scores[1:k]\n",
    "\n",
    "    # Get the movie indices\n",
    "    movie_indices = [i[0] for i in sim_scores]\n",
    "\n",
    "    # Return the top 10 most similar movies\n",
    "    return movies_df['title'].iloc[movie_indices]"
   ]
  },
  {
   "cell_type": "code",
   "execution_count": 39,
   "id": "db2b0f0d-f558-45cb-b5e1-41dd4a17846a",
   "metadata": {
    "scrolled": true
   },
   "outputs": [],
   "source": [
    "rec_combined_without_year=get_recommendations('Good Will Hunting (1997)',20).head(20)"
   ]
  },
  {
   "cell_type": "code",
   "execution_count": 40,
   "id": "d3849c19-3624-4bd1-94bb-a87b976e0f52",
   "metadata": {},
   "outputs": [
    {
     "data": {
      "text/plain": [
       "3378                            Good Earth, The (1937)\n",
       "3380                           Good Mother, The (1988)\n",
       "2199                            Few Good Men, A (1992)\n",
       "1726                         As Good As It Gets (1997)\n",
       "458                       Good Man in Africa, A (1994)\n",
       "3379                      Good Morning, Vietnam (1987)\n",
       "1183            Good, The Bad and The Ugly, The (1966)\n",
       "1663    Midnight in the Garden of Good and Evil (1997)\n",
       "26                                 Now and Then (1995)\n",
       "382                                      S.F.W. (1994)\n",
       "1126                                Get Over It (1996)\n",
       "1231                                      8 1/2 (1963)\n",
       "1475                                All Over Me (1997)\n",
       "1493                                    Nowhere (1997)\n",
       "1516                            To Have, or Not (1995)\n",
       "1803                                     Go Now (1995)\n",
       "1853                                   Whatever (1998)\n",
       "2216                                     If.... (1968)\n",
       "2864           Fire Within, The (Le Feu Follet) (1963)\n",
       "Name: title, dtype: object"
      ]
     },
     "execution_count": 40,
     "metadata": {},
     "output_type": "execute_result"
    }
   ],
   "source": [
    "rec_combined_without_year "
   ]
  },
  {
   "cell_type": "code",
   "execution_count": 41,
   "id": "6c4eb3aa-bc21-48c3-9757-9aba7cdcd070",
   "metadata": {},
   "outputs": [
    {
     "data": {
      "text/plain": [
       "1475              All Over Me (1997)\n",
       "1493                  Nowhere (1997)\n",
       "1726       As Good As It Gets (1997)\n",
       "2208    Somewhere in the City (1997)\n",
       "2626                Boys, The (1997)\n",
       "3380         Good Mother, The (1988)\n",
       "1670     Sweet Hereafter, The (1997)\n",
       "1677             Postman, The (1997)\n",
       "1750                     Eden (1997)\n",
       "2493                  Bandits (1997)\n",
       "2996                Ten Benny (1997)\n",
       "3378          Good Earth, The (1937)\n",
       "2199          Few Good Men, A (1992)\n",
       "1103                   Drunks (1997)\n",
       "1417              Prefontaine (1997)\n",
       "1438                 Rosewood (1997)\n",
       "1474                Traveller (1997)\n",
       "1567                      187 (1997)\n",
       "1585             Locusts, The (1997)\n",
       "Name: title, dtype: object"
      ]
     },
     "execution_count": 41,
     "metadata": {},
     "output_type": "execute_result"
    }
   ],
   "source": [
    "rec_combined "
   ]
  },
  {
   "cell_type": "code",
   "execution_count": 42,
   "id": "b4b58538-c56b-4eb5-95e7-78ebc218f299",
   "metadata": {},
   "outputs": [
    {
     "data": {
      "text/plain": [
       "25                                       Othello (1995)\n",
       "26                                  Now and Then (1995)\n",
       "29    Shanghai Triad (Yao a yao yao dao waipo qiao) ...\n",
       "30                               Dangerous Minds (1995)\n",
       "35                              Dead Man Walking (1995)\n",
       "39                      Cry, the Beloved Country (1995)\n",
       "42                                   Restoration (1995)\n",
       "52                                      Lamerica (1994)\n",
       "54                                       Georgia (1995)\n",
       "56                         Home for the Holidays (1995)\n",
       "61                            Mr. Holland's Opus (1995)\n",
       "66                                      Two Bits (1995)\n",
       "77                           Crossing Guard, The (1995)\n",
       "79         White Balloon, The (Badkonake Sefid ) (1995)\n",
       "81                      Antonia's Line (Antonia) (1995)\n",
       "82      Once Upon a Time... When We Were Colored (1995)\n",
       "89                   Journey of August King, The (1995)\n",
       "92                               Beautiful Girls (1996)\n",
       "95                              Hate (Haine, La) (1995)\n",
       "Name: title, dtype: object"
      ]
     },
     "execution_count": 42,
     "metadata": {},
     "output_type": "execute_result"
    }
   ],
   "source": [
    "rec_only_genres"
   ]
  },
  {
   "cell_type": "code",
   "execution_count": null,
   "id": "68cca391-7672-4063-b088-ee49c20fdc91",
   "metadata": {},
   "outputs": [],
   "source": []
  },
  {
   "cell_type": "code",
   "execution_count": null,
   "id": "d658bdf6-f59c-4d69-aa91-b424ed51967c",
   "metadata": {},
   "outputs": [],
   "source": []
  },
  {
   "cell_type": "code",
   "execution_count": null,
   "id": "d532cd01-74ab-45c0-b93e-1e20e71ed0a2",
   "metadata": {},
   "outputs": [],
   "source": []
  },
  {
   "cell_type": "markdown",
   "id": "239f822f-1ae2-4ca5-a46f-4be9cc16216a",
   "metadata": {},
   "source": [
    "# TFIDF BUT USING OTHER DISTANCE METRICS \n",
    "## Manhattan Distance, Pearsons Correrelation Coefficient"
   ]
  },
  {
   "cell_type": "code",
   "execution_count": 43,
   "id": "7caf0848-ba0e-422a-8916-b351b67a0253",
   "metadata": {},
   "outputs": [],
   "source": [
    "from sklearn.metrics import pairwise_distances\n",
    "\n",
    "manhattan_distance = pairwise_distances(tfidf_matrix_combined, metric='manhattan')\n"
   ]
  },
  {
   "cell_type": "code",
   "execution_count": 44,
   "id": "ab1a0090-f964-4d78-81ab-c57dd3f38103",
   "metadata": {},
   "outputs": [],
   "source": [
    "manhattan_similarity = 1 / (1 + manhattan_distance)\n"
   ]
  },
  {
   "cell_type": "code",
   "execution_count": 45,
   "id": "121e7c86-d8a8-4f46-8920-a5ccca4ba314",
   "metadata": {},
   "outputs": [
    {
     "data": {
      "text/plain": [
       "array([[1.        , 0.16903147, 0.15590055, ..., 0.1861037 , 0.16919777,\n",
       "        0.1721361 ],\n",
       "       [0.16903147, 1.        , 0.1581829 , ..., 0.19758144, 0.17863206,\n",
       "        0.18191038],\n",
       "       [0.15590055, 0.1581829 , 1.        , ..., 0.18647447, 0.16950418,\n",
       "        0.17245326],\n",
       "       ...,\n",
       "       [0.1861037 , 0.19758144, 0.18647447, ..., 1.        , 0.22760129,\n",
       "        0.23479629],\n",
       "       [0.16919777, 0.17863206, 0.16950418, ..., 0.22760129, 1.        ,\n",
       "        0.20705406],\n",
       "       [0.1721361 , 0.18191038, 0.17245326, ..., 0.23479629, 0.20705406,\n",
       "        1.        ]])"
      ]
     },
     "execution_count": 45,
     "metadata": {},
     "output_type": "execute_result"
    }
   ],
   "source": [
    "manhattan_similarity"
   ]
  },
  {
   "cell_type": "code",
   "execution_count": 46,
   "id": "b376609a-45a3-4d06-8acc-0907d4a2cae8",
   "metadata": {},
   "outputs": [],
   "source": [
    "\n",
    "\n",
    "# Calculate the Pearson Correlation Coefficient\n",
    "pearson_correlation = np.corrcoef(tfidf_matrix_combined.toarray())\n"
   ]
  },
  {
   "cell_type": "code",
   "execution_count": 47,
   "id": "f72567ce-bd96-42ba-a027-46de50b7133d",
   "metadata": {},
   "outputs": [
    {
     "name": "stdout",
     "output_type": "stream",
     "text": [
      "(3883, 3883)\n"
     ]
    }
   ],
   "source": [
    "print(pearson_correlation.shape)\n"
   ]
  },
  {
   "cell_type": "code",
   "execution_count": 48,
   "id": "9842ec80-ff1e-4a15-9bf1-a459d0e59f2a",
   "metadata": {},
   "outputs": [],
   "source": [
    "indices = pd.Series(movies_df.index, index=movies_df['title']).to_dict()\n",
    "\n",
    "def get_recommendations(title, k):\n",
    "    # Get the index of the movie that matches the title\n",
    "    idx = indices[title]\n",
    "\n",
    "    # Get the pairwise similarity scores with that movie\n",
    "    sim_scores = list(enumerate(manhattan_similarity[idx]))\n",
    "\n",
    "    # Sort the movies based on the similarity scores\n",
    "    sim_scores = sorted(sim_scores, key=lambda x: x[1], reverse=True)\n",
    "\n",
    "    # Get the scores of the 10 most similar movies\n",
    "    sim_scores = sim_scores[1:k]\n",
    "\n",
    "    # Get the movie indices\n",
    "    movie_indices = [i[0] for i in sim_scores]\n",
    "   \n",
    "    # Return the top 10 most similar movies\n",
    "    return movies_df['title'].iloc[movie_indices]"
   ]
  },
  {
   "cell_type": "code",
   "execution_count": 49,
   "id": "04de3fd2-74a5-4963-b0e8-c472c4e49c59",
   "metadata": {},
   "outputs": [],
   "source": [
    "rec_combined_without_year_manhattan=get_recommendations('Good Will Hunting (1997)',20).head(20)"
   ]
  },
  {
   "cell_type": "code",
   "execution_count": 50,
   "id": "9d52d86a-e9a5-4ed1-91cb-43ba94204d2c",
   "metadata": {},
   "outputs": [],
   "source": [
    "indices = pd.Series(movies_df.index, index=movies_df['title']).to_dict()\n",
    "\n",
    "def get_recommendations(title, k):\n",
    "    # Get the index of the movie that matches the title\n",
    "    idx = indices[title]\n",
    "\n",
    "    # Get the pairwise similarity scores with that movie\n",
    "    sim_scores = list(enumerate(pearson_correlation[idx]))\n",
    "\n",
    "    # Sort the movies based on the similarity scores\n",
    "    sim_scores = sorted(sim_scores, key=lambda x: x[1], reverse=True)\n",
    "\n",
    "    # Get the scores of the 10 most similar movies\n",
    "    sim_scores = sim_scores[1:k]\n",
    "\n",
    "    # Get the movie indices\n",
    "    movie_indices = [i[0] for i in sim_scores]\n",
    "   \n",
    "    # Return the top 10 most similar movies\n",
    "    return movies_df['title'].iloc[movie_indices]"
   ]
  },
  {
   "cell_type": "code",
   "execution_count": 51,
   "id": "79a220d0-6a46-4bba-b4f3-812287674c3b",
   "metadata": {},
   "outputs": [],
   "source": [
    "rec_combined_without_year_pearsons=get_recommendations('Good Will Hunting (1997)',20).head(20)"
   ]
  },
  {
   "cell_type": "code",
   "execution_count": 52,
   "id": "962c40b1-459c-4fa2-9b3e-7dacd84b2a87",
   "metadata": {},
   "outputs": [
    {
     "data": {
      "text/plain": [
       "26                               Now and Then (1995)\n",
       "382                                    S.F.W. (1994)\n",
       "1126                              Get Over It (1996)\n",
       "1231                                    8 1/2 (1963)\n",
       "1475                              All Over Me (1997)\n",
       "1493                                  Nowhere (1997)\n",
       "1516                          To Have, or Not (1995)\n",
       "1803                                   Go Now (1995)\n",
       "1853                                 Whatever (1998)\n",
       "2216                                   If.... (1968)\n",
       "2864         Fire Within, The (Le Feu Follet) (1963)\n",
       "2982                        Anywhere But Here (1999)\n",
       "3220    Not One Less (Yi ge dou bu neng shao) (1999)\n",
       "190                                 Show, The (1995)\n",
       "1272                              Being There (1979)\n",
       "1460                                  B*A*P*S (1997)\n",
       "1572                                 In & Out (1997)\n",
       "1865               You Can't Take It With You (1938)\n",
       "2511                                       Go (1999)\n",
       "Name: title, dtype: object"
      ]
     },
     "execution_count": 52,
     "metadata": {},
     "output_type": "execute_result"
    }
   ],
   "source": [
    "rec_combined_without_year_manhattan"
   ]
  },
  {
   "cell_type": "code",
   "execution_count": 53,
   "id": "1e18f051-5aef-4e63-b18a-22fcb894361c",
   "metadata": {},
   "outputs": [
    {
     "data": {
      "text/plain": [
       "3378                            Good Earth, The (1937)\n",
       "3380                           Good Mother, The (1988)\n",
       "2199                            Few Good Men, A (1992)\n",
       "1726                         As Good As It Gets (1997)\n",
       "458                       Good Man in Africa, A (1994)\n",
       "3379                      Good Morning, Vietnam (1987)\n",
       "1183            Good, The Bad and The Ugly, The (1966)\n",
       "1663    Midnight in the Garden of Good and Evil (1997)\n",
       "26                                 Now and Then (1995)\n",
       "382                                      S.F.W. (1994)\n",
       "1126                                Get Over It (1996)\n",
       "1231                                      8 1/2 (1963)\n",
       "1475                                All Over Me (1997)\n",
       "1493                                    Nowhere (1997)\n",
       "1516                            To Have, or Not (1995)\n",
       "1803                                     Go Now (1995)\n",
       "1853                                   Whatever (1998)\n",
       "2216                                     If.... (1968)\n",
       "2864           Fire Within, The (Le Feu Follet) (1963)\n",
       "Name: title, dtype: object"
      ]
     },
     "execution_count": 53,
     "metadata": {},
     "output_type": "execute_result"
    }
   ],
   "source": [
    "rec_combined_without_year_pearsons"
   ]
  },
  {
   "cell_type": "code",
   "execution_count": 54,
   "id": "84025fd9-57ee-487b-8dda-175bd1c85ce0",
   "metadata": {},
   "outputs": [
    {
     "data": {
      "text/plain": [
       "3378                            Good Earth, The (1937)\n",
       "3380                           Good Mother, The (1988)\n",
       "2199                            Few Good Men, A (1992)\n",
       "1726                         As Good As It Gets (1997)\n",
       "458                       Good Man in Africa, A (1994)\n",
       "3379                      Good Morning, Vietnam (1987)\n",
       "1183            Good, The Bad and The Ugly, The (1966)\n",
       "1663    Midnight in the Garden of Good and Evil (1997)\n",
       "26                                 Now and Then (1995)\n",
       "382                                      S.F.W. (1994)\n",
       "1126                                Get Over It (1996)\n",
       "1231                                      8 1/2 (1963)\n",
       "1475                                All Over Me (1997)\n",
       "1493                                    Nowhere (1997)\n",
       "1516                            To Have, or Not (1995)\n",
       "1803                                     Go Now (1995)\n",
       "1853                                   Whatever (1998)\n",
       "2216                                     If.... (1968)\n",
       "2864           Fire Within, The (Le Feu Follet) (1963)\n",
       "Name: title, dtype: object"
      ]
     },
     "execution_count": 54,
     "metadata": {},
     "output_type": "execute_result"
    }
   ],
   "source": [
    "rec_combined_without_year"
   ]
  },
  {
   "cell_type": "code",
   "execution_count": null,
   "id": "f54123a9-40c1-4b3b-a1d6-3ff59ec45da0",
   "metadata": {},
   "outputs": [],
   "source": []
  },
  {
   "cell_type": "code",
   "execution_count": 58,
   "id": "4109a70f-0f98-44fe-8b8a-d77c9dfd82dc",
   "metadata": {},
   "outputs": [
    {
     "name": "stdout",
     "output_type": "stream",
     "text": [
      "Defaulting to user installation because normal site-packages is not writeable\n",
      "Requirement already satisfied: gensim in /home/FYP/nipun001/.local/lib/python3.11/site-packages (4.3.2)\n",
      "Requirement already satisfied: numpy>=1.18.5 in /apps/conda_env/CZ4042_v5/lib/python3.11/site-packages (from gensim) (1.25.2)\n",
      "Requirement already satisfied: scipy>=1.7.0 in /home/FYP/nipun001/.local/lib/python3.11/site-packages (from gensim) (1.11.3)\n",
      "Requirement already satisfied: smart-open>=1.8.1 in /home/FYP/nipun001/.local/lib/python3.11/site-packages (from gensim) (6.4.0)\n"
     ]
    }
   ],
   "source": [
    "!pip install gensim"
   ]
  },
  {
   "cell_type": "markdown",
   "id": "25c37df4-3eb8-4168-9e29-4dae8d6a615f",
   "metadata": {},
   "source": [
    "# WORD2VEC"
   ]
  },
  {
   "cell_type": "code",
   "execution_count": 56,
   "id": "9ee03449-8803-48a5-b8c3-644c716adb99",
   "metadata": {},
   "outputs": [
    {
     "name": "stderr",
     "output_type": "stream",
     "text": [
      "[nltk_data] Downloading package punkt to\n",
      "[nltk_data]     /home/FYP/nipun001/nltk_data...\n",
      "[nltk_data]   Package punkt is already up-to-date!\n"
     ]
    }
   ],
   "source": [
    "import nltk\n",
    "nltk.download('punkt')\n",
    "from nltk.tokenize import word_tokenize\n",
    "\n",
    "# Convert titles to lowercase and tokenize\n",
    "movies_df['tokens'] = movies_df['title'].str.lower().apply(word_tokenize)\n"
   ]
  },
  {
   "cell_type": "code",
   "execution_count": 57,
   "id": "4499f8b7-4c22-4585-ac25-65a2ecff05d4",
   "metadata": {},
   "outputs": [
    {
     "data": {
      "text/html": [
       "<div>\n",
       "<style scoped>\n",
       "    .dataframe tbody tr th:only-of-type {\n",
       "        vertical-align: middle;\n",
       "    }\n",
       "\n",
       "    .dataframe tbody tr th {\n",
       "        vertical-align: top;\n",
       "    }\n",
       "\n",
       "    .dataframe thead th {\n",
       "        text-align: right;\n",
       "    }\n",
       "</style>\n",
       "<table border=\"1\" class=\"dataframe\">\n",
       "  <thead>\n",
       "    <tr style=\"text-align: right;\">\n",
       "      <th></th>\n",
       "      <th>movie_id</th>\n",
       "      <th>title</th>\n",
       "      <th>genres</th>\n",
       "      <th>combined_content</th>\n",
       "      <th>clean_title</th>\n",
       "      <th>tokens</th>\n",
       "    </tr>\n",
       "  </thead>\n",
       "  <tbody>\n",
       "    <tr>\n",
       "      <th>0</th>\n",
       "      <td>1</td>\n",
       "      <td>Toy Story (1995)</td>\n",
       "      <td>Animation Children's Comedy</td>\n",
       "      <td>Toy Story Animation Children's Comedy</td>\n",
       "      <td>Toy Story</td>\n",
       "      <td>[toy, story, (, 1995, )]</td>\n",
       "    </tr>\n",
       "    <tr>\n",
       "      <th>1</th>\n",
       "      <td>2</td>\n",
       "      <td>Jumanji (1995)</td>\n",
       "      <td>Adventure Children's Fantasy</td>\n",
       "      <td>Jumanji Adventure Children's Fantasy</td>\n",
       "      <td>Jumanji</td>\n",
       "      <td>[jumanji, (, 1995, )]</td>\n",
       "    </tr>\n",
       "    <tr>\n",
       "      <th>2</th>\n",
       "      <td>3</td>\n",
       "      <td>Grumpier Old Men (1995)</td>\n",
       "      <td>Comedy Romance</td>\n",
       "      <td>Grumpier Old Men Comedy Romance</td>\n",
       "      <td>Grumpier Old Men</td>\n",
       "      <td>[grumpier, old, men, (, 1995, )]</td>\n",
       "    </tr>\n",
       "    <tr>\n",
       "      <th>3</th>\n",
       "      <td>4</td>\n",
       "      <td>Waiting to Exhale (1995)</td>\n",
       "      <td>Comedy Drama</td>\n",
       "      <td>Waiting to Exhale Comedy Drama</td>\n",
       "      <td>Waiting to Exhale</td>\n",
       "      <td>[waiting, to, exhale, (, 1995, )]</td>\n",
       "    </tr>\n",
       "    <tr>\n",
       "      <th>4</th>\n",
       "      <td>5</td>\n",
       "      <td>Father of the Bride Part II (1995)</td>\n",
       "      <td>Comedy</td>\n",
       "      <td>Father of the Bride Part II Comedy</td>\n",
       "      <td>Father of the Bride Part II</td>\n",
       "      <td>[father, of, the, bride, part, ii, (, 1995, )]</td>\n",
       "    </tr>\n",
       "    <tr>\n",
       "      <th>...</th>\n",
       "      <td>...</td>\n",
       "      <td>...</td>\n",
       "      <td>...</td>\n",
       "      <td>...</td>\n",
       "      <td>...</td>\n",
       "      <td>...</td>\n",
       "    </tr>\n",
       "    <tr>\n",
       "      <th>3878</th>\n",
       "      <td>3948</td>\n",
       "      <td>Meet the Parents (2000)</td>\n",
       "      <td>Comedy</td>\n",
       "      <td>Meet the Parents Comedy</td>\n",
       "      <td>Meet the Parents</td>\n",
       "      <td>[meet, the, parents, (, 2000, )]</td>\n",
       "    </tr>\n",
       "    <tr>\n",
       "      <th>3879</th>\n",
       "      <td>3949</td>\n",
       "      <td>Requiem for a Dream (2000)</td>\n",
       "      <td>Drama</td>\n",
       "      <td>Requiem for a Dream Drama</td>\n",
       "      <td>Requiem for a Dream</td>\n",
       "      <td>[requiem, for, a, dream, (, 2000, )]</td>\n",
       "    </tr>\n",
       "    <tr>\n",
       "      <th>3880</th>\n",
       "      <td>3950</td>\n",
       "      <td>Tigerland (2000)</td>\n",
       "      <td>Drama</td>\n",
       "      <td>Tigerland Drama</td>\n",
       "      <td>Tigerland</td>\n",
       "      <td>[tigerland, (, 2000, )]</td>\n",
       "    </tr>\n",
       "    <tr>\n",
       "      <th>3881</th>\n",
       "      <td>3951</td>\n",
       "      <td>Two Family House (2000)</td>\n",
       "      <td>Drama</td>\n",
       "      <td>Two Family House Drama</td>\n",
       "      <td>Two Family House</td>\n",
       "      <td>[two, family, house, (, 2000, )]</td>\n",
       "    </tr>\n",
       "    <tr>\n",
       "      <th>3882</th>\n",
       "      <td>3952</td>\n",
       "      <td>Contender, The (2000)</td>\n",
       "      <td>Drama Thriller</td>\n",
       "      <td>Contender, The Drama Thriller</td>\n",
       "      <td>Contender, The</td>\n",
       "      <td>[contender, ,, the, (, 2000, )]</td>\n",
       "    </tr>\n",
       "  </tbody>\n",
       "</table>\n",
       "<p>3883 rows × 6 columns</p>\n",
       "</div>"
      ],
      "text/plain": [
       "      movie_id                               title  \\\n",
       "0            1                    Toy Story (1995)   \n",
       "1            2                      Jumanji (1995)   \n",
       "2            3             Grumpier Old Men (1995)   \n",
       "3            4            Waiting to Exhale (1995)   \n",
       "4            5  Father of the Bride Part II (1995)   \n",
       "...        ...                                 ...   \n",
       "3878      3948             Meet the Parents (2000)   \n",
       "3879      3949          Requiem for a Dream (2000)   \n",
       "3880      3950                    Tigerland (2000)   \n",
       "3881      3951             Two Family House (2000)   \n",
       "3882      3952               Contender, The (2000)   \n",
       "\n",
       "                            genres                       combined_content  \\\n",
       "0      Animation Children's Comedy  Toy Story Animation Children's Comedy   \n",
       "1     Adventure Children's Fantasy   Jumanji Adventure Children's Fantasy   \n",
       "2                   Comedy Romance        Grumpier Old Men Comedy Romance   \n",
       "3                     Comedy Drama         Waiting to Exhale Comedy Drama   \n",
       "4                           Comedy     Father of the Bride Part II Comedy   \n",
       "...                            ...                                    ...   \n",
       "3878                        Comedy                Meet the Parents Comedy   \n",
       "3879                         Drama              Requiem for a Dream Drama   \n",
       "3880                         Drama                        Tigerland Drama   \n",
       "3881                         Drama                 Two Family House Drama   \n",
       "3882                Drama Thriller          Contender, The Drama Thriller   \n",
       "\n",
       "                      clean_title  \\\n",
       "0                       Toy Story   \n",
       "1                         Jumanji   \n",
       "2                Grumpier Old Men   \n",
       "3               Waiting to Exhale   \n",
       "4     Father of the Bride Part II   \n",
       "...                           ...   \n",
       "3878             Meet the Parents   \n",
       "3879          Requiem for a Dream   \n",
       "3880                    Tigerland   \n",
       "3881             Two Family House   \n",
       "3882               Contender, The   \n",
       "\n",
       "                                              tokens  \n",
       "0                           [toy, story, (, 1995, )]  \n",
       "1                              [jumanji, (, 1995, )]  \n",
       "2                   [grumpier, old, men, (, 1995, )]  \n",
       "3                  [waiting, to, exhale, (, 1995, )]  \n",
       "4     [father, of, the, bride, part, ii, (, 1995, )]  \n",
       "...                                              ...  \n",
       "3878                [meet, the, parents, (, 2000, )]  \n",
       "3879            [requiem, for, a, dream, (, 2000, )]  \n",
       "3880                         [tigerland, (, 2000, )]  \n",
       "3881                [two, family, house, (, 2000, )]  \n",
       "3882                 [contender, ,, the, (, 2000, )]  \n",
       "\n",
       "[3883 rows x 6 columns]"
      ]
     },
     "execution_count": 57,
     "metadata": {},
     "output_type": "execute_result"
    }
   ],
   "source": [
    "movies_df"
   ]
  },
  {
   "cell_type": "code",
   "execution_count": 60,
   "id": "03b24ed4-4fc6-4a2f-80b0-f5d80855f666",
   "metadata": {},
   "outputs": [],
   "source": [
    "from gensim.models import Word2Vec\n",
    "\n",
    "# Train the model\n",
    "model = Word2Vec(sentences=movies_df['tokens'], vector_size=50, window=5, min_count=1)\n"
   ]
  },
  {
   "cell_type": "code",
   "execution_count": 62,
   "id": "b8396108-e34a-489c-a383-9477e0122dd8",
   "metadata": {},
   "outputs": [],
   "source": [
    "import numpy as np\n",
    "\n",
    "def get_title_embedding(title_tokens):\n",
    "    embeddings = [model.wv[token] for token in title_tokens if token in model.wv]\n",
    "    if embeddings:\n",
    "        return np.mean(embeddings, axis=0)\n",
    "    else:\n",
    "        return np.zeros(model.vector_size)\n",
    "\n",
    "movies_df['title_embedding'] = movies_df['tokens'].apply(get_title_embedding)\n"
   ]
  },
  {
   "cell_type": "code",
   "execution_count": 64,
   "id": "dd843886-8462-40c7-a07f-78c32baffd67",
   "metadata": {},
   "outputs": [
    {
     "data": {
      "text/plain": [
       "0       [-0.19349521, 0.07656503, 0.14460446, 0.217834...\n",
       "1       [-0.21410955, 0.09006852, 0.16089745, 0.247330...\n",
       "2       [-0.16789703, 0.07021295, 0.12970188, 0.189012...\n",
       "3       [-0.18849675, 0.082981825, 0.15280975, 0.21241...\n",
       "4       [-0.19509387, 0.07866987, 0.15126096, 0.225234...\n",
       "                              ...                        \n",
       "3878    [-0.18108411, 0.074163504, 0.14572096, 0.21591...\n",
       "3879    [-0.18508492, 0.07660105, 0.14508858, 0.223769...\n",
       "3880    [-0.20049207, 0.0803373, 0.1603632, 0.23768824...\n",
       "3881    [-0.15904482, 0.06748768, 0.12800017, 0.188982...\n",
       "3882    [-0.20987873, 0.08468004, 0.16937529, 0.251700...\n",
       "Name: title_embedding, Length: 3883, dtype: object"
      ]
     },
     "execution_count": 64,
     "metadata": {},
     "output_type": "execute_result"
    }
   ],
   "source": [
    "movies_df['title_embedding']"
   ]
  },
  {
   "cell_type": "code",
   "execution_count": null,
   "id": "5770ebd5-bb49-4a0a-8ee2-4259a38246d5",
   "metadata": {},
   "outputs": [],
   "source": []
  },
  {
   "cell_type": "code",
   "execution_count": 68,
   "id": "91c1f350-872d-4253-baec-27db2c2da4aa",
   "metadata": {},
   "outputs": [],
   "source": [
    "from sklearn.preprocessing import MultiLabelBinarizer\n",
    "\n",
    "# Split genres by \"|\" and encode\n",
    "mlb = MultiLabelBinarizer()\n",
    "movies_df['genres_list'] = movies_df['genres'].str.split('|')\n",
    "genre_encoded = mlb.fit_transform(movies_df['genres_list'])\n",
    "genre_df = pd.DataFrame(genre_encoded, columns=mlb.classes_)\n"
   ]
  },
  {
   "cell_type": "code",
   "execution_count": 69,
   "id": "5e1f9923-8ef8-4c72-8039-7a4ca8f3fb3c",
   "metadata": {},
   "outputs": [],
   "source": [
    "from sklearn.preprocessing import MinMaxScaler\n",
    "\n",
    "# Scale title embeddings\n",
    "scaler = MinMaxScaler()\n",
    "scaled_embeddings = scaler.fit_transform(movies_df['title_embedding'].tolist())\n"
   ]
  },
  {
   "cell_type": "code",
   "execution_count": 70,
   "id": "7f88923e-d390-4ad3-9159-0eb5bef55637",
   "metadata": {},
   "outputs": [],
   "source": [
    "combined_features = np.hstack((scaled_embeddings, genre_df.values))\n"
   ]
  },
  {
   "cell_type": "code",
   "execution_count": 75,
   "id": "97dcec8f-d8f1-4413-9b34-c25537ee9056",
   "metadata": {},
   "outputs": [],
   "source": [
    "\n",
    "# Compute cosine similarities\n",
    "similarities = cosine_similarity(combined_features)\n"
   ]
  },
  {
   "cell_type": "code",
   "execution_count": 79,
   "id": "6daae368-0892-4c87-9b57-d8c552004524",
   "metadata": {},
   "outputs": [],
   "source": [
    "\n",
    "def get_combined_recommendations(title, num_recommendations=10):\n",
    "    idx = movies_df[movies_df['title'] == title].index[0]\n",
    "    sim_scores = list(enumerate(similarities[idx]))\n",
    "    sim_scores = sorted(sim_scores, key=lambda x: x[1], reverse=True)\n",
    "    sim_scores = sim_scores[1:num_recommendations+1]  # Exclude the input movie itself\n",
    "    movie_indices = [i[0] for i in sim_scores]\n",
    "    return movies_df['title'].iloc[movie_indices]\n",
    "\n",
    "\n"
   ]
  },
  {
   "cell_type": "code",
   "execution_count": 82,
   "id": "861d07dc-bb06-4e74-9adf-bb7e1ade0dd6",
   "metadata": {},
   "outputs": [
    {
     "name": "stdout",
     "output_type": "stream",
     "text": [
      "911                                   Citizen Kane (1941)\n",
      "306             Red Firecracker, Green Firecracker (1994)\n",
      "1157      Cook the Thief His Wife & Her Lover, The (1989)\n",
      "3508                              Two Moon Juction (1988)\n",
      "2411               Dry Cleaning (Nettoyage Ã  sec) (1997)\n",
      "1777                                  Nil By Mouth (1997)\n",
      "3576            Cleo From 5 to 7 (ClÃ©o de 5 Ã  7) (1962)\n",
      "2656                              Twin Falls Idaho (1999)\n",
      "684       Under the Domin Tree (Etz Hadomim Tafus) (1994)\n",
      "2661                                  Barry Lyndon (1975)\n",
      "2643                                Eyes Wide Shut (1999)\n",
      "3513                    Jails, Hospitals & Hip-Hop (2000)\n",
      "2328                                   Mass Appeal (1984)\n",
      "932                                   Lost Horizon (1937)\n",
      "3116                        Snow Falling on Cedars (1999)\n",
      "783     My Life and Times With Antonin Artaud (En comp...\n",
      "2662       400 Blows, The (Les Quatre cents coups) (1959)\n",
      "1735                 CallejÃ³n de los milagros, El (1995)\n",
      "333                    What's Eating Gilbert Grape (1993)\n",
      "3514             Black Tights (Les Collants Noirs) (1960)\n",
      "Name: title, dtype: object\n"
     ]
    }
   ],
   "source": [
    "print(get_combined_recommendations('Good Will Hunting (1997)',20))"
   ]
  },
  {
   "cell_type": "code",
   "execution_count": null,
   "id": "582cfb28-bed6-49f5-aedc-53cfab010678",
   "metadata": {},
   "outputs": [],
   "source": []
  },
  {
   "cell_type": "code",
   "execution_count": null,
   "id": "127b470c-8900-469a-beb1-0b4c1788b9aa",
   "metadata": {},
   "outputs": [],
   "source": []
  },
  {
   "cell_type": "code",
   "execution_count": null,
   "id": "159bd50b-b17a-4db7-923d-a473454e70b4",
   "metadata": {},
   "outputs": [],
   "source": []
  }
 ],
 "metadata": {
  "kernelspec": {
   "display_name": "Python 3 (ipykernel)",
   "language": "python",
   "name": "python3"
  },
  "language_info": {
   "codemirror_mode": {
    "name": "ipython",
    "version": 3
   },
   "file_extension": ".py",
   "mimetype": "text/x-python",
   "name": "python",
   "nbconvert_exporter": "python",
   "pygments_lexer": "ipython3",
   "version": "3.11.4"
  }
 },
 "nbformat": 4,
 "nbformat_minor": 5
}
