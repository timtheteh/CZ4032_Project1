{
 "cells": [
  {
   "cell_type": "code",
   "execution_count": 1,
   "id": "9e9f37f2",
   "metadata": {},
   "outputs": [],
   "source": [
    "import pandas as pd\n",
    "import os\n",
    "from scipy.sparse import csr_matrix\n",
    "import numpy as np\n",
    "from IPython.display import display_html\n",
    "import warnings\n",
    "\n",
    "import matplotlib.pyplot as plt\n",
    "plt.style.use('seaborn-bright')\n",
    "%matplotlib inline \n"
   ]
  },
  {
   "cell_type": "code",
   "execution_count": 2,
   "id": "630b2389",
   "metadata": {},
   "outputs": [],
   "source": [
    "import pandas as pd\n",
    "\n",
    "# Specify the full file path\n",
    "file_path = '/Users/nirviksahoo/Desktop/Book Rec/goodreads_books_poetry.json'\n",
    "\n",
    "# Read the JSON file into a Pandas DataFrame\n",
    "books_metadata = pd.read_json(file_path, lines=True)\n"
   ]
  },
  {
   "cell_type": "code",
   "execution_count": 3,
   "id": "cc80bb26",
   "metadata": {},
   "outputs": [
    {
     "data": {
      "text/plain": [
       "array(['isbn', 'text_reviews_count', 'series', 'country_code',\n",
       "       'language_code', 'popular_shelves', 'asin', 'is_ebook',\n",
       "       'average_rating', 'kindle_asin', 'similar_books', 'description',\n",
       "       'format', 'link', 'authors', 'publisher', 'num_pages',\n",
       "       'publication_day', 'isbn13', 'publication_month',\n",
       "       'edition_information', 'publication_year', 'url', 'image_url',\n",
       "       'book_id', 'ratings_count', 'work_id', 'title',\n",
       "       'title_without_series'], dtype=object)"
      ]
     },
     "execution_count": 3,
     "metadata": {},
     "output_type": "execute_result"
    }
   ],
   "source": [
    "books_metadata.columns.values"
   ]
  },
  {
   "cell_type": "code",
   "execution_count": 4,
   "id": "42a72986",
   "metadata": {},
   "outputs": [
    {
     "data": {
      "text/html": [
       "<div>\n",
       "<style scoped>\n",
       "    .dataframe tbody tr th:only-of-type {\n",
       "        vertical-align: middle;\n",
       "    }\n",
       "\n",
       "    .dataframe tbody tr th {\n",
       "        vertical-align: top;\n",
       "    }\n",
       "\n",
       "    .dataframe thead th {\n",
       "        text-align: right;\n",
       "    }\n",
       "</style>\n",
       "<table border=\"1\" class=\"dataframe\">\n",
       "  <thead>\n",
       "    <tr style=\"text-align: right;\">\n",
       "      <th></th>\n",
       "      <th>book_id</th>\n",
       "      <th>title</th>\n",
       "      <th>average_rating</th>\n",
       "      <th>is_ebook</th>\n",
       "      <th>num_pages</th>\n",
       "      <th>publication_year</th>\n",
       "      <th>ratings_count</th>\n",
       "      <th>language_code</th>\n",
       "    </tr>\n",
       "  </thead>\n",
       "  <tbody>\n",
       "    <tr>\n",
       "      <th>25069</th>\n",
       "      <td>8283635</td>\n",
       "      <td>Collected Poems And Plays Of Rabindranath Tagore</td>\n",
       "      <td>4.38</td>\n",
       "      <td>true</td>\n",
       "      <td></td>\n",
       "      <td></td>\n",
       "      <td>1</td>\n",
       "      <td></td>\n",
       "    </tr>\n",
       "    <tr>\n",
       "      <th>11662</th>\n",
       "      <td>2406087</td>\n",
       "      <td>Double Exposure</td>\n",
       "      <td>4.33</td>\n",
       "      <td>false</td>\n",
       "      <td>74</td>\n",
       "      <td>2003</td>\n",
       "      <td>9</td>\n",
       "      <td></td>\n",
       "    </tr>\n",
       "    <tr>\n",
       "      <th>5805</th>\n",
       "      <td>2050259</td>\n",
       "      <td>The World's Wife, Carol Ann Duffy</td>\n",
       "      <td>4.16</td>\n",
       "      <td>false</td>\n",
       "      <td>144</td>\n",
       "      <td>2007</td>\n",
       "      <td>131</td>\n",
       "      <td></td>\n",
       "    </tr>\n",
       "    <tr>\n",
       "      <th>33261</th>\n",
       "      <td>6123825</td>\n",
       "      <td>Great Tales and Poems</td>\n",
       "      <td>4.18</td>\n",
       "      <td>false</td>\n",
       "      <td>236</td>\n",
       "      <td>1993</td>\n",
       "      <td>8</td>\n",
       "      <td>eng</td>\n",
       "    </tr>\n",
       "    <tr>\n",
       "      <th>20627</th>\n",
       "      <td>9238578</td>\n",
       "      <td>Poets and Artists (October 2010)</td>\n",
       "      <td>5.00</td>\n",
       "      <td>false</td>\n",
       "      <td>100</td>\n",
       "      <td>2010</td>\n",
       "      <td>10</td>\n",
       "      <td>eng</td>\n",
       "    </tr>\n",
       "  </tbody>\n",
       "</table>\n",
       "</div>"
      ],
      "text/plain": [
       "       book_id                                             title  \\\n",
       "25069  8283635  Collected Poems And Plays Of Rabindranath Tagore   \n",
       "11662  2406087                                   Double Exposure   \n",
       "5805   2050259                 The World's Wife, Carol Ann Duffy   \n",
       "33261  6123825                             Great Tales and Poems   \n",
       "20627  9238578                  Poets and Artists (October 2010)   \n",
       "\n",
       "       average_rating is_ebook num_pages publication_year  ratings_count  \\\n",
       "25069            4.38     true                                         1   \n",
       "11662            4.33    false        74             2003              9   \n",
       "5805             4.16    false       144             2007            131   \n",
       "33261            4.18    false       236             1993              8   \n",
       "20627            5.00    false       100             2010             10   \n",
       "\n",
       "      language_code  \n",
       "25069                \n",
       "11662                \n",
       "5805                 \n",
       "33261           eng  \n",
       "20627           eng  "
      ]
     },
     "execution_count": 4,
     "metadata": {},
     "output_type": "execute_result"
    }
   ],
   "source": [
    "books_metadata_selected = books_metadata[['book_id','title', 'average_rating', 'is_ebook', 'num_pages', \n",
    "                                          'publication_year', 'ratings_count', 'language_code' ]]\n",
    "books_metadata_selected.sample(5)"
   ]
  },
  {
   "cell_type": "code",
   "execution_count": 5,
   "id": "8b1d7aed",
   "metadata": {},
   "outputs": [
    {
     "data": {
      "text/html": [
       "<div>\n",
       "<style scoped>\n",
       "    .dataframe tbody tr th:only-of-type {\n",
       "        vertical-align: middle;\n",
       "    }\n",
       "\n",
       "    .dataframe tbody tr th {\n",
       "        vertical-align: top;\n",
       "    }\n",
       "\n",
       "    .dataframe thead th {\n",
       "        text-align: right;\n",
       "    }\n",
       "</style>\n",
       "<table border=\"1\" class=\"dataframe\">\n",
       "  <thead>\n",
       "    <tr style=\"text-align: right;\">\n",
       "      <th></th>\n",
       "      <th>average_rating</th>\n",
       "      <th>total number of ratings</th>\n",
       "    </tr>\n",
       "    <tr>\n",
       "      <th>book_id</th>\n",
       "      <th></th>\n",
       "      <th></th>\n",
       "    </tr>\n",
       "  </thead>\n",
       "  <tbody>\n",
       "    <tr>\n",
       "      <th>234</th>\n",
       "      <td>4.17</td>\n",
       "      <td>1</td>\n",
       "    </tr>\n",
       "    <tr>\n",
       "      <th>236</th>\n",
       "      <td>4.03</td>\n",
       "      <td>1</td>\n",
       "    </tr>\n",
       "    <tr>\n",
       "      <th>241</th>\n",
       "      <td>3.35</td>\n",
       "      <td>1</td>\n",
       "    </tr>\n",
       "    <tr>\n",
       "      <th>244</th>\n",
       "      <td>4.04</td>\n",
       "      <td>1</td>\n",
       "    </tr>\n",
       "    <tr>\n",
       "      <th>254</th>\n",
       "      <td>3.95</td>\n",
       "      <td>1</td>\n",
       "    </tr>\n",
       "  </tbody>\n",
       "</table>\n",
       "</div>"
      ],
      "text/plain": [
       "         average_rating  total number of ratings\n",
       "book_id                                         \n",
       "234                4.17                        1\n",
       "236                4.03                        1\n",
       "241                3.35                        1\n",
       "244                4.04                        1\n",
       "254                3.95                        1"
      ]
     },
     "execution_count": 5,
     "metadata": {},
     "output_type": "execute_result"
    }
   ],
   "source": [
    "trend=pd.DataFrame(books_metadata.groupby('book_id')['average_rating'].mean())\n",
    "trend['total number of ratings'] = pd.DataFrame(books_metadata.groupby('book_id')['average_rating'].count()) \n",
    "trend.head()"
   ]
  },
  {
   "cell_type": "code",
   "execution_count": 6,
   "id": "65dffcd4",
   "metadata": {},
   "outputs": [
    {
     "name": "stderr",
     "output_type": "stream",
     "text": [
      "/var/folders/_s/g9sh0qnd1w18dk71zx1m7jq80000gn/T/ipykernel_97112/2043572196.py:4: UserWarning: FixedFormatter should only be used together with FixedLocator\n",
      "  ax.set_xticklabels(trend.index,rotation=40,fontsize='12',horizontalalignment=\"right\")\n"
     ]
    },
    {
     "data": {
      "image/png": "[encoded data removed]",
      "text/plain": [
       "<Figure size 720x288 with 1 Axes>"
      ]
     },
     "metadata": {
      "needs_background": "light"
     },
     "output_type": "display_data"
    }
   ],
   "source": [
    "plt.figure(figsize =(10, 4))\n",
    "ax=plt.subplot()\n",
    "ax.bar(trend.head(25).index,trend['total number of ratings'].head(25),color='b')\n",
    "ax.set_xticklabels(trend.index,rotation=40,fontsize='12',horizontalalignment=\"right\")\n",
    "ax.set_title(\"Total Number of reviews for each b0ok\")\n",
    "plt.show()"
   ]
  },
  {
   "cell_type": "code",
   "execution_count": 7,
   "id": "c9590133",
   "metadata": {},
   "outputs": [
    {
     "data": {
      "text/plain": [
       "book_id\n",
       "7636081     5.0\n",
       "3862194     5.0\n",
       "35520865    5.0\n",
       "13007980    5.0\n",
       "3939513     5.0\n",
       "Name: average_rating, dtype: float64"
      ]
     },
     "execution_count": 7,
     "metadata": {},
     "output_type": "execute_result"
    }
   ],
   "source": [
    "books_metadata.groupby('book_id')['average_rating'].mean().sort_values(ascending=False).head()"
   ]
  },
  {
   "cell_type": "code",
   "execution_count": 9,
   "id": "1fd960d8",
   "metadata": {},
   "outputs": [
    {
     "name": "stdout",
     "output_type": "stream",
     "text": [
      "Book ID: 436393\n",
      "Title: Autobiography\n",
      "Average Rating: 5.00\n",
      "Total Number of Ratings: 1.0\n",
      "------------------------------\n",
      "Book ID: 446454\n",
      "Title: on melody dispatch\n",
      "Average Rating: 5.00\n",
      "Total Number of Ratings: 1.0\n",
      "------------------------------\n",
      "Book ID: 521050\n",
      "Title: Editing of Emily Dickinson: A Reconsideration\n",
      "Average Rating: 5.00\n",
      "Total Number of Ratings: 1.0\n",
      "------------------------------\n",
      "Book ID: 568982\n",
      "Title: Ghastlies, Goops & Pincushions: Nonsense Verse\n",
      "Average Rating: 5.00\n",
      "Total Number of Ratings: 1.0\n",
      "------------------------------\n",
      "Book ID: 659690\n",
      "Title: Years Later\n",
      "Average Rating: 5.00\n",
      "Total Number of Ratings: 1.0\n",
      "------------------------------\n",
      "Book ID: 723076\n",
      "Title: Translating the Body\n",
      "Average Rating: 5.00\n",
      "Total Number of Ratings: 1.0\n",
      "------------------------------\n",
      "Book ID: 860818\n",
      "Title: Drift Of The Hunt\n",
      "Average Rating: 5.00\n",
      "Total Number of Ratings: 1.0\n",
      "------------------------------\n",
      "Book ID: 906109\n",
      "Title: The Lonely Hearts Killers\n",
      "Average Rating: 5.00\n",
      "Total Number of Ratings: 1.0\n",
      "------------------------------\n",
      "Book ID: 946769\n",
      "Title: Check the Rhyme: An Anthology of Female Poets & Emcees\n",
      "Average Rating: 5.00\n",
      "Total Number of Ratings: 1.0\n",
      "------------------------------\n",
      "Book ID: 1134178\n",
      "Title: Living at the Monastery, Working in the Kitchen: Poems\n",
      "Average Rating: 5.00\n",
      "Total Number of Ratings: 1.0\n",
      "------------------------------\n"
     ]
    }
   ],
   "source": [
    "# Sort the trend DataFrame by average rating and total number of ratings in descending order\n",
    "sorted_books = trend.sort_values(by=['average_rating', 'total number of ratings'], ascending=False)\n",
    "\n",
    "# Select the top 10 books\n",
    "top_10_books = sorted_books.head(10)\n",
    "\n",
    "# Iterate through the top 10 books and print their information\n",
    "for book_id, row in top_10_books.iterrows():\n",
    "    # Get book information from books_metadata_selected DataFrame\n",
    "    book_info = books_metadata_selected.loc[books_metadata_selected['book_id'] == book_id].iloc[0]\n",
    "    \n",
    "    # Extract relevant information\n",
    "    book_title = book_info['title']\n",
    "    book_rating = row['average_rating']\n",
    "    num_ratings = row['total number of ratings']\n",
    "    \n",
    "    # Print book information\n",
    "    print(f\"Book ID: {book_id}\")\n",
    "    print(f\"Title: {book_title}\")\n",
    "    print(f\"Average Rating: {book_rating:.2f}\")\n",
    "    print(f\"Total Number of Ratings: {num_ratings}\")\n",
    "    print(\"------------------------------\")\n"
   ]
  },
  {
   "cell_type": "code",
   "execution_count": null,
   "id": "521e8698",
   "metadata": {},
   "outputs": [],
   "source": []
  }
 ],
 "metadata": {
  "kernelspec": {
   "display_name": "Python 3 (ipykernel)",
   "language": "python",
   "name": "python3"
  },
  "language_info": {
   "codemirror_mode": {
    "name": "ipython",
    "version": 3
   },
   "file_extension": ".py",
   "mimetype": "text/x-python",
   "name": "python",
   "nbconvert_exporter": "python",
   "pygments_lexer": "ipython3",
   "version": "3.9.7"
  }
 },
 "nbformat": 4,
 "nbformat_minor": 5
}
