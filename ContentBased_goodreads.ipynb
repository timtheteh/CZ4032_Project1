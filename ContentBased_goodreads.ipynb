{
 "cells": [
  {
   "cell_type": "markdown",
   "metadata": {},
   "source": [
    "# "
   ]
  },
  {
   "cell_type": "code",
   "execution_count": 1,
   "metadata": {},
   "outputs": [],
   "source": [
    "import pandas as pd\n",
    "from sklearn.metrics.pairwise import linear_kernel"
   ]
  },
  {
   "cell_type": "code",
   "execution_count": 2,
   "metadata": {},
   "outputs": [],
   "source": [
    "import json\n",
    "\n",
    "data = []\n",
    "\n",
    "# Load the JSON data from a file with multiple JSON objects\n",
    "with open('goodreads_books_poetry.json', 'r', encoding='utf-8') as file:\n",
    "    for line in file:\n",
    "        try:\n",
    "            record = json.loads(line)\n",
    "            data.append(record)\n",
    "        except json.JSONDecodeError:\n",
    "            pass  # Handle invalid lines if needed\n",
    "\n",
    "# Now 'data' contains a list of dictionaries, each representing a JSON object\n",
    "\n"
   ]
  },
  {
   "cell_type": "code",
   "execution_count": 3,
   "metadata": {},
   "outputs": [
    {
     "data": {
      "text/plain": [
       "dict"
      ]
     },
     "execution_count": 3,
     "metadata": {},
     "output_type": "execute_result"
    }
   ],
   "source": [
    "type(data[0])"
   ]
  },
  {
   "cell_type": "code",
   "execution_count": 4,
   "metadata": {},
   "outputs": [],
   "source": [
    "df = pd.DataFrame(data)"
   ]
  },
  {
   "cell_type": "code",
   "execution_count": 5,
   "metadata": {},
   "outputs": [
    {
     "data": {
      "text/plain": [
       "Index(['isbn', 'text_reviews_count', 'series', 'country_code', 'language_code',\n",
       "       'popular_shelves', 'asin', 'is_ebook', 'average_rating', 'kindle_asin',\n",
       "       'similar_books', 'description', 'format', 'link', 'authors',\n",
       "       'publisher', 'num_pages', 'publication_day', 'isbn13',\n",
       "       'publication_month', 'edition_information', 'publication_year', 'url',\n",
       "       'image_url', 'book_id', 'ratings_count', 'work_id', 'title',\n",
       "       'title_without_series'],\n",
       "      dtype='object')"
      ]
     },
     "execution_count": 5,
     "metadata": {},
     "output_type": "execute_result"
    }
   ],
   "source": [
    "df.columns\n"
   ]
  },
  {
   "cell_type": "code",
   "execution_count": 6,
   "metadata": {},
   "outputs": [
    {
     "data": {
      "text/html": [
       "<div>\n",
       "<style scoped>\n",
       "    .dataframe tbody tr th:only-of-type {\n",
       "        vertical-align: middle;\n",
       "    }\n",
       "\n",
       "    .dataframe tbody tr th {\n",
       "        vertical-align: top;\n",
       "    }\n",
       "\n",
       "    .dataframe thead th {\n",
       "        text-align: right;\n",
       "    }\n",
       "</style>\n",
       "<table border=\"1\" class=\"dataframe\">\n",
       "  <thead>\n",
       "    <tr style=\"text-align: right;\">\n",
       "      <th></th>\n",
       "      <th>isbn</th>\n",
       "      <th>text_reviews_count</th>\n",
       "      <th>series</th>\n",
       "      <th>country_code</th>\n",
       "      <th>language_code</th>\n",
       "      <th>popular_shelves</th>\n",
       "      <th>asin</th>\n",
       "      <th>is_ebook</th>\n",
       "      <th>average_rating</th>\n",
       "      <th>kindle_asin</th>\n",
       "      <th>...</th>\n",
       "      <th>publication_month</th>\n",
       "      <th>edition_information</th>\n",
       "      <th>publication_year</th>\n",
       "      <th>url</th>\n",
       "      <th>image_url</th>\n",
       "      <th>book_id</th>\n",
       "      <th>ratings_count</th>\n",
       "      <th>work_id</th>\n",
       "      <th>title</th>\n",
       "      <th>title_without_series</th>\n",
       "    </tr>\n",
       "  </thead>\n",
       "  <tbody>\n",
       "    <tr>\n",
       "      <th>0</th>\n",
       "      <td></td>\n",
       "      <td>1</td>\n",
       "      <td>[]</td>\n",
       "      <td>US</td>\n",
       "      <td>eng</td>\n",
       "      <td>[{'count': '8', 'name': 'to-read'}, {'count': ...</td>\n",
       "      <td></td>\n",
       "      <td>false</td>\n",
       "      <td>3.83</td>\n",
       "      <td></td>\n",
       "      <td>...</td>\n",
       "      <td>11</td>\n",
       "      <td></td>\n",
       "      <td>1887</td>\n",
       "      <td>https://www.goodreads.com/book/show/16037549-v...</td>\n",
       "      <td>https://images.gr-assets.com/books/1348176637m...</td>\n",
       "      <td>16037549</td>\n",
       "      <td>3</td>\n",
       "      <td>5212748</td>\n",
       "      <td>Vision of Sir Launfal and Other Poems</td>\n",
       "      <td>Vision of Sir Launfal and Other Poems</td>\n",
       "    </tr>\n",
       "    <tr>\n",
       "      <th>4</th>\n",
       "      <td>1942004192</td>\n",
       "      <td>4</td>\n",
       "      <td>[]</td>\n",
       "      <td>US</td>\n",
       "      <td>eng</td>\n",
       "      <td>[{'count': '228', 'name': 'to-read'}, {'count'...</td>\n",
       "      <td></td>\n",
       "      <td>false</td>\n",
       "      <td>5.00</td>\n",
       "      <td></td>\n",
       "      <td>...</td>\n",
       "      <td>12</td>\n",
       "      <td>First</td>\n",
       "      <td>2015</td>\n",
       "      <td>https://www.goodreads.com/book/show/29065952-l...</td>\n",
       "      <td>https://images.gr-assets.com/books/1455198396m...</td>\n",
       "      <td>29065952</td>\n",
       "      <td>9</td>\n",
       "      <td>49294781</td>\n",
       "      <td>Louder Than Everything You Love</td>\n",
       "      <td>Louder Than Everything You Love</td>\n",
       "    </tr>\n",
       "    <tr>\n",
       "      <th>6</th>\n",
       "      <td></td>\n",
       "      <td>3</td>\n",
       "      <td>[]</td>\n",
       "      <td>US</td>\n",
       "      <td>eng</td>\n",
       "      <td>[{'count': '5', 'name': 'to-read'}, {'count': ...</td>\n",
       "      <td></td>\n",
       "      <td>false</td>\n",
       "      <td>4.75</td>\n",
       "      <td></td>\n",
       "      <td>...</td>\n",
       "      <td></td>\n",
       "      <td></td>\n",
       "      <td>2009</td>\n",
       "      <td>https://www.goodreads.com/book/show/15861988-i...</td>\n",
       "      <td>https://images.gr-assets.com/books/1346225281m...</td>\n",
       "      <td>15861988</td>\n",
       "      <td>8</td>\n",
       "      <td>21611807</td>\n",
       "      <td>Into Temptation</td>\n",
       "      <td>Into Temptation</td>\n",
       "    </tr>\n",
       "    <tr>\n",
       "      <th>10</th>\n",
       "      <td>0692265295</td>\n",
       "      <td>10</td>\n",
       "      <td>[]</td>\n",
       "      <td>US</td>\n",
       "      <td>eng</td>\n",
       "      <td>[{'count': '853', 'name': 'to-read'}, {'count'...</td>\n",
       "      <td></td>\n",
       "      <td>false</td>\n",
       "      <td>3.95</td>\n",
       "      <td>B00SM9ITQS</td>\n",
       "      <td>...</td>\n",
       "      <td>1</td>\n",
       "      <td></td>\n",
       "      <td>2015</td>\n",
       "      <td>https://www.goodreads.com/book/show/24849837-n...</td>\n",
       "      <td>https://images.gr-assets.com/books/1423580531m...</td>\n",
       "      <td>24849837</td>\n",
       "      <td>27</td>\n",
       "      <td>44304270</td>\n",
       "      <td>Naked Soul: The Erotic Love Poems</td>\n",
       "      <td>Naked Soul: The Erotic Love Poems</td>\n",
       "    </tr>\n",
       "    <tr>\n",
       "      <th>17</th>\n",
       "      <td></td>\n",
       "      <td>1</td>\n",
       "      <td>[]</td>\n",
       "      <td>US</td>\n",
       "      <td>eng</td>\n",
       "      <td>[{'count': '206', 'name': 'to-read'}, {'count'...</td>\n",
       "      <td></td>\n",
       "      <td>true</td>\n",
       "      <td>4.00</td>\n",
       "      <td></td>\n",
       "      <td>...</td>\n",
       "      <td>10</td>\n",
       "      <td></td>\n",
       "      <td>2000</td>\n",
       "      <td>https://www.goodreads.com/book/show/17729612-t...</td>\n",
       "      <td>https://s.gr-assets.com/assets/nophoto/book/11...</td>\n",
       "      <td>17729612</td>\n",
       "      <td>13</td>\n",
       "      <td>24801816</td>\n",
       "      <td>The More Loving One</td>\n",
       "      <td>The More Loving One</td>\n",
       "    </tr>\n",
       "    <tr>\n",
       "      <th>...</th>\n",
       "      <td>...</td>\n",
       "      <td>...</td>\n",
       "      <td>...</td>\n",
       "      <td>...</td>\n",
       "      <td>...</td>\n",
       "      <td>...</td>\n",
       "      <td>...</td>\n",
       "      <td>...</td>\n",
       "      <td>...</td>\n",
       "      <td>...</td>\n",
       "      <td>...</td>\n",
       "      <td>...</td>\n",
       "      <td>...</td>\n",
       "      <td>...</td>\n",
       "      <td>...</td>\n",
       "      <td>...</td>\n",
       "      <td>...</td>\n",
       "      <td>...</td>\n",
       "      <td>...</td>\n",
       "      <td>...</td>\n",
       "      <td>...</td>\n",
       "    </tr>\n",
       "    <tr>\n",
       "      <th>36491</th>\n",
       "      <td></td>\n",
       "      <td>5</td>\n",
       "      <td>[]</td>\n",
       "      <td>US</td>\n",
       "      <td>eng</td>\n",
       "      <td>[{'count': '131', 'name': 'to-read'}, {'count'...</td>\n",
       "      <td></td>\n",
       "      <td>false</td>\n",
       "      <td>4.55</td>\n",
       "      <td>B0076BTK2K</td>\n",
       "      <td>...</td>\n",
       "      <td>6</td>\n",
       "      <td></td>\n",
       "      <td>2011</td>\n",
       "      <td>https://www.goodreads.com/book/show/13452060-r...</td>\n",
       "      <td>https://images.gr-assets.com/books/1328356634m...</td>\n",
       "      <td>13452060</td>\n",
       "      <td>10</td>\n",
       "      <td>18977757</td>\n",
       "      <td>Ramblings &amp; Rhymes: An Anthology of Poetry</td>\n",
       "      <td>Ramblings &amp; Rhymes: An Anthology of Poetry</td>\n",
       "    </tr>\n",
       "    <tr>\n",
       "      <th>36492</th>\n",
       "      <td>1609640101</td>\n",
       "      <td>5</td>\n",
       "      <td>[]</td>\n",
       "      <td>US</td>\n",
       "      <td>eng</td>\n",
       "      <td>[{'count': '15', 'name': 'to-read'}, {'count':...</td>\n",
       "      <td></td>\n",
       "      <td>false</td>\n",
       "      <td>4.89</td>\n",
       "      <td></td>\n",
       "      <td>...</td>\n",
       "      <td>4</td>\n",
       "      <td></td>\n",
       "      <td>2011</td>\n",
       "      <td>https://www.goodreads.com/book/show/11066682-f...</td>\n",
       "      <td>https://images.gr-assets.com/books/1329313687m...</td>\n",
       "      <td>11066682</td>\n",
       "      <td>9</td>\n",
       "      <td>15987970</td>\n",
       "      <td>Field Work: Notes, Songs, Poems 1997-2010</td>\n",
       "      <td>Field Work: Notes, Songs, Poems 1997-2010</td>\n",
       "    </tr>\n",
       "    <tr>\n",
       "      <th>36494</th>\n",
       "      <td></td>\n",
       "      <td>2</td>\n",
       "      <td>[]</td>\n",
       "      <td>US</td>\n",
       "      <td>eng</td>\n",
       "      <td>[{'count': '21', 'name': 'to-read'}, {'count':...</td>\n",
       "      <td></td>\n",
       "      <td>false</td>\n",
       "      <td>4.92</td>\n",
       "      <td></td>\n",
       "      <td>...</td>\n",
       "      <td>6</td>\n",
       "      <td></td>\n",
       "      <td>2009</td>\n",
       "      <td>https://www.goodreads.com/book/show/6554908-at...</td>\n",
       "      <td>https://s.gr-assets.com/assets/nophoto/book/11...</td>\n",
       "      <td>6554908</td>\n",
       "      <td>12</td>\n",
       "      <td>6747498</td>\n",
       "      <td>At night, the dead:</td>\n",
       "      <td>At night, the dead:</td>\n",
       "    </tr>\n",
       "    <tr>\n",
       "      <th>36504</th>\n",
       "      <td>1943977046</td>\n",
       "      <td>6</td>\n",
       "      <td>[]</td>\n",
       "      <td>US</td>\n",
       "      <td>eng</td>\n",
       "      <td>[{'count': '200', 'name': 'to-read'}, {'count'...</td>\n",
       "      <td></td>\n",
       "      <td>false</td>\n",
       "      <td>4.28</td>\n",
       "      <td></td>\n",
       "      <td>...</td>\n",
       "      <td>3</td>\n",
       "      <td></td>\n",
       "      <td>2016</td>\n",
       "      <td>https://www.goodreads.com/book/show/28923921-c...</td>\n",
       "      <td>https://images.gr-assets.com/books/1455223614m...</td>\n",
       "      <td>28923921</td>\n",
       "      <td>17</td>\n",
       "      <td>46806042</td>\n",
       "      <td>Call Me by My Other Name</td>\n",
       "      <td>Call Me by My Other Name</td>\n",
       "    </tr>\n",
       "    <tr>\n",
       "      <th>36509</th>\n",
       "      <td></td>\n",
       "      <td>1</td>\n",
       "      <td>[]</td>\n",
       "      <td>US</td>\n",
       "      <td>eng</td>\n",
       "      <td>[{'count': '2', 'name': 'poetry'}, {'count': '...</td>\n",
       "      <td>B004CYF8NY</td>\n",
       "      <td>true</td>\n",
       "      <td>5.00</td>\n",
       "      <td></td>\n",
       "      <td>...</td>\n",
       "      <td></td>\n",
       "      <td></td>\n",
       "      <td></td>\n",
       "      <td>https://www.goodreads.com/book/show/9874488-ta...</td>\n",
       "      <td>https://s.gr-assets.com/assets/nophoto/book/11...</td>\n",
       "      <td>9874488</td>\n",
       "      <td>1</td>\n",
       "      <td>14766173</td>\n",
       "      <td>Take Out from the Writer's Café</td>\n",
       "      <td>Take Out from the Writer's Café</td>\n",
       "    </tr>\n",
       "  </tbody>\n",
       "</table>\n",
       "<p>8393 rows × 29 columns</p>\n",
       "</div>"
      ],
      "text/plain": [
       "             isbn text_reviews_count series country_code language_code  \\\n",
       "0                                  1     []           US           eng   \n",
       "4      1942004192                  4     []           US           eng   \n",
       "6                                  3     []           US           eng   \n",
       "10     0692265295                 10     []           US           eng   \n",
       "17                                 1     []           US           eng   \n",
       "...           ...                ...    ...          ...           ...   \n",
       "36491                              5     []           US           eng   \n",
       "36492  1609640101                  5     []           US           eng   \n",
       "36494                              2     []           US           eng   \n",
       "36504  1943977046                  6     []           US           eng   \n",
       "36509                              1     []           US           eng   \n",
       "\n",
       "                                         popular_shelves        asin is_ebook  \\\n",
       "0      [{'count': '8', 'name': 'to-read'}, {'count': ...                false   \n",
       "4      [{'count': '228', 'name': 'to-read'}, {'count'...                false   \n",
       "6      [{'count': '5', 'name': 'to-read'}, {'count': ...                false   \n",
       "10     [{'count': '853', 'name': 'to-read'}, {'count'...                false   \n",
       "17     [{'count': '206', 'name': 'to-read'}, {'count'...                 true   \n",
       "...                                                  ...         ...      ...   \n",
       "36491  [{'count': '131', 'name': 'to-read'}, {'count'...                false   \n",
       "36492  [{'count': '15', 'name': 'to-read'}, {'count':...                false   \n",
       "36494  [{'count': '21', 'name': 'to-read'}, {'count':...                false   \n",
       "36504  [{'count': '200', 'name': 'to-read'}, {'count'...                false   \n",
       "36509  [{'count': '2', 'name': 'poetry'}, {'count': '...  B004CYF8NY     true   \n",
       "\n",
       "      average_rating kindle_asin  ... publication_month edition_information  \\\n",
       "0               3.83              ...                11                       \n",
       "4               5.00              ...                12               First   \n",
       "6               4.75              ...                                         \n",
       "10              3.95  B00SM9ITQS  ...                 1                       \n",
       "17              4.00              ...                10                       \n",
       "...              ...         ...  ...               ...                 ...   \n",
       "36491           4.55  B0076BTK2K  ...                 6                       \n",
       "36492           4.89              ...                 4                       \n",
       "36494           4.92              ...                 6                       \n",
       "36504           4.28              ...                 3                       \n",
       "36509           5.00              ...                                         \n",
       "\n",
       "      publication_year                                                url  \\\n",
       "0                 1887  https://www.goodreads.com/book/show/16037549-v...   \n",
       "4                 2015  https://www.goodreads.com/book/show/29065952-l...   \n",
       "6                 2009  https://www.goodreads.com/book/show/15861988-i...   \n",
       "10                2015  https://www.goodreads.com/book/show/24849837-n...   \n",
       "17                2000  https://www.goodreads.com/book/show/17729612-t...   \n",
       "...                ...                                                ...   \n",
       "36491             2011  https://www.goodreads.com/book/show/13452060-r...   \n",
       "36492             2011  https://www.goodreads.com/book/show/11066682-f...   \n",
       "36494             2009  https://www.goodreads.com/book/show/6554908-at...   \n",
       "36504             2016  https://www.goodreads.com/book/show/28923921-c...   \n",
       "36509                   https://www.goodreads.com/book/show/9874488-ta...   \n",
       "\n",
       "                                               image_url   book_id  \\\n",
       "0      https://images.gr-assets.com/books/1348176637m...  16037549   \n",
       "4      https://images.gr-assets.com/books/1455198396m...  29065952   \n",
       "6      https://images.gr-assets.com/books/1346225281m...  15861988   \n",
       "10     https://images.gr-assets.com/books/1423580531m...  24849837   \n",
       "17     https://s.gr-assets.com/assets/nophoto/book/11...  17729612   \n",
       "...                                                  ...       ...   \n",
       "36491  https://images.gr-assets.com/books/1328356634m...  13452060   \n",
       "36492  https://images.gr-assets.com/books/1329313687m...  11066682   \n",
       "36494  https://s.gr-assets.com/assets/nophoto/book/11...   6554908   \n",
       "36504  https://images.gr-assets.com/books/1455223614m...  28923921   \n",
       "36509  https://s.gr-assets.com/assets/nophoto/book/11...   9874488   \n",
       "\n",
       "      ratings_count   work_id                                       title  \\\n",
       "0                 3   5212748       Vision of Sir Launfal and Other Poems   \n",
       "4                 9  49294781             Louder Than Everything You Love   \n",
       "6                 8  21611807                             Into Temptation   \n",
       "10               27  44304270           Naked Soul: The Erotic Love Poems   \n",
       "17               13  24801816                         The More Loving One   \n",
       "...             ...       ...                                         ...   \n",
       "36491            10  18977757  Ramblings & Rhymes: An Anthology of Poetry   \n",
       "36492             9  15987970   Field Work: Notes, Songs, Poems 1997-2010   \n",
       "36494            12   6747498                         At night, the dead:   \n",
       "36504            17  46806042                    Call Me by My Other Name   \n",
       "36509             1  14766173             Take Out from the Writer's Café   \n",
       "\n",
       "                             title_without_series  \n",
       "0           Vision of Sir Launfal and Other Poems  \n",
       "4                 Louder Than Everything You Love  \n",
       "6                                 Into Temptation  \n",
       "10              Naked Soul: The Erotic Love Poems  \n",
       "17                            The More Loving One  \n",
       "...                                           ...  \n",
       "36491  Ramblings & Rhymes: An Anthology of Poetry  \n",
       "36492   Field Work: Notes, Songs, Poems 1997-2010  \n",
       "36494                         At night, the dead:  \n",
       "36504                    Call Me by My Other Name  \n",
       "36509             Take Out from the Writer's Café  \n",
       "\n",
       "[8393 rows x 29 columns]"
      ]
     },
     "execution_count": 6,
     "metadata": {},
     "output_type": "execute_result"
    }
   ],
   "source": [
    "df[df['language_code']=='eng']"
   ]
  },
  {
   "cell_type": "code",
   "execution_count": 7,
   "metadata": {},
   "outputs": [],
   "source": [
    "total_books = len(df)\n",
    "\n",
    "# Set threshold frequencies for common and rare shelves\n",
    "common_threshold = 0.5  # 50%\n",
    "rare_threshold = 0.001  # 0.1%\n",
    "\n",
    "# Define a function to filter shelves\n",
    "def filter_shelves(shelf_list):\n",
    "    filtered_shelves = []\n",
    "    for shelf in shelf_list:\n",
    "        shelf_occurrence = int(shelf['count']) / total_books\n",
    "        if common_threshold >= shelf_occurrence >= rare_threshold:\n",
    "            filtered_shelves.append(shelf)\n",
    "    return filtered_shelves"
   ]
  },
  {
   "cell_type": "code",
   "execution_count": 8,
   "metadata": {},
   "outputs": [
    {
     "name": "stdout",
     "output_type": "stream",
     "text": [
      "0                                                       []\n",
      "1                    [{'count': '100', 'name': 'to-read'}]\n",
      "2                                                       []\n",
      "3        [{'count': '554', 'name': 'to-read'}, {'count'...\n",
      "4                    [{'count': '228', 'name': 'to-read'}]\n",
      "                               ...                        \n",
      "36509                                                   []\n",
      "36510    [{'count': '1158', 'name': 'to-read'}, {'count...\n",
      "36511                                                   []\n",
      "36512    [{'count': '14252', 'name': 'classics'}, {'cou...\n",
      "36513                 [{'count': '37', 'name': 'to-read'}]\n",
      "Name: filtered_shelves, Length: 36514, dtype: object\n"
     ]
    }
   ],
   "source": [
    "# Apply the filter_shelves function to the 'shelves' column\n",
    "df['filtered_shelves'] = df['popular_shelves'].apply(filter_shelves)\n",
    "\n",
    "# Now 'filtered_shelves' column contains shelves that meet your filtering criteria\n",
    "print(df['filtered_shelves'])\n",
    "\n",
    "\n",
    "\n"
   ]
  },
  {
   "cell_type": "code",
   "execution_count": 9,
   "metadata": {},
   "outputs": [
    {
     "data": {
      "text/plain": [
       "0        Number 30 in a series of literary pamphlets pu...\n",
       "1        Fairy Tales gathers the unconventional verse d...\n",
       "2        Three poems describe the nighttime adventures ...\n",
       "3        A modern verse play about the search for meani...\n",
       "4        Louder Than Everything You Love is about trans...\n",
       "                               ...                        \n",
       "36509    Appetizers\\n*Poetry- Acrostic\\nWo(Man)- Diaman...\n",
       "36510    There was an Old Derry down Derry, who loved t...\n",
       "36511                                                     \n",
       "36512    'Muse, tell me of a man: a man of much resourc...\n",
       "36513    Gathers poems by William Blake, Emily Bronte, ...\n",
       "Name: description, Length: 36514, dtype: object"
      ]
     },
     "execution_count": 9,
     "metadata": {},
     "output_type": "execute_result"
    }
   ],
   "source": [
    "df['description']"
   ]
  },
  {
   "cell_type": "code",
   "execution_count": 10,
   "metadata": {},
   "outputs": [
    {
     "data": {
      "text/plain": [
       "[{'author_id': '619932', 'role': ''}]"
      ]
     },
     "execution_count": 10,
     "metadata": {},
     "output_type": "execute_result"
    }
   ],
   "source": [
    "df['authors'][8]"
   ]
  },
  {
   "cell_type": "code",
   "execution_count": 11,
   "metadata": {},
   "outputs": [],
   "source": [
    "df['filtered_shelves_text'] = df['filtered_shelves'].apply(lambda x: ' '.join([shelf['name'] for shelf in x]))\n"
   ]
  },
  {
   "cell_type": "code",
   "execution_count": 12,
   "metadata": {},
   "outputs": [
    {
     "data": {
      "text/plain": [
       "0                                                         \n",
       "1                                                  to-read\n",
       "2                                                         \n",
       "3                             to-read plays drama classics\n",
       "4                                                  to-read\n",
       "                               ...                        \n",
       "36509                                                     \n",
       "36510                     to-read poetry currently-reading\n",
       "36511                                                     \n",
       "36512    classics fiction poetry classic favorites myth...\n",
       "36513                                              to-read\n",
       "Name: filtered_shelves_text, Length: 36514, dtype: object"
      ]
     },
     "execution_count": 12,
     "metadata": {},
     "output_type": "execute_result"
    }
   ],
   "source": [
    "df['filtered_shelves_text']"
   ]
  },
  {
   "cell_type": "code",
   "execution_count": 13,
   "metadata": {},
   "outputs": [
    {
     "data": {
      "text/plain": [
       "0        Number 30 in a series of literary pamphlets pu...\n",
       "1        Fairy Tales gathers the unconventional verse d...\n",
       "2        Three poems describe the nighttime adventures ...\n",
       "3        A modern verse play about the search for meani...\n",
       "4        Louder Than Everything You Love is about trans...\n",
       "                               ...                        \n",
       "36509    Appetizers\\n*Poetry- Acrostic\\nWo(Man)- Diaman...\n",
       "36510    There was an Old Derry down Derry, who loved t...\n",
       "36511                                                     \n",
       "36512    'Muse, tell me of a man: a man of much resourc...\n",
       "36513    Gathers poems by William Blake, Emily Bronte, ...\n",
       "Name: description, Length: 36514, dtype: object"
      ]
     },
     "execution_count": 13,
     "metadata": {},
     "output_type": "execute_result"
    }
   ],
   "source": [
    "df['description']"
   ]
  },
  {
   "cell_type": "code",
   "execution_count": 14,
   "metadata": {},
   "outputs": [
    {
     "data": {
      "text/plain": [
       "\"Le poesie di Michelstaedter, finora troppo poco conosciute, ci fanno sentire, in un'altra forma, la stessa vibrazione estrema di La persuasione e la rettorica. Composte fra il 1905 e il 1910, risentono solo superficialmente del clima letterario italiano di quegli anni. Mentre subito vi affiorano quei temi ultimi a cui Michelstaedter dedico la sua riflessione filosofica: i temi di chi e mosso da un'invincibile vocazione a spingersi di la dal bordo della vita, <>. All'inizio con timbro adolescenziale, e ancora tenuto alla sudditanza verso temi obbligati, poi con un piglio sempre piu sicuro, e distaccandosi rapidamente da ogni dipendenza, Michelstaedter svela anche qui il suo dono specifico, quello dell'immediatezza nel pensiero, e ci guida <>attraverso un mare sempre piu aperto e pericoloso, il vero <>, un mare assente, rispetto al quale si puo dire che <>.\""
      ]
     },
     "execution_count": 14,
     "metadata": {},
     "output_type": "execute_result"
    }
   ],
   "source": [
    "df['description'][844]"
   ]
  },
  {
   "cell_type": "code",
   "execution_count": 15,
   "metadata": {},
   "outputs": [],
   "source": [
    "df['description'] = df['description'].str.replace('-', ' ')\n"
   ]
  },
  {
   "cell_type": "code",
   "execution_count": 16,
   "metadata": {},
   "outputs": [],
   "source": [
    "df['description'] = df['description'].str.replace('\\s+', ' ')\n"
   ]
  },
  {
   "cell_type": "code",
   "execution_count": 17,
   "metadata": {},
   "outputs": [],
   "source": [
    "df['description'] = df['description'].str.replace('\\n', ' ')"
   ]
  },
  {
   "cell_type": "code",
   "execution_count": 18,
   "metadata": {},
   "outputs": [],
   "source": [
    "df['description'] = df['description'].str.replace('*', ' ')"
   ]
  },
  {
   "cell_type": "code",
   "execution_count": 19,
   "metadata": {},
   "outputs": [
    {
     "data": {
      "text/html": [
       "<div>\n",
       "<style scoped>\n",
       "    .dataframe tbody tr th:only-of-type {\n",
       "        vertical-align: middle;\n",
       "    }\n",
       "\n",
       "    .dataframe tbody tr th {\n",
       "        vertical-align: top;\n",
       "    }\n",
       "\n",
       "    .dataframe thead th {\n",
       "        text-align: right;\n",
       "    }\n",
       "</style>\n",
       "<table border=\"1\" class=\"dataframe\">\n",
       "  <thead>\n",
       "    <tr style=\"text-align: right;\">\n",
       "      <th></th>\n",
       "      <th>isbn</th>\n",
       "      <th>text_reviews_count</th>\n",
       "      <th>series</th>\n",
       "      <th>country_code</th>\n",
       "      <th>language_code</th>\n",
       "      <th>popular_shelves</th>\n",
       "      <th>asin</th>\n",
       "      <th>is_ebook</th>\n",
       "      <th>average_rating</th>\n",
       "      <th>kindle_asin</th>\n",
       "      <th>...</th>\n",
       "      <th>publication_year</th>\n",
       "      <th>url</th>\n",
       "      <th>image_url</th>\n",
       "      <th>book_id</th>\n",
       "      <th>ratings_count</th>\n",
       "      <th>work_id</th>\n",
       "      <th>title</th>\n",
       "      <th>title_without_series</th>\n",
       "      <th>filtered_shelves</th>\n",
       "      <th>filtered_shelves_text</th>\n",
       "    </tr>\n",
       "  </thead>\n",
       "  <tbody>\n",
       "    <tr>\n",
       "      <th>0</th>\n",
       "      <td></td>\n",
       "      <td>1</td>\n",
       "      <td>[]</td>\n",
       "      <td>US</td>\n",
       "      <td>eng</td>\n",
       "      <td>[{'count': '8', 'name': 'to-read'}, {'count': ...</td>\n",
       "      <td></td>\n",
       "      <td>false</td>\n",
       "      <td>3.83</td>\n",
       "      <td></td>\n",
       "      <td>...</td>\n",
       "      <td>1887</td>\n",
       "      <td>https://www.goodreads.com/book/show/16037549-v...</td>\n",
       "      <td>https://images.gr-assets.com/books/1348176637m...</td>\n",
       "      <td>16037549</td>\n",
       "      <td>3</td>\n",
       "      <td>5212748</td>\n",
       "      <td>Vision of Sir Launfal and Other Poems</td>\n",
       "      <td>Vision of Sir Launfal and Other Poems</td>\n",
       "      <td>[]</td>\n",
       "      <td></td>\n",
       "    </tr>\n",
       "    <tr>\n",
       "      <th>1</th>\n",
       "      <td>0811223981</td>\n",
       "      <td>2</td>\n",
       "      <td>[]</td>\n",
       "      <td>US</td>\n",
       "      <td></td>\n",
       "      <td>[{'count': '100', 'name': 'to-read'}, {'count'...</td>\n",
       "      <td></td>\n",
       "      <td>false</td>\n",
       "      <td>3.83</td>\n",
       "      <td>B00U2WY9U8</td>\n",
       "      <td>...</td>\n",
       "      <td>2015</td>\n",
       "      <td>https://www.goodreads.com/book/show/22466716-f...</td>\n",
       "      <td>https://images.gr-assets.com/books/1404958407m...</td>\n",
       "      <td>22466716</td>\n",
       "      <td>37</td>\n",
       "      <td>41905435</td>\n",
       "      <td>Fairy Tales: Dramolettes</td>\n",
       "      <td>Fairy Tales: Dramolettes</td>\n",
       "      <td>[{'count': '100', 'name': 'to-read'}]</td>\n",
       "      <td>to-read</td>\n",
       "    </tr>\n",
       "    <tr>\n",
       "      <th>2</th>\n",
       "      <td>0374428115</td>\n",
       "      <td>7</td>\n",
       "      <td>[]</td>\n",
       "      <td>US</td>\n",
       "      <td></td>\n",
       "      <td>[{'count': '32', 'name': 'to-read'}, {'count':...</td>\n",
       "      <td></td>\n",
       "      <td>false</td>\n",
       "      <td>4.38</td>\n",
       "      <td></td>\n",
       "      <td>...</td>\n",
       "      <td>2008</td>\n",
       "      <td>https://www.goodreads.com/book/show/926662.Gro...</td>\n",
       "      <td>https://s.gr-assets.com/assets/nophoto/book/11...</td>\n",
       "      <td>926662</td>\n",
       "      <td>45</td>\n",
       "      <td>911665</td>\n",
       "      <td>Growltiger's Last Stand and Other Poems</td>\n",
       "      <td>Growltiger's Last Stand and Other Poems</td>\n",
       "      <td>[]</td>\n",
       "      <td></td>\n",
       "    </tr>\n",
       "    <tr>\n",
       "      <th>3</th>\n",
       "      <td>0156182890</td>\n",
       "      <td>12</td>\n",
       "      <td>[]</td>\n",
       "      <td>US</td>\n",
       "      <td></td>\n",
       "      <td>[{'count': '554', 'name': 'to-read'}, {'count'...</td>\n",
       "      <td></td>\n",
       "      <td>false</td>\n",
       "      <td>3.71</td>\n",
       "      <td>B00IWTRB1W</td>\n",
       "      <td>...</td>\n",
       "      <td>1964</td>\n",
       "      <td>https://www.goodreads.com/book/show/926667.The...</td>\n",
       "      <td>https://images.gr-assets.com/books/1382939971m...</td>\n",
       "      <td>926667</td>\n",
       "      <td>115</td>\n",
       "      <td>995066</td>\n",
       "      <td>The Cocktail Party</td>\n",
       "      <td>The Cocktail Party</td>\n",
       "      <td>[{'count': '554', 'name': 'to-read'}, {'count'...</td>\n",
       "      <td>to-read plays drama classics</td>\n",
       "    </tr>\n",
       "    <tr>\n",
       "      <th>4</th>\n",
       "      <td>1942004192</td>\n",
       "      <td>4</td>\n",
       "      <td>[]</td>\n",
       "      <td>US</td>\n",
       "      <td>eng</td>\n",
       "      <td>[{'count': '228', 'name': 'to-read'}, {'count'...</td>\n",
       "      <td></td>\n",
       "      <td>false</td>\n",
       "      <td>5.00</td>\n",
       "      <td></td>\n",
       "      <td>...</td>\n",
       "      <td>2015</td>\n",
       "      <td>https://www.goodreads.com/book/show/29065952-l...</td>\n",
       "      <td>https://images.gr-assets.com/books/1455198396m...</td>\n",
       "      <td>29065952</td>\n",
       "      <td>9</td>\n",
       "      <td>49294781</td>\n",
       "      <td>Louder Than Everything You Love</td>\n",
       "      <td>Louder Than Everything You Love</td>\n",
       "      <td>[{'count': '228', 'name': 'to-read'}]</td>\n",
       "      <td>to-read</td>\n",
       "    </tr>\n",
       "  </tbody>\n",
       "</table>\n",
       "<p>5 rows × 31 columns</p>\n",
       "</div>"
      ],
      "text/plain": [
       "         isbn text_reviews_count series country_code language_code  \\\n",
       "0                              1     []           US           eng   \n",
       "1  0811223981                  2     []           US                 \n",
       "2  0374428115                  7     []           US                 \n",
       "3  0156182890                 12     []           US                 \n",
       "4  1942004192                  4     []           US           eng   \n",
       "\n",
       "                                     popular_shelves asin is_ebook  \\\n",
       "0  [{'count': '8', 'name': 'to-read'}, {'count': ...         false   \n",
       "1  [{'count': '100', 'name': 'to-read'}, {'count'...         false   \n",
       "2  [{'count': '32', 'name': 'to-read'}, {'count':...         false   \n",
       "3  [{'count': '554', 'name': 'to-read'}, {'count'...         false   \n",
       "4  [{'count': '228', 'name': 'to-read'}, {'count'...         false   \n",
       "\n",
       "  average_rating kindle_asin  ... publication_year  \\\n",
       "0           3.83              ...             1887   \n",
       "1           3.83  B00U2WY9U8  ...             2015   \n",
       "2           4.38              ...             2008   \n",
       "3           3.71  B00IWTRB1W  ...             1964   \n",
       "4           5.00              ...             2015   \n",
       "\n",
       "                                                 url  \\\n",
       "0  https://www.goodreads.com/book/show/16037549-v...   \n",
       "1  https://www.goodreads.com/book/show/22466716-f...   \n",
       "2  https://www.goodreads.com/book/show/926662.Gro...   \n",
       "3  https://www.goodreads.com/book/show/926667.The...   \n",
       "4  https://www.goodreads.com/book/show/29065952-l...   \n",
       "\n",
       "                                           image_url   book_id ratings_count  \\\n",
       "0  https://images.gr-assets.com/books/1348176637m...  16037549             3   \n",
       "1  https://images.gr-assets.com/books/1404958407m...  22466716            37   \n",
       "2  https://s.gr-assets.com/assets/nophoto/book/11...    926662            45   \n",
       "3  https://images.gr-assets.com/books/1382939971m...    926667           115   \n",
       "4  https://images.gr-assets.com/books/1455198396m...  29065952             9   \n",
       "\n",
       "    work_id                                    title  \\\n",
       "0   5212748    Vision of Sir Launfal and Other Poems   \n",
       "1  41905435                 Fairy Tales: Dramolettes   \n",
       "2    911665  Growltiger's Last Stand and Other Poems   \n",
       "3    995066                       The Cocktail Party   \n",
       "4  49294781          Louder Than Everything You Love   \n",
       "\n",
       "                      title_without_series  \\\n",
       "0    Vision of Sir Launfal and Other Poems   \n",
       "1                 Fairy Tales: Dramolettes   \n",
       "2  Growltiger's Last Stand and Other Poems   \n",
       "3                       The Cocktail Party   \n",
       "4          Louder Than Everything You Love   \n",
       "\n",
       "                                    filtered_shelves  \\\n",
       "0                                                 []   \n",
       "1              [{'count': '100', 'name': 'to-read'}]   \n",
       "2                                                 []   \n",
       "3  [{'count': '554', 'name': 'to-read'}, {'count'...   \n",
       "4              [{'count': '228', 'name': 'to-read'}]   \n",
       "\n",
       "          filtered_shelves_text  \n",
       "0                                \n",
       "1                       to-read  \n",
       "2                                \n",
       "3  to-read plays drama classics  \n",
       "4                       to-read  \n",
       "\n",
       "[5 rows x 31 columns]"
      ]
     },
     "execution_count": 19,
     "metadata": {},
     "output_type": "execute_result"
    }
   ],
   "source": [
    "df.head()"
   ]
  },
  {
   "cell_type": "code",
   "execution_count": 20,
   "metadata": {},
   "outputs": [
    {
     "data": {
      "text/plain": [
       "Index(['isbn', 'text_reviews_count', 'series', 'country_code', 'language_code',\n",
       "       'popular_shelves', 'asin', 'is_ebook', 'average_rating', 'kindle_asin',\n",
       "       'similar_books', 'description', 'format', 'link', 'authors',\n",
       "       'publisher', 'num_pages', 'publication_day', 'isbn13',\n",
       "       'publication_month', 'edition_information', 'publication_year', 'url',\n",
       "       'image_url', 'book_id', 'ratings_count', 'work_id', 'title',\n",
       "       'title_without_series', 'filtered_shelves', 'filtered_shelves_text'],\n",
       "      dtype='object')"
      ]
     },
     "execution_count": 20,
     "metadata": {},
     "output_type": "execute_result"
    }
   ],
   "source": [
    "df.columns"
   ]
  },
  {
   "cell_type": "code",
   "execution_count": 21,
   "metadata": {},
   "outputs": [],
   "source": [
    "\n",
    "df_english = df[df['language_code'] == 'eng'].copy()\n",
    "\n",
    "# Now, 'df_english' contains only the rows where the language code is 'eng', which corresponds to English books.\n",
    "df_english.reset_index(drop=True, inplace=True)\n"
   ]
  },
  {
   "cell_type": "code",
   "execution_count": 22,
   "metadata": {},
   "outputs": [
    {
     "data": {
      "text/plain": [
       "8393"
      ]
     },
     "execution_count": 22,
     "metadata": {},
     "output_type": "execute_result"
    }
   ],
   "source": [
    "len(df_english)"
   ]
  },
  {
   "cell_type": "code",
   "execution_count": 23,
   "metadata": {},
   "outputs": [
    {
     "data": {
      "text/plain": [
       "0        Number 30 in a series of literary pamphlets pu...\n",
       "1        Fairy Tales gathers the unconventional verse d...\n",
       "2        Three poems describe the nighttime adventures ...\n",
       "3        A modern verse play about the search for meani...\n",
       "4        Louder Than Everything You Love is about trans...\n",
       "                               ...                        \n",
       "36509    Appetizers  Poetry  Acrostic Wo(Man)  Diamante...\n",
       "36510    There was an Old Derry down Derry, who loved t...\n",
       "36511                                                     \n",
       "36512    'Muse, tell me of a man: a man of much resourc...\n",
       "36513    Gathers poems by William Blake, Emily Bronte, ...\n",
       "Name: description, Length: 36514, dtype: object"
      ]
     },
     "execution_count": 23,
     "metadata": {},
     "output_type": "execute_result"
    }
   ],
   "source": [
    "df['description']"
   ]
  },
  {
   "cell_type": "code",
   "execution_count": 24,
   "metadata": {},
   "outputs": [],
   "source": [
    "import spacy\n",
    "\n",
    "nlp = spacy.load(\"en_core_web_sm\")\n",
    "def lemmatize_text(text):\n",
    "    doc = nlp(text)\n",
    "    lemmatized_text = \" \".join([token.lemma_ for token in doc])\n",
    "    return lemmatized_text\n",
    "\n"
   ]
  },
  {
   "cell_type": "code",
   "execution_count": 25,
   "metadata": {},
   "outputs": [],
   "source": [
    "# Apply lemmatization to the 'descriptions' column\n",
    "df_english['lemmatized_description'] = df_english['description'].apply(lemmatize_text)"
   ]
  },
  {
   "cell_type": "code",
   "execution_count": 26,
   "metadata": {},
   "outputs": [
    {
     "data": {
      "text/html": [
       "<div>\n",
       "<style scoped>\n",
       "    .dataframe tbody tr th:only-of-type {\n",
       "        vertical-align: middle;\n",
       "    }\n",
       "\n",
       "    .dataframe tbody tr th {\n",
       "        vertical-align: top;\n",
       "    }\n",
       "\n",
       "    .dataframe thead th {\n",
       "        text-align: right;\n",
       "    }\n",
       "</style>\n",
       "<table border=\"1\" class=\"dataframe\">\n",
       "  <thead>\n",
       "    <tr style=\"text-align: right;\">\n",
       "      <th></th>\n",
       "      <th>description</th>\n",
       "      <th>lemmatized_description</th>\n",
       "    </tr>\n",
       "  </thead>\n",
       "  <tbody>\n",
       "    <tr>\n",
       "      <th>4719</th>\n",
       "      <td>Black Misery was first published in 1969, but ...</td>\n",
       "      <td>Black Misery be first publish in 1969 , but th...</td>\n",
       "    </tr>\n",
       "    <tr>\n",
       "      <th>432</th>\n",
       "      <td>At once an intimate autobiography and a collec...</td>\n",
       "      <td>at once an intimate autobiography and a collec...</td>\n",
       "    </tr>\n",
       "    <tr>\n",
       "      <th>5804</th>\n",
       "      <td>'Muse, tell me of a man: a man of much resourc...</td>\n",
       "      <td>' muse , tell I of a man : a man of much resou...</td>\n",
       "    </tr>\n",
       "    <tr>\n",
       "      <th>394</th>\n",
       "      <td>This book was converted from its physical edit...</td>\n",
       "      <td>this book be convert from its physical edition...</td>\n",
       "    </tr>\n",
       "    <tr>\n",
       "      <th>4543</th>\n",
       "      <td>We are not born to stake a claim, but to claim...</td>\n",
       "      <td>we be not bear to stake a claim , but to claim...</td>\n",
       "    </tr>\n",
       "    <tr>\n",
       "      <th>4596</th>\n",
       "      <td></td>\n",
       "      <td></td>\n",
       "    </tr>\n",
       "    <tr>\n",
       "      <th>4663</th>\n",
       "      <td>Bestselling poet r.h. Sin completes the trilog...</td>\n",
       "      <td>bestselle poet r.h . sin complete the trilogy ...</td>\n",
       "    </tr>\n",
       "    <tr>\n",
       "      <th>2068</th>\n",
       "      <td>$0.99 limited time ebook price Everyone wants ...</td>\n",
       "      <td>$ 0.99 limited time ebook price everyone want ...</td>\n",
       "    </tr>\n",
       "    <tr>\n",
       "      <th>4299</th>\n",
       "      <td>Annabel Lee is the last complete poem composed...</td>\n",
       "      <td>Annabel Lee be the last complete poem compose ...</td>\n",
       "    </tr>\n",
       "    <tr>\n",
       "      <th>1529</th>\n",
       "      <td>I believe that everyone who wishes to can writ...</td>\n",
       "      <td>I believe that everyone who wish to can write ...</td>\n",
       "    </tr>\n",
       "  </tbody>\n",
       "</table>\n",
       "</div>"
      ],
      "text/plain": [
       "                                            description  \\\n",
       "4719  Black Misery was first published in 1969, but ...   \n",
       "432   At once an intimate autobiography and a collec...   \n",
       "5804  'Muse, tell me of a man: a man of much resourc...   \n",
       "394   This book was converted from its physical edit...   \n",
       "4543  We are not born to stake a claim, but to claim...   \n",
       "4596                                                      \n",
       "4663  Bestselling poet r.h. Sin completes the trilog...   \n",
       "2068  $0.99 limited time ebook price Everyone wants ...   \n",
       "4299  Annabel Lee is the last complete poem composed...   \n",
       "1529  I believe that everyone who wishes to can writ...   \n",
       "\n",
       "                                 lemmatized_description  \n",
       "4719  Black Misery be first publish in 1969 , but th...  \n",
       "432   at once an intimate autobiography and a collec...  \n",
       "5804  ' muse , tell I of a man : a man of much resou...  \n",
       "394   this book be convert from its physical edition...  \n",
       "4543  we be not bear to stake a claim , but to claim...  \n",
       "4596                                                     \n",
       "4663  bestselle poet r.h . sin complete the trilogy ...  \n",
       "2068  $ 0.99 limited time ebook price everyone want ...  \n",
       "4299  Annabel Lee be the last complete poem compose ...  \n",
       "1529  I believe that everyone who wish to can write ...  "
      ]
     },
     "execution_count": 26,
     "metadata": {},
     "output_type": "execute_result"
    }
   ],
   "source": [
    "\n",
    "df_english[['description','lemmatized_description']].sample(10)"
   ]
  },
  {
   "cell_type": "code",
   "execution_count": 27,
   "metadata": {},
   "outputs": [
    {
     "name": "stdout",
     "output_type": "stream",
     "text": [
      "0    [{'count': '8', 'name': 'to-read'}, {'count': ...\n",
      "Name: popular_shelves, dtype: object\n"
     ]
    }
   ],
   "source": [
    "print(df_english['popular_shelves'].head(1))"
   ]
  },
  {
   "cell_type": "code",
   "execution_count": 28,
   "metadata": {},
   "outputs": [
    {
     "data": {
      "text/html": [
       "<div>\n",
       "<style scoped>\n",
       "    .dataframe tbody tr th:only-of-type {\n",
       "        vertical-align: middle;\n",
       "    }\n",
       "\n",
       "    .dataframe tbody tr th {\n",
       "        vertical-align: top;\n",
       "    }\n",
       "\n",
       "    .dataframe thead th {\n",
       "        text-align: right;\n",
       "    }\n",
       "</style>\n",
       "<table border=\"1\" class=\"dataframe\">\n",
       "  <thead>\n",
       "    <tr style=\"text-align: right;\">\n",
       "      <th></th>\n",
       "      <th>filtered_shelves_text</th>\n",
       "      <th>popular_shelves</th>\n",
       "    </tr>\n",
       "  </thead>\n",
       "  <tbody>\n",
       "    <tr>\n",
       "      <th>1654</th>\n",
       "      <td>to-read</td>\n",
       "      <td>[{'count': '155', 'name': 'to-read'}, {'count'...</td>\n",
       "    </tr>\n",
       "    <tr>\n",
       "      <th>2248</th>\n",
       "      <td>to-read thanksgiving</td>\n",
       "      <td>[{'count': '172', 'name': 'to-read'}, {'count'...</td>\n",
       "    </tr>\n",
       "    <tr>\n",
       "      <th>2939</th>\n",
       "      <td>to-read</td>\n",
       "      <td>[{'count': '75', 'name': 'to-read'}, {'count':...</td>\n",
       "    </tr>\n",
       "    <tr>\n",
       "      <th>7899</th>\n",
       "      <td>classics poetry fiction favorites classic myth...</td>\n",
       "      <td>[{'count': '8816', 'name': 'classics'}, {'coun...</td>\n",
       "    </tr>\n",
       "    <tr>\n",
       "      <th>1606</th>\n",
       "      <td></td>\n",
       "      <td>[{'count': '10', 'name': 'to-read'}, {'count':...</td>\n",
       "    </tr>\n",
       "    <tr>\n",
       "      <th>468</th>\n",
       "      <td>to-read</td>\n",
       "      <td>[{'count': '56', 'name': 'to-read'}, {'count':...</td>\n",
       "    </tr>\n",
       "    <tr>\n",
       "      <th>8236</th>\n",
       "      <td>classics fiction poetry classic favorites myth...</td>\n",
       "      <td>[{'count': '246940', 'name': 'to-read'}, {'cou...</td>\n",
       "    </tr>\n",
       "    <tr>\n",
       "      <th>2630</th>\n",
       "      <td>to-read poetry currently-reading classics favo...</td>\n",
       "      <td>[{'count': '11003', 'name': 'to-read'}, {'coun...</td>\n",
       "    </tr>\n",
       "    <tr>\n",
       "      <th>5706</th>\n",
       "      <td>to-read poetry</td>\n",
       "      <td>[{'count': '124', 'name': 'to-read'}, {'count'...</td>\n",
       "    </tr>\n",
       "    <tr>\n",
       "      <th>7334</th>\n",
       "      <td>to-read</td>\n",
       "      <td>[{'count': '81', 'name': 'to-read'}, {'count':...</td>\n",
       "    </tr>\n",
       "    <tr>\n",
       "      <th>6921</th>\n",
       "      <td>classics poetry fiction favorites classic myth...</td>\n",
       "      <td>[{'count': '8816', 'name': 'classics'}, {'coun...</td>\n",
       "    </tr>\n",
       "    <tr>\n",
       "      <th>4184</th>\n",
       "      <td></td>\n",
       "      <td>[{'count': '7', 'name': 'to-read'}, {'count': ...</td>\n",
       "    </tr>\n",
       "    <tr>\n",
       "      <th>594</th>\n",
       "      <td>to-read poetry</td>\n",
       "      <td>[{'count': '813', 'name': 'to-read'}, {'count'...</td>\n",
       "    </tr>\n",
       "    <tr>\n",
       "      <th>4739</th>\n",
       "      <td>to-read poetry</td>\n",
       "      <td>[{'count': '80', 'name': 'to-read'}, {'count':...</td>\n",
       "    </tr>\n",
       "    <tr>\n",
       "      <th>3361</th>\n",
       "      <td></td>\n",
       "      <td>[{'count': '6', 'name': 'to-read'}, {'count': ...</td>\n",
       "    </tr>\n",
       "    <tr>\n",
       "      <th>2230</th>\n",
       "      <td>to-read poetry</td>\n",
       "      <td>[{'count': '58', 'name': 'to-read'}, {'count':...</td>\n",
       "    </tr>\n",
       "    <tr>\n",
       "      <th>4242</th>\n",
       "      <td>currently-reading classics poetry fiction favo...</td>\n",
       "      <td>[{'count': '94181', 'name': 'to-read'}, {'coun...</td>\n",
       "    </tr>\n",
       "    <tr>\n",
       "      <th>8098</th>\n",
       "      <td>school poetry high-school for-school tragedy t...</td>\n",
       "      <td>[{'count': '1659', 'name': 'school'}, {'count'...</td>\n",
       "    </tr>\n",
       "    <tr>\n",
       "      <th>3477</th>\n",
       "      <td>currently-reading</td>\n",
       "      <td>[{'count': '40', 'name': 'currently-reading'},...</td>\n",
       "    </tr>\n",
       "    <tr>\n",
       "      <th>5835</th>\n",
       "      <td>to-read currently-reading poetry</td>\n",
       "      <td>[{'count': '706', 'name': 'to-read'}, {'count'...</td>\n",
       "    </tr>\n",
       "  </tbody>\n",
       "</table>\n",
       "</div>"
      ],
      "text/plain": [
       "                                  filtered_shelves_text  \\\n",
       "1654                                            to-read   \n",
       "2248                               to-read thanksgiving   \n",
       "2939                                            to-read   \n",
       "7899  classics poetry fiction favorites classic myth...   \n",
       "1606                                                      \n",
       "468                                             to-read   \n",
       "8236  classics fiction poetry classic favorites myth...   \n",
       "2630  to-read poetry currently-reading classics favo...   \n",
       "5706                                     to-read poetry   \n",
       "7334                                            to-read   \n",
       "6921  classics poetry fiction favorites classic myth...   \n",
       "4184                                                      \n",
       "594                                      to-read poetry   \n",
       "4739                                     to-read poetry   \n",
       "3361                                                      \n",
       "2230                                     to-read poetry   \n",
       "4242  currently-reading classics poetry fiction favo...   \n",
       "8098  school poetry high-school for-school tragedy t...   \n",
       "3477                                  currently-reading   \n",
       "5835                   to-read currently-reading poetry   \n",
       "\n",
       "                                        popular_shelves  \n",
       "1654  [{'count': '155', 'name': 'to-read'}, {'count'...  \n",
       "2248  [{'count': '172', 'name': 'to-read'}, {'count'...  \n",
       "2939  [{'count': '75', 'name': 'to-read'}, {'count':...  \n",
       "7899  [{'count': '8816', 'name': 'classics'}, {'coun...  \n",
       "1606  [{'count': '10', 'name': 'to-read'}, {'count':...  \n",
       "468   [{'count': '56', 'name': 'to-read'}, {'count':...  \n",
       "8236  [{'count': '246940', 'name': 'to-read'}, {'cou...  \n",
       "2630  [{'count': '11003', 'name': 'to-read'}, {'coun...  \n",
       "5706  [{'count': '124', 'name': 'to-read'}, {'count'...  \n",
       "7334  [{'count': '81', 'name': 'to-read'}, {'count':...  \n",
       "6921  [{'count': '8816', 'name': 'classics'}, {'coun...  \n",
       "4184  [{'count': '7', 'name': 'to-read'}, {'count': ...  \n",
       "594   [{'count': '813', 'name': 'to-read'}, {'count'...  \n",
       "4739  [{'count': '80', 'name': 'to-read'}, {'count':...  \n",
       "3361  [{'count': '6', 'name': 'to-read'}, {'count': ...  \n",
       "2230  [{'count': '58', 'name': 'to-read'}, {'count':...  \n",
       "4242  [{'count': '94181', 'name': 'to-read'}, {'coun...  \n",
       "8098  [{'count': '1659', 'name': 'school'}, {'count'...  \n",
       "3477  [{'count': '40', 'name': 'currently-reading'},...  \n",
       "5835  [{'count': '706', 'name': 'to-read'}, {'count'...  "
      ]
     },
     "execution_count": 28,
     "metadata": {},
     "output_type": "execute_result"
    }
   ],
   "source": [
    "df_english[['filtered_shelves_text','popular_shelves']].sample(20)"
   ]
  },
  {
   "cell_type": "code",
   "execution_count": 29,
   "metadata": {},
   "outputs": [],
   "source": [
    "from sklearn.feature_extraction.text import TfidfVectorizer\n",
    "import pandas as pd\n",
    "\n",
    "# Combine the features into a single text feature\n",
    "df_english['combined_features'] = df_english['title'] + ' ' + df_english['description'] + ' ' + df_english['publication_year'].astype(str) + ' ' + df_english['filtered_shelves_text']\n",
    "\n",
    "# Initialize a TF-IDF vectorizer\n",
    "tfidf_vectorizer = TfidfVectorizer(analyzer='word', ngram_range=(1, 3), min_df=5, stop_words='english')\n",
    "\n",
    "# Create the TF-IDF matrix for the combined text feature\n",
    "tfidf_matrix_combined = tfidf_vectorizer.fit_transform(df_english['combined_features'])\n",
    "\n",
    "# tfidf_matrix_combined now contains the TF-IDF representation of all four features.\n"
   ]
  },
  {
   "cell_type": "code",
   "execution_count": 30,
   "metadata": {},
   "outputs": [],
   "source": [
    "\n",
    "# Compute the cosine similarity matrix\n",
    "cosine_sim = linear_kernel(tfidf_matrix_combined, tfidf_matrix_combined)\n"
   ]
  },
  {
   "cell_type": "code",
   "execution_count": 31,
   "metadata": {},
   "outputs": [],
   "source": [
    "# Create a reverse mapping of book titles and DataFrame indices\n",
    "indices = pd.Series(df_english.index, index=df_english['title']).drop_duplicates()\n",
    "\n",
    "def get_recommendations(title, k):\n",
    "    # Get the index of the book that matches the title\n",
    "    idx = indices[title]\n",
    "\n",
    "    # Get the pairwise similarity scores of all books with that book\n",
    "    sim_scores = list(enumerate(cosine_sim[idx]))\n",
    "\n",
    "    # Sort the books based on the similarity scores\n",
    "    sim_scores = sorted(sim_scores, key=lambda x: x[1], reverse=True)\n",
    "\n",
    "    # Get the scores of the top 10 most similar books\n",
    "    sim_scores = sim_scores[1:k]\n",
    "\n",
    "    # Get the book indices\n",
    "    book_indices = [i[0] for i in sim_scores]\n",
    "\n",
    "    # Return the top 10 most similar books\n",
    "    return df_english['title'].iloc[book_indices]\n"
   ]
  },
  {
   "cell_type": "code",
   "execution_count": 32,
   "metadata": {},
   "outputs": [
    {
     "name": "stdout",
     "output_type": "stream",
     "text": [
      "1019                                         Lady Lazarus\n",
      "1323                    The Voice of the Poet: T.S. Eliot\n",
      "7134                      What W. H. Auden Can Do for You\n",
      "7114                                       Selected Poems\n",
      "3469                               The Sea and the Mirror\n",
      "2005                 The Voice of the Poet: Robert Lowell\n",
      "1996                       Selected Poetry of W. H. Auden\n",
      "6446                                                House\n",
      "3309                                       Conamara Blues\n",
      "5234                   What the Dragon Said: A Love Story\n",
      "4848    A Million Little Paper Airplane Stories, (Writ...\n",
      "2934                               Complete Minimal Poems\n",
      "5746                       Selected Poetry of W. H. Auden\n",
      "2589                                      Collected Poems\n",
      "8146                                      Collected Poems\n",
      "5629                         Tell Me the Truth about Love\n",
      "594               Tell me the truth about love: ten poems\n",
      "7376    The Norton Shakespeare, Based on the Oxford Ed...\n",
      "7220                     Poems New and Selected 1957-1997\n",
      "Name: title, dtype: object\n"
     ]
    }
   ],
   "source": [
    "recommendations = get_recommendations('The More Loving One',20)\n",
    "print(recommendations)\n"
   ]
  },
  {
   "cell_type": "code",
   "execution_count": null,
   "metadata": {},
   "outputs": [],
   "source": []
  },
  {
   "cell_type": "code",
   "execution_count": 33,
   "metadata": {},
   "outputs": [],
   "source": [
    "import numpy as np"
   ]
  },
  {
   "cell_type": "code",
   "execution_count": 34,
   "metadata": {},
   "outputs": [],
   "source": [
    "from sklearn.metrics import pairwise_distances\n",
    "\n",
    "manhattan_distance = pairwise_distances(tfidf_matrix_combined, metric='manhattan')\n"
   ]
  },
  {
   "cell_type": "code",
   "execution_count": 35,
   "metadata": {},
   "outputs": [],
   "source": [
    "manhattan_similarity = 1 / (1 + manhattan_distance)\n"
   ]
  },
  {
   "cell_type": "code",
   "execution_count": 36,
   "metadata": {},
   "outputs": [
    {
     "data": {
      "text/plain": [
       "array([[1.        , 0.08672591, 0.09431457, ..., 0.14737435, 0.08037976,\n",
       "        0.06586129],\n",
       "       [0.08672591, 1.        , 0.07633685, ..., 0.11438895, 0.06821498,\n",
       "        0.05799686],\n",
       "       [0.09431457, 0.07633685, 1.        , ..., 0.12280961, 0.07092711,\n",
       "        0.06013502],\n",
       "       ...,\n",
       "       [0.14737435, 0.11438895, 0.12280961, ..., 1.        , 0.09815348,\n",
       "        0.07834065],\n",
       "       [0.08037976, 0.06821498, 0.07092711, ..., 0.09815348, 1.        ,\n",
       "        0.05460326],\n",
       "       [0.06586129, 0.05799686, 0.06013502, ..., 0.07834065, 0.05460326,\n",
       "        1.        ]])"
      ]
     },
     "execution_count": 36,
     "metadata": {},
     "output_type": "execute_result"
    }
   ],
   "source": [
    "manhattan_similarity"
   ]
  },
  {
   "cell_type": "code",
   "execution_count": 37,
   "metadata": {},
   "outputs": [
    {
     "name": "stderr",
     "output_type": "stream",
     "text": [
      "/home/FYP/nipun001/.local/lib/python3.11/site-packages/numpy/lib/function_base.py:2854: RuntimeWarning: invalid value encountered in divide\n",
      "  c /= stddev[:, None]\n",
      "/home/FYP/nipun001/.local/lib/python3.11/site-packages/numpy/lib/function_base.py:2855: RuntimeWarning: invalid value encountered in divide\n",
      "  c /= stddev[None, :]\n"
     ]
    }
   ],
   "source": [
    "\n",
    "\n",
    "# Calculate the Pearson Correlation Coefficient\n",
    "pearson_correlation = np.corrcoef(tfidf_matrix_combined.toarray())\n"
   ]
  },
  {
   "cell_type": "code",
   "execution_count": 38,
   "metadata": {},
   "outputs": [
    {
     "name": "stdout",
     "output_type": "stream",
     "text": [
      "(8393, 8393)\n"
     ]
    }
   ],
   "source": [
    "print(pearson_correlation.shape)\n"
   ]
  },
  {
   "cell_type": "code",
   "execution_count": 39,
   "metadata": {},
   "outputs": [],
   "source": [
    "indices = pd.Series(df_english.index, index=df_english['title']).to_dict()\n",
    "\n",
    "def get_recommendations(title, k):\n",
    "    # Get the index of the movie that matches the title\n",
    "    idx = indices[title]\n",
    "\n",
    "    # Get the pairwise similarity scores with that movie\n",
    "    sim_scores = list(enumerate(manhattan_similarity[idx]))\n",
    "\n",
    "    # Sort the movies based on the similarity scores\n",
    "    sim_scores = sorted(sim_scores, key=lambda x: x[1], reverse=True)\n",
    "\n",
    "    # Get the scores of the 10 most similar movies\n",
    "    sim_scores = sim_scores[1:k]\n",
    "\n",
    "    # Get the movie indices\n",
    "    movie_indices = [i[0] for i in sim_scores]\n",
    "   \n",
    "    # Return the top 10 most similar movies\n",
    "    return df_english['title'].iloc[movie_indices]"
   ]
  },
  {
   "cell_type": "code",
   "execution_count": 40,
   "metadata": {},
   "outputs": [],
   "source": [
    "rec_combined_without_year_manhattan=get_recommendations('The More Loving One',20).head(20)"
   ]
  },
  {
   "cell_type": "code",
   "execution_count": 41,
   "metadata": {},
   "outputs": [],
   "source": [
    "indices = pd.Series(df_english.index, index=df_english['title']).to_dict()\n",
    "\n",
    "def get_recommendations(title, k):\n",
    "    # Get the index of the movie that matches the title\n",
    "    idx = indices[title]\n",
    "\n",
    "    # Get the pairwise similarity scores with that movie\n",
    "    sim_scores = list(enumerate(pearson_correlation[idx]))\n",
    "\n",
    "    # Sort the movies based on the similarity scores\n",
    "    sim_scores = sorted(sim_scores, key=lambda x: x[1], reverse=True)\n",
    "\n",
    "    # Get the scores of the 10 most similar movies\n",
    "    sim_scores = sim_scores[1:k]\n",
    "\n",
    "    # Get the movie indices\n",
    "    movie_indices = [i[0] for i in sim_scores]\n",
    "   \n",
    "    # Return the top 10 most similar movies\n",
    "    return df_english['title'].iloc[movie_indices]"
   ]
  },
  {
   "cell_type": "code",
   "execution_count": 42,
   "metadata": {},
   "outputs": [],
   "source": [
    "rec_combined_without_year_pearsons=get_recommendations('The More Loving One',20).head(20)"
   ]
  },
  {
   "cell_type": "code",
   "execution_count": 43,
   "metadata": {},
   "outputs": [
    {
     "data": {
      "text/plain": [
       "1019                     Lady Lazarus\n",
       "75                          Fairyland\n",
       "2544                    Shapeshifting\n",
       "2664                       Alphaville\n",
       "3733                          Chelate\n",
       "5347                     The Seafarer\n",
       "5419                           Fledge\n",
       "6479                         LETTERRS\n",
       "7537                        Dreamland\n",
       "8142                   Womanslaughter\n",
       "2179                            Fasti\n",
       "2890           Some More of Me Poetry\n",
       "171                           You & I\n",
       "1788                         Tannoura\n",
       "5301                          Atticus\n",
       "6250                              Him\n",
       "6997                       Isla Negra\n",
       "8217                        Whitsongs\n",
       "1283    Write About an Empty Birdcage\n",
       "Name: title, dtype: object"
      ]
     },
     "execution_count": 43,
     "metadata": {},
     "output_type": "execute_result"
    }
   ],
   "source": [
    "rec_combined_without_year_manhattan"
   ]
  },
  {
   "cell_type": "code",
   "execution_count": 44,
   "metadata": {},
   "outputs": [
    {
     "data": {
      "text/plain": [
       "1019                                    Lady Lazarus\n",
       "1323               The Voice of the Poet: T.S. Eliot\n",
       "2005            The Voice of the Poet: Robert Lowell\n",
       "1996                  Selected Poetry of W. H. Auden\n",
       "2934                          Complete Minimal Poems\n",
       "2589                                 Collected Poems\n",
       "2502          Pictures from Brueghel and Other Poems\n",
       "403                            The Insomniac's House\n",
       "2125                                         Tell Me\n",
       "2414                                Rational Numbers\n",
       "1596                          Poetry of the Thirties\n",
       "2302                   Upon the Burning of Our House\n",
       "1492    All Watched Over by Machines of Loving Grace\n",
       "1446               An Introduction to English Poetry\n",
       "1569                                          peluda\n",
       "1174                                    Fool's House\n",
       "1038                 Great Poets of the Romantic Age\n",
       "2146                                Whispers of LOVE\n",
       "1800            Barking Spiders and Other Such Stuff\n",
       "Name: title, dtype: object"
      ]
     },
     "execution_count": 44,
     "metadata": {},
     "output_type": "execute_result"
    }
   ],
   "source": [
    "rec_combined_without_year_pearsons"
   ]
  },
  {
   "cell_type": "code",
   "execution_count": 45,
   "metadata": {},
   "outputs": [
    {
     "data": {
      "text/plain": [
       "1019                                         Lady Lazarus\n",
       "1323                    The Voice of the Poet: T.S. Eliot\n",
       "7134                      What W. H. Auden Can Do for You\n",
       "7114                                       Selected Poems\n",
       "3469                               The Sea and the Mirror\n",
       "2005                 The Voice of the Poet: Robert Lowell\n",
       "1996                       Selected Poetry of W. H. Auden\n",
       "6446                                                House\n",
       "3309                                       Conamara Blues\n",
       "5234                   What the Dragon Said: A Love Story\n",
       "4848    A Million Little Paper Airplane Stories, (Writ...\n",
       "2934                               Complete Minimal Poems\n",
       "5746                       Selected Poetry of W. H. Auden\n",
       "2589                                      Collected Poems\n",
       "8146                                      Collected Poems\n",
       "5629                         Tell Me the Truth about Love\n",
       "594               Tell me the truth about love: ten poems\n",
       "7376    The Norton Shakespeare, Based on the Oxford Ed...\n",
       "7220                     Poems New and Selected 1957-1997\n",
       "Name: title, dtype: object"
      ]
     },
     "execution_count": 45,
     "metadata": {},
     "output_type": "execute_result"
    }
   ],
   "source": [
    "recommendations"
   ]
  },
  {
   "cell_type": "code",
   "execution_count": null,
   "metadata": {},
   "outputs": [],
   "source": []
  },
  {
   "cell_type": "code",
   "execution_count": 46,
   "metadata": {},
   "outputs": [],
   "source": [
    "df_english['word2vec_features'] = df_english['title'] + ' ' + df_english['description'] + ' ' + df_english['filtered_shelves_text']\n"
   ]
  },
  {
   "cell_type": "code",
   "execution_count": 47,
   "metadata": {},
   "outputs": [
    {
     "name": "stderr",
     "output_type": "stream",
     "text": [
      "[nltk_data] Downloading package punkt to\n",
      "[nltk_data]     /home/FYP/nipun001/nltk_data...\n",
      "[nltk_data]   Package punkt is already up-to-date!\n"
     ]
    }
   ],
   "source": [
    "import nltk\n",
    "nltk.download('punkt')\n",
    "from nltk.tokenize import word_tokenize\n",
    "\n",
    "# Convert titles to lowercase and tokenize\n",
    "df_english['title_tokens'] = df_english['title'].str.lower().apply(word_tokenize)\n"
   ]
  },
  {
   "cell_type": "code",
   "execution_count": 48,
   "metadata": {},
   "outputs": [],
   "source": [
    "# Combine title tokens, description, and filtered shelves\n",
    "df_english['combined_tokens'] = df_english.apply(lambda row: row['title_tokens'] + row['description'].split() + row['filtered_shelves_text'].split(), axis=1)\n"
   ]
  },
  {
   "cell_type": "code",
   "execution_count": 49,
   "metadata": {},
   "outputs": [],
   "source": [
    "df_english['word2vec_features'] = df_english['title'] + ' ' + df_english['description'] + ' ' + df_english['filtered_shelves_text']\n"
   ]
  },
  {
   "cell_type": "code",
   "execution_count": 50,
   "metadata": {},
   "outputs": [],
   "source": [
    "from gensim.models import Word2Vec\n",
    "\n",
    "# Train the model\n",
    "model = Word2Vec(vector_size=100,      # Dimensionality of the word vectors\n",
    "                 window=5,             # Maximum distance between current and predicted word within a sentence\n",
    "                 min_count=1,          # Ignores words with total frequency lower than this\n",
    "                 workers=4,            # Use these many worker threads to train the model (parallelization)\n",
    "                 sg=0)        "
   ]
  },
  {
   "cell_type": "code",
   "execution_count": 51,
   "metadata": {},
   "outputs": [],
   "source": [
    "corpus = df_english['combined_tokens'].tolist()\n"
   ]
  },
  {
   "cell_type": "code",
   "execution_count": 52,
   "metadata": {},
   "outputs": [
    {
     "data": {
      "text/plain": [
       "(7599780, 9366780)"
      ]
     },
     "execution_count": 52,
     "metadata": {},
     "output_type": "execute_result"
    }
   ],
   "source": [
    "# Build the vocabulary\n",
    "model.build_vocab(corpus)\n",
    "\n",
    "# Train the model\n",
    "model.train(corpus, total_examples=model.corpus_count, epochs=10)"
   ]
  },
  {
   "cell_type": "code",
   "execution_count": 53,
   "metadata": {},
   "outputs": [],
   "source": [
    "model.save(\"word2vec_model.model\")\n"
   ]
  },
  {
   "cell_type": "code",
   "execution_count": 54,
   "metadata": {},
   "outputs": [],
   "source": [
    "import numpy as np\n",
    "\n",
    "def get_document_embedding(book_tokens, model):\n",
    "    embeddings = [model.wv[word] for word in book_tokens if word in model.wv]\n",
    "    if embeddings:\n",
    "        return np.mean(embeddings, axis=0)\n",
    "    else:\n",
    "        return np.zeros(model.vector_size)\n",
    "\n",
    "df_english['doc_embedding'] = df_english['combined_tokens'].apply(lambda x: get_document_embedding(x, model))"
   ]
  },
  {
   "cell_type": "code",
   "execution_count": 55,
   "metadata": {},
   "outputs": [],
   "source": [
    "def get_document_embedding(book_tokens, model):\n",
    "    embeddings = [model.wv[word] for word in book_tokens if word in model.wv]\n",
    "    if embeddings:\n",
    "        return np.mean(embeddings, axis=0)\n",
    "    else:\n",
    "        return np.zeros(model.vector_size)\n",
    "\n",
    "df_english['doc_embedding'] = df_english['combined_tokens'].apply(lambda x: get_document_embedding(x, model))\n"
   ]
  },
  {
   "cell_type": "code",
   "execution_count": 56,
   "metadata": {},
   "outputs": [],
   "source": [
    "def recommend_books_by_title(target_title, df, model, top_n=5):\n",
    "    # Retrieve the embedding of the target book using its title\n",
    "    target_embedding = df[df['title'] == target_title]['doc_embedding'].iloc[0]\n",
    "    \n",
    "    # Compute cosine similarities between the target and all other books\n",
    "    similarities = linear_kernel([target_embedding], df['doc_embedding'].tolist())[0]\n",
    "    \n",
    "    # Get indices of books sorted by similarity\n",
    "    sorted_indices = np.argsort(similarities)\n",
    "    \n",
    "    # Get the indices of the top_n most similar books\n",
    "    # Exclude the target book itself by using [-top_n-1:-1]\n",
    "    most_similar_indices = sorted_indices[-top_n-1:-1][::-1]\n",
    "    \n",
    "    # Retrieve the titles of the most similar books\n",
    "    similar_books = df['title'].iloc[most_similar_indices].tolist()\n",
    "    \n",
    "    return similar_books\n",
    "\n",
    "# Example usage:\n",
    "\n"
   ]
  },
  {
   "cell_type": "code",
   "execution_count": 57,
   "metadata": {},
   "outputs": [
    {
     "data": {
      "text/plain": [
       "['After One',\n",
       " 'Selected Works',\n",
       " 'The End of the World',\n",
       " 'The Complete Poems',\n",
       " 'Here In The',\n",
       " 'An Anthology of Verse',\n",
       " '100 American Poems of the Twentieth Century',\n",
       " 'The Best Poems of the English Language',\n",
       " 'Collection of Poems',\n",
       " 'The Selected Poems']"
      ]
     },
     "execution_count": 57,
     "metadata": {},
     "output_type": "execute_result"
    }
   ],
   "source": [
    "target_title = \"The More Loving One\"\n",
    "recommended = recommend_books_by_title(target_title, df_english, model,10)\n",
    "recommended"
   ]
  },
  {
   "cell_type": "code",
   "execution_count": null,
   "metadata": {},
   "outputs": [],
   "source": []
  },
  {
   "cell_type": "code",
   "execution_count": null,
   "metadata": {},
   "outputs": [],
   "source": []
  },
  {
   "cell_type": "markdown",
   "metadata": {},
   "source": [
    "# Evaluation"
   ]
  },
  {
   "cell_type": "code",
   "execution_count": 58,
   "metadata": {},
   "outputs": [],
   "source": [
    "import json\n",
    "\n",
    "data = []\n",
    "\n",
    "with open('goodreads_interactions_poetry.json', 'r', encoding='utf-8') as file:\n",
    "    for line in file:\n",
    "        try:\n",
    "            record = json.loads(line)\n",
    "            data.append(record)\n",
    "        except json.JSONDecodeError:\n",
    "            pass  # Handle invalid lines if needed\n",
    "\n",
    "# Now 'data' contains a list of dictionaries, each representing a JSON object\n"
   ]
  },
  {
   "cell_type": "code",
   "execution_count": 59,
   "metadata": {},
   "outputs": [],
   "source": [
    "df_users = pd.DataFrame(data)"
   ]
  },
  {
   "cell_type": "code",
   "execution_count": 60,
   "metadata": {},
   "outputs": [],
   "source": [
    "\n",
    "\n",
    "with open('goodreads_books_poetry.json', 'r', encoding='utf-8') as file:\n",
    "    for line in file:\n",
    "        try:\n",
    "            record = json.loads(line)\n",
    "            data.append(record)\n",
    "        except json.JSONDecodeError:\n",
    "            pass  # Handle invalid lines if needed\n"
   ]
  },
  {
   "cell_type": "code",
   "execution_count": 61,
   "metadata": {},
   "outputs": [],
   "source": [
    "df_books = pd.DataFrame(data)"
   ]
  },
  {
   "cell_type": "code",
   "execution_count": 202,
   "metadata": {},
   "outputs": [],
   "source": [
    "#filtering all eng language books\n",
    "df_books = df_books[df_books['language_code'] == 'eng']\n",
    "\n",
    "# Extract the unique book_id values from df_books\n",
    "valid_book_ids = df_books['book_id'].unique()\n",
    "\n",
    "# Filter the rows in df_users\n",
    "df_users = df_users[df_users['book_id'].isin(valid_book_ids)]"
   ]
  },
  {
   "cell_type": "code",
   "execution_count": 203,
   "metadata": {},
   "outputs": [
    {
     "data": {
      "text/html": [
       "<div>\n",
       "<style scoped>\n",
       "    .dataframe tbody tr th:only-of-type {\n",
       "        vertical-align: middle;\n",
       "    }\n",
       "\n",
       "    .dataframe tbody tr th {\n",
       "        vertical-align: top;\n",
       "    }\n",
       "\n",
       "    .dataframe thead th {\n",
       "        text-align: right;\n",
       "    }\n",
       "</style>\n",
       "<table border=\"1\" class=\"dataframe\">\n",
       "  <thead>\n",
       "    <tr style=\"text-align: right;\">\n",
       "      <th></th>\n",
       "      <th>user_id</th>\n",
       "      <th>book_id</th>\n",
       "      <th>rating</th>\n",
       "    </tr>\n",
       "  </thead>\n",
       "  <tbody>\n",
       "    <tr>\n",
       "      <th>2</th>\n",
       "      <td>8842281e1d1347389f2ab93d60773d4d</td>\n",
       "      <td>30119</td>\n",
       "      <td>5</td>\n",
       "    </tr>\n",
       "    <tr>\n",
       "      <th>12</th>\n",
       "      <td>06316bec7a49286f1f98d5acce24f923</td>\n",
       "      <td>30119</td>\n",
       "      <td>5</td>\n",
       "    </tr>\n",
       "    <tr>\n",
       "      <th>13</th>\n",
       "      <td>06316bec7a49286f1f98d5acce24f923</td>\n",
       "      <td>23919</td>\n",
       "      <td>5</td>\n",
       "    </tr>\n",
       "    <tr>\n",
       "      <th>14</th>\n",
       "      <td>06316bec7a49286f1f98d5acce24f923</td>\n",
       "      <td>1420</td>\n",
       "      <td>5</td>\n",
       "    </tr>\n",
       "    <tr>\n",
       "      <th>20</th>\n",
       "      <td>220ef9c058a2132e6a9827f93a821d87</td>\n",
       "      <td>52820</td>\n",
       "      <td>5</td>\n",
       "    </tr>\n",
       "    <tr>\n",
       "      <th>...</th>\n",
       "      <td>...</td>\n",
       "      <td>...</td>\n",
       "      <td>...</td>\n",
       "    </tr>\n",
       "    <tr>\n",
       "      <th>2734291</th>\n",
       "      <td>ec8f7af656d6e448eea5f47ae504e706</td>\n",
       "      <td>15997</td>\n",
       "      <td>5</td>\n",
       "    </tr>\n",
       "    <tr>\n",
       "      <th>2734298</th>\n",
       "      <td>b939ec4533958d7da7942253c81e421f</td>\n",
       "      <td>13123245</td>\n",
       "      <td>5</td>\n",
       "    </tr>\n",
       "    <tr>\n",
       "      <th>2734300</th>\n",
       "      <td>9176ecf11d54ab4be384a12353a73e24</td>\n",
       "      <td>1420</td>\n",
       "      <td>5</td>\n",
       "    </tr>\n",
       "    <tr>\n",
       "      <th>2734321</th>\n",
       "      <td>bfc558b791304f0ce74ad1c3a6ab08f7</td>\n",
       "      <td>1381</td>\n",
       "      <td>5</td>\n",
       "    </tr>\n",
       "    <tr>\n",
       "      <th>2734340</th>\n",
       "      <td>148e49f7ed14137ff13a9a31c770487d</td>\n",
       "      <td>2547</td>\n",
       "      <td>5</td>\n",
       "    </tr>\n",
       "  </tbody>\n",
       "</table>\n",
       "<p>265438 rows × 3 columns</p>\n",
       "</div>"
      ],
      "text/plain": [
       "                                  user_id   book_id  rating\n",
       "2        8842281e1d1347389f2ab93d60773d4d     30119       5\n",
       "12       06316bec7a49286f1f98d5acce24f923     30119       5\n",
       "13       06316bec7a49286f1f98d5acce24f923     23919       5\n",
       "14       06316bec7a49286f1f98d5acce24f923      1420       5\n",
       "20       220ef9c058a2132e6a9827f93a821d87     52820       5\n",
       "...                                   ...       ...     ...\n",
       "2734291  ec8f7af656d6e448eea5f47ae504e706     15997       5\n",
       "2734298  b939ec4533958d7da7942253c81e421f  13123245       5\n",
       "2734300  9176ecf11d54ab4be384a12353a73e24      1420       5\n",
       "2734321  bfc558b791304f0ce74ad1c3a6ab08f7      1381       5\n",
       "2734340  148e49f7ed14137ff13a9a31c770487d      2547       5\n",
       "\n",
       "[265438 rows x 3 columns]"
      ]
     },
     "execution_count": 203,
     "metadata": {},
     "output_type": "execute_result"
    }
   ],
   "source": [
    "df_users=df_users[['user_id', 'book_id', 'rating']]\n",
    "\n",
    "book_data = df_users[df_users['rating'] == 5]\n",
    "book_data"
   ]
  },
  {
   "cell_type": "code",
   "execution_count": null,
   "metadata": {},
   "outputs": [],
   "source": []
  },
  {
   "cell_type": "code",
   "execution_count": 91,
   "metadata": {},
   "outputs": [],
   "source": [
    "movie_id_to_row_index = {movie_id: index for index, movie_id in enumerate(df_english['movie_id'].unique())}\n"
   ]
  },
  {
   "cell_type": "code",
   "execution_count": 81,
   "metadata": {},
   "outputs": [
    {
     "data": {
      "text/html": [
       "<div>\n",
       "<style scoped>\n",
       "    .dataframe tbody tr th:only-of-type {\n",
       "        vertical-align: middle;\n",
       "    }\n",
       "\n",
       "    .dataframe tbody tr th {\n",
       "        vertical-align: top;\n",
       "    }\n",
       "\n",
       "    .dataframe thead th {\n",
       "        text-align: right;\n",
       "    }\n",
       "</style>\n",
       "<table border=\"1\" class=\"dataframe\">\n",
       "  <thead>\n",
       "    <tr style=\"text-align: right;\">\n",
       "      <th></th>\n",
       "      <th>user_id</th>\n",
       "      <th>book_id</th>\n",
       "      <th>rating</th>\n",
       "    </tr>\n",
       "  </thead>\n",
       "  <tbody>\n",
       "    <tr>\n",
       "      <th>2</th>\n",
       "      <td>8842281e1d1347389f2ab93d60773d4d</td>\n",
       "      <td>30119</td>\n",
       "      <td>5</td>\n",
       "    </tr>\n",
       "    <tr>\n",
       "      <th>12</th>\n",
       "      <td>06316bec7a49286f1f98d5acce24f923</td>\n",
       "      <td>30119</td>\n",
       "      <td>5</td>\n",
       "    </tr>\n",
       "    <tr>\n",
       "      <th>13</th>\n",
       "      <td>06316bec7a49286f1f98d5acce24f923</td>\n",
       "      <td>23919</td>\n",
       "      <td>5</td>\n",
       "    </tr>\n",
       "    <tr>\n",
       "      <th>14</th>\n",
       "      <td>06316bec7a49286f1f98d5acce24f923</td>\n",
       "      <td>1420</td>\n",
       "      <td>5</td>\n",
       "    </tr>\n",
       "    <tr>\n",
       "      <th>20</th>\n",
       "      <td>220ef9c058a2132e6a9827f93a821d87</td>\n",
       "      <td>52820</td>\n",
       "      <td>5</td>\n",
       "    </tr>\n",
       "    <tr>\n",
       "      <th>...</th>\n",
       "      <td>...</td>\n",
       "      <td>...</td>\n",
       "      <td>...</td>\n",
       "    </tr>\n",
       "    <tr>\n",
       "      <th>2734291</th>\n",
       "      <td>ec8f7af656d6e448eea5f47ae504e706</td>\n",
       "      <td>15997</td>\n",
       "      <td>5</td>\n",
       "    </tr>\n",
       "    <tr>\n",
       "      <th>2734298</th>\n",
       "      <td>b939ec4533958d7da7942253c81e421f</td>\n",
       "      <td>13123245</td>\n",
       "      <td>5</td>\n",
       "    </tr>\n",
       "    <tr>\n",
       "      <th>2734300</th>\n",
       "      <td>9176ecf11d54ab4be384a12353a73e24</td>\n",
       "      <td>1420</td>\n",
       "      <td>5</td>\n",
       "    </tr>\n",
       "    <tr>\n",
       "      <th>2734321</th>\n",
       "      <td>bfc558b791304f0ce74ad1c3a6ab08f7</td>\n",
       "      <td>1381</td>\n",
       "      <td>5</td>\n",
       "    </tr>\n",
       "    <tr>\n",
       "      <th>2734340</th>\n",
       "      <td>148e49f7ed14137ff13a9a31c770487d</td>\n",
       "      <td>2547</td>\n",
       "      <td>5</td>\n",
       "    </tr>\n",
       "  </tbody>\n",
       "</table>\n",
       "<p>265438 rows × 3 columns</p>\n",
       "</div>"
      ],
      "text/plain": [
       "                                  user_id   book_id  rating\n",
       "2        8842281e1d1347389f2ab93d60773d4d     30119       5\n",
       "12       06316bec7a49286f1f98d5acce24f923     30119       5\n",
       "13       06316bec7a49286f1f98d5acce24f923     23919       5\n",
       "14       06316bec7a49286f1f98d5acce24f923      1420       5\n",
       "20       220ef9c058a2132e6a9827f93a821d87     52820       5\n",
       "...                                   ...       ...     ...\n",
       "2734291  ec8f7af656d6e448eea5f47ae504e706     15997       5\n",
       "2734298  b939ec4533958d7da7942253c81e421f  13123245       5\n",
       "2734300  9176ecf11d54ab4be384a12353a73e24      1420       5\n",
       "2734321  bfc558b791304f0ce74ad1c3a6ab08f7      1381       5\n",
       "2734340  148e49f7ed14137ff13a9a31c770487d      2547       5\n",
       "\n",
       "[265438 rows x 3 columns]"
      ]
     },
     "execution_count": 81,
     "metadata": {},
     "output_type": "execute_result"
    }
   ],
   "source": [
    "book_data"
   ]
  },
  {
   "cell_type": "code",
   "execution_count": 83,
   "metadata": {},
   "outputs": [
    {
     "data": {
      "text/html": [
       "<div>\n",
       "<style scoped>\n",
       "    .dataframe tbody tr th:only-of-type {\n",
       "        vertical-align: middle;\n",
       "    }\n",
       "\n",
       "    .dataframe tbody tr th {\n",
       "        vertical-align: top;\n",
       "    }\n",
       "\n",
       "    .dataframe thead th {\n",
       "        text-align: right;\n",
       "    }\n",
       "</style>\n",
       "<table border=\"1\" class=\"dataframe\">\n",
       "  <thead>\n",
       "    <tr style=\"text-align: right;\">\n",
       "      <th></th>\n",
       "      <th>user_id</th>\n",
       "      <th>book_id</th>\n",
       "      <th>rating</th>\n",
       "    </tr>\n",
       "  </thead>\n",
       "  <tbody>\n",
       "    <tr>\n",
       "      <th>2</th>\n",
       "      <td>8842281e1d1347389f2ab93d60773d4d</td>\n",
       "      <td>30119</td>\n",
       "      <td>5</td>\n",
       "    </tr>\n",
       "  </tbody>\n",
       "</table>\n",
       "</div>"
      ],
      "text/plain": [
       "                            user_id book_id  rating\n",
       "2  8842281e1d1347389f2ab93d60773d4d   30119       5"
      ]
     },
     "execution_count": 83,
     "metadata": {},
     "output_type": "execute_result"
    }
   ],
   "source": [
    "book_data[book_data['user_id'] == '8842281e1d1347389f2ab93d60773d4d']"
   ]
  },
  {
   "cell_type": "code",
   "execution_count": 113,
   "metadata": {},
   "outputs": [],
   "source": [
    "def get_user_book_recommendations(user_id, tfidf_matrix, book_data, k=10):\n",
    "    # Create a mapping from book_id to row index in the matrix\n",
    "    book_id_to_row_index = {book_id: index for index, book_id in enumerate(book_data['book_id'].unique())}\n",
    "    \n",
    "    # Fetch books liked or rated highly by the user\n",
    "    liked_books = book_data[book_data['user_id'] == user_id]\n",
    "    \n",
    "\n",
    "    # For simplicity, let's consider books rated 5 as liked books\n",
    "    liked_book_ids = liked_books[liked_books['rating'] == 5]['book_id'].tolist()\n",
    "    \n",
    "    # Convert liked_book_ids to liked_book_indices using the mapping\n",
    "    liked_book_indices = [book_id_to_row_index[book_id] for book_id in liked_book_ids if book_id in book_id_to_row_index]\n",
    "    # print(liked_book_indices)\n",
    "    # If no liked books found, return an empty list\n",
    "    if not liked_book_indices:\n",
    "        return []\n",
    "\n",
    "    # Create a user profile by averaging the TF-IDF vectors of books they liked\n",
    "    user_profile = np.mean(np.vstack([tfidf_matrix[i].toarray() for i in liked_book_indices]), axis=0)\n",
    "    \n",
    "    # Compute cosine similarity between the user profile and all book vectors\n",
    "    sim_scores = linear_kernel([user_profile], tfidf_matrix).flatten()\n",
    "    \n",
    "    # Get the indices of the top k books\n",
    "    book_indices = sim_scores.argsort()[-k:][::-1]\n",
    "    \n",
    "    \n",
    "    return book_indices\n"
   ]
  },
  {
   "cell_type": "code",
   "execution_count": 125,
   "metadata": {},
   "outputs": [],
   "source": [
    "def precision_at_k_for_books(user_id, tfidf_matrix, book_data, k=10):\n",
    "    # Get the top k recommendations for the user\n",
    "    recommended_book_indices = get_user_book_recommendations(user_id, tfidf_matrix, book_data, k)\n",
    "    \n",
    "    # Fetch books liked or rated highly by the user\n",
    "    liked_books = book_data[book_data['user_id'] == user_id]\n",
    "    \n",
    "    liked_book_indices = liked_books[liked_books['rating'] == 5]['book_id'].tolist()\n",
    "    \n",
    "    # Calculate how many of the top k recommended books were actually liked by the user\n",
    "    relevant_recommendations = len(set(recommended_book_indices) & set(liked_book_indices))\n",
    "    \n",
    "\n",
    "    return relevant_recommendations / k\n"
   ]
  },
  {
   "cell_type": "code",
   "execution_count": 126,
   "metadata": {},
   "outputs": [],
   "source": [
    "all_users = book_data['user_id'].unique()\n",
    "average_P_at_k_for_books = np.mean([precision_at_k_for_books(user_id, tfidf_matrix_combined, book_data) for user_id in all_users])\n"
   ]
  },
  {
   "cell_type": "code",
   "execution_count": 128,
   "metadata": {},
   "outputs": [
    {
     "name": "stdout",
     "output_type": "stream",
     "text": [
      "Average Precision at k=10: 0.002458622449184\n"
     ]
    }
   ],
   "source": [
    "print(f\"Average Precision at k=10: {average_P_at_k_for_books}\")"
   ]
  },
  {
   "cell_type": "code",
   "execution_count": 127,
   "metadata": {},
   "outputs": [],
   "source": []
  },
  {
   "cell_type": "code",
   "execution_count": null,
   "metadata": {},
   "outputs": [],
   "source": []
  },
  {
   "cell_type": "code",
   "execution_count": null,
   "metadata": {},
   "outputs": [],
   "source": []
  },
  {
   "cell_type": "code",
   "execution_count": null,
   "metadata": {},
   "outputs": [],
   "source": []
  },
  {
   "cell_type": "code",
   "execution_count": null,
   "metadata": {},
   "outputs": [],
   "source": []
  },
  {
   "cell_type": "code",
   "execution_count": 218,
   "metadata": {},
   "outputs": [],
   "source": [
    "from sklearn.metrics.pairwise import cosine_similarity\n",
    "\n",
    "def get_user_book_recommendations_word2vec(user_id, model, book_data, k=10):\n",
    "    # Create a mapping from book_id to row index in the matrix\n",
    "    book_id_to_row_index = {book_id: index for index, book_id in enumerate(book_data['book_id'].unique())}\n",
    "    \n",
    "    # Fetch books liked or rated highly by the user\n",
    "    liked_books = book_data[book_data['user_id'] == user_id]\n",
    "    \n",
    "    # For simplicity, let's consider books rated 5 as liked books\n",
    "    liked_book_ids = liked_books[liked_books['rating'] == 5]['book_id'].tolist()\n",
    "    \n",
    "    # Create a user profile by averaging the Word2Vec vectors of books they liked\n",
    "    liked_book_vectors = [model.wv[book_id] for book_id in liked_book_ids if book_id in model.wv]\n",
    "    if not liked_book_vectors:\n",
    "        return []\n",
    "    \n",
    "    user_profile = np.mean(liked_book_vectors, axis=0)\n",
    "\n",
    "    # Compute cosine similarity between the user profile and all book vectors\n",
    "    all_book_ids = book_data['book_id'].unique()\n",
    "    all_book_vectors = [model.wv[book_id] for book_id in all_book_ids if book_id in model.wv]\n",
    "    sim_scores = cosine_similarity([user_profile], all_book_vectors).flatten()\n",
    "    \n",
    "    # Get the indices of the top k books\n",
    "    book_indices = sim_scores.argsort()[-k:][::-1]\n",
    "    \n",
    "    # Return the book IDs of the top k recommendations\n",
    "    recommended_book_ids = [all_book_ids[i] for i in book_indices]\n",
    "    \n",
    "    return recommended_book_ids\n"
   ]
  },
  {
   "cell_type": "code",
   "execution_count": 221,
   "metadata": {},
   "outputs": [],
   "source": [
    "def precision_at_k_for_books_word2vec(user_id, model, book_data, k=10):\n",
    "    # Get the top k recommendations for the user\n",
    "    recommended_book_indices = get_user_book_recommendations_word2vec(user_id, model, book_data, k)\n",
    "    \n",
    "    # Fetch books liked or rated highly by the user\n",
    "    liked_books = book_data[book_data['user_id'] == user_id]\n",
    "    liked_book_ids = liked_books[liked_books['rating'] == 5]['book_id'].tolist()\n",
    "\n",
    "    # Calculate how many of the top k recommended books were actually liked by the user\n",
    "    relevant_recommendations = len(set(recommended_book_indices) & set(liked_book_ids))\n",
    "\n",
    "    return relevant_recommendations / k\n"
   ]
  },
  {
   "cell_type": "code",
   "execution_count": 223,
   "metadata": {},
   "outputs": [],
   "source": [
    "all_users = book_data['user_id'].unique()\n",
    "average_P_at_k_for_books_word2vec = np.mean([precision_at_k_for_books_word2vec(user_id, model, book_data) for user_id in all_users])\n"
   ]
  },
  {
   "cell_type": "code",
   "execution_count": 226,
   "metadata": {},
   "outputs": [
    {
     "name": "stdout",
     "output_type": "stream",
     "text": [
      "Average Precision at k=10: 0.009759678393435\n"
     ]
    }
   ],
   "source": [
    "print(f\"Average Precision at k=10: {average_P_at_k_for_books_word2vec}\")"
   ]
  },
  {
   "cell_type": "code",
   "execution_count": null,
   "metadata": {},
   "outputs": [],
   "source": []
  },
  {
   "cell_type": "code",
   "execution_count": null,
   "metadata": {},
   "outputs": [],
   "source": []
  },
  {
   "cell_type": "code",
   "execution_count": null,
   "metadata": {},
   "outputs": [],
   "source": []
  },
  {
   "cell_type": "code",
   "execution_count": null,
   "metadata": {},
   "outputs": [],
   "source": []
  },
  {
   "cell_type": "code",
   "execution_count": null,
   "metadata": {},
   "outputs": [],
   "source": []
  },
  {
   "cell_type": "code",
   "execution_count": null,
   "metadata": {},
   "outputs": [],
   "source": []
  },
  {
   "cell_type": "code",
   "execution_count": null,
   "metadata": {},
   "outputs": [],
   "source": []
  },
  {
   "cell_type": "code",
   "execution_count": null,
   "metadata": {},
   "outputs": [],
   "source": []
  },
  {
   "cell_type": "code",
   "execution_count": null,
   "metadata": {},
   "outputs": [],
   "source": []
  },
  {
   "cell_type": "code",
   "execution_count": null,
   "metadata": {},
   "outputs": [],
   "source": []
  },
  {
   "cell_type": "markdown",
   "metadata": {},
   "source": [
    "# Some extra experiments done for content based, but not significant enough for our repor"
   ]
  },
  {
   "cell_type": "code",
   "execution_count": 73,
   "metadata": {},
   "outputs": [],
   "source": [
    "from sklearn.feature_extraction.text import TfidfVectorizer\n",
    "from sklearn.preprocessing import normalize\n",
    "# Individual TF-IDF for Description\n",
    "tfidf_description = TfidfVectorizer(analyzer='word', ngram_range=(1, 2), min_df=0, stop_words='english')\n",
    "tfidf_matrix_description = tfidf_description.fit_transform(df_english['description'])\n",
    "tfidf_matrix_description = normalize(tfidf_matrix_description, axis=1)  # Normalize TF-IDF matrix\n"
   ]
  },
  {
   "cell_type": "code",
   "execution_count": null,
   "metadata": {},
   "outputs": [],
   "source": []
  },
  {
   "cell_type": "code",
   "execution_count": 74,
   "metadata": {},
   "outputs": [
    {
     "data": {
      "text/plain": [
       "<8393x343522 sparse matrix of type '<class 'numpy.float64'>'\n",
       "\twith 827828 stored elements in Compressed Sparse Row format>"
      ]
     },
     "execution_count": 74,
     "metadata": {},
     "output_type": "execute_result"
    }
   ],
   "source": [
    "tfidf_matrix_description"
   ]
  },
  {
   "cell_type": "code",
   "execution_count": 75,
   "metadata": {},
   "outputs": [],
   "source": [
    "# Individual TF-IDF for Niche Shelves\n",
    "\n",
    "tfidf_niche_shelves = TfidfVectorizer(analyzer='word', min_df=0, stop_words='english')\n",
    "tfidf_matrix_niche_shelves = tfidf_niche_shelves.fit_transform(df_english['filtered_shelves_text'])\n",
    "tfidf_matrix_niche_shelves = normalize(tfidf_matrix_niche_shelves, axis=1)\n"
   ]
  },
  {
   "cell_type": "code",
   "execution_count": 76,
   "metadata": {},
   "outputs": [
    {
     "data": {
      "text/plain": [
       "<8393x386 sparse matrix of type '<class 'numpy.float64'>'\n",
       "\twith 42812 stored elements in Compressed Sparse Row format>"
      ]
     },
     "execution_count": 76,
     "metadata": {},
     "output_type": "execute_result"
    }
   ],
   "source": [
    "tfidf_matrix_niche_shelves"
   ]
  },
  {
   "cell_type": "code",
   "execution_count": 77,
   "metadata": {},
   "outputs": [
    {
     "data": {
      "text/plain": [
       "0        1887\n",
       "4        2015\n",
       "6        2009\n",
       "10       2015\n",
       "17       2000\n",
       "         ... \n",
       "36491    2011\n",
       "36492    2011\n",
       "36494    2009\n",
       "36504    2016\n",
       "36509        \n",
       "Name: publication_year, Length: 8393, dtype: object"
      ]
     },
     "execution_count": 77,
     "metadata": {},
     "output_type": "execute_result"
    }
   ],
   "source": [
    "df_english['publication_year']"
   ]
  },
  {
   "cell_type": "code",
   "execution_count": 78,
   "metadata": {},
   "outputs": [
    {
     "name": "stderr",
     "output_type": "stream",
     "text": [
      "/apps/anaconda3/lib/python3.7/site-packages/ipykernel_launcher.py:1: SettingWithCopyWarning: \n",
      "A value is trying to be set on a copy of a slice from a DataFrame.\n",
      "Try using .loc[row_indexer,col_indexer] = value instead\n",
      "\n",
      "See the caveats in the documentation: https://pandas.pydata.org/pandas-docs/stable/user_guide/indexing.html#returning-a-view-versus-a-copy\n",
      "  \"\"\"Entry point for launching an IPython kernel.\n"
     ]
    }
   ],
   "source": [
    "\n",
    "\n",
    "df_english['Pub_Year_Title'] = df_english['publication_year'].astype(str) + ' ' + df_english['title']\n",
    "\n",
    "# Common TF-IDF for Publication Year and Title\n",
    "tfidf_pub_year_title = TfidfVectorizer(analyzer='word', min_df=0, stop_words='english')\n",
    "tfidf_matrix_common = tfidf_pub_year_title.fit_transform(df_english['Pub_Year_Title'])\n",
    "tfidf_matrix_common= normalize(tfidf_matrix_common, axis=1)\n",
    "\n",
    "\n",
    "\n"
   ]
  },
  {
   "cell_type": "code",
   "execution_count": 79,
   "metadata": {},
   "outputs": [
    {
     "data": {
      "text/plain": [
       "<8393x7134 sparse matrix of type '<class 'numpy.float64'>'\n",
       "\twith 31395 stored elements in Compressed Sparse Row format>"
      ]
     },
     "execution_count": 79,
     "metadata": {},
     "output_type": "execute_result"
    }
   ],
   "source": [
    "tfidf_matrix_common"
   ]
  },
  {
   "cell_type": "code",
   "execution_count": 40,
   "metadata": {},
   "outputs": [],
   "source": [
    "import numpy as np\n",
    "\n",
    "\n",
    "\n",
    "# Save each TF-IDF matrix to a separate file\n",
    "np.save('tfidf_matrix_description.npy', tfidf_matrix_description)\n",
    "np.save('tfidf_matrix_niche_shelves.npy', tfidf_matrix_niche_shelves)\n",
    "np.save('tfidf_matrix_common.npy', tfidf_matrix_common)\n"
   ]
  },
  {
   "cell_type": "code",
   "execution_count": 11,
   "metadata": {},
   "outputs": [
    {
     "name": "stdout",
     "output_type": "stream",
     "text": [
      "()\n",
      "()\n",
      "()\n"
     ]
    }
   ],
   "source": [
    "print(tfidf_matrix_description.shape)\n",
    "print(tfidf_matrix_niche_shelves.shape)\n",
    "print(tfidf_matrix_common.shape)\n"
   ]
  },
  {
   "cell_type": "code",
   "execution_count": 14,
   "metadata": {},
   "outputs": [
    {
     "ename": "ValueError",
     "evalue": "Object arrays cannot be loaded when allow_pickle=False",
     "output_type": "error",
     "traceback": [
      "\u001b[0;31m---------------------------------------------------------------------------\u001b[0m",
      "\u001b[0;31mValueError\u001b[0m                                Traceback (most recent call last)",
      "Cell \u001b[0;32mIn[14], line 5\u001b[0m\n\u001b[1;32m      2\u001b[0m \u001b[39m# Load the TF-IDF matrices from the saved files\u001b[39;00m\n\u001b[1;32m      3\u001b[0m tfidf_matrix_description \u001b[39m=\u001b[39m np\u001b[39m.\u001b[39mload(\u001b[39m'\u001b[39m\u001b[39m/Users/nipunbhatia/Desktop/y4s1/dam/tfidf_matrix_common.npy\u001b[39m\u001b[39m'\u001b[39m,allow_pickle\u001b[39m=\u001b[39m\u001b[39mTrue\u001b[39;00m)\n\u001b[0;32m----> 5\u001b[0m tfidf_matrix_niche_shelves \u001b[39m=\u001b[39m np\u001b[39m.\u001b[39;49mload(\u001b[39m'\u001b[39;49m\u001b[39mtfidf_matrix_niche_shelves.npy\u001b[39;49m\u001b[39m'\u001b[39;49m,)\n\u001b[1;32m      6\u001b[0m tfidf_matrix_common \u001b[39m=\u001b[39m np\u001b[39m.\u001b[39mload(\u001b[39m'\u001b[39m\u001b[39mtfidf_matrix_common.npy\u001b[39m\u001b[39m'\u001b[39m)\n",
      "File \u001b[0;32m~/anaconda3/lib/python3.10/site-packages/numpy/lib/npyio.py:432\u001b[0m, in \u001b[0;36mload\u001b[0;34m(file, mmap_mode, allow_pickle, fix_imports, encoding, max_header_size)\u001b[0m\n\u001b[1;32m    429\u001b[0m         \u001b[39mreturn\u001b[39;00m \u001b[39mformat\u001b[39m\u001b[39m.\u001b[39mopen_memmap(file, mode\u001b[39m=\u001b[39mmmap_mode,\n\u001b[1;32m    430\u001b[0m                                   max_header_size\u001b[39m=\u001b[39mmax_header_size)\n\u001b[1;32m    431\u001b[0m     \u001b[39melse\u001b[39;00m:\n\u001b[0;32m--> 432\u001b[0m         \u001b[39mreturn\u001b[39;00m \u001b[39mformat\u001b[39;49m\u001b[39m.\u001b[39;49mread_array(fid, allow_pickle\u001b[39m=\u001b[39;49mallow_pickle,\n\u001b[1;32m    433\u001b[0m                                  pickle_kwargs\u001b[39m=\u001b[39;49mpickle_kwargs,\n\u001b[1;32m    434\u001b[0m                                  max_header_size\u001b[39m=\u001b[39;49mmax_header_size)\n\u001b[1;32m    435\u001b[0m \u001b[39melse\u001b[39;00m:\n\u001b[1;32m    436\u001b[0m     \u001b[39m# Try a pickle\u001b[39;00m\n\u001b[1;32m    437\u001b[0m     \u001b[39mif\u001b[39;00m \u001b[39mnot\u001b[39;00m allow_pickle:\n",
      "File \u001b[0;32m~/anaconda3/lib/python3.10/site-packages/numpy/lib/format.py:776\u001b[0m, in \u001b[0;36mread_array\u001b[0;34m(fp, allow_pickle, pickle_kwargs, max_header_size)\u001b[0m\n\u001b[1;32m    773\u001b[0m \u001b[39mif\u001b[39;00m dtype\u001b[39m.\u001b[39mhasobject:\n\u001b[1;32m    774\u001b[0m     \u001b[39m# The array contained Python objects. We need to unpickle the data.\u001b[39;00m\n\u001b[1;32m    775\u001b[0m     \u001b[39mif\u001b[39;00m \u001b[39mnot\u001b[39;00m allow_pickle:\n\u001b[0;32m--> 776\u001b[0m         \u001b[39mraise\u001b[39;00m \u001b[39mValueError\u001b[39;00m(\u001b[39m\"\u001b[39m\u001b[39mObject arrays cannot be loaded when \u001b[39m\u001b[39m\"\u001b[39m\n\u001b[1;32m    777\u001b[0m                          \u001b[39m\"\u001b[39m\u001b[39mallow_pickle=False\u001b[39m\u001b[39m\"\u001b[39m)\n\u001b[1;32m    778\u001b[0m     \u001b[39mif\u001b[39;00m pickle_kwargs \u001b[39mis\u001b[39;00m \u001b[39mNone\u001b[39;00m:\n\u001b[1;32m    779\u001b[0m         pickle_kwargs \u001b[39m=\u001b[39m {}\n",
      "\u001b[0;31mValueError\u001b[0m: Object arrays cannot be loaded when allow_pickle=False"
     ]
    }
   ],
   "source": [
    "import numpy as np\n",
    "# Load the TF-IDF matrices from the saved files\n",
    "tfidf_matrix_description = np.load('/Users/nipunbhatia/Desktop/y4s1/dam/tfidf_matrix_common.npy',allow_pickle=True)\n",
    "\n",
    "tfidf_matrix_niche_shelves = np.load('tfidf_matrix_niche_shelves.npy',)\n",
    "tfidf_matrix_common = np.load('tfidf_matrix_common.npy')\n"
   ]
  },
  {
   "cell_type": "code",
   "execution_count": 17,
   "metadata": {},
   "outputs": [
    {
     "data": {
      "text/plain": [
       "array(<23205x14494 sparse matrix of type '<class 'numpy.float64'>'\n",
       "\twith 91665 stored elements in Compressed Sparse Row format>, dtype=object)"
      ]
     },
     "execution_count": 17,
     "metadata": {},
     "output_type": "execute_result"
    }
   ],
   "source": [
    "tfidf_matrix_description"
   ]
  },
  {
   "cell_type": "code",
   "execution_count": 80,
   "metadata": {},
   "outputs": [
    {
     "name": "stderr",
     "output_type": "stream",
     "text": [
      " 37%|███▋      | 127/344 [13:34<47:01, 13.00s/it]"
     ]
    },
    {
     "ename": "KeyboardInterrupt",
     "evalue": "",
     "output_type": "error",
     "traceback": [
      "\u001b[0;31m---------------------------------------------------------------------------\u001b[0m",
      "\u001b[0;31mKeyboardInterrupt\u001b[0m                         Traceback (most recent call last)",
      "\u001b[0;32m<ipython-input-80-3194dd9d1243>\u001b[0m in \u001b[0;36m<module>\u001b[0;34m\u001b[0m\n\u001b[1;32m     24\u001b[0m         \u001b[0mfinal_tfidf_matrix\u001b[0m \u001b[0;34m=\u001b[0m \u001b[0mbatch_matrix\u001b[0m\u001b[0;34m\u001b[0m\u001b[0;34m\u001b[0m\u001b[0m\n\u001b[1;32m     25\u001b[0m     \u001b[0;32melse\u001b[0m\u001b[0;34m:\u001b[0m\u001b[0;34m\u001b[0m\u001b[0;34m\u001b[0m\u001b[0m\n\u001b[0;32m---> 26\u001b[0;31m         \u001b[0mfinal_tfidf_matrix\u001b[0m \u001b[0;34m=\u001b[0m \u001b[0mnp\u001b[0m\u001b[0;34m.\u001b[0m\u001b[0mhstack\u001b[0m\u001b[0;34m(\u001b[0m\u001b[0;34m(\u001b[0m\u001b[0mfinal_tfidf_matrix\u001b[0m\u001b[0;34m,\u001b[0m \u001b[0mbatch_matrix\u001b[0m\u001b[0;34m)\u001b[0m\u001b[0;34m)\u001b[0m\u001b[0;34m\u001b[0m\u001b[0;34m\u001b[0m\u001b[0m\n\u001b[0m\u001b[1;32m     27\u001b[0m \u001b[0;34m\u001b[0m\u001b[0m\n\u001b[1;32m     28\u001b[0m     \u001b[0;31m# Free up memory by deleting the batch_matrix\u001b[0m\u001b[0;34m\u001b[0m\u001b[0;34m\u001b[0m\u001b[0;34m\u001b[0m\u001b[0m\n",
      "\u001b[0;32m<__array_function__ internals>\u001b[0m in \u001b[0;36mhstack\u001b[0;34m(*args, **kwargs)\u001b[0m\n",
      "\u001b[0;32m/apps/anaconda3/lib/python3.7/site-packages/numpy/core/shape_base.py\u001b[0m in \u001b[0;36mhstack\u001b[0;34m(tup)\u001b[0m\n\u001b[1;32m    343\u001b[0m         \u001b[0;32mreturn\u001b[0m \u001b[0m_nx\u001b[0m\u001b[0;34m.\u001b[0m\u001b[0mconcatenate\u001b[0m\u001b[0;34m(\u001b[0m\u001b[0marrs\u001b[0m\u001b[0;34m,\u001b[0m \u001b[0;36m0\u001b[0m\u001b[0;34m)\u001b[0m\u001b[0;34m\u001b[0m\u001b[0;34m\u001b[0m\u001b[0m\n\u001b[1;32m    344\u001b[0m     \u001b[0;32melse\u001b[0m\u001b[0;34m:\u001b[0m\u001b[0;34m\u001b[0m\u001b[0;34m\u001b[0m\u001b[0m\n\u001b[0;32m--> 345\u001b[0;31m         \u001b[0;32mreturn\u001b[0m \u001b[0m_nx\u001b[0m\u001b[0;34m.\u001b[0m\u001b[0mconcatenate\u001b[0m\u001b[0;34m(\u001b[0m\u001b[0marrs\u001b[0m\u001b[0;34m,\u001b[0m \u001b[0;36m1\u001b[0m\u001b[0;34m)\u001b[0m\u001b[0;34m\u001b[0m\u001b[0;34m\u001b[0m\u001b[0m\n\u001b[0m\u001b[1;32m    346\u001b[0m \u001b[0;34m\u001b[0m\u001b[0m\n\u001b[1;32m    347\u001b[0m \u001b[0;34m\u001b[0m\u001b[0m\n",
      "\u001b[0;32m<__array_function__ internals>\u001b[0m in \u001b[0;36mconcatenate\u001b[0;34m(*args, **kwargs)\u001b[0m\n",
      "\u001b[0;31mKeyboardInterrupt\u001b[0m: "
     ]
    }
   ],
   "source": [
    "import numpy as np\n",
    "from tqdm import tqdm\n",
    "\n",
    "# Define batch size (the number of columns to process in each batch)\n",
    "batch_size = 1000\n",
    "\n",
    "# Initialize an empty final matrix\n",
    "final_tfidf_matrix = None\n",
    "\n",
    "# Calculate the number of batches needed\n",
    "num_batches = tfidf_matrix_description.shape[1] // batch_size + 1\n",
    "\n",
    "# Process data in batches\n",
    "for i in tqdm(range(num_batches)):\n",
    "    start_col = i * batch_size\n",
    "    end_col = (i + 1) * batch_size\n",
    "\n",
    "    # Slice and horizontally concatenate the TF-IDF matrices in this batch\n",
    "    batch_matrix = np.hstack((tfidf_matrix_description[:, start_col:end_col].toarray(),\n",
    "                               tfidf_matrix_niche_shelves[:, start_col:end_col].toarray(),\n",
    "                               tfidf_matrix_common[:, start_col:end_col].toarray()))\n",
    "\n",
    "    if final_tfidf_matrix is None:\n",
    "        final_tfidf_matrix = batch_matrix\n",
    "    else:\n",
    "        final_tfidf_matrix = np.hstack((final_tfidf_matrix, batch_matrix))\n",
    "\n",
    "    # Free up memory by deleting the batch_matrix\n",
    "    del batch_matrix\n",
    "\n",
    "# Now, final_tfidf_matrix contains the concatenated TF-IDF matrices in batches\n"
   ]
  },
  {
   "cell_type": "code",
   "execution_count": null,
   "metadata": {},
   "outputs": [],
   "source": [
    "np.save('final_tfidf_matrix.npy', final_tfidf_matrix)"
   ]
  },
  {
   "cell_type": "code",
   "execution_count": 42,
   "metadata": {},
   "outputs": [],
   "source": [
    "import numpy as np"
   ]
  },
  {
   "cell_type": "code",
   "execution_count": 43,
   "metadata": {},
   "outputs": [],
   "source": [
    "tfidf_matrix_final = np.load('final_tfidf_matrix.npy',allow_pickle=True)\n"
   ]
  },
  {
   "cell_type": "code",
   "execution_count": 81,
   "metadata": {},
   "outputs": [
    {
     "data": {
      "text/plain": [
       "351042"
      ]
     },
     "execution_count": 81,
     "metadata": {},
     "output_type": "execute_result"
    }
   ],
   "source": [
    "len(tfidf_matrix_final[0])"
   ]
  },
  {
   "cell_type": "code",
   "execution_count": null,
   "metadata": {},
   "outputs": [],
   "source": []
  }
 ],
 "metadata": {
  "kernelspec": {
   "display_name": "Python 3 (ipykernel)",
   "language": "python",
   "name": "python3"
  },
  "language_info": {
   "codemirror_mode": {
    "name": "ipython",
    "version": 3
   },
   "file_extension": ".py",
   "mimetype": "text/x-python",
   "name": "python",
   "nbconvert_exporter": "python",
   "pygments_lexer": "ipython3",
   "version": "3.11.4"
  },
  "vscode": {
   "interpreter": {
    "hash": "c08c6aee2ba52dd3c42edb091342951b7c5600de1e66c997b8c9de0ad8e1d3be"
   }
  }
 },
 "nbformat": 4,
 "nbformat_minor": 4
}
