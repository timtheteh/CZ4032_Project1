{
 "cells": [
  {
   "cell_type": "code",
   "execution_count": 6,
   "metadata": {},
   "outputs": [],
   "source": [
    "\n",
    "import numpy as np\n",
    "import pandas as pd\n",
    "from matplotlib import pyplot as plt\n",
    "from surprise import SVDpp\n",
    "from surprise import Dataset\n",
    "from surprise import Reader\n",
    "from surprise import accuracy\n",
    "from collections import defaultdict\n",
    "from surprise.model_selection import train_test_split \n",
    "from sklearn.model_selection import train_test_split \n",
    "from sklearn.metrics import roc_auc_score\n"
   ]
  },
  {
   "cell_type": "code",
   "execution_count": 7,
   "metadata": {},
   "outputs": [
    {
     "name": "stdout",
     "output_type": "stream",
     "text": [
      "   movie_id                               title                        genres\n",
      "0         1                    Toy Story (1995)   Animation|Children's|Comedy\n",
      "1         2                      Jumanji (1995)  Adventure|Children's|Fantasy\n",
      "2         3             Grumpier Old Men (1995)                Comedy|Romance\n",
      "3         4            Waiting to Exhale (1995)                  Comedy|Drama\n",
      "4         5  Father of the Bride Part II (1995)                        Comedy\n",
      "   user_id  movie_id  rating\n",
      "0        1      1193       5\n",
      "1        1       661       3\n",
      "2        1       914       3\n",
      "3        1      3408       4\n",
      "4        1      2355       5\n"
     ]
    }
   ],
   "source": [
    "#reading files\n",
    "df_ratings = pd.read_csv('ratings.csv', sep='\\t', encoding='latin-1', usecols=['user_id', 'movie_id', 'rating'])\n",
    "df_movies = pd.read_csv('movies.csv', sep='\\t', encoding='latin-1', usecols=['movie_id', 'title', 'genres'])\n",
    "\n",
    "print(df_movies.head(5))\n",
    "print(df_ratings.head(5))\n"
   ]
  },
  {
   "cell_type": "code",
   "execution_count": 8,
   "metadata": {},
   "outputs": [
    {
     "name": "stdout",
     "output_type": "stream",
     "text": [
      "Training data size: (750156, 3)\n",
      "Test data size: (250053, 3)\n"
     ]
    }
   ],
   "source": [
    "#splitting data into train and test sets\n",
    "train_split, test_split = train_test_split(df_ratings, test_size = 0.25, random_state = 20)\n",
    "print(\"Training data size:\", train_split.shape)\n",
    "print(\"Test data size:\", test_split.shape)\n"
   ]
  },
  {
   "cell_type": "code",
   "execution_count": 9,
   "metadata": {},
   "outputs": [
    {
     "name": "stdout",
     "output_type": "stream",
     "text": [
      "Test set size: 250053\n"
     ]
    }
   ],
   "source": [
    "#reader for parsing the ratings file\n",
    "reader = Reader(rating_scale=(1, 5))\n",
    "#building the train and test set, loading the data from dataframe \n",
    "train_build = Dataset.load_from_df(train_split, reader)\n",
    "test_build = Dataset.load_from_df(test_split, reader)\n",
    "trainset = train_build.build_full_trainset()\n",
    "testset = test_build.build_full_trainset().build_testset() \n",
    "print(\"Test set size:\", len(testset))\n"
   ]
  },
  {
   "cell_type": "code",
   "execution_count": 10,
   "metadata": {},
   "outputs": [
    {
     "data": {
      "text/plain": [
       "<surprise.prediction_algorithms.matrix_factorization.SVDpp at 0x7fa76875b340>"
      ]
     },
     "execution_count": 10,
     "metadata": {},
     "output_type": "execute_result"
    }
   ],
   "source": [
    "#model building\n",
    "#takes in factors, epochs, learning rate and regularization parameter \n",
    "model = SVDpp(n_factors=30,n_epochs=20,lr_all=0.01,reg_all=0.05) \n",
    "model.fit(trainset)\n"
   ]
  },
  {
   "cell_type": "code",
   "execution_count": 11,
   "metadata": {},
   "outputs": [
    {
     "name": "stdout",
     "output_type": "stream",
     "text": [
      "RMSE: 0.8564\n"
     ]
    },
    {
     "data": {
      "text/plain": [
       "0.8564282060778694"
      ]
     },
     "execution_count": 11,
     "metadata": {},
     "output_type": "execute_result"
    }
   ],
   "source": [
    "#making predictions\n",
    "predictions = model.test(testset)\n",
    "#calculating rmse\n",
    "accuracy.rmse(predictions, verbose = True)\n",
    "#Save all the predicted ratings and convert it to a dataframe \n",
    "\n"
   ]
  },
  {
   "cell_type": "code",
   "execution_count": 13,
   "metadata": {},
   "outputs": [
    {
     "name": "stdout",
     "output_type": "stream",
     "text": [
      "   user  movie_id  predicted_rating\n",
      "0  1490       648          4.052456\n",
      "1  1490      1527          4.122910\n",
      "2  1490      2278          3.985968\n",
      "3  1490      3404          4.168386\n",
      "4  1490      1752          3.406558\n",
      "(250053, 3)\n"
     ]
    }
   ],
   "source": [
    "all_recommendations_list = defaultdict(list)\n",
    "all_recommendations_df = pd.DataFrame([])\n",
    "# Create empty lists to collect data for each column\n",
    "user_list = []\n",
    "movie_id_list = []\n",
    "predicted_rating_list = []\n",
    "\n",
    "for uid, iid, true_r, est, _ in predictions:\n",
    "    all_recommendations_list[uid].append((iid, est))\n",
    "    user_list.append(uid)\n",
    "    movie_id_list.append(iid)\n",
    "    predicted_rating_list.append(est)\n",
    "\n",
    "\n",
    "#for uid, iid, true_r, est, _ in predictions:\n",
    "    #all_recommendations_list[uid].append((iid, est))\n",
    "    \n",
    "# Create a DataFrame using the collected data\n",
    "all_recommendations_df = pd.DataFrame({'user': user_list, 'movie_id': movie_id_list, 'predicted_rating': predicted_rating_list})\n",
    "    #all_recommendations_df = all_recommendations_df.append(pd.DataFrame({'user': uid, 'movieId': iid, 'predicted_rating' : est}, index=[0]), ignore_index=True); \n",
    "print(all_recommendations_df.head(5)) \n",
    "print(all_recommendations_df.shape)\n",
    "\n"
   ]
  },
  {
   "cell_type": "code",
   "execution_count": 14,
   "metadata": {},
   "outputs": [
    {
     "name": "stdout",
     "output_type": "stream",
     "text": [
      "   movie_id                               title                        genres\n",
      "0         1                    Toy Story (1995)   Animation|Children's|Comedy\n",
      "1         2                      Jumanji (1995)  Adventure|Children's|Fantasy\n",
      "2         3             Grumpier Old Men (1995)                Comedy|Romance\n",
      "3         4            Waiting to Exhale (1995)                  Comedy|Drama\n",
      "4         5  Father of the Bride Part II (1995)                        Comedy\n"
     ]
    }
   ],
   "source": [
    "print(df_movies.head(5)) "
   ]
  },
  {
   "cell_type": "code",
   "execution_count": 15,
   "metadata": {},
   "outputs": [
    {
     "name": "stdout",
     "output_type": "stream",
     "text": [
      "   user  movie_id  predicted_rating                       title  \\\n",
      "0  1490       648          4.052456  Mission: Impossible (1996)   \n",
      "1  4478       648          3.149444  Mission: Impossible (1996)   \n",
      "2  5643       648          3.027120  Mission: Impossible (1996)   \n",
      "3  4054       648          3.603353  Mission: Impossible (1996)   \n",
      "4   134       648          3.044482  Mission: Impossible (1996)   \n",
      "\n",
      "                     genres  \n",
      "0  Action|Adventure|Mystery  \n",
      "1  Action|Adventure|Mystery  \n",
      "2  Action|Adventure|Mystery  \n",
      "3  Action|Adventure|Mystery  \n",
      "4  Action|Adventure|Mystery  \n"
     ]
    }
   ],
   "source": [
    "#Merging with movies file to get genre, title information for predictions\n",
    "all_recommendations_df_details = pd.merge(all_recommendations_df,df_movies, on='movie_id', how='inner') \n",
    "print(all_recommendations_df_details.head(5))\n"
   ]
  },
  {
   "cell_type": "code",
   "execution_count": 16,
   "metadata": {},
   "outputs": [],
   "source": [
    "#List of top n recommendations list as per SVD++\n",
    "def get_top_n_recommendation_list_df(all_recommendations_df_details, n=10):\n",
    "    top_n_recommendations_df = all_recommendations_df_details.sort_values(['user','predicted_rating'] ,ascending=[True, False])\n",
    "    return top_n_recommendations_df\n"
   ]
  },
  {
   "cell_type": "code",
   "execution_count": 17,
   "metadata": {},
   "outputs": [
    {
     "name": "stdout",
     "output_type": "stream",
     "text": [
      "        user  movie_id  predicted_rating                              title  \\\n",
      "186764     1       914          4.436481                My Fair Lady (1964)   \n",
      "87763      1      1097          4.392588  E.T. the Extra-Terrestrial (1982)   \n",
      "128703     1       150          4.363103                   Apollo 13 (1995)   \n",
      "81325      1       588          4.303915                     Aladdin (1992)   \n",
      "169456     1      2398          4.268643      Miracle on 34th Street (1947)   \n",
      "\n",
      "                                     genres  \n",
      "186764                      Musical|Romance  \n",
      "87763       Children's|Drama|Fantasy|Sci-Fi  \n",
      "128703                                Drama  \n",
      "81325   Animation|Children's|Comedy|Musical  \n",
      "169456                                Drama  \n"
     ]
    }
   ],
   "source": [
    "top_n_recommendations_df = get_top_n_recommendation_list_df(all_recommendations_df_details, 10) \n",
    "print(top_n_recommendations_df.head())\n"
   ]
  },
  {
   "cell_type": "code",
   "execution_count": 18,
   "metadata": {},
   "outputs": [],
   "source": [
    "metrics=[]\n",
    "true_positives_array = []\n",
    "est_array = []\n",
    "for rating_threshold in np.arange(0,5.5,0.5):\n",
    "    truePositives = 0\n",
    "    trueNegatives = 0\n",
    "    falseNegatives = 0\n",
    "    falsePositives = 0\n",
    "    accuracy =0\n",
    "    precision =0\n",
    "    recall =0\n",
    "    f1_score = 0\n",
    "    for uid,_, true_r, est, _ in predictions:\n",
    "        if(true_r >= rating_threshold and est >= rating_threshold):\n",
    "            truePositives = truePositives + 1 \n",
    "            true_positives_array.append(true_r) \n",
    "            est_array.append(est)\n",
    "#here\n",
    "        elif(true_r >= rating_threshold and est<= rating_threshold):\n",
    "            falseNegatives = falseNegatives + 1 \n",
    "        elif(true_r <= rating_threshold and est >=rating_threshold):\n",
    "             falsePositives = falsePositives + 1 \n",
    "        elif(true_r <= rating_threshold and est<=rating_threshold):\n",
    "            trueNegatives = trueNegatives + 1 \n",
    "        if(truePositives > 0):\n",
    "            accuracy = (truePositives + trueNegatives ) / (truePositives + trueNegatives + falsePositives + falseNegatives)\n",
    "            precision = truePositives / (truePositives + falsePositives)\n",
    "            recall = truePositives / (truePositives + falseNegatives) \n",
    "            f1_score = 2 * (precision * recall) / (precision + recall)\n",
    "\n"
   ]
  },
  {
   "cell_type": "code",
   "execution_count": 19,
   "metadata": {},
   "outputs": [
    {
     "name": "stdout",
     "output_type": "stream",
     "text": [
      "AUC Score:  0.8024315736376826\n"
     ]
    }
   ],
   "source": [
    "metrics.append([rating_threshold,truePositives,trueNegatives,falsePositives,falseNegatives,accuracy,precision,recall,f1_score])\n",
    "metrics_df = pd.DataFrame(metrics)\n",
    "metrics_df.rename(columns={0:'rating_threshold', 1:'truePositives', 2: 'trueNegatives', 3: 'falsePositives', 4:'falseNegatives', 5: 'Accuracy', 6: 'Precision', 7:'Recall', 8:'F1 Score'},inplace=True)\n",
    "true_bin_array =[]\n",
    "for x in true_positives_array:\n",
    "    if x >= rating_threshold: \n",
    "        x=1\n",
    "    else: \n",
    "        x=0\n",
    "    true_bin_array.append(x)\n",
    "auc_score =roc_auc_score(true_bin_array,est_array,multi_class='raise',average='macro')\n",
    "print('AUC Score: ',auc_score)\n"
   ]
  },
  {
   "cell_type": "code",
   "execution_count": 20,
   "metadata": {},
   "outputs": [
    {
     "name": "stdout",
     "output_type": "stream",
     "text": [
      "{'topN': 5, 'Precision': 0.9623096026490223, 'Recall': 0.3287980458145225}\n",
      "{'topN': 6, 'Precision': 0.9588493377483411, 'Recall': 0.3760652138599872}\n",
      "{'topN': 7, 'Precision': 0.9557391201513703, 'Recall': 0.4173926925989891}\n",
      "{'topN': 8, 'Precision': 0.953149243140966, 'Recall': 0.45350193126483435}\n",
      "{'topN': 9, 'Precision': 0.9508152659518367, 'Recall': 0.48525873870281866}\n",
      "{'topN': 10, 'Precision': 0.9483391805949732, 'Recall': 0.5132430667011895}\n",
      "       user_id  movie_id  rating                                      title  \\\n",
      "8826      5256      1287       5                             Ben-Hur (1959)   \n",
      "16646     5256      1035       5                 Sound of Music, The (1965)   \n",
      "25502     5256      1270       5                  Back to the Future (1985)   \n",
      "27849     5256       527       5                    Schindler's List (1993)   \n",
      "32487     5256      1721       5                             Titanic (1997)   \n",
      "41463     5256       150       5                           Apollo 13 (1995)   \n",
      "43416     5256         1       5                           Toy Story (1995)   \n",
      "49326     5256       260       5  Star Wars: Episode IV - A New Hope (1977)   \n",
      "52116     5256      1207       5               To Kill a Mockingbird (1962)   \n",
      "54569     5256      2028       5                 Saving Private Ryan (1998)   \n",
      "\n",
      "                                genres  \n",
      "8826            Action|Adventure|Drama  \n",
      "16646                          Musical  \n",
      "25502                    Comedy|Sci-Fi  \n",
      "27849                        Drama|War  \n",
      "32487                    Drama|Romance  \n",
      "41463                            Drama  \n",
      "43416      Animation|Children's|Comedy  \n",
      "49326  Action|Adventure|Fantasy|Sci-Fi  \n",
      "52116                            Drama  \n",
      "54569                 Action|Drama|War  \n",
      "        user  movie_id  predicted_rating                                title  \\\n",
      "158799  5256       953          4.642577         It's a Wonderful Life (1946)   \n",
      "64229   5256      1234          4.622672                    Sting, The (1973)   \n",
      "15679   5256      1704          4.610209             Good Will Hunting (1997)   \n",
      "162769  5256       590          4.548422            Dances with Wolves (1990)   \n",
      "60623   5256      1307          4.507815       When Harry Met Sally... (1989)   \n",
      "139860  5256       954          4.445330  Mr. Smith Goes to Washington (1939)   \n",
      "157433  5256       858          4.420507                Godfather, The (1972)   \n",
      "2565    5256      1101          4.416268                       Top Gun (1986)   \n",
      "127111  5256      2067          4.400063                Doctor Zhivago (1965)   \n",
      "44158   5256      1204          4.393091            Lawrence of Arabia (1962)   \n",
      "\n",
      "                         genres  \n",
      "158799                    Drama  \n",
      "64229              Comedy|Crime  \n",
      "15679                     Drama  \n",
      "162769  Adventure|Drama|Western  \n",
      "60623            Comedy|Romance  \n",
      "139860                    Drama  \n",
      "157433       Action|Crime|Drama  \n",
      "2565             Action|Romance  \n",
      "127111        Drama|Romance|War  \n",
      "44158             Adventure|War  \n"
     ]
    }
   ],
   "source": [
    "#Calculate precision and recall at n\n",
    "def get_precision_recall_at_n(predictions,topn,rating_threshold): \n",
    "    all_actual_predicted_list = defaultdict(list)\n",
    "    precision = dict()\n",
    "    recall= dict()\n",
    "    no_of_relevant_items = 0 \n",
    "    no_of_recommended_items_at_top_n = 0 \n",
    "    no_of_relevant_recommended_items_at_top_n = 0  \n",
    "    for uid, iid, true_r, est, _ in predictions:\n",
    "        all_actual_predicted_list[uid].append((est, true_r)) \n",
    "    for uid, user_ratings in all_actual_predicted_list.items():\n",
    "        user_ratings.sort(key=lambda x: x[0], reverse=True)\n",
    "        no_of_relevant_items = sum((true_r >= rating_threshold) for (_, true_r) in user_ratings)\n",
    "        no_of_recommended_items_at_top_n = sum((est >= rating_threshold) for (est, _) in user_ratings[:topn])\n",
    "        no_of_relevant_recommended_items_at_top_n = sum(((true_r >= rating_threshold) and (est >= rating_threshold)) for (est, true_r) in user_ratings[:topn])\n",
    "        precision[uid] = no_of_relevant_recommended_items_at_top_n / no_of_recommended_items_at_top_n if no_of_recommended_items_at_top_n != 0 else 1\n",
    "        recall[uid] = no_of_relevant_recommended_items_at_top_n / no_of_relevant_items if no_of_relevant_items != 0 else 1\n",
    "    return precision, recall \n",
    "\n",
    "rating_threshold=3 \n",
    "precision_recall_at_n = [] \n",
    "for topn in range(2,20):\n",
    "    precision, recall = get_precision_recall_at_n(predictions,topn,rating_threshold)\n",
    "    precision_at_n = sum(prec for prec in precision.values()) / len(precision)\n",
    "\n",
    "    recall_at_n = sum(rec for rec in recall.values()) / len(recall)\n",
    "    precision_recall_at_n.append({'topN' : topn, 'Precision' : precision_at_n, 'Recall': recall_at_n})\n",
    "for n in range(3,9):\n",
    "    print(precision_recall_at_n[n])\n",
    "#get user high rated and liked movies\n",
    "all_movie_df_details = pd.merge(df_ratings,df_movies, on='movie_id', how='inner')\n",
    "all_movie_df_details = all_movie_df_details.sort_values(['user_id','rating'],ascending=[True, False])\n",
    "print(all_movie_df_details.loc[all_movie_df_details['user_id'] == 5256].head(10)) #user 10 top 10 rated movies\n",
    "#user 10 top 10 movie recommendations list \n",
    "print(top_n_recommendations_df.loc[top_n_recommendations_df['user'] == 5256].head(10))"
   ]
  },
  {
   "cell_type": "code",
   "execution_count": 21,
   "metadata": {},
   "outputs": [],
   "source": [
    "top_movies=(all_movie_df_details.loc[all_movie_df_details['user_id'] == 5256].head(10))"
   ]
  },
  {
   "cell_type": "code",
   "execution_count": 22,
   "metadata": {},
   "outputs": [
    {
     "data": {
      "text/html": [
       "<div>\n",
       "<style scoped>\n",
       "    .dataframe tbody tr th:only-of-type {\n",
       "        vertical-align: middle;\n",
       "    }\n",
       "\n",
       "    .dataframe tbody tr th {\n",
       "        vertical-align: top;\n",
       "    }\n",
       "\n",
       "    .dataframe thead th {\n",
       "        text-align: right;\n",
       "    }\n",
       "</style>\n",
       "<table border=\"1\" class=\"dataframe\">\n",
       "  <thead>\n",
       "    <tr style=\"text-align: right;\">\n",
       "      <th></th>\n",
       "      <th>user_id</th>\n",
       "      <th>movie_id</th>\n",
       "      <th>rating</th>\n",
       "      <th>title</th>\n",
       "      <th>genres</th>\n",
       "    </tr>\n",
       "  </thead>\n",
       "  <tbody>\n",
       "    <tr>\n",
       "      <th>8826</th>\n",
       "      <td>5256</td>\n",
       "      <td>1287</td>\n",
       "      <td>5</td>\n",
       "      <td>Ben-Hur (1959)</td>\n",
       "      <td>Action|Adventure|Drama</td>\n",
       "    </tr>\n",
       "    <tr>\n",
       "      <th>16646</th>\n",
       "      <td>5256</td>\n",
       "      <td>1035</td>\n",
       "      <td>5</td>\n",
       "      <td>Sound of Music, The (1965)</td>\n",
       "      <td>Musical</td>\n",
       "    </tr>\n",
       "    <tr>\n",
       "      <th>25502</th>\n",
       "      <td>5256</td>\n",
       "      <td>1270</td>\n",
       "      <td>5</td>\n",
       "      <td>Back to the Future (1985)</td>\n",
       "      <td>Comedy|Sci-Fi</td>\n",
       "    </tr>\n",
       "    <tr>\n",
       "      <th>27849</th>\n",
       "      <td>5256</td>\n",
       "      <td>527</td>\n",
       "      <td>5</td>\n",
       "      <td>Schindler's List (1993)</td>\n",
       "      <td>Drama|War</td>\n",
       "    </tr>\n",
       "    <tr>\n",
       "      <th>32487</th>\n",
       "      <td>5256</td>\n",
       "      <td>1721</td>\n",
       "      <td>5</td>\n",
       "      <td>Titanic (1997)</td>\n",
       "      <td>Drama|Romance</td>\n",
       "    </tr>\n",
       "    <tr>\n",
       "      <th>41463</th>\n",
       "      <td>5256</td>\n",
       "      <td>150</td>\n",
       "      <td>5</td>\n",
       "      <td>Apollo 13 (1995)</td>\n",
       "      <td>Drama</td>\n",
       "    </tr>\n",
       "    <tr>\n",
       "      <th>43416</th>\n",
       "      <td>5256</td>\n",
       "      <td>1</td>\n",
       "      <td>5</td>\n",
       "      <td>Toy Story (1995)</td>\n",
       "      <td>Animation|Children's|Comedy</td>\n",
       "    </tr>\n",
       "    <tr>\n",
       "      <th>49326</th>\n",
       "      <td>5256</td>\n",
       "      <td>260</td>\n",
       "      <td>5</td>\n",
       "      <td>Star Wars: Episode IV - A New Hope (1977)</td>\n",
       "      <td>Action|Adventure|Fantasy|Sci-Fi</td>\n",
       "    </tr>\n",
       "    <tr>\n",
       "      <th>52116</th>\n",
       "      <td>5256</td>\n",
       "      <td>1207</td>\n",
       "      <td>5</td>\n",
       "      <td>To Kill a Mockingbird (1962)</td>\n",
       "      <td>Drama</td>\n",
       "    </tr>\n",
       "    <tr>\n",
       "      <th>54569</th>\n",
       "      <td>5256</td>\n",
       "      <td>2028</td>\n",
       "      <td>5</td>\n",
       "      <td>Saving Private Ryan (1998)</td>\n",
       "      <td>Action|Drama|War</td>\n",
       "    </tr>\n",
       "  </tbody>\n",
       "</table>\n",
       "</div>"
      ],
      "text/plain": [
       "       user_id  movie_id  rating                                      title  \\\n",
       "8826      5256      1287       5                             Ben-Hur (1959)   \n",
       "16646     5256      1035       5                 Sound of Music, The (1965)   \n",
       "25502     5256      1270       5                  Back to the Future (1985)   \n",
       "27849     5256       527       5                    Schindler's List (1993)   \n",
       "32487     5256      1721       5                             Titanic (1997)   \n",
       "41463     5256       150       5                           Apollo 13 (1995)   \n",
       "43416     5256         1       5                           Toy Story (1995)   \n",
       "49326     5256       260       5  Star Wars: Episode IV - A New Hope (1977)   \n",
       "52116     5256      1207       5               To Kill a Mockingbird (1962)   \n",
       "54569     5256      2028       5                 Saving Private Ryan (1998)   \n",
       "\n",
       "                                genres  \n",
       "8826            Action|Adventure|Drama  \n",
       "16646                          Musical  \n",
       "25502                    Comedy|Sci-Fi  \n",
       "27849                        Drama|War  \n",
       "32487                    Drama|Romance  \n",
       "41463                            Drama  \n",
       "43416      Animation|Children's|Comedy  \n",
       "49326  Action|Adventure|Fantasy|Sci-Fi  \n",
       "52116                            Drama  \n",
       "54569                 Action|Drama|War  "
      ]
     },
     "execution_count": 22,
     "metadata": {},
     "output_type": "execute_result"
    }
   ],
   "source": [
    "top_movies.head(10)"
   ]
  },
  {
   "cell_type": "code",
   "execution_count": 23,
   "metadata": {},
   "outputs": [
    {
     "data": {
      "text/html": [
       "<div>\n",
       "<style scoped>\n",
       "    .dataframe tbody tr th:only-of-type {\n",
       "        vertical-align: middle;\n",
       "    }\n",
       "\n",
       "    .dataframe tbody tr th {\n",
       "        vertical-align: top;\n",
       "    }\n",
       "\n",
       "    .dataframe thead th {\n",
       "        text-align: right;\n",
       "    }\n",
       "</style>\n",
       "<table border=\"1\" class=\"dataframe\">\n",
       "  <thead>\n",
       "    <tr style=\"text-align: right;\">\n",
       "      <th></th>\n",
       "      <th>user</th>\n",
       "      <th>movie_id</th>\n",
       "      <th>predicted_rating</th>\n",
       "      <th>title</th>\n",
       "      <th>genres</th>\n",
       "    </tr>\n",
       "  </thead>\n",
       "  <tbody>\n",
       "    <tr>\n",
       "      <th>158799</th>\n",
       "      <td>5256</td>\n",
       "      <td>953</td>\n",
       "      <td>4.642577</td>\n",
       "      <td>It's a Wonderful Life (1946)</td>\n",
       "      <td>Drama</td>\n",
       "    </tr>\n",
       "    <tr>\n",
       "      <th>64229</th>\n",
       "      <td>5256</td>\n",
       "      <td>1234</td>\n",
       "      <td>4.622672</td>\n",
       "      <td>Sting, The (1973)</td>\n",
       "      <td>Comedy|Crime</td>\n",
       "    </tr>\n",
       "    <tr>\n",
       "      <th>15679</th>\n",
       "      <td>5256</td>\n",
       "      <td>1704</td>\n",
       "      <td>4.610209</td>\n",
       "      <td>Good Will Hunting (1997)</td>\n",
       "      <td>Drama</td>\n",
       "    </tr>\n",
       "    <tr>\n",
       "      <th>162769</th>\n",
       "      <td>5256</td>\n",
       "      <td>590</td>\n",
       "      <td>4.548422</td>\n",
       "      <td>Dances with Wolves (1990)</td>\n",
       "      <td>Adventure|Drama|Western</td>\n",
       "    </tr>\n",
       "    <tr>\n",
       "      <th>60623</th>\n",
       "      <td>5256</td>\n",
       "      <td>1307</td>\n",
       "      <td>4.507815</td>\n",
       "      <td>When Harry Met Sally... (1989)</td>\n",
       "      <td>Comedy|Romance</td>\n",
       "    </tr>\n",
       "    <tr>\n",
       "      <th>139860</th>\n",
       "      <td>5256</td>\n",
       "      <td>954</td>\n",
       "      <td>4.445330</td>\n",
       "      <td>Mr. Smith Goes to Washington (1939)</td>\n",
       "      <td>Drama</td>\n",
       "    </tr>\n",
       "    <tr>\n",
       "      <th>157433</th>\n",
       "      <td>5256</td>\n",
       "      <td>858</td>\n",
       "      <td>4.420507</td>\n",
       "      <td>Godfather, The (1972)</td>\n",
       "      <td>Action|Crime|Drama</td>\n",
       "    </tr>\n",
       "    <tr>\n",
       "      <th>2565</th>\n",
       "      <td>5256</td>\n",
       "      <td>1101</td>\n",
       "      <td>4.416268</td>\n",
       "      <td>Top Gun (1986)</td>\n",
       "      <td>Action|Romance</td>\n",
       "    </tr>\n",
       "    <tr>\n",
       "      <th>127111</th>\n",
       "      <td>5256</td>\n",
       "      <td>2067</td>\n",
       "      <td>4.400063</td>\n",
       "      <td>Doctor Zhivago (1965)</td>\n",
       "      <td>Drama|Romance|War</td>\n",
       "    </tr>\n",
       "    <tr>\n",
       "      <th>44158</th>\n",
       "      <td>5256</td>\n",
       "      <td>1204</td>\n",
       "      <td>4.393091</td>\n",
       "      <td>Lawrence of Arabia (1962)</td>\n",
       "      <td>Adventure|War</td>\n",
       "    </tr>\n",
       "  </tbody>\n",
       "</table>\n",
       "</div>"
      ],
      "text/plain": [
       "        user  movie_id  predicted_rating                                title  \\\n",
       "158799  5256       953          4.642577         It's a Wonderful Life (1946)   \n",
       "64229   5256      1234          4.622672                    Sting, The (1973)   \n",
       "15679   5256      1704          4.610209             Good Will Hunting (1997)   \n",
       "162769  5256       590          4.548422            Dances with Wolves (1990)   \n",
       "60623   5256      1307          4.507815       When Harry Met Sally... (1989)   \n",
       "139860  5256       954          4.445330  Mr. Smith Goes to Washington (1939)   \n",
       "157433  5256       858          4.420507                Godfather, The (1972)   \n",
       "2565    5256      1101          4.416268                       Top Gun (1986)   \n",
       "127111  5256      2067          4.400063                Doctor Zhivago (1965)   \n",
       "44158   5256      1204          4.393091            Lawrence of Arabia (1962)   \n",
       "\n",
       "                         genres  \n",
       "158799                    Drama  \n",
       "64229              Comedy|Crime  \n",
       "15679                     Drama  \n",
       "162769  Adventure|Drama|Western  \n",
       "60623            Comedy|Romance  \n",
       "139860                    Drama  \n",
       "157433       Action|Crime|Drama  \n",
       "2565             Action|Romance  \n",
       "127111        Drama|Romance|War  \n",
       "44158             Adventure|War  "
      ]
     },
     "execution_count": 23,
     "metadata": {},
     "output_type": "execute_result"
    }
   ],
   "source": [
    "filtered_df=(top_n_recommendations_df.loc[top_n_recommendations_df['user'] == 5256].head(10))\n",
    "filtered_df.head(10)"
   ]
  },
  {
   "cell_type": "code",
   "execution_count": 24,
   "metadata": {},
   "outputs": [
    {
     "data": {
      "text/plain": [
       "array([\"It's a Wonderful Life (1946)\", 'Sting, The (1973)',\n",
       "       'Good Will Hunting (1997)', 'Dances with Wolves (1990)',\n",
       "       'When Harry Met Sally... (1989)',\n",
       "       'Mr. Smith Goes to Washington (1939)', 'Godfather, The (1972)',\n",
       "       'Top Gun (1986)', 'Doctor Zhivago (1965)',\n",
       "       'Lawrence of Arabia (1962)'], dtype=object)"
      ]
     },
     "execution_count": 24,
     "metadata": {},
     "output_type": "execute_result"
    }
   ],
   "source": [
    "filtered_df['title'].values"
   ]
  },
  {
   "cell_type": "code",
   "execution_count": 25,
   "metadata": {},
   "outputs": [
    {
     "data": {
      "text/plain": [
       "array(['Ben-Hur (1959)', 'Sound of Music, The (1965)',\n",
       "       'Back to the Future (1985)', \"Schindler's List (1993)\",\n",
       "       'Titanic (1997)', 'Apollo 13 (1995)', 'Toy Story (1995)',\n",
       "       'Star Wars: Episode IV - A New Hope (1977)',\n",
       "       'To Kill a Mockingbird (1962)', 'Saving Private Ryan (1998)'],\n",
       "      dtype=object)"
      ]
     },
     "execution_count": 25,
     "metadata": {},
     "output_type": "execute_result"
    }
   ],
   "source": [
    "top_movies['title'].values"
   ]
  },
  {
   "cell_type": "code",
   "execution_count": null,
   "metadata": {},
   "outputs": [],
   "source": []
  }
 ],
 "metadata": {
  "kernelspec": {
   "display_name": "Python 3",
   "language": "python",
   "name": "python3"
  },
  "language_info": {
   "codemirror_mode": {
    "name": "ipython",
    "version": 3
   },
   "file_extension": ".py",
   "mimetype": "text/x-python",
   "name": "python",
   "nbconvert_exporter": "python",
   "pygments_lexer": "ipython3",
   "version": "3.8.2"
  }
 },
 "nbformat": 4,
 "nbformat_minor": 4
}
