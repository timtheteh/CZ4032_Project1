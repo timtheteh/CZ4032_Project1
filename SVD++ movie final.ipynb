{
 "cells": [
  {
   "cell_type": "code",
   "execution_count": null,
   "metadata": {},
   "outputs": [],
   "source": [
    "\n",
    "import numpy as np\n",
    "import pandas as pd\n",
    "from matplotlib import pyplot as plt\n",
    "from surprise import SVDpp\n",
    "from surprise import Dataset\n",
    "from surprise import Reader\n",
    "from surprise import accuracy\n",
    "from collections import defaultdict\n",
    "from surprise.model_selection import train_test_split \n",
    "from sklearn.model_selection import train_test_split \n",
    "from sklearn.metrics import roc_auc_score\n"
   ]
  },
  {
   "cell_type": "code",
   "execution_count": null,
   "metadata": {},
   "outputs": [],
   "source": [
    "#reading files\n",
    "df_ratings = pd.read_csv('ratings.csv', sep='\\t', encoding='latin-1', usecols=['user_id', 'movie_id', 'rating'])\n",
    "df_movies = pd.read_csv('movies.csv', sep='\\t', encoding='latin-1', usecols=['movie_id', 'title', 'genres'])\n",
    "\n",
    "print(df_movies.head(5))\n",
    "print(df_ratings.head(5))\n"
   ]
  },
  {
   "cell_type": "code",
   "execution_count": 3,
   "metadata": {},
   "outputs": [
    {
     "name": "stdout",
     "output_type": "stream",
     "text": [
      "Training data size: (750156, 3)\n",
      "Test data size: (250053, 3)\n"
     ]
    }
   ],
   "source": [
    "#splitting data into train and test sets\n",
    "train_split, test_split = train_test_split(df_ratings, test_size = 0.25, random_state = 20)\n",
    "print(\"Training data size:\", train_split.shape)\n",
    "print(\"Test data size:\", test_split.shape)\n"
   ]
  },
  {
   "cell_type": "code",
   "execution_count": 4,
   "metadata": {},
   "outputs": [
    {
     "name": "stdout",
     "output_type": "stream",
     "text": [
      "Test set size: 250053\n"
     ]
    }
   ],
   "source": [
    "#reader for parsing the ratings file\n",
    "reader = Reader(rating_scale=(1, 5))\n",
    "#building the train and test set, loading the data from dataframe \n",
    "train_build = Dataset.load_from_df(train_split, reader)\n",
    "test_build = Dataset.load_from_df(test_split, reader)\n",
    "trainset = train_build.build_full_trainset()\n",
    "testset = test_build.build_full_trainset().build_testset() \n",
    "print(\"Test set size:\", len(testset))\n"
   ]
  },
  {
   "cell_type": "code",
   "execution_count": 5,
   "metadata": {},
   "outputs": [
    {
     "data": {
      "text/plain": [
       "<surprise.prediction_algorithms.matrix_factorization.SVDpp at 0x2aaada1f9810>"
      ]
     },
     "execution_count": 5,
     "metadata": {},
     "output_type": "execute_result"
    }
   ],
   "source": [
    "#model building\n",
    "#takes in factors, epochs, learning rate and regularization parameter \n",
    "model = SVDpp(n_factors=20,n_epochs=5,lr_all=0.09,reg_all=0.5) \n",
    "model.fit(trainset)\n"
   ]
  },
  {
   "cell_type": "code",
   "execution_count": 6,
   "metadata": {},
   "outputs": [
    {
     "name": "stdout",
     "output_type": "stream",
     "text": [
      "RMSE: 0.9641\n"
     ]
    },
    {
     "data": {
      "text/plain": [
       "0.9640903306319306"
      ]
     },
     "execution_count": 6,
     "metadata": {},
     "output_type": "execute_result"
    }
   ],
   "source": [
    "#making predictions\n",
    "predictions = model.test(testset)\n",
    "#calculating rmse\n",
    "accuracy.rmse(predictions, verbose = True)\n",
    "#Save all the predicted ratings and convert it to a dataframe \n",
    "\n"
   ]
  },
  {
   "cell_type": "code",
   "execution_count": 7,
   "metadata": {},
   "outputs": [
    {
     "name": "stdout",
     "output_type": "stream",
     "text": [
      "   user  movie_id  predicted_rating\n",
      "0  1490       648          4.001559\n",
      "1  1490      1527          4.451440\n",
      "2  1490      2278          3.934697\n",
      "3  1490      3404          3.882309\n",
      "4  1490      1752          3.695100\n",
      "(250053, 3)\n"
     ]
    }
   ],
   "source": [
    "all_recommendations_list = defaultdict(list)\n",
    "all_recommendations_df = pd.DataFrame([])\n",
    "# Create empty lists to collect data for each column\n",
    "user_list = []\n",
    "movie_id_list = []\n",
    "predicted_rating_list = []\n",
    "\n",
    "for uid, iid, true_r, est, _ in predictions:\n",
    "    all_recommendations_list[uid].append((iid, est))\n",
    "    user_list.append(uid)\n",
    "    movie_id_list.append(iid)\n",
    "    predicted_rating_list.append(est)\n",
    "\n",
    "\n",
    "#for uid, iid, true_r, est, _ in predictions:\n",
    "    #all_recommendations_list[uid].append((iid, est))\n",
    "    \n",
    "# Create a DataFrame using the collected data\n",
    "all_recommendations_df = pd.DataFrame({'user': user_list, 'movie_id': movie_id_list, 'predicted_rating': predicted_rating_list})\n",
    "    #all_recommendations_df = all_recommendations_df.append(pd.DataFrame({'user': uid, 'movieId': iid, 'predicted_rating' : est}, index=[0]), ignore_index=True); \n",
    "print(all_recommendations_df.head(5)) \n",
    "print(all_recommendations_df.shape)\n",
    "\n"
   ]
  },
  {
   "cell_type": "code",
   "execution_count": 8,
   "metadata": {},
   "outputs": [
    {
     "name": "stdout",
     "output_type": "stream",
     "text": [
      "   movie_id                               title                        genres\n",
      "0         1                    Toy Story (1995)   Animation|Children's|Comedy\n",
      "1         2                      Jumanji (1995)  Adventure|Children's|Fantasy\n",
      "2         3             Grumpier Old Men (1995)                Comedy|Romance\n",
      "3         4            Waiting to Exhale (1995)                  Comedy|Drama\n",
      "4         5  Father of the Bride Part II (1995)                        Comedy\n"
     ]
    }
   ],
   "source": [
    "print(df_movies.head(5)) "
   ]
  },
  {
   "cell_type": "code",
   "execution_count": 9,
   "metadata": {},
   "outputs": [
    {
     "name": "stdout",
     "output_type": "stream",
     "text": [
      "   user  movie_id  predicted_rating                       title  \\\n",
      "0  1490       648          4.001559  Mission: Impossible (1996)   \n",
      "1  4478       648          3.390776  Mission: Impossible (1996)   \n",
      "2  5643       648          3.108085  Mission: Impossible (1996)   \n",
      "3  4054       648          3.457194  Mission: Impossible (1996)   \n",
      "4   134       648          2.998958  Mission: Impossible (1996)   \n",
      "\n",
      "                     genres  \n",
      "0  Action|Adventure|Mystery  \n",
      "1  Action|Adventure|Mystery  \n",
      "2  Action|Adventure|Mystery  \n",
      "3  Action|Adventure|Mystery  \n",
      "4  Action|Adventure|Mystery  \n"
     ]
    }
   ],
   "source": [
    "#Merging with movies file to get genre, title information for predictions\n",
    "all_recommendations_df_details = pd.merge(all_recommendations_df,df_movies, on='movie_id', how='inner') \n",
    "print(all_recommendations_df_details.head(5))\n"
   ]
  },
  {
   "cell_type": "code",
   "execution_count": 10,
   "metadata": {},
   "outputs": [],
   "source": [
    "#List of top n recommendations list as per SVD++\n",
    "def get_top_n_recommendation_list_df(all_recommendations_df_details, n=10):\n",
    "    top_n_recommendations_df = all_recommendations_df_details.sort_values(['user','predicted_rating'] ,ascending=[True, False])\n",
    "    return top_n_recommendations_df\n"
   ]
  },
  {
   "cell_type": "code",
   "execution_count": 11,
   "metadata": {},
   "outputs": [
    {
     "name": "stdout",
     "output_type": "stream",
     "text": [
      "        user  movie_id  predicted_rating  \\\n",
      "55722      1       720          4.219996   \n",
      "238962     1      1545          4.202383   \n",
      "186764     1       914          4.047105   \n",
      "15601      1      2692          4.015032   \n",
      "128703     1       150          3.991828   \n",
      "\n",
      "                                                    title  \\\n",
      "55722   Wallace & Gromit: The Best of Aardman Animatio...   \n",
      "238962                                     Ponette (1996)   \n",
      "186764                                My Fair Lady (1964)   \n",
      "15601                    Run Lola Run (Lola rennt) (1998)   \n",
      "128703                                   Apollo 13 (1995)   \n",
      "\n",
      "                      genres  \n",
      "55722              Animation  \n",
      "238962                 Drama  \n",
      "186764       Musical|Romance  \n",
      "15601   Action|Crime|Romance  \n",
      "128703                 Drama  \n"
     ]
    }
   ],
   "source": [
    "top_n_recommendations_df = get_top_n_recommendation_list_df(all_recommendations_df_details, 10) \n",
    "print(top_n_recommendations_df.head())\n"
   ]
  },
  {
   "cell_type": "code",
   "execution_count": 13,
   "metadata": {},
   "outputs": [],
   "source": [
    "metrics=[]\n",
    "true_positives_array = []\n",
    "est_array = []\n",
    "for rating_threshold in np.arange(0,5.5,0.5):\n",
    "    truePositives = 0\n",
    "    trueNegatives = 0\n",
    "    falseNegatives = 0\n",
    "    falsePositives = 0\n",
    "    accuracy =0\n",
    "    precision =0\n",
    "    recall =0\n",
    "    f1_score = 0\n",
    "    for uid,_, true_r, est, _ in predictions:\n",
    "        if(true_r >= rating_threshold and est >= rating_threshold):\n",
    "            truePositives = truePositives + 1 \n",
    "            true_positives_array.append(true_r) \n",
    "            est_array.append(est)\n",
    "#here\n",
    "        elif(true_r >= rating_threshold and est<= rating_threshold):\n",
    "            falseNegatives = falseNegatives + 1 \n",
    "        elif(true_r <= rating_threshold and est >=rating_threshold):\n",
    "             falsePositives = falsePositives + 1 \n",
    "        elif(true_r <= rating_threshold and est<=rating_threshold):\n",
    "            trueNegatives = trueNegatives + 1 \n",
    "        if(truePositives > 0):\n",
    "            accuracy = (truePositives + trueNegatives ) / (truePositives + trueNegatives + falsePositives + falseNegatives)\n",
    "            precision = truePositives / (truePositives + falsePositives)\n",
    "            recall = truePositives / (truePositives + falseNegatives) \n",
    "            f1_score = 2 * (precision * recall) / (precision + recall)\n",
    "\n"
   ]
  },
  {
   "cell_type": "code",
   "execution_count": 16,
   "metadata": {},
   "outputs": [
    {
     "name": "stdout",
     "output_type": "stream",
     "text": [
      "AUC Score:  0.73209397893631\n"
     ]
    }
   ],
   "source": [
    "metrics.append([rating_threshold,truePositives,trueNegatives,falsePositives,falseNegatives,accuracy,precision,recall,f1_score])\n",
    "metrics_df = pd.DataFrame(metrics)\n",
    "metrics_df.rename(columns={0:'rating_threshold', 1:'truePositives', 2: 'trueNegatives', 3: 'falsePositives', 4:'falseNegatives', 5: 'Accuracy', 6: 'Precision', 7:'Recall', 8:'F1 Score'},inplace=True)\n",
    "true_bin_array =[]\n",
    "for x in true_positives_array:\n",
    "    if x >= rating_threshold: \n",
    "        x=1\n",
    "    else: \n",
    "        x=0\n",
    "    true_bin_array.append(x)\n",
    "auc_score =roc_auc_score(true_bin_array,est_array,multi_class='raise',average='macro')\n",
    "print('AUC Score: ',auc_score)\n"
   ]
  },
  {
   "cell_type": "code",
   "execution_count": 18,
   "metadata": {},
   "outputs": [
    {
     "name": "stdout",
     "output_type": "stream",
     "text": [
      "{'topN': 5, 'Precision': 0.9358360927152541, 'Recall': 0.325613324942311}\n",
      "{'topN': 6, 'Precision': 0.932784216335538, 'Recall': 0.37363168470378766}\n",
      "{'topN': 7, 'Precision': 0.9304347997477102, 'Recall': 0.4155271779874058}\n",
      "{'topN': 8, 'Precision': 0.9274310154525397, 'Recall': 0.4520480343468461}\n",
      "{'topN': 9, 'Precision': 0.9251108351728972, 'Recall': 0.48474759417241287}\n",
      "{'topN': 10, 'Precision': 0.9226531456953639, 'Recall': 0.5134083550618816}\n",
      "       user_id  movie_id  rating                                   title  \\\n",
      "2252        10       914       5                     My Fair Lady (1964)   \n",
      "5906        10      1197       5              Princess Bride, The (1987)   \n",
      "8927        10      2804       5               Christmas Story, A (1983)   \n",
      "10279       10       594       5  Snow White and the Seven Dwarfs (1937)   \n",
      "11043       10       919       5                Wizard of Oz, The (1939)   \n",
      "12761       10       595       5             Beauty and the Beast (1991)   \n",
      "14007       10      2398       5           Miracle on 34th Street (1947)   \n",
      "14387       10      2918       5         Ferris Bueller's Day Off (1986)   \n",
      "15861       10      1035       5              Sound of Music, The (1965)   \n",
      "20184       10      2797       5                              Big (1988)   \n",
      "\n",
      "                                   genres  \n",
      "2252                      Musical|Romance  \n",
      "5906      Action|Adventure|Comedy|Romance  \n",
      "8927                         Comedy|Drama  \n",
      "10279        Animation|Children's|Musical  \n",
      "11043  Adventure|Children's|Drama|Musical  \n",
      "12761        Animation|Children's|Musical  \n",
      "14007                               Drama  \n",
      "14387                              Comedy  \n",
      "15861                             Musical  \n",
      "20184                      Comedy|Fantasy  \n",
      "        user  movie_id  predicted_rating  \\\n",
      "46481     10       745          4.525868   \n",
      "127202    10      2067          4.482550   \n",
      "210166    10      3668          4.414682   \n",
      "85733     10      1233          4.356640   \n",
      "18745     10       260          4.350582   \n",
      "158931    10       953          4.311094   \n",
      "215341    10       913          4.304332   \n",
      "68059     10      1225          4.286146   \n",
      "31957     10      1947          4.284773   \n",
      "81733     10      3198          4.276006   \n",
      "\n",
      "                                            title  \\\n",
      "46481                       Close Shave, A (1995)   \n",
      "127202                      Doctor Zhivago (1965)   \n",
      "210166                    Romeo and Juliet (1968)   \n",
      "85733                 Boat, The (Das Boot) (1981)   \n",
      "18745   Star Wars: Episode IV - A New Hope (1977)   \n",
      "158931               It's a Wonderful Life (1946)   \n",
      "215341                 Maltese Falcon, The (1941)   \n",
      "68059                              Amadeus (1984)   \n",
      "31957                      West Side Story (1961)   \n",
      "81733                             Papillon (1973)   \n",
      "\n",
      "                                 genres  \n",
      "46481         Animation|Comedy|Thriller  \n",
      "127202                Drama|Romance|War  \n",
      "210166                    Drama|Romance  \n",
      "85733                  Action|Drama|War  \n",
      "18745   Action|Adventure|Fantasy|Sci-Fi  \n",
      "158931                            Drama  \n",
      "215341                Film-Noir|Mystery  \n",
      "68059                             Drama  \n",
      "31957                   Musical|Romance  \n",
      "81733                             Drama  \n"
     ]
    }
   ],
   "source": [
    "#Calculate precision and recall at n\n",
    "def get_precision_recall_at_n(predictions,topn,rating_threshold): \n",
    "    all_actual_predicted_list = defaultdict(list)\n",
    "    precision = dict()\n",
    "    recall= dict()\n",
    "    no_of_relevant_items = 0 \n",
    "    no_of_recommended_items_at_top_n = 0 \n",
    "    no_of_relevant_recommended_items_at_top_n = 0  \n",
    "    for uid, iid, true_r, est, _ in predictions:\n",
    "        all_actual_predicted_list[uid].append((est, true_r)) \n",
    "    for uid, user_ratings in all_actual_predicted_list.items():\n",
    "        user_ratings.sort(key=lambda x: x[0], reverse=True)\n",
    "        no_of_relevant_items = sum((true_r >= rating_threshold) for (_, true_r) in user_ratings)\n",
    "        no_of_recommended_items_at_top_n = sum((est >= rating_threshold) for (est, _) in user_ratings[:topn])\n",
    "        no_of_relevant_recommended_items_at_top_n = sum(((true_r >= rating_threshold) and (est >= rating_threshold)) for (est, true_r) in user_ratings[:topn])\n",
    "        precision[uid] = no_of_relevant_recommended_items_at_top_n / no_of_recommended_items_at_top_n if no_of_recommended_items_at_top_n != 0 else 1\n",
    "        recall[uid] = no_of_relevant_recommended_items_at_top_n / no_of_relevant_items if no_of_relevant_items != 0 else 1\n",
    "    return precision, recall \n",
    "\n",
    "rating_threshold=3 \n",
    "precision_recall_at_n = [] \n",
    "for topn in range(2,20):\n",
    "    precision, recall = get_precision_recall_at_n(predictions,topn,rating_threshold)\n",
    "    precision_at_n = sum(prec for prec in precision.values()) / len(precision)\n",
    "\n",
    "    recall_at_n = sum(rec for rec in recall.values()) / len(recall)\n",
    "    precision_recall_at_n.append({'topN' : topn, 'Precision' : precision_at_n, 'Recall': recall_at_n})\n",
    "for n in range(3,9):\n",
    "    print(precision_recall_at_n[n])\n",
    "#get user high rated and liked movies\n",
    "all_movie_df_details = pd.merge(df_ratings,df_movies, on='movie_id', how='inner')\n",
    "all_movie_df_details = all_movie_df_details.sort_values(['user_id','rating'],ascending=[True, False])\n",
    "print(all_movie_df_details.loc[all_movie_df_details['user_id'] == 10].head(10)) #user 10 top 10 rated movies\n",
    "#user 10 top 10 movie recommendations list \n",
    "print(top_n_recommendations_df.loc[top_n_recommendations_df['user'] == 10].head(10))"
   ]
  },
  {
   "cell_type": "code",
   "execution_count": null,
   "metadata": {},
   "outputs": [],
   "source": []
  }
 ],
 "metadata": {
  "kernelspec": {
   "display_name": "Python 3",
   "language": "python",
   "name": "python3"
  },
  "language_info": {
   "codemirror_mode": {
    "name": "ipython",
    "version": 3
   },
   "file_extension": ".py",
   "mimetype": "text/x-python",
   "name": "python",
   "nbconvert_exporter": "python",
   "pygments_lexer": "ipython3",
   "version": "3.7.6"
  }
 },
 "nbformat": 4,
 "nbformat_minor": 4
}
