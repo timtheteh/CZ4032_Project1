{
 "cells": [
  {
   "cell_type": "code",
   "execution_count": 1,
   "metadata": {},
   "outputs": [
    {
     "name": "stderr",
     "output_type": "stream",
     "text": [
      "/Users/timothyteh/opt/anaconda3/lib/python3.8/site-packages/lightfm/_lightfm_fast.py:9: UserWarning: LightFM was compiled without OpenMP support. Only a single thread will be used.\n",
      "  warnings.warn(\n"
     ]
    }
   ],
   "source": [
    "import pandas as pd\n",
    "import os\n",
    "from scipy.sparse import csr_matrix, coo_matrix\n",
    "import numpy as np\n",
    "from IPython.display import display_html\n",
    "import warnings\n",
    "import random\n",
    "import itertools\n",
    "\n",
    "import matplotlib.pyplot as plt\n",
    "from matplotlib.gridspec import GridSpec\n",
    "import seaborn as sns\n",
    "%matplotlib inline\n",
    "\n",
    "from lightfm.cross_validation import random_train_test_split\n",
    "from lightfm.evaluation import auc_score, precision_at_k, recall_at_k\n",
    "from lightfm import LightFM\n",
    "from skopt import forest_minimize\n",
    "\n",
    "from sklearn.utils import validation as skval\n",
    "from sklearn.model_selection import train_test_split\n",
    "\n",
    "warnings.filterwarnings(\"ignore\")\n",
    "\n",
    "pd.options.mode.chained_assignment = None  # default='warn'"
   ]
  },
  {
   "cell_type": "code",
   "execution_count": 2,
   "metadata": {},
   "outputs": [
    {
     "name": "stdout",
     "output_type": "stream",
     "text": [
      "CPU times: user 44.1 s, sys: 41.8 s, total: 1min 25s\n",
      "Wall time: 1min 47s\n"
     ]
    }
   ],
   "source": [
    "%%time\n",
    "books_metadata = pd.read_json('./datasets/goodreads_books_poetry.json', lines=True)\n",
    "interactions = pd.read_json('./datasets/goodreads_interactions_poetry.json', lines=True)"
   ]
  },
  {
   "cell_type": "markdown",
   "metadata": {},
   "source": [
    "### EDA for Books Metadata"
   ]
  },
  {
   "cell_type": "code",
   "execution_count": 3,
   "metadata": {},
   "outputs": [
    {
     "data": {
      "text/plain": [
       "array(['isbn', 'text_reviews_count', 'series', 'country_code',\n",
       "       'language_code', 'popular_shelves', 'asin', 'is_ebook',\n",
       "       'average_rating', 'kindle_asin', 'similar_books', 'description',\n",
       "       'format', 'link', 'authors', 'publisher', 'num_pages',\n",
       "       'publication_day', 'isbn13', 'publication_month',\n",
       "       'edition_information', 'publication_year', 'url', 'image_url',\n",
       "       'book_id', 'ratings_count', 'work_id', 'title',\n",
       "       'title_without_series'], dtype=object)"
      ]
     },
     "execution_count": 3,
     "metadata": {},
     "output_type": "execute_result"
    }
   ],
   "source": [
    "books_metadata.columns.values"
   ]
  },
  {
   "cell_type": "code",
   "execution_count": 4,
   "metadata": {},
   "outputs": [
    {
     "data": {
      "text/html": [
       "<div>\n",
       "<style scoped>\n",
       "    .dataframe tbody tr th:only-of-type {\n",
       "        vertical-align: middle;\n",
       "    }\n",
       "\n",
       "    .dataframe tbody tr th {\n",
       "        vertical-align: top;\n",
       "    }\n",
       "\n",
       "    .dataframe thead th {\n",
       "        text-align: right;\n",
       "    }\n",
       "</style>\n",
       "<table border=\"1\" class=\"dataframe\">\n",
       "  <thead>\n",
       "    <tr style=\"text-align: right;\">\n",
       "      <th></th>\n",
       "      <th>isbn</th>\n",
       "      <th>text_reviews_count</th>\n",
       "      <th>series</th>\n",
       "      <th>country_code</th>\n",
       "      <th>language_code</th>\n",
       "      <th>popular_shelves</th>\n",
       "      <th>asin</th>\n",
       "      <th>is_ebook</th>\n",
       "      <th>average_rating</th>\n",
       "      <th>kindle_asin</th>\n",
       "      <th>...</th>\n",
       "      <th>publication_month</th>\n",
       "      <th>edition_information</th>\n",
       "      <th>publication_year</th>\n",
       "      <th>url</th>\n",
       "      <th>image_url</th>\n",
       "      <th>book_id</th>\n",
       "      <th>ratings_count</th>\n",
       "      <th>work_id</th>\n",
       "      <th>title</th>\n",
       "      <th>title_without_series</th>\n",
       "    </tr>\n",
       "  </thead>\n",
       "  <tbody>\n",
       "    <tr>\n",
       "      <th>21102</th>\n",
       "      <td>0140430067</td>\n",
       "      <td>9</td>\n",
       "      <td>[]</td>\n",
       "      <td>US</td>\n",
       "      <td>eng</td>\n",
       "      <td>[{'count': '136', 'name': 'to-read'}, {'count'...</td>\n",
       "      <td></td>\n",
       "      <td>false</td>\n",
       "      <td>3.92</td>\n",
       "      <td></td>\n",
       "      <td>...</td>\n",
       "      <td></td>\n",
       "      <td></td>\n",
       "      <td></td>\n",
       "      <td>https://www.goodreads.com/book/show/935013.Thr...</td>\n",
       "      <td>https://s.gr-assets.com/assets/nophoto/book/11...</td>\n",
       "      <td>935013</td>\n",
       "      <td>114</td>\n",
       "      <td>919997</td>\n",
       "      <td>Three Jacobean Tragedies: The White Devil; The...</td>\n",
       "      <td>Three Jacobean Tragedies: The White Devil; The...</td>\n",
       "    </tr>\n",
       "    <tr>\n",
       "      <th>10002</th>\n",
       "      <td>1932870008</td>\n",
       "      <td>1</td>\n",
       "      <td>[]</td>\n",
       "      <td>US</td>\n",
       "      <td></td>\n",
       "      <td>[{'count': '2', 'name': 'poetry'}]</td>\n",
       "      <td></td>\n",
       "      <td>false</td>\n",
       "      <td>3.75</td>\n",
       "      <td></td>\n",
       "      <td>...</td>\n",
       "      <td></td>\n",
       "      <td></td>\n",
       "      <td></td>\n",
       "      <td>https://www.goodreads.com/book/show/1772402.Ha...</td>\n",
       "      <td>https://s.gr-assets.com/assets/nophoto/book/11...</td>\n",
       "      <td>1772402</td>\n",
       "      <td>4</td>\n",
       "      <td>1770565</td>\n",
       "      <td>Half Lives: Petrarchan Poems</td>\n",
       "      <td>Half Lives: Petrarchan Poems</td>\n",
       "    </tr>\n",
       "  </tbody>\n",
       "</table>\n",
       "<p>2 rows × 29 columns</p>\n",
       "</div>"
      ],
      "text/plain": [
       "             isbn  text_reviews_count series country_code language_code  \\\n",
       "21102  0140430067                   9     []           US           eng   \n",
       "10002  1932870008                   1     []           US                 \n",
       "\n",
       "                                         popular_shelves asin is_ebook  \\\n",
       "21102  [{'count': '136', 'name': 'to-read'}, {'count'...         false   \n",
       "10002                 [{'count': '2', 'name': 'poetry'}]         false   \n",
       "\n",
       "       average_rating kindle_asin  ... publication_month edition_information  \\\n",
       "21102            3.92              ...                                         \n",
       "10002            3.75              ...                                         \n",
       "\n",
       "      publication_year                                                url  \\\n",
       "21102                   https://www.goodreads.com/book/show/935013.Thr...   \n",
       "10002                   https://www.goodreads.com/book/show/1772402.Ha...   \n",
       "\n",
       "                                               image_url  book_id  \\\n",
       "21102  https://s.gr-assets.com/assets/nophoto/book/11...   935013   \n",
       "10002  https://s.gr-assets.com/assets/nophoto/book/11...  1772402   \n",
       "\n",
       "      ratings_count  work_id  \\\n",
       "21102           114   919997   \n",
       "10002             4  1770565   \n",
       "\n",
       "                                                   title  \\\n",
       "21102  Three Jacobean Tragedies: The White Devil; The...   \n",
       "10002                       Half Lives: Petrarchan Poems   \n",
       "\n",
       "                                    title_without_series  \n",
       "21102  Three Jacobean Tragedies: The White Devil; The...  \n",
       "10002                       Half Lives: Petrarchan Poems  \n",
       "\n",
       "[2 rows x 29 columns]"
      ]
     },
     "execution_count": 4,
     "metadata": {},
     "output_type": "execute_result"
    }
   ],
   "source": [
    "books_metadata.sample(2)"
   ]
  },
  {
   "cell_type": "code",
   "execution_count": 5,
   "metadata": {},
   "outputs": [
    {
     "data": {
      "text/plain": [
       "(36514, 29)"
      ]
     },
     "execution_count": 5,
     "metadata": {},
     "output_type": "execute_result"
    }
   ],
   "source": [
    "books_metadata.shape"
   ]
  },
  {
   "cell_type": "markdown",
   "metadata": {},
   "source": [
    "### Data Preprocessing for Books Metadata"
   ]
  },
  {
   "cell_type": "code",
   "execution_count": 6,
   "metadata": {},
   "outputs": [
    {
     "data": {
      "text/html": [
       "<div>\n",
       "<style scoped>\n",
       "    .dataframe tbody tr th:only-of-type {\n",
       "        vertical-align: middle;\n",
       "    }\n",
       "\n",
       "    .dataframe tbody tr th {\n",
       "        vertical-align: top;\n",
       "    }\n",
       "\n",
       "    .dataframe thead th {\n",
       "        text-align: right;\n",
       "    }\n",
       "</style>\n",
       "<table border=\"1\" class=\"dataframe\">\n",
       "  <thead>\n",
       "    <tr style=\"text-align: right;\">\n",
       "      <th></th>\n",
       "      <th>book_id</th>\n",
       "      <th>average_rating</th>\n",
       "      <th>is_ebook</th>\n",
       "      <th>num_pages</th>\n",
       "      <th>publication_year</th>\n",
       "      <th>ratings_count</th>\n",
       "      <th>language_code</th>\n",
       "    </tr>\n",
       "  </thead>\n",
       "  <tbody>\n",
       "    <tr>\n",
       "      <th>14477</th>\n",
       "      <td>30631518</td>\n",
       "      <td>3.63</td>\n",
       "      <td>false</td>\n",
       "      <td>232</td>\n",
       "      <td>2016</td>\n",
       "      <td>51</td>\n",
       "      <td>spa</td>\n",
       "    </tr>\n",
       "    <tr>\n",
       "      <th>1561</th>\n",
       "      <td>1530853</td>\n",
       "      <td>4.83</td>\n",
       "      <td>false</td>\n",
       "      <td></td>\n",
       "      <td>2007</td>\n",
       "      <td>11</td>\n",
       "      <td></td>\n",
       "    </tr>\n",
       "    <tr>\n",
       "      <th>27087</th>\n",
       "      <td>6979903</td>\n",
       "      <td>4.56</td>\n",
       "      <td>false</td>\n",
       "      <td>24</td>\n",
       "      <td>2009</td>\n",
       "      <td>9</td>\n",
       "      <td>eng</td>\n",
       "    </tr>\n",
       "    <tr>\n",
       "      <th>24264</th>\n",
       "      <td>27163855</td>\n",
       "      <td>4.60</td>\n",
       "      <td>false</td>\n",
       "      <td>74</td>\n",
       "      <td>2015</td>\n",
       "      <td>5</td>\n",
       "      <td></td>\n",
       "    </tr>\n",
       "    <tr>\n",
       "      <th>12816</th>\n",
       "      <td>16057339</td>\n",
       "      <td>4.25</td>\n",
       "      <td>false</td>\n",
       "      <td>156</td>\n",
       "      <td>2013</td>\n",
       "      <td>449</td>\n",
       "      <td>eng</td>\n",
       "    </tr>\n",
       "    <tr>\n",
       "      <th>11284</th>\n",
       "      <td>6764121</td>\n",
       "      <td>4.16</td>\n",
       "      <td>false</td>\n",
       "      <td>197</td>\n",
       "      <td>1964</td>\n",
       "      <td>1</td>\n",
       "      <td>eng</td>\n",
       "    </tr>\n",
       "    <tr>\n",
       "      <th>1767</th>\n",
       "      <td>153356</td>\n",
       "      <td>4.15</td>\n",
       "      <td>false</td>\n",
       "      <td>120</td>\n",
       "      <td>2002</td>\n",
       "      <td>76</td>\n",
       "      <td></td>\n",
       "    </tr>\n",
       "    <tr>\n",
       "      <th>11668</th>\n",
       "      <td>20661453</td>\n",
       "      <td>2.88</td>\n",
       "      <td>true</td>\n",
       "      <td></td>\n",
       "      <td></td>\n",
       "      <td>40</td>\n",
       "      <td></td>\n",
       "    </tr>\n",
       "    <tr>\n",
       "      <th>27762</th>\n",
       "      <td>20613520</td>\n",
       "      <td>4.32</td>\n",
       "      <td>false</td>\n",
       "      <td>224</td>\n",
       "      <td>2014</td>\n",
       "      <td>40</td>\n",
       "      <td></td>\n",
       "    </tr>\n",
       "    <tr>\n",
       "      <th>18891</th>\n",
       "      <td>7858300</td>\n",
       "      <td>4.02</td>\n",
       "      <td>false</td>\n",
       "      <td>208</td>\n",
       "      <td>2010</td>\n",
       "      <td>50</td>\n",
       "      <td></td>\n",
       "    </tr>\n",
       "  </tbody>\n",
       "</table>\n",
       "</div>"
      ],
      "text/plain": [
       "        book_id  average_rating is_ebook num_pages publication_year  \\\n",
       "14477  30631518            3.63    false       232             2016   \n",
       "1561    1530853            4.83    false                       2007   \n",
       "27087   6979903            4.56    false        24             2009   \n",
       "24264  27163855            4.60    false        74             2015   \n",
       "12816  16057339            4.25    false       156             2013   \n",
       "11284   6764121            4.16    false       197             1964   \n",
       "1767     153356            4.15    false       120             2002   \n",
       "11668  20661453            2.88     true                              \n",
       "27762  20613520            4.32    false       224             2014   \n",
       "18891   7858300            4.02    false       208             2010   \n",
       "\n",
       "       ratings_count language_code  \n",
       "14477             51           spa  \n",
       "1561              11                \n",
       "27087              9           eng  \n",
       "24264              5                \n",
       "12816            449           eng  \n",
       "11284              1           eng  \n",
       "1767              76                \n",
       "11668             40                \n",
       "27762             40                \n",
       "18891             50                "
      ]
     },
     "execution_count": 6,
     "metadata": {},
     "output_type": "execute_result"
    }
   ],
   "source": [
    "# Limit the books metadata to selected fields\n",
    "books_metadata_selected = books_metadata[['book_id', 'average_rating', 'is_ebook', 'num_pages', \n",
    "                                          'publication_year', 'ratings_count', 'language_code']]\n",
    "books_metadata_selected.sample(10)"
   ]
  },
  {
   "cell_type": "code",
   "execution_count": 7,
   "metadata": {},
   "outputs": [
    {
     "data": {
      "text/html": [
       "<div>\n",
       "<style scoped>\n",
       "    .dataframe tbody tr th:only-of-type {\n",
       "        vertical-align: middle;\n",
       "    }\n",
       "\n",
       "    .dataframe tbody tr th {\n",
       "        vertical-align: top;\n",
       "    }\n",
       "\n",
       "    .dataframe thead th {\n",
       "        text-align: right;\n",
       "    }\n",
       "</style>\n",
       "<table border=\"1\" class=\"dataframe\">\n",
       "  <thead>\n",
       "    <tr style=\"text-align: right;\">\n",
       "      <th></th>\n",
       "      <th>book_id</th>\n",
       "      <th>average_rating</th>\n",
       "      <th>is_ebook</th>\n",
       "      <th>num_pages</th>\n",
       "      <th>publication_year</th>\n",
       "      <th>ratings_count</th>\n",
       "      <th>language_code</th>\n",
       "    </tr>\n",
       "  </thead>\n",
       "  <tbody>\n",
       "    <tr>\n",
       "      <th>5834</th>\n",
       "      <td>267760</td>\n",
       "      <td>4.0</td>\n",
       "      <td>0.0</td>\n",
       "      <td>(437.44, 875.88]</td>\n",
       "      <td>1994</td>\n",
       "      <td>(73.0, 94.0]</td>\n",
       "      <td>eng</td>\n",
       "    </tr>\n",
       "    <tr>\n",
       "      <th>13786</th>\n",
       "      <td>25497800</td>\n",
       "      <td>3.0</td>\n",
       "      <td>0.0</td>\n",
       "      <td>(-11.961, 437.44]</td>\n",
       "      <td>2015</td>\n",
       "      <td>(-0.001, 2.0]</td>\n",
       "      <td>eng</td>\n",
       "    </tr>\n",
       "    <tr>\n",
       "      <th>13494</th>\n",
       "      <td>1258941</td>\n",
       "      <td>4.0</td>\n",
       "      <td>0.0</td>\n",
       "      <td>(-11.961, 437.44]</td>\n",
       "      <td>2002</td>\n",
       "      <td>(5.0, 7.0]</td>\n",
       "      <td>eng</td>\n",
       "    </tr>\n",
       "    <tr>\n",
       "      <th>12368</th>\n",
       "      <td>2864310</td>\n",
       "      <td>4.0</td>\n",
       "      <td>0.0</td>\n",
       "      <td>(-11.961, 437.44]</td>\n",
       "      <td>1977</td>\n",
       "      <td>(10.0, 12.0]</td>\n",
       "      <td>eng</td>\n",
       "    </tr>\n",
       "    <tr>\n",
       "      <th>4547</th>\n",
       "      <td>13588404</td>\n",
       "      <td>4.0</td>\n",
       "      <td>0.0</td>\n",
       "      <td>(-11.961, 437.44]</td>\n",
       "      <td>2012</td>\n",
       "      <td>(614.0, 1029527.0]</td>\n",
       "      <td>eng</td>\n",
       "    </tr>\n",
       "    <tr>\n",
       "      <th>13302</th>\n",
       "      <td>150253</td>\n",
       "      <td>4.5</td>\n",
       "      <td>0.0</td>\n",
       "      <td>(-11.961, 437.44]</td>\n",
       "      <td>2003</td>\n",
       "      <td>(614.0, 1029527.0]</td>\n",
       "      <td>eng</td>\n",
       "    </tr>\n",
       "    <tr>\n",
       "      <th>204</th>\n",
       "      <td>4361538</td>\n",
       "      <td>4.5</td>\n",
       "      <td>0.0</td>\n",
       "      <td>(-11.961, 437.44]</td>\n",
       "      <td>1998</td>\n",
       "      <td>(2.0, 3.0]</td>\n",
       "      <td>eng</td>\n",
       "    </tr>\n",
       "    <tr>\n",
       "      <th>14587</th>\n",
       "      <td>18906488</td>\n",
       "      <td>4.0</td>\n",
       "      <td>0.0</td>\n",
       "      <td>(-11.961, 437.44]</td>\n",
       "      <td>2014</td>\n",
       "      <td>(10.0, 12.0]</td>\n",
       "      <td>eng</td>\n",
       "    </tr>\n",
       "    <tr>\n",
       "      <th>35775</th>\n",
       "      <td>23433203</td>\n",
       "      <td>4.5</td>\n",
       "      <td>0.0</td>\n",
       "      <td>(-11.961, 437.44]</td>\n",
       "      <td>2014</td>\n",
       "      <td>(12.0, 14.0]</td>\n",
       "      <td>eng</td>\n",
       "    </tr>\n",
       "    <tr>\n",
       "      <th>13966</th>\n",
       "      <td>86922</td>\n",
       "      <td>4.0</td>\n",
       "      <td>0.0</td>\n",
       "      <td>(-11.961, 437.44]</td>\n",
       "      <td>2100</td>\n",
       "      <td>(179.0, 285.0]</td>\n",
       "      <td>eng</td>\n",
       "    </tr>\n",
       "  </tbody>\n",
       "</table>\n",
       "</div>"
      ],
      "text/plain": [
       "        book_id  average_rating  is_ebook          num_pages publication_year  \\\n",
       "5834     267760             4.0       0.0   (437.44, 875.88]             1994   \n",
       "13786  25497800             3.0       0.0  (-11.961, 437.44]             2015   \n",
       "13494   1258941             4.0       0.0  (-11.961, 437.44]             2002   \n",
       "12368   2864310             4.0       0.0  (-11.961, 437.44]             1977   \n",
       "4547   13588404             4.0       0.0  (-11.961, 437.44]             2012   \n",
       "13302    150253             4.5       0.0  (-11.961, 437.44]             2003   \n",
       "204     4361538             4.5       0.0  (-11.961, 437.44]             1998   \n",
       "14587  18906488             4.0       0.0  (-11.961, 437.44]             2014   \n",
       "35775  23433203             4.5       0.0  (-11.961, 437.44]             2014   \n",
       "13966     86922             4.0       0.0  (-11.961, 437.44]             2100   \n",
       "\n",
       "            ratings_count language_code  \n",
       "5834         (73.0, 94.0]           eng  \n",
       "13786       (-0.001, 2.0]           eng  \n",
       "13494          (5.0, 7.0]           eng  \n",
       "12368        (10.0, 12.0]           eng  \n",
       "4547   (614.0, 1029527.0]           eng  \n",
       "13302  (614.0, 1029527.0]           eng  \n",
       "204            (2.0, 3.0]           eng  \n",
       "14587        (10.0, 12.0]           eng  \n",
       "35775        (12.0, 14.0]           eng  \n",
       "13966      (179.0, 285.0]           eng  "
      ]
     },
     "execution_count": 7,
     "metadata": {},
     "output_type": "execute_result"
    }
   ],
   "source": [
    "### Preprocessing of Books_Metadata\n",
    "\n",
    "# replace blank cells with NaN\n",
    "books_metadata_selected.replace('', np.nan, inplace=True)\n",
    "\n",
    "# replace nan values in 'num_pages' to -1\n",
    "books_metadata_selected['num_pages'].replace(np.nan, -1, inplace=True)\n",
    "\n",
    "# convery values in 'num_pages' to numeric values\n",
    "books_metadata_selected['num_pages'] = pd.to_numeric(books_metadata_selected['num_pages'])\n",
    "\n",
    "# using pandas cut method to convert fields into discrete intervals\n",
    "books_metadata_selected['num_pages'] = pd.cut(books_metadata_selected['num_pages'], bins=25)\n",
    "\n",
    "# rounding ratings to neares .5 score\n",
    "books_metadata_selected['average_rating'] = books_metadata_selected['average_rating'].apply(lambda x: round(x*2)/2)\n",
    "\n",
    "# using pandas qcut method to convert fields into quantile-based discrete intervals\n",
    "books_metadata_selected['ratings_count'] = pd.qcut(books_metadata_selected['ratings_count'], 25)\n",
    "\n",
    "# replacing missing values to year 2100\n",
    "books_metadata_selected['publication_year'].replace(np.nan, 2100, inplace=True)\n",
    "\n",
    "# replacing missing values to 'unknown'\n",
    "books_metadata_selected['language_code'].replace(np.nan, 'unknown', inplace=True)\n",
    "\n",
    "# convert is_ebook column into 1/0 where true=1 and false=0\n",
    "books_metadata_selected['is_ebook'] = books_metadata_selected.is_ebook.map(lambda x: 1.0*(x == 'true'))\n",
    "\n",
    "# keep only english books\n",
    "books_metadata_selected = books_metadata_selected.loc[books_metadata_selected['language_code'] == 'eng']\n",
    "\n",
    "# print results\n",
    "books_metadata_selected.sample(10)"
   ]
  },
  {
   "cell_type": "code",
   "execution_count": 8,
   "metadata": {},
   "outputs": [
    {
     "data": {
      "text/plain": [
       "(8393, 7)"
      ]
     },
     "execution_count": 8,
     "metadata": {},
     "output_type": "execute_result"
    }
   ],
   "source": [
    "books_metadata_selected.shape"
   ]
  },
  {
   "cell_type": "markdown",
   "metadata": {},
   "source": [
    "### EDA for Interactions data"
   ]
  },
  {
   "cell_type": "code",
   "execution_count": 9,
   "metadata": {},
   "outputs": [
    {
     "data": {
      "text/plain": [
       "array(['user_id', 'book_id', 'review_id', 'is_read', 'rating',\n",
       "       'review_text_incomplete', 'date_added', 'date_updated', 'read_at',\n",
       "       'started_at'], dtype=object)"
      ]
     },
     "execution_count": 9,
     "metadata": {},
     "output_type": "execute_result"
    }
   ],
   "source": [
    "interactions.columns.values"
   ]
  },
  {
   "cell_type": "code",
   "execution_count": 10,
   "metadata": {},
   "outputs": [
    {
     "data": {
      "text/html": [
       "<div>\n",
       "<style scoped>\n",
       "    .dataframe tbody tr th:only-of-type {\n",
       "        vertical-align: middle;\n",
       "    }\n",
       "\n",
       "    .dataframe tbody tr th {\n",
       "        vertical-align: top;\n",
       "    }\n",
       "\n",
       "    .dataframe thead th {\n",
       "        text-align: right;\n",
       "    }\n",
       "</style>\n",
       "<table border=\"1\" class=\"dataframe\">\n",
       "  <thead>\n",
       "    <tr style=\"text-align: right;\">\n",
       "      <th></th>\n",
       "      <th>user_id</th>\n",
       "      <th>book_id</th>\n",
       "      <th>review_id</th>\n",
       "      <th>is_read</th>\n",
       "      <th>rating</th>\n",
       "      <th>review_text_incomplete</th>\n",
       "      <th>date_added</th>\n",
       "      <th>date_updated</th>\n",
       "      <th>read_at</th>\n",
       "      <th>started_at</th>\n",
       "    </tr>\n",
       "  </thead>\n",
       "  <tbody>\n",
       "    <tr>\n",
       "      <th>476169</th>\n",
       "      <td>e669346e31e35a2947fa7844486b9262</td>\n",
       "      <td>8138906</td>\n",
       "      <td>00d3edf90de934fb929b2a5c6f4a2140</td>\n",
       "      <td>False</td>\n",
       "      <td>0</td>\n",
       "      <td></td>\n",
       "      <td>Sun Oct 27 15:05:06 -0700 2013</td>\n",
       "      <td>Sun Oct 27 15:05:06 -0700 2013</td>\n",
       "      <td></td>\n",
       "      <td></td>\n",
       "    </tr>\n",
       "    <tr>\n",
       "      <th>2216158</th>\n",
       "      <td>c3a18d886abe4b68139105dc9e6d7de1</td>\n",
       "      <td>1609396</td>\n",
       "      <td>9968dbcef90997fd8a360dcc66dd0dae</td>\n",
       "      <td>False</td>\n",
       "      <td>0</td>\n",
       "      <td></td>\n",
       "      <td>Tue Dec 08 22:44:53 -0800 2015</td>\n",
       "      <td>Tue Dec 08 22:44:53 -0800 2015</td>\n",
       "      <td></td>\n",
       "      <td></td>\n",
       "    </tr>\n",
       "    <tr>\n",
       "      <th>202800</th>\n",
       "      <td>fd78163934bd87fa6d81158f85a0cd71</td>\n",
       "      <td>2073853</td>\n",
       "      <td>959813e8ce37f79add066bf72fdf0f66</td>\n",
       "      <td>True</td>\n",
       "      <td>5</td>\n",
       "      <td></td>\n",
       "      <td>Tue Sep 25 06:36:00 -0700 2012</td>\n",
       "      <td>Tue Jan 21 09:47:45 -0800 2014</td>\n",
       "      <td>Tue Jan 21 09:47:45 -0800 2014</td>\n",
       "      <td>Tue Jan 21 09:47:42 -0800 2014</td>\n",
       "    </tr>\n",
       "    <tr>\n",
       "      <th>569991</th>\n",
       "      <td>46084d80ffe7a7a7ec91f0ad2a8d96d1</td>\n",
       "      <td>618944</td>\n",
       "      <td>f8830b664b91ad6e7beb566d30556c38</td>\n",
       "      <td>True</td>\n",
       "      <td>5</td>\n",
       "      <td></td>\n",
       "      <td>Tue Mar 19 09:12:35 -0700 2013</td>\n",
       "      <td>Mon Feb 16 16:54:41 -0800 2015</td>\n",
       "      <td></td>\n",
       "      <td></td>\n",
       "    </tr>\n",
       "    <tr>\n",
       "      <th>2344793</th>\n",
       "      <td>6ac836310f327c789cdf6256c99277bf</td>\n",
       "      <td>6092946</td>\n",
       "      <td>14c73d4866aa442c145cea44488a6e6c</td>\n",
       "      <td>False</td>\n",
       "      <td>0</td>\n",
       "      <td></td>\n",
       "      <td>Mon Oct 05 09:58:16 -0700 2015</td>\n",
       "      <td>Mon Oct 05 09:58:18 -0700 2015</td>\n",
       "      <td></td>\n",
       "      <td></td>\n",
       "    </tr>\n",
       "  </tbody>\n",
       "</table>\n",
       "</div>"
      ],
      "text/plain": [
       "                                  user_id  book_id  \\\n",
       "476169   e669346e31e35a2947fa7844486b9262  8138906   \n",
       "2216158  c3a18d886abe4b68139105dc9e6d7de1  1609396   \n",
       "202800   fd78163934bd87fa6d81158f85a0cd71  2073853   \n",
       "569991   46084d80ffe7a7a7ec91f0ad2a8d96d1   618944   \n",
       "2344793  6ac836310f327c789cdf6256c99277bf  6092946   \n",
       "\n",
       "                                review_id  is_read  rating  \\\n",
       "476169   00d3edf90de934fb929b2a5c6f4a2140    False       0   \n",
       "2216158  9968dbcef90997fd8a360dcc66dd0dae    False       0   \n",
       "202800   959813e8ce37f79add066bf72fdf0f66     True       5   \n",
       "569991   f8830b664b91ad6e7beb566d30556c38     True       5   \n",
       "2344793  14c73d4866aa442c145cea44488a6e6c    False       0   \n",
       "\n",
       "        review_text_incomplete                      date_added  \\\n",
       "476169                          Sun Oct 27 15:05:06 -0700 2013   \n",
       "2216158                         Tue Dec 08 22:44:53 -0800 2015   \n",
       "202800                          Tue Sep 25 06:36:00 -0700 2012   \n",
       "569991                          Tue Mar 19 09:12:35 -0700 2013   \n",
       "2344793                         Mon Oct 05 09:58:16 -0700 2015   \n",
       "\n",
       "                           date_updated                         read_at  \\\n",
       "476169   Sun Oct 27 15:05:06 -0700 2013                                   \n",
       "2216158  Tue Dec 08 22:44:53 -0800 2015                                   \n",
       "202800   Tue Jan 21 09:47:45 -0800 2014  Tue Jan 21 09:47:45 -0800 2014   \n",
       "569991   Mon Feb 16 16:54:41 -0800 2015                                   \n",
       "2344793  Mon Oct 05 09:58:18 -0700 2015                                   \n",
       "\n",
       "                             started_at  \n",
       "476169                                   \n",
       "2216158                                  \n",
       "202800   Tue Jan 21 09:47:42 -0800 2014  \n",
       "569991                                   \n",
       "2344793                                  "
      ]
     },
     "execution_count": 10,
     "metadata": {},
     "output_type": "execute_result"
    }
   ],
   "source": [
    "interactions.sample(5)"
   ]
  },
  {
   "cell_type": "code",
   "execution_count": 11,
   "metadata": {},
   "outputs": [
    {
     "data": {
      "text/plain": [
       "(2734350, 10)"
      ]
     },
     "execution_count": 11,
     "metadata": {},
     "output_type": "execute_result"
    }
   ],
   "source": [
    "interactions.shape"
   ]
  },
  {
   "cell_type": "markdown",
   "metadata": {},
   "source": [
    "### Data Preprocessing for Interactions data"
   ]
  },
  {
   "cell_type": "code",
   "execution_count": 12,
   "metadata": {},
   "outputs": [
    {
     "data": {
      "text/html": [
       "<div>\n",
       "<style scoped>\n",
       "    .dataframe tbody tr th:only-of-type {\n",
       "        vertical-align: middle;\n",
       "    }\n",
       "\n",
       "    .dataframe tbody tr th {\n",
       "        vertical-align: top;\n",
       "    }\n",
       "\n",
       "    .dataframe thead th {\n",
       "        text-align: right;\n",
       "    }\n",
       "</style>\n",
       "<table border=\"1\" class=\"dataframe\">\n",
       "  <thead>\n",
       "    <tr style=\"text-align: right;\">\n",
       "      <th></th>\n",
       "      <th>user_id</th>\n",
       "      <th>book_id</th>\n",
       "      <th>is_read</th>\n",
       "      <th>rating</th>\n",
       "    </tr>\n",
       "  </thead>\n",
       "  <tbody>\n",
       "    <tr>\n",
       "      <th>0</th>\n",
       "      <td>8842281e1d1347389f2ab93d60773d4d</td>\n",
       "      <td>1384</td>\n",
       "      <td>1.0</td>\n",
       "      <td>4</td>\n",
       "    </tr>\n",
       "    <tr>\n",
       "      <th>1</th>\n",
       "      <td>8842281e1d1347389f2ab93d60773d4d</td>\n",
       "      <td>1376</td>\n",
       "      <td>1.0</td>\n",
       "      <td>4</td>\n",
       "    </tr>\n",
       "    <tr>\n",
       "      <th>2</th>\n",
       "      <td>8842281e1d1347389f2ab93d60773d4d</td>\n",
       "      <td>30119</td>\n",
       "      <td>1.0</td>\n",
       "      <td>5</td>\n",
       "    </tr>\n",
       "    <tr>\n",
       "      <th>3</th>\n",
       "      <td>72fb0d0087d28c832f15776b0d936598</td>\n",
       "      <td>24769928</td>\n",
       "      <td>0.0</td>\n",
       "      <td>0</td>\n",
       "    </tr>\n",
       "    <tr>\n",
       "      <th>4</th>\n",
       "      <td>72fb0d0087d28c832f15776b0d936598</td>\n",
       "      <td>30119</td>\n",
       "      <td>1.0</td>\n",
       "      <td>3</td>\n",
       "    </tr>\n",
       "    <tr>\n",
       "      <th>...</th>\n",
       "      <td>...</td>\n",
       "      <td>...</td>\n",
       "      <td>...</td>\n",
       "      <td>...</td>\n",
       "    </tr>\n",
       "    <tr>\n",
       "      <th>2734321</th>\n",
       "      <td>bfc558b791304f0ce74ad1c3a6ab08f7</td>\n",
       "      <td>1381</td>\n",
       "      <td>1.0</td>\n",
       "      <td>5</td>\n",
       "    </tr>\n",
       "    <tr>\n",
       "      <th>2734322</th>\n",
       "      <td>e9aea57d21cdf9d91a65687d59518924</td>\n",
       "      <td>25144676</td>\n",
       "      <td>0.0</td>\n",
       "      <td>0</td>\n",
       "    </tr>\n",
       "    <tr>\n",
       "      <th>2734323</th>\n",
       "      <td>e9aea57d21cdf9d91a65687d59518924</td>\n",
       "      <td>25330489</td>\n",
       "      <td>0.0</td>\n",
       "      <td>0</td>\n",
       "    </tr>\n",
       "    <tr>\n",
       "      <th>2734339</th>\n",
       "      <td>148e49f7ed14137ff13a9a31c770487d</td>\n",
       "      <td>291</td>\n",
       "      <td>0.0</td>\n",
       "      <td>0</td>\n",
       "    </tr>\n",
       "    <tr>\n",
       "      <th>2734340</th>\n",
       "      <td>148e49f7ed14137ff13a9a31c770487d</td>\n",
       "      <td>2547</td>\n",
       "      <td>1.0</td>\n",
       "      <td>5</td>\n",
       "    </tr>\n",
       "  </tbody>\n",
       "</table>\n",
       "<p>1352884 rows × 4 columns</p>\n",
       "</div>"
      ],
      "text/plain": [
       "                                  user_id   book_id  is_read  rating\n",
       "0        8842281e1d1347389f2ab93d60773d4d      1384      1.0       4\n",
       "1        8842281e1d1347389f2ab93d60773d4d      1376      1.0       4\n",
       "2        8842281e1d1347389f2ab93d60773d4d     30119      1.0       5\n",
       "3        72fb0d0087d28c832f15776b0d936598  24769928      0.0       0\n",
       "4        72fb0d0087d28c832f15776b0d936598     30119      1.0       3\n",
       "...                                   ...       ...      ...     ...\n",
       "2734321  bfc558b791304f0ce74ad1c3a6ab08f7      1381      1.0       5\n",
       "2734322  e9aea57d21cdf9d91a65687d59518924  25144676      0.0       0\n",
       "2734323  e9aea57d21cdf9d91a65687d59518924  25330489      0.0       0\n",
       "2734339  148e49f7ed14137ff13a9a31c770487d       291      0.0       0\n",
       "2734340  148e49f7ed14137ff13a9a31c770487d      2547      1.0       5\n",
       "\n",
       "[1352884 rows x 4 columns]"
      ]
     },
     "execution_count": 12,
     "metadata": {},
     "output_type": "execute_result"
    }
   ],
   "source": [
    "# Limit the books metadata to selected fields\n",
    "interactions_selected = interactions[['user_id', 'book_id', 'is_read', 'rating']]\n",
    "\n",
    "# Limit the books to only those in the preprocessed books metadata\n",
    "english_book_ids = list(books_metadata_selected['book_id'])\n",
    "interactions_selected = interactions_selected.loc[interactions_selected['book_id'].isin(english_book_ids)]\n",
    "\n",
    "# # mapping boolean to string\n",
    "booleanDictionary = {True: 'true', False: 'false'}\n",
    "interactions_selected['is_read'] = interactions_selected['is_read'].replace(booleanDictionary)\n",
    "\n",
    "# # convert is_read column into 1/0 where true=1 and false=0\n",
    "interactions_selected['is_read'] = interactions_selected.is_read.map(\n",
    "    lambda x: 1.0*(x == 'true'))\n",
    "\n",
    "interactions_selected"
   ]
  },
  {
   "cell_type": "code",
   "execution_count": 13,
   "metadata": {},
   "outputs": [
    {
     "data": {
      "text/html": [
       "<div>\n",
       "<style scoped>\n",
       "    .dataframe tbody tr th:only-of-type {\n",
       "        vertical-align: middle;\n",
       "    }\n",
       "\n",
       "    .dataframe tbody tr th {\n",
       "        vertical-align: top;\n",
       "    }\n",
       "\n",
       "    .dataframe thead th {\n",
       "        text-align: right;\n",
       "    }\n",
       "</style>\n",
       "<table border=\"1\" class=\"dataframe\">\n",
       "  <thead>\n",
       "    <tr style=\"text-align: right;\">\n",
       "      <th>rating</th>\n",
       "      <th>0</th>\n",
       "      <th>1</th>\n",
       "      <th>2</th>\n",
       "      <th>3</th>\n",
       "      <th>4</th>\n",
       "      <th>5</th>\n",
       "    </tr>\n",
       "    <tr>\n",
       "      <th>is_read</th>\n",
       "      <th></th>\n",
       "      <th></th>\n",
       "      <th></th>\n",
       "      <th></th>\n",
       "      <th></th>\n",
       "      <th></th>\n",
       "    </tr>\n",
       "  </thead>\n",
       "  <tbody>\n",
       "    <tr>\n",
       "      <th>0.0</th>\n",
       "      <td>685408.0</td>\n",
       "      <td>NaN</td>\n",
       "      <td>NaN</td>\n",
       "      <td>NaN</td>\n",
       "      <td>NaN</td>\n",
       "      <td>NaN</td>\n",
       "    </tr>\n",
       "    <tr>\n",
       "      <th>1.0</th>\n",
       "      <td>37226.0</td>\n",
       "      <td>9416.0</td>\n",
       "      <td>30095.0</td>\n",
       "      <td>118069.0</td>\n",
       "      <td>207232.0</td>\n",
       "      <td>265438.0</td>\n",
       "    </tr>\n",
       "  </tbody>\n",
       "</table>\n",
       "</div>"
      ],
      "text/plain": [
       "rating          0       1        2         3         4         5\n",
       "is_read                                                         \n",
       "0.0      685408.0     NaN      NaN       NaN       NaN       NaN\n",
       "1.0       37226.0  9416.0  30095.0  118069.0  207232.0  265438.0"
      ]
     },
     "execution_count": 13,
     "metadata": {},
     "output_type": "execute_result"
    }
   ],
   "source": [
    "# how many data points are there where the user hasn't read the book but have given the ratings.\n",
    "interactions_selected.groupby(['rating', 'is_read']).size().reset_index().pivot(columns='rating', index='is_read', values=0)"
   ]
  },
  {
   "cell_type": "code",
   "execution_count": 14,
   "metadata": {},
   "outputs": [
    {
     "data": {
      "text/html": [
       "<div>\n",
       "<style scoped>\n",
       "    .dataframe tbody tr th:only-of-type {\n",
       "        vertical-align: middle;\n",
       "    }\n",
       "\n",
       "    .dataframe tbody tr th {\n",
       "        vertical-align: top;\n",
       "    }\n",
       "\n",
       "    .dataframe thead th {\n",
       "        text-align: right;\n",
       "    }\n",
       "</style>\n",
       "<table border=\"1\" class=\"dataframe\">\n",
       "  <thead>\n",
       "    <tr style=\"text-align: right;\">\n",
       "      <th></th>\n",
       "      <th>user_id</th>\n",
       "      <th>book_id</th>\n",
       "      <th>rating</th>\n",
       "    </tr>\n",
       "  </thead>\n",
       "  <tbody>\n",
       "    <tr>\n",
       "      <th>300913</th>\n",
       "      <td>5f79262744dcb1b96d5fd83f845fde8e</td>\n",
       "      <td>1381</td>\n",
       "      <td>3</td>\n",
       "    </tr>\n",
       "    <tr>\n",
       "      <th>166095</th>\n",
       "      <td>f0f2cc52434fb415674480d9bb5dc94a</td>\n",
       "      <td>1420</td>\n",
       "      <td>5</td>\n",
       "    </tr>\n",
       "    <tr>\n",
       "      <th>1119150</th>\n",
       "      <td>911b7a480be06788d570e4a85486d131</td>\n",
       "      <td>119079</td>\n",
       "      <td>5</td>\n",
       "    </tr>\n",
       "    <tr>\n",
       "      <th>405452</th>\n",
       "      <td>53b04b3da7b14c19d2324cfaa3906796</td>\n",
       "      <td>21932950</td>\n",
       "      <td>3</td>\n",
       "    </tr>\n",
       "    <tr>\n",
       "      <th>1250151</th>\n",
       "      <td>17f4067b143e816b7ad3d5af15369859</td>\n",
       "      <td>3348584</td>\n",
       "      <td>4</td>\n",
       "    </tr>\n",
       "    <tr>\n",
       "      <th>2657298</th>\n",
       "      <td>5b1c4322e91836a0da572863a2eaef0d</td>\n",
       "      <td>1420</td>\n",
       "      <td>5</td>\n",
       "    </tr>\n",
       "    <tr>\n",
       "      <th>797933</th>\n",
       "      <td>83d11cd067da6629f82510f949625e38</td>\n",
       "      <td>12914</td>\n",
       "      <td>3</td>\n",
       "    </tr>\n",
       "    <tr>\n",
       "      <th>2594275</th>\n",
       "      <td>dccc7b6ecbe2ac5794e80f20e2815168</td>\n",
       "      <td>118252</td>\n",
       "      <td>3</td>\n",
       "    </tr>\n",
       "    <tr>\n",
       "      <th>1961382</th>\n",
       "      <td>054cb8dec88acc15db27c1b7e9f95196</td>\n",
       "      <td>29491487</td>\n",
       "      <td>4</td>\n",
       "    </tr>\n",
       "    <tr>\n",
       "      <th>1595372</th>\n",
       "      <td>3ddff5d2a8d28e9be0841e9737bb6737</td>\n",
       "      <td>4787999</td>\n",
       "      <td>4</td>\n",
       "    </tr>\n",
       "  </tbody>\n",
       "</table>\n",
       "</div>"
      ],
      "text/plain": [
       "                                  user_id   book_id  rating\n",
       "300913   5f79262744dcb1b96d5fd83f845fde8e      1381       3\n",
       "166095   f0f2cc52434fb415674480d9bb5dc94a      1420       5\n",
       "1119150  911b7a480be06788d570e4a85486d131    119079       5\n",
       "405452   53b04b3da7b14c19d2324cfaa3906796  21932950       3\n",
       "1250151  17f4067b143e816b7ad3d5af15369859   3348584       4\n",
       "2657298  5b1c4322e91836a0da572863a2eaef0d      1420       5\n",
       "797933   83d11cd067da6629f82510f949625e38     12914       3\n",
       "2594275  dccc7b6ecbe2ac5794e80f20e2815168    118252       3\n",
       "1961382  054cb8dec88acc15db27c1b7e9f95196  29491487       4\n",
       "1595372  3ddff5d2a8d28e9be0841e9737bb6737   4787999       4"
      ]
     },
     "execution_count": 14,
     "metadata": {},
     "output_type": "execute_result"
    }
   ],
   "source": [
    "# drop interactions where is_read is false, and limit interactions from random 5000 users to limit the data size for further analysis\n",
    "interactions_selected2 = interactions_selected.loc[interactions_selected['is_read']==1, ['user_id', 'book_id', 'rating']]\n",
    "\n",
    "interactions_selected2 = interactions_selected2[interactions_selected2['user_id'].isin(random.sample(list(interactions_selected2['user_id'].unique()), \n",
    "                                                                                                  k=5000))]\n",
    "\n",
    "interactions_selected2.sample(10)"
   ]
  },
  {
   "cell_type": "code",
   "execution_count": 15,
   "metadata": {},
   "outputs": [
    {
     "data": {
      "text/plain": [
       "(15243, 3)"
      ]
     },
     "execution_count": 15,
     "metadata": {},
     "output_type": "execute_result"
    }
   ],
   "source": [
    "interactions_selected2.shape"
   ]
  },
  {
   "cell_type": "code",
   "execution_count": 16,
   "metadata": {},
   "outputs": [
    {
     "name": "stdout",
     "output_type": "stream",
     "text": [
      "Average interactions per user: 3.0486\n"
     ]
    }
   ],
   "source": [
    "# computer average number of interactions per user\n",
    "list_of_all_users_who_rated = list(interactions_selected2['user_id'])\n",
    "interaction_dict = {}\n",
    "for user in list_of_all_users_who_rated:\n",
    "    if user not in interaction_dict.keys():\n",
    "        interaction_dict[user] = 1\n",
    "    else:\n",
    "        interaction_dict[user] += 1\n",
    "average_interactions_per_user = sum(interaction_dict.values()) / len(interaction_dict)\n",
    "print(\"Average interactions per user: {}\".format(average_interactions_per_user))"
   ]
  },
  {
   "cell_type": "code",
   "execution_count": 17,
   "metadata": {},
   "outputs": [
    {
     "data": {
      "text/plain": [
       "array([    1381,    30119, 30075802, ...,  8381810, 21891971, 13592242])"
      ]
     },
     "execution_count": 17,
     "metadata": {},
     "output_type": "execute_result"
    }
   ],
   "source": [
    "relevant_book_ids = interactions_selected2['book_id'].unique()\n",
    "relevant_book_ids"
   ]
  },
  {
   "cell_type": "markdown",
   "metadata": {},
   "source": [
    "### Data Preprocessing: Conversion to Compressed Sparse Row (CSR) Matrix for Interactions data"
   ]
  },
  {
   "cell_type": "code",
   "execution_count": 18,
   "metadata": {},
   "outputs": [
    {
     "data": {
      "text/html": [
       "<div>\n",
       "<style scoped>\n",
       "    .dataframe tbody tr th:only-of-type {\n",
       "        vertical-align: middle;\n",
       "    }\n",
       "\n",
       "    .dataframe tbody tr th {\n",
       "        vertical-align: top;\n",
       "    }\n",
       "\n",
       "    .dataframe thead th {\n",
       "        text-align: right;\n",
       "    }\n",
       "</style>\n",
       "<table border=\"1\" class=\"dataframe\">\n",
       "  <thead>\n",
       "    <tr style=\"text-align: right;\">\n",
       "      <th>book_id</th>\n",
       "      <th>244</th>\n",
       "      <th>290</th>\n",
       "      <th>291</th>\n",
       "      <th>292</th>\n",
       "      <th>484</th>\n",
       "      <th>676</th>\n",
       "      <th>1371</th>\n",
       "      <th>1372</th>\n",
       "      <th>1376</th>\n",
       "      <th>1381</th>\n",
       "      <th>...</th>\n",
       "      <th>35612585</th>\n",
       "      <th>35663570</th>\n",
       "      <th>35671033</th>\n",
       "      <th>35820905</th>\n",
       "      <th>35905478</th>\n",
       "      <th>36126998</th>\n",
       "      <th>36130073</th>\n",
       "      <th>36274645</th>\n",
       "      <th>36390042</th>\n",
       "      <th>36417323</th>\n",
       "    </tr>\n",
       "    <tr>\n",
       "      <th>user_id</th>\n",
       "      <th></th>\n",
       "      <th></th>\n",
       "      <th></th>\n",
       "      <th></th>\n",
       "      <th></th>\n",
       "      <th></th>\n",
       "      <th></th>\n",
       "      <th></th>\n",
       "      <th></th>\n",
       "      <th></th>\n",
       "      <th></th>\n",
       "      <th></th>\n",
       "      <th></th>\n",
       "      <th></th>\n",
       "      <th></th>\n",
       "      <th></th>\n",
       "      <th></th>\n",
       "      <th></th>\n",
       "      <th></th>\n",
       "      <th></th>\n",
       "      <th></th>\n",
       "    </tr>\n",
       "  </thead>\n",
       "  <tbody>\n",
       "    <tr>\n",
       "      <th>0012a2d9f76156d17aafc21c33dec83b</th>\n",
       "      <td>0.0</td>\n",
       "      <td>0.0</td>\n",
       "      <td>0.0</td>\n",
       "      <td>0.0</td>\n",
       "      <td>0.0</td>\n",
       "      <td>0.0</td>\n",
       "      <td>0.0</td>\n",
       "      <td>0.0</td>\n",
       "      <td>0.0</td>\n",
       "      <td>0.0</td>\n",
       "      <td>...</td>\n",
       "      <td>0.0</td>\n",
       "      <td>0.0</td>\n",
       "      <td>0.0</td>\n",
       "      <td>0.0</td>\n",
       "      <td>0.0</td>\n",
       "      <td>0.0</td>\n",
       "      <td>0.0</td>\n",
       "      <td>0.0</td>\n",
       "      <td>0.0</td>\n",
       "      <td>0.0</td>\n",
       "    </tr>\n",
       "    <tr>\n",
       "      <th>0019b485b2e71132a2cc6059cad87f26</th>\n",
       "      <td>0.0</td>\n",
       "      <td>0.0</td>\n",
       "      <td>0.0</td>\n",
       "      <td>0.0</td>\n",
       "      <td>0.0</td>\n",
       "      <td>0.0</td>\n",
       "      <td>0.0</td>\n",
       "      <td>0.0</td>\n",
       "      <td>0.0</td>\n",
       "      <td>0.0</td>\n",
       "      <td>...</td>\n",
       "      <td>0.0</td>\n",
       "      <td>0.0</td>\n",
       "      <td>0.0</td>\n",
       "      <td>0.0</td>\n",
       "      <td>0.0</td>\n",
       "      <td>0.0</td>\n",
       "      <td>0.0</td>\n",
       "      <td>0.0</td>\n",
       "      <td>0.0</td>\n",
       "      <td>0.0</td>\n",
       "    </tr>\n",
       "    <tr>\n",
       "      <th>0019e891665331a2d57eceda5f73cc43</th>\n",
       "      <td>0.0</td>\n",
       "      <td>0.0</td>\n",
       "      <td>0.0</td>\n",
       "      <td>0.0</td>\n",
       "      <td>0.0</td>\n",
       "      <td>0.0</td>\n",
       "      <td>0.0</td>\n",
       "      <td>0.0</td>\n",
       "      <td>0.0</td>\n",
       "      <td>0.0</td>\n",
       "      <td>...</td>\n",
       "      <td>0.0</td>\n",
       "      <td>0.0</td>\n",
       "      <td>0.0</td>\n",
       "      <td>0.0</td>\n",
       "      <td>0.0</td>\n",
       "      <td>0.0</td>\n",
       "      <td>0.0</td>\n",
       "      <td>0.0</td>\n",
       "      <td>0.0</td>\n",
       "      <td>0.0</td>\n",
       "    </tr>\n",
       "    <tr>\n",
       "      <th>00221b8ff651d375a5b066d2ff6c98da</th>\n",
       "      <td>0.0</td>\n",
       "      <td>0.0</td>\n",
       "      <td>0.0</td>\n",
       "      <td>0.0</td>\n",
       "      <td>0.0</td>\n",
       "      <td>0.0</td>\n",
       "      <td>0.0</td>\n",
       "      <td>0.0</td>\n",
       "      <td>0.0</td>\n",
       "      <td>0.0</td>\n",
       "      <td>...</td>\n",
       "      <td>0.0</td>\n",
       "      <td>0.0</td>\n",
       "      <td>0.0</td>\n",
       "      <td>0.0</td>\n",
       "      <td>0.0</td>\n",
       "      <td>0.0</td>\n",
       "      <td>0.0</td>\n",
       "      <td>0.0</td>\n",
       "      <td>0.0</td>\n",
       "      <td>0.0</td>\n",
       "    </tr>\n",
       "    <tr>\n",
       "      <th>0028a318edd10f4f3b218ad4a230102d</th>\n",
       "      <td>0.0</td>\n",
       "      <td>0.0</td>\n",
       "      <td>0.0</td>\n",
       "      <td>0.0</td>\n",
       "      <td>0.0</td>\n",
       "      <td>0.0</td>\n",
       "      <td>0.0</td>\n",
       "      <td>0.0</td>\n",
       "      <td>0.0</td>\n",
       "      <td>4.0</td>\n",
       "      <td>...</td>\n",
       "      <td>0.0</td>\n",
       "      <td>0.0</td>\n",
       "      <td>0.0</td>\n",
       "      <td>0.0</td>\n",
       "      <td>0.0</td>\n",
       "      <td>0.0</td>\n",
       "      <td>0.0</td>\n",
       "      <td>0.0</td>\n",
       "      <td>0.0</td>\n",
       "      <td>0.0</td>\n",
       "    </tr>\n",
       "    <tr>\n",
       "      <th>005bbacfe0299839508276070e464776</th>\n",
       "      <td>0.0</td>\n",
       "      <td>0.0</td>\n",
       "      <td>0.0</td>\n",
       "      <td>0.0</td>\n",
       "      <td>0.0</td>\n",
       "      <td>0.0</td>\n",
       "      <td>0.0</td>\n",
       "      <td>0.0</td>\n",
       "      <td>0.0</td>\n",
       "      <td>0.0</td>\n",
       "      <td>...</td>\n",
       "      <td>0.0</td>\n",
       "      <td>0.0</td>\n",
       "      <td>0.0</td>\n",
       "      <td>0.0</td>\n",
       "      <td>0.0</td>\n",
       "      <td>0.0</td>\n",
       "      <td>0.0</td>\n",
       "      <td>0.0</td>\n",
       "      <td>0.0</td>\n",
       "      <td>0.0</td>\n",
       "    </tr>\n",
       "    <tr>\n",
       "      <th>005d3d8ca7110191403ee6f86e594305</th>\n",
       "      <td>0.0</td>\n",
       "      <td>0.0</td>\n",
       "      <td>0.0</td>\n",
       "      <td>0.0</td>\n",
       "      <td>0.0</td>\n",
       "      <td>0.0</td>\n",
       "      <td>0.0</td>\n",
       "      <td>0.0</td>\n",
       "      <td>0.0</td>\n",
       "      <td>0.0</td>\n",
       "      <td>...</td>\n",
       "      <td>0.0</td>\n",
       "      <td>0.0</td>\n",
       "      <td>0.0</td>\n",
       "      <td>0.0</td>\n",
       "      <td>0.0</td>\n",
       "      <td>0.0</td>\n",
       "      <td>0.0</td>\n",
       "      <td>0.0</td>\n",
       "      <td>0.0</td>\n",
       "      <td>0.0</td>\n",
       "    </tr>\n",
       "    <tr>\n",
       "      <th>00809f14dfb891485d459c63b6f2f73e</th>\n",
       "      <td>0.0</td>\n",
       "      <td>0.0</td>\n",
       "      <td>0.0</td>\n",
       "      <td>0.0</td>\n",
       "      <td>0.0</td>\n",
       "      <td>0.0</td>\n",
       "      <td>0.0</td>\n",
       "      <td>0.0</td>\n",
       "      <td>0.0</td>\n",
       "      <td>0.0</td>\n",
       "      <td>...</td>\n",
       "      <td>0.0</td>\n",
       "      <td>0.0</td>\n",
       "      <td>0.0</td>\n",
       "      <td>0.0</td>\n",
       "      <td>0.0</td>\n",
       "      <td>0.0</td>\n",
       "      <td>0.0</td>\n",
       "      <td>0.0</td>\n",
       "      <td>0.0</td>\n",
       "      <td>0.0</td>\n",
       "    </tr>\n",
       "    <tr>\n",
       "      <th>0081571f69259ed4bf3ecd67ac4168a8</th>\n",
       "      <td>0.0</td>\n",
       "      <td>0.0</td>\n",
       "      <td>0.0</td>\n",
       "      <td>0.0</td>\n",
       "      <td>0.0</td>\n",
       "      <td>0.0</td>\n",
       "      <td>0.0</td>\n",
       "      <td>0.0</td>\n",
       "      <td>0.0</td>\n",
       "      <td>0.0</td>\n",
       "      <td>...</td>\n",
       "      <td>0.0</td>\n",
       "      <td>0.0</td>\n",
       "      <td>0.0</td>\n",
       "      <td>0.0</td>\n",
       "      <td>0.0</td>\n",
       "      <td>0.0</td>\n",
       "      <td>0.0</td>\n",
       "      <td>0.0</td>\n",
       "      <td>0.0</td>\n",
       "      <td>0.0</td>\n",
       "    </tr>\n",
       "    <tr>\n",
       "      <th>008ddcf3bdc417fa96e952e53b0d61c4</th>\n",
       "      <td>0.0</td>\n",
       "      <td>0.0</td>\n",
       "      <td>0.0</td>\n",
       "      <td>0.0</td>\n",
       "      <td>0.0</td>\n",
       "      <td>0.0</td>\n",
       "      <td>0.0</td>\n",
       "      <td>0.0</td>\n",
       "      <td>0.0</td>\n",
       "      <td>0.0</td>\n",
       "      <td>...</td>\n",
       "      <td>0.0</td>\n",
       "      <td>0.0</td>\n",
       "      <td>0.0</td>\n",
       "      <td>0.0</td>\n",
       "      <td>0.0</td>\n",
       "      <td>0.0</td>\n",
       "      <td>0.0</td>\n",
       "      <td>0.0</td>\n",
       "      <td>0.0</td>\n",
       "      <td>0.0</td>\n",
       "    </tr>\n",
       "  </tbody>\n",
       "</table>\n",
       "<p>10 rows × 2122 columns</p>\n",
       "</div>"
      ],
      "text/plain": [
       "book_id                           244       290       291       292       \\\n",
       "user_id                                                                    \n",
       "0012a2d9f76156d17aafc21c33dec83b       0.0       0.0       0.0       0.0   \n",
       "0019b485b2e71132a2cc6059cad87f26       0.0       0.0       0.0       0.0   \n",
       "0019e891665331a2d57eceda5f73cc43       0.0       0.0       0.0       0.0   \n",
       "00221b8ff651d375a5b066d2ff6c98da       0.0       0.0       0.0       0.0   \n",
       "0028a318edd10f4f3b218ad4a230102d       0.0       0.0       0.0       0.0   \n",
       "005bbacfe0299839508276070e464776       0.0       0.0       0.0       0.0   \n",
       "005d3d8ca7110191403ee6f86e594305       0.0       0.0       0.0       0.0   \n",
       "00809f14dfb891485d459c63b6f2f73e       0.0       0.0       0.0       0.0   \n",
       "0081571f69259ed4bf3ecd67ac4168a8       0.0       0.0       0.0       0.0   \n",
       "008ddcf3bdc417fa96e952e53b0d61c4       0.0       0.0       0.0       0.0   \n",
       "\n",
       "book_id                           484       676       1371      1372      \\\n",
       "user_id                                                                    \n",
       "0012a2d9f76156d17aafc21c33dec83b       0.0       0.0       0.0       0.0   \n",
       "0019b485b2e71132a2cc6059cad87f26       0.0       0.0       0.0       0.0   \n",
       "0019e891665331a2d57eceda5f73cc43       0.0       0.0       0.0       0.0   \n",
       "00221b8ff651d375a5b066d2ff6c98da       0.0       0.0       0.0       0.0   \n",
       "0028a318edd10f4f3b218ad4a230102d       0.0       0.0       0.0       0.0   \n",
       "005bbacfe0299839508276070e464776       0.0       0.0       0.0       0.0   \n",
       "005d3d8ca7110191403ee6f86e594305       0.0       0.0       0.0       0.0   \n",
       "00809f14dfb891485d459c63b6f2f73e       0.0       0.0       0.0       0.0   \n",
       "0081571f69259ed4bf3ecd67ac4168a8       0.0       0.0       0.0       0.0   \n",
       "008ddcf3bdc417fa96e952e53b0d61c4       0.0       0.0       0.0       0.0   \n",
       "\n",
       "book_id                           1376      1381      ...  35612585  35663570  \\\n",
       "user_id                                               ...                       \n",
       "0012a2d9f76156d17aafc21c33dec83b       0.0       0.0  ...       0.0       0.0   \n",
       "0019b485b2e71132a2cc6059cad87f26       0.0       0.0  ...       0.0       0.0   \n",
       "0019e891665331a2d57eceda5f73cc43       0.0       0.0  ...       0.0       0.0   \n",
       "00221b8ff651d375a5b066d2ff6c98da       0.0       0.0  ...       0.0       0.0   \n",
       "0028a318edd10f4f3b218ad4a230102d       0.0       4.0  ...       0.0       0.0   \n",
       "005bbacfe0299839508276070e464776       0.0       0.0  ...       0.0       0.0   \n",
       "005d3d8ca7110191403ee6f86e594305       0.0       0.0  ...       0.0       0.0   \n",
       "00809f14dfb891485d459c63b6f2f73e       0.0       0.0  ...       0.0       0.0   \n",
       "0081571f69259ed4bf3ecd67ac4168a8       0.0       0.0  ...       0.0       0.0   \n",
       "008ddcf3bdc417fa96e952e53b0d61c4       0.0       0.0  ...       0.0       0.0   \n",
       "\n",
       "book_id                           35671033  35820905  35905478  36126998  \\\n",
       "user_id                                                                    \n",
       "0012a2d9f76156d17aafc21c33dec83b       0.0       0.0       0.0       0.0   \n",
       "0019b485b2e71132a2cc6059cad87f26       0.0       0.0       0.0       0.0   \n",
       "0019e891665331a2d57eceda5f73cc43       0.0       0.0       0.0       0.0   \n",
       "00221b8ff651d375a5b066d2ff6c98da       0.0       0.0       0.0       0.0   \n",
       "0028a318edd10f4f3b218ad4a230102d       0.0       0.0       0.0       0.0   \n",
       "005bbacfe0299839508276070e464776       0.0       0.0       0.0       0.0   \n",
       "005d3d8ca7110191403ee6f86e594305       0.0       0.0       0.0       0.0   \n",
       "00809f14dfb891485d459c63b6f2f73e       0.0       0.0       0.0       0.0   \n",
       "0081571f69259ed4bf3ecd67ac4168a8       0.0       0.0       0.0       0.0   \n",
       "008ddcf3bdc417fa96e952e53b0d61c4       0.0       0.0       0.0       0.0   \n",
       "\n",
       "book_id                           36130073  36274645  36390042  36417323  \n",
       "user_id                                                                   \n",
       "0012a2d9f76156d17aafc21c33dec83b       0.0       0.0       0.0       0.0  \n",
       "0019b485b2e71132a2cc6059cad87f26       0.0       0.0       0.0       0.0  \n",
       "0019e891665331a2d57eceda5f73cc43       0.0       0.0       0.0       0.0  \n",
       "00221b8ff651d375a5b066d2ff6c98da       0.0       0.0       0.0       0.0  \n",
       "0028a318edd10f4f3b218ad4a230102d       0.0       0.0       0.0       0.0  \n",
       "005bbacfe0299839508276070e464776       0.0       0.0       0.0       0.0  \n",
       "005d3d8ca7110191403ee6f86e594305       0.0       0.0       0.0       0.0  \n",
       "00809f14dfb891485d459c63b6f2f73e       0.0       0.0       0.0       0.0  \n",
       "0081571f69259ed4bf3ecd67ac4168a8       0.0       0.0       0.0       0.0  \n",
       "008ddcf3bdc417fa96e952e53b0d61c4       0.0       0.0       0.0       0.0  \n",
       "\n",
       "[10 rows x 2122 columns]"
      ]
     },
     "execution_count": 18,
     "metadata": {},
     "output_type": "execute_result"
    }
   ],
   "source": [
    "user_book_interaction = pd.pivot_table(interactions_selected2, index='user_id', columns='book_id', values='rating')\n",
    "\n",
    "# fill missing values with 0\n",
    "user_book_interaction = user_book_interaction.fillna(0)\n",
    "\n",
    "user_book_interaction.head(10)"
   ]
  },
  {
   "cell_type": "code",
   "execution_count": 19,
   "metadata": {},
   "outputs": [
    {
     "data": {
      "text/plain": [
       "5000"
      ]
     },
     "execution_count": 19,
     "metadata": {},
     "output_type": "execute_result"
    }
   ],
   "source": [
    "len(user_book_interaction.index)"
   ]
  },
  {
   "cell_type": "code",
   "execution_count": 20,
   "metadata": {},
   "outputs": [],
   "source": [
    "user_book_interaction_csr = csr_matrix(user_book_interaction.values)"
   ]
  },
  {
   "cell_type": "code",
   "execution_count": 21,
   "metadata": {},
   "outputs": [],
   "source": [
    "user_id = list(user_book_interaction.index)\n",
    "user_dict = {}\n",
    "counter = 0 \n",
    "for i in user_id:\n",
    "    user_dict[i] = counter\n",
    "    counter += 1"
   ]
  },
  {
   "cell_type": "markdown",
   "metadata": {},
   "source": [
    "### Data Preprocessing: Conversion to Compressed Sparse Row (CSR) Matrix for Books Metadata"
   ]
  },
  {
   "cell_type": "code",
   "execution_count": 22,
   "metadata": {},
   "outputs": [],
   "source": [
    "item_dict ={}\n",
    "df = books_metadata[['book_id', 'title']].sort_values('book_id').reset_index()\n",
    "\n",
    "for i in range(df.shape[0]):\n",
    "    item_dict[(df.loc[i,'book_id'])] = df.loc[i,'title']\n",
    "    \n",
    "relevant_item_dict = {}\n",
    "for i in relevant_book_ids:\n",
    "    relevant_item_dict[i] = item_dict[i]\n"
   ]
  },
  {
   "cell_type": "code",
   "execution_count": 23,
   "metadata": {},
   "outputs": [
    {
     "data": {
      "text/html": [
       "<div>\n",
       "<style scoped>\n",
       "    .dataframe tbody tr th:only-of-type {\n",
       "        vertical-align: middle;\n",
       "    }\n",
       "\n",
       "    .dataframe tbody tr th {\n",
       "        vertical-align: top;\n",
       "    }\n",
       "\n",
       "    .dataframe thead th {\n",
       "        text-align: right;\n",
       "    }\n",
       "</style>\n",
       "<table border=\"1\" class=\"dataframe\">\n",
       "  <thead>\n",
       "    <tr style=\"text-align: right;\">\n",
       "      <th></th>\n",
       "      <th>average_rating_0.0</th>\n",
       "      <th>average_rating_1.5</th>\n",
       "      <th>average_rating_2.0</th>\n",
       "      <th>average_rating_2.5</th>\n",
       "      <th>average_rating_3.0</th>\n",
       "      <th>average_rating_3.5</th>\n",
       "      <th>average_rating_4.0</th>\n",
       "      <th>average_rating_4.5</th>\n",
       "      <th>average_rating_5.0</th>\n",
       "      <th>is_ebook_0.0</th>\n",
       "      <th>...</th>\n",
       "      <th>ratings_count_(40.0, 49.0]</th>\n",
       "      <th>ratings_count_(49.0, 59.0]</th>\n",
       "      <th>ratings_count_(59.0, 73.0]</th>\n",
       "      <th>ratings_count_(73.0, 94.0]</th>\n",
       "      <th>ratings_count_(94.0, 125.0]</th>\n",
       "      <th>ratings_count_(125.0, 179.0]</th>\n",
       "      <th>ratings_count_(179.0, 285.0]</th>\n",
       "      <th>ratings_count_(285.0, 614.0]</th>\n",
       "      <th>ratings_count_(614.0, 1029527.0]</th>\n",
       "      <th>language_code_eng</th>\n",
       "    </tr>\n",
       "    <tr>\n",
       "      <th>book_id</th>\n",
       "      <th></th>\n",
       "      <th></th>\n",
       "      <th></th>\n",
       "      <th></th>\n",
       "      <th></th>\n",
       "      <th></th>\n",
       "      <th></th>\n",
       "      <th></th>\n",
       "      <th></th>\n",
       "      <th></th>\n",
       "      <th></th>\n",
       "      <th></th>\n",
       "      <th></th>\n",
       "      <th></th>\n",
       "      <th></th>\n",
       "      <th></th>\n",
       "      <th></th>\n",
       "      <th></th>\n",
       "      <th></th>\n",
       "      <th></th>\n",
       "      <th></th>\n",
       "    </tr>\n",
       "  </thead>\n",
       "  <tbody>\n",
       "    <tr>\n",
       "      <th>244</th>\n",
       "      <td>0</td>\n",
       "      <td>0</td>\n",
       "      <td>0</td>\n",
       "      <td>0</td>\n",
       "      <td>0</td>\n",
       "      <td>0</td>\n",
       "      <td>1</td>\n",
       "      <td>0</td>\n",
       "      <td>0</td>\n",
       "      <td>1</td>\n",
       "      <td>...</td>\n",
       "      <td>0</td>\n",
       "      <td>0</td>\n",
       "      <td>1</td>\n",
       "      <td>0</td>\n",
       "      <td>0</td>\n",
       "      <td>0</td>\n",
       "      <td>0</td>\n",
       "      <td>0</td>\n",
       "      <td>0</td>\n",
       "      <td>1</td>\n",
       "    </tr>\n",
       "    <tr>\n",
       "      <th>290</th>\n",
       "      <td>0</td>\n",
       "      <td>0</td>\n",
       "      <td>0</td>\n",
       "      <td>0</td>\n",
       "      <td>0</td>\n",
       "      <td>0</td>\n",
       "      <td>1</td>\n",
       "      <td>0</td>\n",
       "      <td>0</td>\n",
       "      <td>1</td>\n",
       "      <td>...</td>\n",
       "      <td>0</td>\n",
       "      <td>0</td>\n",
       "      <td>0</td>\n",
       "      <td>0</td>\n",
       "      <td>0</td>\n",
       "      <td>0</td>\n",
       "      <td>0</td>\n",
       "      <td>0</td>\n",
       "      <td>1</td>\n",
       "      <td>1</td>\n",
       "    </tr>\n",
       "    <tr>\n",
       "      <th>291</th>\n",
       "      <td>0</td>\n",
       "      <td>0</td>\n",
       "      <td>0</td>\n",
       "      <td>0</td>\n",
       "      <td>0</td>\n",
       "      <td>0</td>\n",
       "      <td>1</td>\n",
       "      <td>0</td>\n",
       "      <td>0</td>\n",
       "      <td>1</td>\n",
       "      <td>...</td>\n",
       "      <td>0</td>\n",
       "      <td>0</td>\n",
       "      <td>0</td>\n",
       "      <td>0</td>\n",
       "      <td>0</td>\n",
       "      <td>0</td>\n",
       "      <td>0</td>\n",
       "      <td>0</td>\n",
       "      <td>1</td>\n",
       "      <td>1</td>\n",
       "    </tr>\n",
       "    <tr>\n",
       "      <th>292</th>\n",
       "      <td>0</td>\n",
       "      <td>0</td>\n",
       "      <td>0</td>\n",
       "      <td>0</td>\n",
       "      <td>0</td>\n",
       "      <td>0</td>\n",
       "      <td>1</td>\n",
       "      <td>0</td>\n",
       "      <td>0</td>\n",
       "      <td>1</td>\n",
       "      <td>...</td>\n",
       "      <td>0</td>\n",
       "      <td>0</td>\n",
       "      <td>0</td>\n",
       "      <td>0</td>\n",
       "      <td>0</td>\n",
       "      <td>0</td>\n",
       "      <td>0</td>\n",
       "      <td>0</td>\n",
       "      <td>1</td>\n",
       "      <td>1</td>\n",
       "    </tr>\n",
       "    <tr>\n",
       "      <th>484</th>\n",
       "      <td>0</td>\n",
       "      <td>0</td>\n",
       "      <td>0</td>\n",
       "      <td>0</td>\n",
       "      <td>0</td>\n",
       "      <td>0</td>\n",
       "      <td>0</td>\n",
       "      <td>1</td>\n",
       "      <td>0</td>\n",
       "      <td>1</td>\n",
       "      <td>...</td>\n",
       "      <td>0</td>\n",
       "      <td>0</td>\n",
       "      <td>0</td>\n",
       "      <td>0</td>\n",
       "      <td>0</td>\n",
       "      <td>0</td>\n",
       "      <td>1</td>\n",
       "      <td>0</td>\n",
       "      <td>0</td>\n",
       "      <td>1</td>\n",
       "    </tr>\n",
       "  </tbody>\n",
       "</table>\n",
       "<p>5 rows × 211 columns</p>\n",
       "</div>"
      ],
      "text/plain": [
       "         average_rating_0.0  average_rating_1.5  average_rating_2.0  \\\n",
       "book_id                                                               \n",
       "244                       0                   0                   0   \n",
       "290                       0                   0                   0   \n",
       "291                       0                   0                   0   \n",
       "292                       0                   0                   0   \n",
       "484                       0                   0                   0   \n",
       "\n",
       "         average_rating_2.5  average_rating_3.0  average_rating_3.5  \\\n",
       "book_id                                                               \n",
       "244                       0                   0                   0   \n",
       "290                       0                   0                   0   \n",
       "291                       0                   0                   0   \n",
       "292                       0                   0                   0   \n",
       "484                       0                   0                   0   \n",
       "\n",
       "         average_rating_4.0  average_rating_4.5  average_rating_5.0  \\\n",
       "book_id                                                               \n",
       "244                       1                   0                   0   \n",
       "290                       1                   0                   0   \n",
       "291                       1                   0                   0   \n",
       "292                       1                   0                   0   \n",
       "484                       0                   1                   0   \n",
       "\n",
       "         is_ebook_0.0  ...  ratings_count_(40.0, 49.0]  \\\n",
       "book_id                ...                               \n",
       "244                 1  ...                           0   \n",
       "290                 1  ...                           0   \n",
       "291                 1  ...                           0   \n",
       "292                 1  ...                           0   \n",
       "484                 1  ...                           0   \n",
       "\n",
       "         ratings_count_(49.0, 59.0]  ratings_count_(59.0, 73.0]  \\\n",
       "book_id                                                           \n",
       "244                               0                           1   \n",
       "290                               0                           0   \n",
       "291                               0                           0   \n",
       "292                               0                           0   \n",
       "484                               0                           0   \n",
       "\n",
       "         ratings_count_(73.0, 94.0]  ratings_count_(94.0, 125.0]  \\\n",
       "book_id                                                            \n",
       "244                               0                            0   \n",
       "290                               0                            0   \n",
       "291                               0                            0   \n",
       "292                               0                            0   \n",
       "484                               0                            0   \n",
       "\n",
       "         ratings_count_(125.0, 179.0]  ratings_count_(179.0, 285.0]  \\\n",
       "book_id                                                               \n",
       "244                                 0                             0   \n",
       "290                                 0                             0   \n",
       "291                                 0                             0   \n",
       "292                                 0                             0   \n",
       "484                                 0                             1   \n",
       "\n",
       "         ratings_count_(285.0, 614.0]  ratings_count_(614.0, 1029527.0]  \\\n",
       "book_id                                                                   \n",
       "244                                 0                                 0   \n",
       "290                                 0                                 1   \n",
       "291                                 0                                 1   \n",
       "292                                 0                                 1   \n",
       "484                                 0                                 0   \n",
       "\n",
       "         language_code_eng  \n",
       "book_id                     \n",
       "244                      1  \n",
       "290                      1  \n",
       "291                      1  \n",
       "292                      1  \n",
       "484                      1  \n",
       "\n",
       "[5 rows x 211 columns]"
      ]
     },
     "execution_count": 23,
     "metadata": {},
     "output_type": "execute_result"
    }
   ],
   "source": [
    "# dummify categorical features\n",
    "books_metadata_selected_transformed = pd.get_dummies(books_metadata_selected, columns = ['average_rating', 'is_ebook', 'num_pages', \n",
    "                                                                                         'publication_year', 'ratings_count', \n",
    "                                                                                         'language_code'])\n",
    "\n",
    "books_metadata_selected_transformed = books_metadata_selected_transformed.sort_values('book_id').reset_index().drop('index', axis=1)\n",
    "books_metadata_selected_transformed = books_metadata_selected_transformed.loc[books_metadata_selected_transformed[\"book_id\"].isin(relevant_item_dict)].set_index(\"book_id\")\n",
    "# books_metadata_selected_transformed = books_metadata_selected_transformed.transpose()\n",
    "books_metadata_selected_transformed.head(5)"
   ]
  },
  {
   "cell_type": "code",
   "execution_count": 24,
   "metadata": {},
   "outputs": [
    {
     "data": {
      "text/plain": [
       "(2122, 211)"
      ]
     },
     "execution_count": 24,
     "metadata": {},
     "output_type": "execute_result"
    }
   ],
   "source": [
    "books_metadata_selected_transformed.shape"
   ]
  },
  {
   "cell_type": "code",
   "execution_count": 25,
   "metadata": {},
   "outputs": [
    {
     "data": {
      "text/plain": [
       "<2122x211 sparse matrix of type '<class 'numpy.uint8'>'\n",
       "\twith 12732 stored elements in Compressed Sparse Row format>"
      ]
     },
     "execution_count": 25,
     "metadata": {},
     "output_type": "execute_result"
    }
   ],
   "source": [
    "# convert to csr matrix\n",
    "# books_metadata_csr = csr_matrix(books_metadata_selected_transformed.drop('book_id', axis=1).values)\n",
    "books_metadata_csr = csr_matrix(books_metadata_selected_transformed.values)\n",
    "books_metadata_csr"
   ]
  },
  {
   "cell_type": "code",
   "execution_count": 26,
   "metadata": {},
   "outputs": [
    {
     "data": {
      "text/plain": [
       "<2122x211 sparse matrix of type '<class 'numpy.uint8'>'\n",
       "\twith 12732 stored elements in COOrdinate format>"
      ]
     },
     "execution_count": 26,
     "metadata": {},
     "output_type": "execute_result"
    }
   ],
   "source": [
    "# books_metadata_coo = coo_matrix(books_metadata_selected_transformed.drop('book_id', axis=1).values)\n",
    "books_metadata_coo = coo_matrix(books_metadata_selected_transformed.values)\n",
    "books_metadata_coo"
   ]
  },
  {
   "cell_type": "markdown",
   "metadata": {},
   "source": [
    "### Hyperparameter Tuning"
   ]
  },
  {
   "cell_type": "code",
   "execution_count": 27,
   "metadata": {},
   "outputs": [
    {
     "data": {
      "text/plain": [
       "<5000x2122 sparse matrix of type '<class 'numpy.float64'>'\n",
       "\twith 11537 stored elements in COOrdinate format>"
      ]
     },
     "execution_count": 27,
     "metadata": {},
     "output_type": "execute_result"
    }
   ],
   "source": [
    "train_interactions, test_interactions = random_train_test_split(user_book_interaction_csr, test_percentage=0.2)\n",
    "train_interactions"
   ]
  },
  {
   "cell_type": "code",
   "execution_count": 28,
   "metadata": {},
   "outputs": [
    {
     "data": {
      "text/plain": [
       "<5000x2122 sparse matrix of type '<class 'numpy.float64'>'\n",
       "\twith 2885 stored elements in COOrdinate format>"
      ]
     },
     "execution_count": 28,
     "metadata": {},
     "output_type": "execute_result"
    }
   ],
   "source": [
    "test_interactions"
   ]
  },
  {
   "cell_type": "code",
   "execution_count": 29,
   "metadata": {},
   "outputs": [],
   "source": [
    "def sample_hyperparameters():\n",
    "    \"\"\"\n",
    "    Yield possible hyperparameter choices.\n",
    "    \"\"\"\n",
    "    while True:\n",
    "        yield {\n",
    "            \"no_components\": np.random.randint(16, 64),\n",
    "            \"learning_schedule\": np.random.choice([\"adagrad\", \"adadelta\"]),\n",
    "            \"loss\": np.random.choice([\"bpr\", \"warp\", \"warp-kos\"]),\n",
    "            \"learning_rate\": np.random.exponential(0.05),\n",
    "            \"item_alpha\": np.random.exponential(1e-8),\n",
    "            \"user_alpha\": np.random.exponential(1e-8),\n",
    "            \"max_sampled\": np.random.randint(5, 15),\n",
    "            \"num_epochs\": np.random.randint(5, 50),\n",
    "        }"
   ]
  },
  {
   "cell_type": "code",
   "execution_count": 30,
   "metadata": {},
   "outputs": [],
   "source": [
    "num_samples_for_random_search = 10"
   ]
  },
  {
   "cell_type": "code",
   "execution_count": 31,
   "metadata": {},
   "outputs": [],
   "source": [
    "def random_search_auc(train, item_features, num_samples=num_samples_for_random_search, num_threads=1, cv=5):\n",
    "    \"\"\"\n",
    "    Sample random hyperparameters, fit a LightFM model, and evaluate it\n",
    "    on the test set.\n",
    "    Parameters\n",
    "    ----------\n",
    "    train: np.float32 coo_matrix of shape [n_users, n_items]\n",
    "        Training data.\n",
    "    test: np.float32 coo_matrix of shape [n_users, n_items]\n",
    "        Test data.\n",
    "    num_samples: int, optional\n",
    "        Number of hyperparameter choices to evaluate.\n",
    "\n",
    "    Returns\n",
    "    -------\n",
    "    generator of (auc_score, hyperparameter dict, fitted model)\n",
    "    \"\"\"\n",
    "    for i in range(cv):\n",
    "        train2, validation = random_train_test_split(train, test_percentage=0.2)\n",
    "        for hyperparams in itertools.islice(sample_hyperparameters(), num_samples):\n",
    "            num_epochs = hyperparams.pop(\"num_epochs\")\n",
    "\n",
    "            model = LightFM(**hyperparams)\n",
    "            model.fit(train2, epochs=num_epochs,item_features=item_features, num_threads=num_threads)\n",
    "\n",
    "            score = auc_score(model, validation, train_interactions=train2, item_features = item_features, num_threads=num_threads).mean()\n",
    "\n",
    "            hyperparams[\"num_epochs\"] = num_epochs\n",
    "\n",
    "            yield (score, hyperparams, model)"
   ]
  },
  {
   "cell_type": "code",
   "execution_count": 32,
   "metadata": {},
   "outputs": [
    {
     "name": "stdout",
     "output_type": "stream",
     "text": [
      "Best AUC score 0.8818134069442749 \n",
      "Hyperparameters: \n",
      "{'no_components': 58, 'learning_schedule': 'adadelta', 'loss': 'warp', 'learning_rate': 0.01578404799775174, 'item_alpha': 1.2978987251459544e-08, 'user_alpha': 1.0002277375254094e-08, 'max_sampled': 14, 'num_epochs': 5}\n"
     ]
    }
   ],
   "source": [
    "### Best hyperparameters to maximise AUC score\n",
    "(score_auc, hyperparams_auc, model) = max(random_search_auc(train=train_interactions, item_features = books_metadata_csr, num_threads=1), key=lambda x: x[0])\n",
    "\n",
    "print(\"Best AUC score {} \\nHyperparameters: \\n{}\".format(score_auc, hyperparams_auc))"
   ]
  },
  {
   "cell_type": "code",
   "execution_count": 33,
   "metadata": {},
   "outputs": [
    {
     "data": {
      "text/plain": [
       "<5000x2122 sparse matrix of type '<class 'numpy.float64'>'\n",
       "\twith 9229 stored elements in COOrdinate format>"
      ]
     },
     "execution_count": 33,
     "metadata": {},
     "output_type": "execute_result"
    }
   ],
   "source": [
    "train2, validation = random_train_test_split(train_interactions, test_percentage=0.2)\n",
    "train2"
   ]
  },
  {
   "cell_type": "code",
   "execution_count": 34,
   "metadata": {},
   "outputs": [
    {
     "data": {
      "text/plain": [
       "<5000x2122 sparse matrix of type '<class 'numpy.float64'>'\n",
       "\twith 2308 stored elements in COOrdinate format>"
      ]
     },
     "execution_count": 34,
     "metadata": {},
     "output_type": "execute_result"
    }
   ],
   "source": [
    "validation"
   ]
  },
  {
   "cell_type": "code",
   "execution_count": 35,
   "metadata": {},
   "outputs": [],
   "source": [
    "def random_search_precision_at_k(k, train, item_features, num_samples=num_samples_for_random_search, num_threads=1, cv=5):\n",
    "    \"\"\"\n",
    "    Sample random hyperparameters, fit a LightFM model, and evaluate it\n",
    "    on the test set.\n",
    "    Parameters\n",
    "    ----------\n",
    "    train: np.float32 coo_matrix of shape [n_users, n_items]\n",
    "        Training data.\n",
    "    test: np.float32 coo_matrix of shape [n_users, n_items]\n",
    "        Test data.\n",
    "    num_samples: int, optional\n",
    "        Number of hyperparameter choices to evaluate.\n",
    "\n",
    "    Returns\n",
    "    -------\n",
    "    generator of (auc_score, hyperparameter dict, fitted model)\n",
    "    \"\"\"\n",
    "    for i in range(cv):\n",
    "        train2, validation = random_train_test_split(train, test_percentage=0.2)\n",
    "        for hyperparams in itertools.islice(sample_hyperparameters(), num_samples):\n",
    "            num_epochs = hyperparams.pop(\"num_epochs\")\n",
    "\n",
    "            model = LightFM(**hyperparams)\n",
    "            model.fit(train2, epochs=num_epochs,item_features=item_features, num_threads=num_threads)\n",
    "\n",
    "            score = precision_at_k(model, validation, train2, k=k, item_features=item_features, preserve_rows=False, num_threads=1, check_intersections=True).mean()\n",
    "\n",
    "            hyperparams[\"num_epochs\"] = num_epochs\n",
    "\n",
    "            yield (score, hyperparams, model)"
   ]
  },
  {
   "cell_type": "code",
   "execution_count": 36,
   "metadata": {},
   "outputs": [
    {
     "name": "stdout",
     "output_type": "stream",
     "text": [
      "\n",
      "Best precision score at k=1000: 0.00127557257656008\n",
      "Precision scores at k=1000: [0.0013264916, 0.0007350867, 0.0004934787, 0.00037010905, 0.0002960872]\n",
      "\n",
      "Best precision score at k=2000: 0.0007100387010723352\n",
      "Precision scores at k=2000: [0.0013187942, 0.0007363695, 0.0004934787, 0.00037010905, 0.0002960872]\n",
      "\n",
      "Best precision score at k=3000: 0.0004740626900456846\n",
      "Precision scores at k=3000: [0.001320077, 0.00073604885, 0.0004934787, 0.00037010905, 0.0002960872]\n",
      "\n",
      "Best precision score at k=4000: 0.0003630999708548188\n",
      "Precision scores at k=4000: [0.0011449648, 0.00072097505, 0.0004934787, 0.00037010905, 0.0002960872]\n",
      "\n",
      "Best precision score at k=5000: 0.00028226294671185315\n",
      "Precision scores at k=5000: [0.001315587, 0.00073284167, 0.0004934787, 0.00037010905, 0.0002960872]\n",
      "\n",
      "Best highest average precision: 0.0006442506506573409 \n",
      "Best k: 1000 \n",
      "Best hyperparams to maximise precision_at_k score: {'no_components': 52, 'learning_schedule': 'adagrad', 'loss': 'warp-kos', 'learning_rate': 0.00033705355885603016, 'item_alpha': 1.734872636083319e-08, 'user_alpha': 4.4603323729875204e-09, 'max_sampled': 9, 'num_epochs': 5}\n"
     ]
    },
    {
     "data": {
      "image/png": "[encoded data removed]",
      "text/plain": [
       "<Figure size 432x288 with 1 Axes>"
      ]
     },
     "metadata": {
      "needs_background": "light"
     },
     "output_type": "display_data"
    },
    {
     "data": {
      "image/png": "[encoded data removed]",
      "text/plain": [
       "<Figure size 432x288 with 1 Axes>"
      ]
     },
     "metadata": {
      "needs_background": "light"
     },
     "output_type": "display_data"
    },
    {
     "data": {
      "image/png": "[encoded data removed]",
      "text/plain": [
       "<Figure size 432x288 with 1 Axes>"
      ]
     },
     "metadata": {
      "needs_background": "light"
     },
     "output_type": "display_data"
    },
    {
     "data": {
      "image/png": "[encoded data removed]",
      "text/plain": [
       "<Figure size 432x288 with 1 Axes>"
      ]
     },
     "metadata": {
      "needs_background": "light"
     },
     "output_type": "display_data"
    },
    {
     "data": {
      "image/png": "[encoded data removed]",
      "text/plain": [
       "<Figure size 432x288 with 1 Axes>"
      ]
     },
     "metadata": {
      "needs_background": "light"
     },
     "output_type": "display_data"
    }
   ],
   "source": [
    "### Best hyperparameters to maximise precision_at_k score\n",
    "\n",
    "# Experiment 1: large k-values\n",
    "counter = 1\n",
    "best_average_score_precision = 0\n",
    "best_hyperparams_precision = None\n",
    "best_model_precision = None\n",
    "best_k = 0\n",
    "for k in range(1000, 5001, 1000):\n",
    "    (score_precision, hyperparams_precision, model) = max(random_search_precision_at_k(k=k, train=train2, item_features = books_metadata_csr, num_threads=1), key=lambda x: x[0])\n",
    "    print(\"\\nBest precision score at k={}: {}\".format(k, score_precision))\n",
    "    precision_score_array = []\n",
    "    # After getting the best hyperparams for the model at a specific k, we see how its precision score changes as k changes\n",
    "    for j in range(1000, 5001, 1000):\n",
    "        precision_score = precision_at_k(model, validation, train2, k=j, item_features=books_metadata_csr, preserve_rows=False, num_threads=1, check_intersections=True).mean()\n",
    "        precision_score_array.append(precision_score)\n",
    "    ave_precision_score = sum(precision_score_array) / len(precision_score_array)\n",
    "    if ave_precision_score > best_average_score_precision:\n",
    "        best_average_score_precision = ave_precision_score\n",
    "        best_hyperparams_precision = hyperparams_precision\n",
    "        best_model_precision = model\n",
    "        best_k = k\n",
    "    print(\"Precision scores at k={}: {}\".format(k, precision_score_array))\n",
    "    plt.figure(counter)\n",
    "    plt.plot(range(1000, 5001,1000), precision_score_array)\n",
    "    plt.xlabel('k')\n",
    "    plt.ylabel('precision')\n",
    "    plt.title(\"Precision scores at different k values. Model: tuned model at k={}\".format(k))\n",
    "    plt.show\n",
    "    counter+=1\n",
    "\n",
    "print(\"\\nBest highest average precision: {} \\nBest k: {} \\nBest hyperparams to maximise precision_at_k score: {}\".format(best_average_score_precision, best_k, hyperparams_precision))"
   ]
  },
  {
   "cell_type": "code",
   "execution_count": 37,
   "metadata": {},
   "outputs": [
    {
     "name": "stdout",
     "output_type": "stream",
     "text": [
      "\n",
      "Best precision score at k=1: 0.10347431898117065\n",
      "Precision scores at k=1: [0.123797305, 0.061898652, 0.041693393, 0.032392558, 0.025914049, 0.021808852, 0.018784937, 0.016436819, 0.014610506]\n",
      "\n",
      "Best precision score at k=2: 0.0572720430791378\n",
      "Precision scores at k=2: [0.123797305, 0.061898652, 0.041693393, 0.032392558, 0.026042337, 0.021701947, 0.018693304, 0.016436819, 0.014610506]\n",
      "\n",
      "Best precision score at k=3: 0.039453718811273575\n",
      "Precision scores at k=3: [0.123797305, 0.06221937, 0.041479584, 0.031430405, 0.026170624, 0.022129571, 0.019792909, 0.020525979, 0.021452498]\n",
      "\n",
      "Best precision score at k=4: 0.01727410778403282\n",
      "Precision scores at k=4: [0.043617703, 0.028864658, 0.02159504, 0.019724183, 0.017447082, 0.016249733, 0.016860625, 0.015795382, 0.015323213]\n",
      "\n",
      "Best precision score at k=5: 0.0160059854388237\n",
      "Precision scores at k=5: [0.010904426, 0.012828737, 0.010690615, 0.011545863, 0.017318795, 0.0151806725, 0.01695226, 0.016597178, 0.015750838]\n",
      "\n",
      "Best precision score at k=6: 0.01815677620470524\n",
      "Precision scores at k=6: [0.07055805, 0.039448366, 0.02907847, 0.023733161, 0.019756256, 0.018067138, 0.017318795, 0.015795382, 0.015679566]\n",
      "\n",
      "Best precision score at k=7: 0.015313935466110706\n",
      "Precision scores at k=7: [0.012187299, 0.007055805, 0.0066281804, 0.007697242, 0.018473381, 0.016677357, 0.01603592, 0.016516998, 0.016606087]\n",
      "\n",
      "Best precision score at k=8: 0.016370173543691635\n",
      "Precision scores at k=8: [0.0019243105, 0.008980116, 0.0074834297, 0.007055805, 0.024374599, 0.021915758, 0.020800881, 0.018681847, 0.017603878]\n",
      "\n",
      "Best precision score at k=9: 0.016217565163969994\n",
      "Precision scores at k=9: [0.123797305, 0.06221937, 0.041479584, 0.031751122, 0.026170624, 0.022022666, 0.019792909, 0.019323284, 0.018530399]\n",
      "\n",
      "Best highest average precision: 0.04099980493386587 \n",
      "Best k: 3 \n",
      "Best hyperparams to maximise precision_at_k score: {'no_components': 63, 'learning_schedule': 'adagrad', 'loss': 'warp', 'learning_rate': 0.0009461317742991495, 'item_alpha': 3.656444878438437e-08, 'user_alpha': 1.3754940941233449e-08, 'max_sampled': 5, 'num_epochs': 34}\n"
     ]
    },
    {
     "data": {
      "image/png": "[encoded data removed]",
      "text/plain": [
       "<Figure size 432x288 with 1 Axes>"
      ]
     },
     "metadata": {
      "needs_background": "light"
     },
     "output_type": "display_data"
    },
    {
     "data": {
      "image/png": "[encoded data removed]",
      "text/plain": [
       "<Figure size 432x288 with 1 Axes>"
      ]
     },
     "metadata": {
      "needs_background": "light"
     },
     "output_type": "display_data"
    },
    {
     "data": {
      "image/png": "[encoded data removed]",
      "text/plain": [
       "<Figure size 432x288 with 1 Axes>"
      ]
     },
     "metadata": {
      "needs_background": "light"
     },
     "output_type": "display_data"
    },
    {
     "data": {
      "image/png": "[encoded data removed]",
      "text/plain": [
       "<Figure size 432x288 with 1 Axes>"
      ]
     },
     "metadata": {
      "needs_background": "light"
     },
     "output_type": "display_data"
    },
    {
     "data": {
      "image/png": "[encoded data removed]",
      "text/plain": [
       "<Figure size 432x288 with 1 Axes>"
      ]
     },
     "metadata": {
      "needs_background": "light"
     },
     "output_type": "display_data"
    },
    {
     "data": {
      "image/png": "[encoded data removed]",
      "text/plain": [
       "<Figure size 432x288 with 1 Axes>"
      ]
     },
     "metadata": {
      "needs_background": "light"
     },
     "output_type": "display_data"
    },
    {
     "data": {
      "image/png": "[encoded data removed]",
      "text/plain": [
       "<Figure size 432x288 with 1 Axes>"
      ]
     },
     "metadata": {
      "needs_background": "light"
     },
     "output_type": "display_data"
    },
    {
     "data": {
      "image/png": "[encoded data removed]",
      "text/plain": [
       "<Figure size 432x288 with 1 Axes>"
      ]
     },
     "metadata": {
      "needs_background": "light"
     },
     "output_type": "display_data"
    },
    {
     "data": {
      "image/png": "[encoded data removed]",
      "text/plain": [
       "<Figure size 432x288 with 1 Axes>"
      ]
     },
     "metadata": {
      "needs_background": "light"
     },
     "output_type": "display_data"
    }
   ],
   "source": [
    "### Best hyperparameters to maximise precision_at_k score\n",
    "\n",
    "# Experiment 2: low k-values\n",
    "counter = 1\n",
    "best_average_score_precision = 0\n",
    "best_hyperparams_precision = None\n",
    "best_model_precision = None\n",
    "best_k = 0\n",
    "for k in range(1, 10):\n",
    "    (score_precision, hyperparams_precision, model) = max(random_search_precision_at_k(k=k, train=train2, item_features = books_metadata_csr, num_threads=1), key=lambda x: x[0])\n",
    "    print(\"\\nBest precision score at k={}: {}\".format(k, score_precision))\n",
    "    precision_score_array = []\n",
    "    # After getting the best hyperparams for the model at a specific k, we see how its precision score changes as k changes\n",
    "    for j in range(1, 10):\n",
    "        precision_score = precision_at_k(model, validation, train2, k=j, item_features=books_metadata_csr, preserve_rows=False, num_threads=1, check_intersections=True).mean()\n",
    "        precision_score_array.append(precision_score)\n",
    "    ave_precision_score = sum(precision_score_array) / len(precision_score_array)\n",
    "    if ave_precision_score > best_average_score_precision:\n",
    "        best_average_score_precision = ave_precision_score\n",
    "        best_hyperparams_precision = hyperparams_precision\n",
    "        best_model_precision = model\n",
    "        best_k = k\n",
    "    print(\"Precision scores at k={}: {}\".format(k, precision_score_array))\n",
    "    plt.figure(counter)\n",
    "    plt.plot(range(1, 10), precision_score_array)\n",
    "    plt.xlabel('k')\n",
    "    plt.ylabel('precision')\n",
    "    plt.title(\"Precision scores at different k values. Model: tuned model at k={}\".format(k))\n",
    "    plt.show\n",
    "    counter+=1\n",
    "\n",
    "print(\"\\nBest highest average precision: {} \\nBest k: {} \\nBest hyperparams to maximise precision_at_k score: {}\".format(best_average_score_precision, best_k, hyperparams_precision))"
   ]
  },
  {
   "cell_type": "code",
   "execution_count": 38,
   "metadata": {},
   "outputs": [],
   "source": [
    "def random_search_recall_at_k(k, train, item_features, num_samples=num_samples_for_random_search, num_threads=1, cv=5):\n",
    "    \"\"\"\n",
    "    Sample random hyperparameters, fit a LightFM model, and evaluate it\n",
    "    on the test set.\n",
    "    Parameters\n",
    "    ----------\n",
    "    train: np.float32 coo_matrix of shape [n_users, n_items]\n",
    "        Training data.\n",
    "    test: np.float32 coo_matrix of shape [n_users, n_items]\n",
    "        Test data.\n",
    "    num_samples: int, optional\n",
    "        Number of hyperparameter choices to evaluate.\n",
    "\n",
    "    Returns\n",
    "    -------\n",
    "    generator of (auc_score, hyperparameter dict, fitted model)\n",
    "    \"\"\"\n",
    "    for i in range(cv):\n",
    "        train2, validation = random_train_test_split(train, test_percentage=0.2)\n",
    "        for hyperparams in itertools.islice(sample_hyperparameters(), num_samples):\n",
    "            num_epochs = hyperparams.pop(\"num_epochs\")\n",
    "\n",
    "            model = LightFM(**hyperparams)\n",
    "            model.fit(train, epochs=num_epochs,item_features=item_features, num_threads=num_threads)\n",
    "\n",
    "            score = recall_at_k(model, test_interactions, train_interactions, k=k, item_features=item_features, preserve_rows=False, num_threads=1, check_intersections=True).mean()\n",
    "\n",
    "            hyperparams[\"num_epochs\"] = num_epochs\n",
    "\n",
    "            yield (score, hyperparams, model)"
   ]
  },
  {
   "cell_type": "code",
   "execution_count": 39,
   "metadata": {},
   "outputs": [
    {
     "name": "stdout",
     "output_type": "stream",
     "text": [
      "\n",
      "Best recall score at k=500: 0.8567722313673731\n",
      "Recall scores at k=500: [0.8501143456002339, 0.927103968300248, 0.9622129847915608, 0.9964908060722686, 1.0, 1.0, 1.0, 1.0, 1.0, 1.0]\n",
      "\n",
      "Best recall score at k=1000: 0.9350022339620927\n",
      "Recall scores at k=1000: [0.8574058763202446, 0.9326018940435233, 0.9688709693841189, 0.9953167476098843, 1.0, 1.0, 1.0, 1.0, 1.0, 1.0]\n",
      "\n",
      "Best recall score at k=1500: 0.9705677019356063\n",
      "Recall scores at k=1500: [0.8358707342831783, 0.9250008677446137, 0.9681307716586741, 0.9951063716057302, 1.0, 1.0, 1.0, 1.0, 1.0, 1.0]\n",
      "\n",
      "Best recall score at k=2000: 0.9959992725950172\n",
      "Recall scores at k=2000: [0.7918535094368964, 0.9096742185901904, 0.96276230184184, 0.994256467821253, 1.0, 1.0, 1.0, 1.0, 1.0, 1.0]\n",
      "\n",
      "Best recall score at k=2500: 1.0\n",
      "Recall scores at k=2500: [0.8426072439783151, 0.9272523873389813, 0.9670214932241873, 0.9945264058156938, 1.0, 1.0, 1.0, 1.0, 1.0, 1.0]\n",
      "\n",
      "Best recall score at k=3000: 1.0\n",
      "Recall scores at k=3000: [0.5115488014942794, 0.794131709285654, 0.8889497814209167, 0.9686151582719895, 1.0, 1.0, 1.0, 1.0, 1.0, 1.0]\n",
      "\n",
      "Best recall score at k=3500: 1.0\n",
      "Recall scores at k=3500: [0.8091397688976263, 0.910248711804196, 0.9601954091450563, 0.9947188368612359, 1.0, 1.0, 1.0, 1.0, 1.0, 1.0]\n",
      "\n",
      "Best recall score at k=4000: 1.0\n",
      "Recall scores at k=4000: [0.5133841392019711, 0.7600517337768781, 0.8772576053765919, 0.9694739709011678, 1.0, 1.0, 1.0, 1.0, 1.0, 1.0]\n",
      "\n",
      "Best recall score at k=4500: 1.0\n",
      "Recall scores at k=4500: [0.7743826517720038, 0.8974471879058151, 0.9643774753861348, 0.9951063716057302, 1.0, 1.0, 1.0, 1.0, 1.0, 1.0]\n",
      "\n",
      "Best recall score at k=5000: 1.0\n",
      "Recall scores at k=5000: [0.5295070886635992, 0.7842076612362052, 0.8834268530628376, 0.9711327977844977, 1.0, 1.0, 1.0, 1.0, 1.0, 1.0]\n",
      "\n",
      "Best highest average recall: 0.9754195487357771 \n",
      "Best hyperparams to maximise recall_at_k score: {'no_components': 40, 'learning_schedule': 'adadelta', 'loss': 'bpr', 'learning_rate': 0.04502682155517988, 'item_alpha': 9.32315508051106e-10, 'user_alpha': 1.1441246576804827e-08, 'max_sampled': 9, 'num_epochs': 33}\n"
     ]
    },
    {
     "data": {
      "image/png": "[encoded data removed]",
      "text/plain": [
       "<Figure size 432x288 with 1 Axes>"
      ]
     },
     "metadata": {
      "needs_background": "light"
     },
     "output_type": "display_data"
    },
    {
     "data": {
      "image/png": "[encoded data removed]",
      "text/plain": [
       "<Figure size 432x288 with 1 Axes>"
      ]
     },
     "metadata": {
      "needs_background": "light"
     },
     "output_type": "display_data"
    },
    {
     "data": {
      "image/png": "[encoded data removed]",
      "text/plain": [
       "<Figure size 432x288 with 1 Axes>"
      ]
     },
     "metadata": {
      "needs_background": "light"
     },
     "output_type": "display_data"
    },
    {
     "data": {
      "image/png": "[encoded data removed]",
      "text/plain": [
       "<Figure size 432x288 with 1 Axes>"
      ]
     },
     "metadata": {
      "needs_background": "light"
     },
     "output_type": "display_data"
    },
    {
     "data": {
      "image/png": "[encoded data removed]",
      "text/plain": [
       "<Figure size 432x288 with 1 Axes>"
      ]
     },
     "metadata": {
      "needs_background": "light"
     },
     "output_type": "display_data"
    },
    {
     "data": {
      "image/png": "[encoded data removed]",
      "text/plain": [
       "<Figure size 432x288 with 1 Axes>"
      ]
     },
     "metadata": {
      "needs_background": "light"
     },
     "output_type": "display_data"
    },
    {
     "data": {
      "image/png": "[encoded data removed]",
      "text/plain": [
       "<Figure size 432x288 with 1 Axes>"
      ]
     },
     "metadata": {
      "needs_background": "light"
     },
     "output_type": "display_data"
    },
    {
     "data": {
      "image/png": "[encoded data removed]",
      "text/plain": [
       "<Figure size 432x288 with 1 Axes>"
      ]
     },
     "metadata": {
      "needs_background": "light"
     },
     "output_type": "display_data"
    },
    {
     "data": {
      "image/png": "[encoded data removed]",
      "text/plain": [
       "<Figure size 432x288 with 1 Axes>"
      ]
     },
     "metadata": {
      "needs_background": "light"
     },
     "output_type": "display_data"
    },
    {
     "data": {
      "image/png": "[encoded data removed]",
      "text/plain": [
       "<Figure size 432x288 with 1 Axes>"
      ]
     },
     "metadata": {
      "needs_background": "light"
     },
     "output_type": "display_data"
    }
   ],
   "source": [
    "### Best hyperparameters to maximise recall_at_k score\n",
    "\n",
    "counter = 1\n",
    "best_average_score_recall = 0\n",
    "best_hyperparams_recall = None\n",
    "best_model_recall = None\n",
    "for k in range(500, 5001, 500):\n",
    "    (score_recall, hyperparams_recall, model) = max(random_search_recall_at_k(k=k, train=train2, item_features = books_metadata_csr, num_threads=1), key=lambda x: x[0])\n",
    "    print(\"\\nBest recall score at k={}: {}\".format(k, score_recall))\n",
    "    recall_score_array = []\n",
    "    # After getting the best hyperparams for the model at a specific k, we see how its recall score changes as k changes\n",
    "    for j in range(500, 5001, 500):\n",
    "        recall_score = recall_at_k(model, validation, train2, k=j, item_features=books_metadata_csr, preserve_rows=False, num_threads=1, check_intersections=True).mean()\n",
    "        recall_score_array.append(recall_score)\n",
    "    ave_recall_score = sum(recall_score_array) / len(recall_score_array)\n",
    "    if ave_recall_score > best_average_score_recall:\n",
    "        best_average_score_recall = ave_recall_score\n",
    "        best_hyperparams_recall = hyperparams_recall\n",
    "        best_model_recall = model\n",
    "    print(\"Recall scores at k={}: {}\".format(k, recall_score_array))\n",
    "    plt.figure(counter)\n",
    "    plt.plot(range(500, 5001, 500), recall_score_array)\n",
    "    plt.xlabel('k')\n",
    "    plt.ylabel('recall')\n",
    "    plt.title(\"Recall scores at different k values. Model: tuned model at k={}\".format(k))\n",
    "    plt.show\n",
    "    counter+=1\n",
    "\n",
    "print(\"\\nBest highest average recall: {} \\nBest hyperparams to maximise recall_at_k score: {}\".format(best_average_score_recall, hyperparams_recall))"
   ]
  },
  {
   "cell_type": "markdown",
   "metadata": {},
   "source": [
    "### Model Evaluation"
   ]
  },
  {
   "cell_type": "code",
   "execution_count": 40,
   "metadata": {},
   "outputs": [],
   "source": [
    "def sample_recommendation_user(model, interactions, user_id, user_dict, \n",
    "                               item_dict,threshold = 0,nrec_items = 10, show = True):\n",
    "    \n",
    "    n_users, n_items = interactions.shape\n",
    "    user_x = user_dict[user_id]\n",
    "    scores = pd.Series(model.predict(user_x,np.arange(n_items), item_features=books_metadata_csr))\n",
    "    scores.index = interactions.columns\n",
    "    scores = list(pd.Series(scores.sort_values(ascending=False).index))\n",
    "    \n",
    "    known_items = list(pd.Series(interactions.loc[user_id,:] \\\n",
    "                                 [interactions.loc[user_id,:] > threshold].index).sort_values(ascending=False))\n",
    "    \n",
    "    scores = [x for x in scores if x not in known_items]\n",
    "    return_score_list = scores[0:nrec_items]\n",
    "    known_items = list(pd.Series(known_items).apply(lambda x: item_dict[x]))\n",
    "    scores = list(pd.Series(return_score_list).apply(lambda x: item_dict[x]))\n",
    "    if show == True:\n",
    "        print (\"User: \" + str(user_id))\n",
    "        print(\"Known Likes:\")\n",
    "        counter = 1\n",
    "        for i in known_items:\n",
    "            print(str(counter) + '- ' + i)\n",
    "            counter+=1\n",
    "\n",
    "        print(\"\\n Recommended Items:\")\n",
    "        counter = 1\n",
    "        for i in scores:\n",
    "            print(str(counter) + '- ' + i)\n",
    "            counter+=1"
   ]
  },
  {
   "cell_type": "markdown",
   "metadata": {},
   "source": [
    "# Normal Case"
   ]
  },
  {
   "cell_type": "code",
   "execution_count": 41,
   "metadata": {},
   "outputs": [],
   "source": [
    "users = list(interactions_selected2['user_id'])\n",
    "random_user = random.choice(users)"
   ]
  },
  {
   "cell_type": "markdown",
   "metadata": {},
   "source": [
    "### 1. Model that maximises AUC score"
   ]
  },
  {
   "cell_type": "code",
   "execution_count": 42,
   "metadata": {},
   "outputs": [
    {
     "name": "stdout",
     "output_type": "stream",
     "text": [
      "AUC Score:  0.7070488 \n",
      "\n",
      "Precision at k= 5 : 0.002182215 \n",
      "\n",
      "Recall at k= 500 : 0.5422194180248276 \n",
      "\n",
      "User: bd9708420694a56d30a3855769067ec6\n",
      "Known Likes:\n",
      "1- The Crossover\n",
      "2- Where the Sidewalk Ends\n",
      "3- The Divine Comedy\n",
      "4- The Canterbury Tales\n",
      "5- Hamlet\n",
      "6- The Odyssey\n",
      "\n",
      " Recommended Items:\n",
      "1- The Complete English Poems\n",
      "2- Selected Poems\n",
      "3- The Canterbury Tales (Barnes & Noble Classics Series)\n",
      "4- The Odyssey\n",
      "5- The Canterbury Tales\n",
      "6- Selected Poems\n",
      "7- A Kick in the Head: An Everyday Guide to Poetic Forms\n",
      "8- Rubaiyat of Omar Khayyam\n",
      "9- 19 Varieties of Gazelle: Poems of the Middle East\n",
      "10- Black Coffee Blues\n"
     ]
    }
   ],
   "source": [
    "AUC_score = auc_score(model, test_interactions, train_interactions, item_features = books_metadata_csr, num_threads=1).mean()\n",
    "precision_k = precision_at_k(model, test_interactions, train_interactions, k=5, user_features=None, item_features=books_metadata_csr, preserve_rows=False, num_threads=1, check_intersections=True).mean()\n",
    "recall_k = recall_at_k(model, test_interactions, train_interactions, k=500, user_features=None, item_features=books_metadata_csr, preserve_rows=False, num_threads=1, check_intersections=True).mean()\n",
    "print(\"AUC Score: \", AUC_score, \"\\n\")\n",
    "print(\"Precision at k=\", 5, \":\", precision_k, \"\\n\")\n",
    "print(\"Recall at k=\", 500, \":\", recall_k, \"\\n\")\n",
    "\n",
    "sample_recommendation_user(model, user_book_interaction, random_user, user_dict, relevant_item_dict)"
   ]
  },
  {
   "cell_type": "markdown",
   "metadata": {},
   "source": [
    "### 2. Model that maximises precision_at_k score"
   ]
  },
  {
   "cell_type": "code",
   "execution_count": 43,
   "metadata": {},
   "outputs": [
    {
     "name": "stdout",
     "output_type": "stream",
     "text": [
      "AUC Score:  0.86566794 \n",
      "\n",
      "Precision at k= 5 : 0.028477905 \n",
      "\n",
      "Recall at k= 500 : 0.8459510558959262 \n",
      "\n",
      "User: bd9708420694a56d30a3855769067ec6\n",
      "Known Likes:\n",
      "1- The Crossover\n",
      "2- Where the Sidewalk Ends\n",
      "3- The Divine Comedy\n",
      "4- The Canterbury Tales\n",
      "5- Hamlet\n",
      "6- The Odyssey\n",
      "\n",
      " Recommended Items:\n",
      "1- Poetry and Prose\n",
      "2- The Book of Disquiet\n",
      "3- The Complete Sonnets and Poems\n",
      "4- The Poetry of Robert Frost: The Collected Poems, Complete and Unabridged\n",
      "5- Robert Browning's Poetry\n",
      "6- John Donne's Poetry\n",
      "7- Leaves of Grass\n",
      "8- The Portable Dorothy Parker\n",
      "9- Selected Poems\n",
      "10- The Complete English Poems\n"
     ]
    }
   ],
   "source": [
    "AUC_score = auc_score(best_model_precision, test_interactions, train_interactions, item_features = books_metadata_csr, num_threads=1).mean()\n",
    "k = 5\n",
    "precision_k = precision_at_k(best_model_precision, test_interactions, train_interactions, k=5, user_features=None, item_features=books_metadata_csr, preserve_rows=False, num_threads=1, check_intersections=True).mean()\n",
    "recall_k = recall_at_k(best_model_precision, test_interactions, train_interactions, k=500, user_features=None, item_features=books_metadata_csr, preserve_rows=False, num_threads=1, check_intersections=True).mean()\n",
    "print(\"AUC Score: \", AUC_score, \"\\n\")\n",
    "print(\"Precision at k=\", 5, \":\", precision_k, \"\\n\")\n",
    "print(\"Recall at k=\", 500, \":\", recall_k, \"\\n\")\n",
    "\n",
    "sample_recommendation_user(best_model_precision, user_book_interaction, random_user, user_dict, relevant_item_dict)"
   ]
  },
  {
   "cell_type": "markdown",
   "metadata": {},
   "source": [
    "### 3. Model that maximises recall_at_k score"
   ]
  },
  {
   "cell_type": "code",
   "execution_count": 44,
   "metadata": {},
   "outputs": [
    {
     "name": "stdout",
     "output_type": "stream",
     "text": [
      "AUC Score:  0.883869 \n",
      "\n",
      "Precision at k= 5 : 0.009274414 \n",
      "\n",
      "Recall at k= 500 : 0.8656179753733376 \n",
      "\n",
      "User: bd9708420694a56d30a3855769067ec6\n",
      "Known Likes:\n",
      "1- The Crossover\n",
      "2- Where the Sidewalk Ends\n",
      "3- The Divine Comedy\n",
      "4- The Canterbury Tales\n",
      "5- Hamlet\n",
      "6- The Odyssey\n",
      "\n",
      " Recommended Items:\n",
      "1- The Canterbury Tales\n",
      "2- The Complete English Poems\n",
      "3- Selected Poems\n",
      "4- Poetry and Prose\n",
      "5- The Canterbury Tales (Barnes & Noble Classics Series)\n",
      "6- Orlando Furioso\n",
      "7- The Iliad\n",
      "8- The Complete Poems of Emily Dickinson\n",
      "9- Ramayana\n",
      "10- Robert Browning's Poetry\n"
     ]
    }
   ],
   "source": [
    "AUC_score = auc_score(best_model_recall, test_interactions, train_interactions, item_features = books_metadata_csr, num_threads=1).mean()\n",
    "k = 5\n",
    "precision_k = precision_at_k(best_model_recall, test_interactions, train_interactions, k=5, user_features=None, item_features=books_metadata_csr, preserve_rows=False, num_threads=1, check_intersections=True).mean()\n",
    "recall_k = recall_at_k(best_model_recall, test_interactions, train_interactions, k=500, user_features=None, item_features=books_metadata_csr, preserve_rows=False, num_threads=1, check_intersections=True).mean()\n",
    "print(\"AUC Score: \", AUC_score, \"\\n\")\n",
    "print(\"Precision at k=\", 5, \":\", precision_k, \"\\n\")\n",
    "print(\"Recall at k=\", 500, \":\", recall_k, \"\\n\")\n",
    "\n",
    "sample_recommendation_user(best_model_recall, user_book_interaction, random_user, user_dict, relevant_item_dict)"
   ]
  },
  {
   "cell_type": "markdown",
   "metadata": {},
   "source": [
    "# Cold start scenario"
   ]
  },
  {
   "cell_type": "code",
   "execution_count": 45,
   "metadata": {},
   "outputs": [
    {
     "data": {
      "text/html": [
       "<div>\n",
       "<style scoped>\n",
       "    .dataframe tbody tr th:only-of-type {\n",
       "        vertical-align: middle;\n",
       "    }\n",
       "\n",
       "    .dataframe tbody tr th {\n",
       "        vertical-align: top;\n",
       "    }\n",
       "\n",
       "    .dataframe thead th {\n",
       "        text-align: right;\n",
       "    }\n",
       "</style>\n",
       "<table border=\"1\" class=\"dataframe\">\n",
       "  <thead>\n",
       "    <tr style=\"text-align: right;\">\n",
       "      <th>book_id</th>\n",
       "      <th>289</th>\n",
       "      <th>290</th>\n",
       "      <th>291</th>\n",
       "      <th>292</th>\n",
       "      <th>484</th>\n",
       "      <th>676</th>\n",
       "      <th>1371</th>\n",
       "      <th>1372</th>\n",
       "      <th>1376</th>\n",
       "      <th>1381</th>\n",
       "      <th>...</th>\n",
       "      <th>35919520</th>\n",
       "      <th>35921170</th>\n",
       "      <th>35991559</th>\n",
       "      <th>36122873</th>\n",
       "      <th>36126998</th>\n",
       "      <th>36153320</th>\n",
       "      <th>36188318</th>\n",
       "      <th>36282926</th>\n",
       "      <th>36286613</th>\n",
       "      <th>36417323</th>\n",
       "    </tr>\n",
       "    <tr>\n",
       "      <th>user_id</th>\n",
       "      <th></th>\n",
       "      <th></th>\n",
       "      <th></th>\n",
       "      <th></th>\n",
       "      <th></th>\n",
       "      <th></th>\n",
       "      <th></th>\n",
       "      <th></th>\n",
       "      <th></th>\n",
       "      <th></th>\n",
       "      <th></th>\n",
       "      <th></th>\n",
       "      <th></th>\n",
       "      <th></th>\n",
       "      <th></th>\n",
       "      <th></th>\n",
       "      <th></th>\n",
       "      <th></th>\n",
       "      <th></th>\n",
       "      <th></th>\n",
       "      <th></th>\n",
       "    </tr>\n",
       "  </thead>\n",
       "  <tbody>\n",
       "    <tr>\n",
       "      <th>000aca1cd913ae8ddfa0dd46804488f0</th>\n",
       "      <td>0.0</td>\n",
       "      <td>0.0</td>\n",
       "      <td>0.0</td>\n",
       "      <td>0.0</td>\n",
       "      <td>0.0</td>\n",
       "      <td>0.0</td>\n",
       "      <td>0.0</td>\n",
       "      <td>0.0</td>\n",
       "      <td>0.0</td>\n",
       "      <td>3.0</td>\n",
       "      <td>...</td>\n",
       "      <td>0.0</td>\n",
       "      <td>0.0</td>\n",
       "      <td>0.0</td>\n",
       "      <td>0.0</td>\n",
       "      <td>0.0</td>\n",
       "      <td>0.0</td>\n",
       "      <td>0.0</td>\n",
       "      <td>0.0</td>\n",
       "      <td>0.0</td>\n",
       "      <td>0.0</td>\n",
       "    </tr>\n",
       "    <tr>\n",
       "      <th>002561280c69b5f2bb20d13f2a8c9c4a</th>\n",
       "      <td>0.0</td>\n",
       "      <td>0.0</td>\n",
       "      <td>0.0</td>\n",
       "      <td>0.0</td>\n",
       "      <td>0.0</td>\n",
       "      <td>0.0</td>\n",
       "      <td>0.0</td>\n",
       "      <td>0.0</td>\n",
       "      <td>0.0</td>\n",
       "      <td>0.0</td>\n",
       "      <td>...</td>\n",
       "      <td>0.0</td>\n",
       "      <td>0.0</td>\n",
       "      <td>0.0</td>\n",
       "      <td>0.0</td>\n",
       "      <td>0.0</td>\n",
       "      <td>0.0</td>\n",
       "      <td>0.0</td>\n",
       "      <td>0.0</td>\n",
       "      <td>0.0</td>\n",
       "      <td>0.0</td>\n",
       "    </tr>\n",
       "    <tr>\n",
       "      <th>0025bd3b4d083276aa1da29c2bbdef88</th>\n",
       "      <td>0.0</td>\n",
       "      <td>0.0</td>\n",
       "      <td>0.0</td>\n",
       "      <td>0.0</td>\n",
       "      <td>0.0</td>\n",
       "      <td>0.0</td>\n",
       "      <td>0.0</td>\n",
       "      <td>0.0</td>\n",
       "      <td>0.0</td>\n",
       "      <td>0.0</td>\n",
       "      <td>...</td>\n",
       "      <td>0.0</td>\n",
       "      <td>0.0</td>\n",
       "      <td>0.0</td>\n",
       "      <td>0.0</td>\n",
       "      <td>0.0</td>\n",
       "      <td>0.0</td>\n",
       "      <td>0.0</td>\n",
       "      <td>0.0</td>\n",
       "      <td>0.0</td>\n",
       "      <td>0.0</td>\n",
       "    </tr>\n",
       "    <tr>\n",
       "      <th>00321c623290ac06fe5c63e02b3cbdbd</th>\n",
       "      <td>0.0</td>\n",
       "      <td>0.0</td>\n",
       "      <td>0.0</td>\n",
       "      <td>0.0</td>\n",
       "      <td>0.0</td>\n",
       "      <td>0.0</td>\n",
       "      <td>0.0</td>\n",
       "      <td>0.0</td>\n",
       "      <td>0.0</td>\n",
       "      <td>0.0</td>\n",
       "      <td>...</td>\n",
       "      <td>0.0</td>\n",
       "      <td>0.0</td>\n",
       "      <td>0.0</td>\n",
       "      <td>0.0</td>\n",
       "      <td>0.0</td>\n",
       "      <td>0.0</td>\n",
       "      <td>0.0</td>\n",
       "      <td>0.0</td>\n",
       "      <td>0.0</td>\n",
       "      <td>0.0</td>\n",
       "    </tr>\n",
       "    <tr>\n",
       "      <th>003ae705b1761175a572f1a4e1eb512a</th>\n",
       "      <td>0.0</td>\n",
       "      <td>0.0</td>\n",
       "      <td>0.0</td>\n",
       "      <td>0.0</td>\n",
       "      <td>0.0</td>\n",
       "      <td>0.0</td>\n",
       "      <td>0.0</td>\n",
       "      <td>0.0</td>\n",
       "      <td>0.0</td>\n",
       "      <td>0.0</td>\n",
       "      <td>...</td>\n",
       "      <td>0.0</td>\n",
       "      <td>0.0</td>\n",
       "      <td>0.0</td>\n",
       "      <td>0.0</td>\n",
       "      <td>0.0</td>\n",
       "      <td>0.0</td>\n",
       "      <td>0.0</td>\n",
       "      <td>0.0</td>\n",
       "      <td>0.0</td>\n",
       "      <td>0.0</td>\n",
       "    </tr>\n",
       "    <tr>\n",
       "      <th>...</th>\n",
       "      <td>...</td>\n",
       "      <td>...</td>\n",
       "      <td>...</td>\n",
       "      <td>...</td>\n",
       "      <td>...</td>\n",
       "      <td>...</td>\n",
       "      <td>...</td>\n",
       "      <td>...</td>\n",
       "      <td>...</td>\n",
       "      <td>...</td>\n",
       "      <td>...</td>\n",
       "      <td>...</td>\n",
       "      <td>...</td>\n",
       "      <td>...</td>\n",
       "      <td>...</td>\n",
       "      <td>...</td>\n",
       "      <td>...</td>\n",
       "      <td>...</td>\n",
       "      <td>...</td>\n",
       "      <td>...</td>\n",
       "      <td>...</td>\n",
       "    </tr>\n",
       "    <tr>\n",
       "      <th>ffb60b45cc936be87692e0178b3cfcbb</th>\n",
       "      <td>0.0</td>\n",
       "      <td>0.0</td>\n",
       "      <td>0.0</td>\n",
       "      <td>0.0</td>\n",
       "      <td>0.0</td>\n",
       "      <td>0.0</td>\n",
       "      <td>0.0</td>\n",
       "      <td>0.0</td>\n",
       "      <td>0.0</td>\n",
       "      <td>0.0</td>\n",
       "      <td>...</td>\n",
       "      <td>0.0</td>\n",
       "      <td>0.0</td>\n",
       "      <td>0.0</td>\n",
       "      <td>0.0</td>\n",
       "      <td>0.0</td>\n",
       "      <td>0.0</td>\n",
       "      <td>0.0</td>\n",
       "      <td>0.0</td>\n",
       "      <td>0.0</td>\n",
       "      <td>0.0</td>\n",
       "    </tr>\n",
       "    <tr>\n",
       "      <th>ffc04a471db6ced0a661d731f9629b4c</th>\n",
       "      <td>0.0</td>\n",
       "      <td>0.0</td>\n",
       "      <td>0.0</td>\n",
       "      <td>0.0</td>\n",
       "      <td>0.0</td>\n",
       "      <td>0.0</td>\n",
       "      <td>0.0</td>\n",
       "      <td>0.0</td>\n",
       "      <td>0.0</td>\n",
       "      <td>0.0</td>\n",
       "      <td>...</td>\n",
       "      <td>0.0</td>\n",
       "      <td>0.0</td>\n",
       "      <td>0.0</td>\n",
       "      <td>0.0</td>\n",
       "      <td>0.0</td>\n",
       "      <td>0.0</td>\n",
       "      <td>0.0</td>\n",
       "      <td>0.0</td>\n",
       "      <td>0.0</td>\n",
       "      <td>0.0</td>\n",
       "    </tr>\n",
       "    <tr>\n",
       "      <th>ffdcb1c27933801046330f847da830d4</th>\n",
       "      <td>0.0</td>\n",
       "      <td>0.0</td>\n",
       "      <td>0.0</td>\n",
       "      <td>0.0</td>\n",
       "      <td>0.0</td>\n",
       "      <td>0.0</td>\n",
       "      <td>3.0</td>\n",
       "      <td>0.0</td>\n",
       "      <td>0.0</td>\n",
       "      <td>3.0</td>\n",
       "      <td>...</td>\n",
       "      <td>0.0</td>\n",
       "      <td>0.0</td>\n",
       "      <td>0.0</td>\n",
       "      <td>0.0</td>\n",
       "      <td>0.0</td>\n",
       "      <td>0.0</td>\n",
       "      <td>0.0</td>\n",
       "      <td>0.0</td>\n",
       "      <td>0.0</td>\n",
       "      <td>0.0</td>\n",
       "    </tr>\n",
       "    <tr>\n",
       "      <th>ffea9d6dd3d03ee256c1464897c7d92f</th>\n",
       "      <td>0.0</td>\n",
       "      <td>0.0</td>\n",
       "      <td>0.0</td>\n",
       "      <td>0.0</td>\n",
       "      <td>0.0</td>\n",
       "      <td>0.0</td>\n",
       "      <td>0.0</td>\n",
       "      <td>0.0</td>\n",
       "      <td>0.0</td>\n",
       "      <td>4.0</td>\n",
       "      <td>...</td>\n",
       "      <td>0.0</td>\n",
       "      <td>0.0</td>\n",
       "      <td>0.0</td>\n",
       "      <td>0.0</td>\n",
       "      <td>0.0</td>\n",
       "      <td>0.0</td>\n",
       "      <td>0.0</td>\n",
       "      <td>0.0</td>\n",
       "      <td>0.0</td>\n",
       "      <td>0.0</td>\n",
       "    </tr>\n",
       "    <tr>\n",
       "      <th>ffed06f9c41795ef1d77ba3dd3920b39</th>\n",
       "      <td>0.0</td>\n",
       "      <td>0.0</td>\n",
       "      <td>0.0</td>\n",
       "      <td>0.0</td>\n",
       "      <td>0.0</td>\n",
       "      <td>0.0</td>\n",
       "      <td>3.0</td>\n",
       "      <td>0.0</td>\n",
       "      <td>0.0</td>\n",
       "      <td>3.0</td>\n",
       "      <td>...</td>\n",
       "      <td>0.0</td>\n",
       "      <td>0.0</td>\n",
       "      <td>0.0</td>\n",
       "      <td>0.0</td>\n",
       "      <td>0.0</td>\n",
       "      <td>0.0</td>\n",
       "      <td>0.0</td>\n",
       "      <td>0.0</td>\n",
       "      <td>0.0</td>\n",
       "      <td>0.0</td>\n",
       "    </tr>\n",
       "  </tbody>\n",
       "</table>\n",
       "<p>5000 rows × 2942 columns</p>\n",
       "</div>"
      ],
      "text/plain": [
       "book_id                           289       290       291       292       \\\n",
       "user_id                                                                    \n",
       "000aca1cd913ae8ddfa0dd46804488f0       0.0       0.0       0.0       0.0   \n",
       "002561280c69b5f2bb20d13f2a8c9c4a       0.0       0.0       0.0       0.0   \n",
       "0025bd3b4d083276aa1da29c2bbdef88       0.0       0.0       0.0       0.0   \n",
       "00321c623290ac06fe5c63e02b3cbdbd       0.0       0.0       0.0       0.0   \n",
       "003ae705b1761175a572f1a4e1eb512a       0.0       0.0       0.0       0.0   \n",
       "...                                    ...       ...       ...       ...   \n",
       "ffb60b45cc936be87692e0178b3cfcbb       0.0       0.0       0.0       0.0   \n",
       "ffc04a471db6ced0a661d731f9629b4c       0.0       0.0       0.0       0.0   \n",
       "ffdcb1c27933801046330f847da830d4       0.0       0.0       0.0       0.0   \n",
       "ffea9d6dd3d03ee256c1464897c7d92f       0.0       0.0       0.0       0.0   \n",
       "ffed06f9c41795ef1d77ba3dd3920b39       0.0       0.0       0.0       0.0   \n",
       "\n",
       "book_id                           484       676       1371      1372      \\\n",
       "user_id                                                                    \n",
       "000aca1cd913ae8ddfa0dd46804488f0       0.0       0.0       0.0       0.0   \n",
       "002561280c69b5f2bb20d13f2a8c9c4a       0.0       0.0       0.0       0.0   \n",
       "0025bd3b4d083276aa1da29c2bbdef88       0.0       0.0       0.0       0.0   \n",
       "00321c623290ac06fe5c63e02b3cbdbd       0.0       0.0       0.0       0.0   \n",
       "003ae705b1761175a572f1a4e1eb512a       0.0       0.0       0.0       0.0   \n",
       "...                                    ...       ...       ...       ...   \n",
       "ffb60b45cc936be87692e0178b3cfcbb       0.0       0.0       0.0       0.0   \n",
       "ffc04a471db6ced0a661d731f9629b4c       0.0       0.0       0.0       0.0   \n",
       "ffdcb1c27933801046330f847da830d4       0.0       0.0       3.0       0.0   \n",
       "ffea9d6dd3d03ee256c1464897c7d92f       0.0       0.0       0.0       0.0   \n",
       "ffed06f9c41795ef1d77ba3dd3920b39       0.0       0.0       3.0       0.0   \n",
       "\n",
       "book_id                           1376      1381      ...  35919520  35921170  \\\n",
       "user_id                                               ...                       \n",
       "000aca1cd913ae8ddfa0dd46804488f0       0.0       3.0  ...       0.0       0.0   \n",
       "002561280c69b5f2bb20d13f2a8c9c4a       0.0       0.0  ...       0.0       0.0   \n",
       "0025bd3b4d083276aa1da29c2bbdef88       0.0       0.0  ...       0.0       0.0   \n",
       "00321c623290ac06fe5c63e02b3cbdbd       0.0       0.0  ...       0.0       0.0   \n",
       "003ae705b1761175a572f1a4e1eb512a       0.0       0.0  ...       0.0       0.0   \n",
       "...                                    ...       ...  ...       ...       ...   \n",
       "ffb60b45cc936be87692e0178b3cfcbb       0.0       0.0  ...       0.0       0.0   \n",
       "ffc04a471db6ced0a661d731f9629b4c       0.0       0.0  ...       0.0       0.0   \n",
       "ffdcb1c27933801046330f847da830d4       0.0       3.0  ...       0.0       0.0   \n",
       "ffea9d6dd3d03ee256c1464897c7d92f       0.0       4.0  ...       0.0       0.0   \n",
       "ffed06f9c41795ef1d77ba3dd3920b39       0.0       3.0  ...       0.0       0.0   \n",
       "\n",
       "book_id                           35991559  36122873  36126998  36153320  \\\n",
       "user_id                                                                    \n",
       "000aca1cd913ae8ddfa0dd46804488f0       0.0       0.0       0.0       0.0   \n",
       "002561280c69b5f2bb20d13f2a8c9c4a       0.0       0.0       0.0       0.0   \n",
       "0025bd3b4d083276aa1da29c2bbdef88       0.0       0.0       0.0       0.0   \n",
       "00321c623290ac06fe5c63e02b3cbdbd       0.0       0.0       0.0       0.0   \n",
       "003ae705b1761175a572f1a4e1eb512a       0.0       0.0       0.0       0.0   \n",
       "...                                    ...       ...       ...       ...   \n",
       "ffb60b45cc936be87692e0178b3cfcbb       0.0       0.0       0.0       0.0   \n",
       "ffc04a471db6ced0a661d731f9629b4c       0.0       0.0       0.0       0.0   \n",
       "ffdcb1c27933801046330f847da830d4       0.0       0.0       0.0       0.0   \n",
       "ffea9d6dd3d03ee256c1464897c7d92f       0.0       0.0       0.0       0.0   \n",
       "ffed06f9c41795ef1d77ba3dd3920b39       0.0       0.0       0.0       0.0   \n",
       "\n",
       "book_id                           36188318  36282926  36286613  36417323  \n",
       "user_id                                                                   \n",
       "000aca1cd913ae8ddfa0dd46804488f0       0.0       0.0       0.0       0.0  \n",
       "002561280c69b5f2bb20d13f2a8c9c4a       0.0       0.0       0.0       0.0  \n",
       "0025bd3b4d083276aa1da29c2bbdef88       0.0       0.0       0.0       0.0  \n",
       "00321c623290ac06fe5c63e02b3cbdbd       0.0       0.0       0.0       0.0  \n",
       "003ae705b1761175a572f1a4e1eb512a       0.0       0.0       0.0       0.0  \n",
       "...                                    ...       ...       ...       ...  \n",
       "ffb60b45cc936be87692e0178b3cfcbb       0.0       0.0       0.0       0.0  \n",
       "ffc04a471db6ced0a661d731f9629b4c       0.0       0.0       0.0       0.0  \n",
       "ffdcb1c27933801046330f847da830d4       0.0       0.0       0.0       0.0  \n",
       "ffea9d6dd3d03ee256c1464897c7d92f       0.0       0.0       0.0       0.0  \n",
       "ffed06f9c41795ef1d77ba3dd3920b39       0.0       0.0       0.0       0.0  \n",
       "\n",
       "[5000 rows x 2942 columns]"
      ]
     },
     "execution_count": 45,
     "metadata": {},
     "output_type": "execute_result"
    }
   ],
   "source": [
    "interactions_selected1 = interactions_selected[interactions_selected['user_id'].isin(random.sample(list(interactions_selected['user_id'].unique()), \n",
    "                                                                                                  k=5000))]\n",
    "\n",
    "user_book_interaction1 = pd.pivot_table(interactions_selected1, index='user_id', columns='book_id', values='rating')\n",
    "\n",
    "# fill missing values with 0\n",
    "user_book_interaction1 = user_book_interaction1.fillna(0)\n",
    "\n",
    "user_book_interaction1.head(10)\n",
    "\n",
    "user_book_interaction1"
   ]
  },
  {
   "cell_type": "code",
   "execution_count": 46,
   "metadata": {},
   "outputs": [
    {
     "data": {
      "text/plain": [
       "array([    2547, 21561020,     1420, ...,   101306, 17306267, 25330368])"
      ]
     },
     "execution_count": 46,
     "metadata": {},
     "output_type": "execute_result"
    }
   ],
   "source": [
    "relevant_book_ids1 = interactions_selected1['book_id'].unique()\n",
    "relevant_book_ids1"
   ]
  },
  {
   "cell_type": "code",
   "execution_count": 47,
   "metadata": {},
   "outputs": [],
   "source": [
    "item_dict ={}\n",
    "df = books_metadata[['book_id', 'title']].sort_values('book_id').reset_index()\n",
    "\n",
    "for i in range(df.shape[0]):\n",
    "    item_dict[(df.loc[i,'book_id'])] = df.loc[i,'title']\n",
    "    \n",
    "relevant_item_dict = {}\n",
    "for i in relevant_book_ids1:\n",
    "    relevant_item_dict[i] = item_dict[i]"
   ]
  },
  {
   "cell_type": "code",
   "execution_count": 48,
   "metadata": {},
   "outputs": [
    {
     "data": {
      "text/html": [
       "<div>\n",
       "<style scoped>\n",
       "    .dataframe tbody tr th:only-of-type {\n",
       "        vertical-align: middle;\n",
       "    }\n",
       "\n",
       "    .dataframe tbody tr th {\n",
       "        vertical-align: top;\n",
       "    }\n",
       "\n",
       "    .dataframe thead th {\n",
       "        text-align: right;\n",
       "    }\n",
       "</style>\n",
       "<table border=\"1\" class=\"dataframe\">\n",
       "  <thead>\n",
       "    <tr style=\"text-align: right;\">\n",
       "      <th></th>\n",
       "      <th>average_rating_0.0</th>\n",
       "      <th>average_rating_1.5</th>\n",
       "      <th>average_rating_2.0</th>\n",
       "      <th>average_rating_2.5</th>\n",
       "      <th>average_rating_3.0</th>\n",
       "      <th>average_rating_3.5</th>\n",
       "      <th>average_rating_4.0</th>\n",
       "      <th>average_rating_4.5</th>\n",
       "      <th>average_rating_5.0</th>\n",
       "      <th>is_ebook_0.0</th>\n",
       "      <th>...</th>\n",
       "      <th>ratings_count_(40.0, 49.0]</th>\n",
       "      <th>ratings_count_(49.0, 59.0]</th>\n",
       "      <th>ratings_count_(59.0, 73.0]</th>\n",
       "      <th>ratings_count_(73.0, 94.0]</th>\n",
       "      <th>ratings_count_(94.0, 125.0]</th>\n",
       "      <th>ratings_count_(125.0, 179.0]</th>\n",
       "      <th>ratings_count_(179.0, 285.0]</th>\n",
       "      <th>ratings_count_(285.0, 614.0]</th>\n",
       "      <th>ratings_count_(614.0, 1029527.0]</th>\n",
       "      <th>language_code_eng</th>\n",
       "    </tr>\n",
       "    <tr>\n",
       "      <th>book_id</th>\n",
       "      <th></th>\n",
       "      <th></th>\n",
       "      <th></th>\n",
       "      <th></th>\n",
       "      <th></th>\n",
       "      <th></th>\n",
       "      <th></th>\n",
       "      <th></th>\n",
       "      <th></th>\n",
       "      <th></th>\n",
       "      <th></th>\n",
       "      <th></th>\n",
       "      <th></th>\n",
       "      <th></th>\n",
       "      <th></th>\n",
       "      <th></th>\n",
       "      <th></th>\n",
       "      <th></th>\n",
       "      <th></th>\n",
       "      <th></th>\n",
       "      <th></th>\n",
       "    </tr>\n",
       "  </thead>\n",
       "  <tbody>\n",
       "    <tr>\n",
       "      <th>289</th>\n",
       "      <td>0</td>\n",
       "      <td>0</td>\n",
       "      <td>0</td>\n",
       "      <td>0</td>\n",
       "      <td>0</td>\n",
       "      <td>0</td>\n",
       "      <td>1</td>\n",
       "      <td>0</td>\n",
       "      <td>0</td>\n",
       "      <td>1</td>\n",
       "      <td>...</td>\n",
       "      <td>0</td>\n",
       "      <td>0</td>\n",
       "      <td>0</td>\n",
       "      <td>0</td>\n",
       "      <td>0</td>\n",
       "      <td>0</td>\n",
       "      <td>0</td>\n",
       "      <td>1</td>\n",
       "      <td>0</td>\n",
       "      <td>1</td>\n",
       "    </tr>\n",
       "    <tr>\n",
       "      <th>290</th>\n",
       "      <td>0</td>\n",
       "      <td>0</td>\n",
       "      <td>0</td>\n",
       "      <td>0</td>\n",
       "      <td>0</td>\n",
       "      <td>0</td>\n",
       "      <td>1</td>\n",
       "      <td>0</td>\n",
       "      <td>0</td>\n",
       "      <td>1</td>\n",
       "      <td>...</td>\n",
       "      <td>0</td>\n",
       "      <td>0</td>\n",
       "      <td>0</td>\n",
       "      <td>0</td>\n",
       "      <td>0</td>\n",
       "      <td>0</td>\n",
       "      <td>0</td>\n",
       "      <td>0</td>\n",
       "      <td>1</td>\n",
       "      <td>1</td>\n",
       "    </tr>\n",
       "    <tr>\n",
       "      <th>291</th>\n",
       "      <td>0</td>\n",
       "      <td>0</td>\n",
       "      <td>0</td>\n",
       "      <td>0</td>\n",
       "      <td>0</td>\n",
       "      <td>0</td>\n",
       "      <td>1</td>\n",
       "      <td>0</td>\n",
       "      <td>0</td>\n",
       "      <td>1</td>\n",
       "      <td>...</td>\n",
       "      <td>0</td>\n",
       "      <td>0</td>\n",
       "      <td>0</td>\n",
       "      <td>0</td>\n",
       "      <td>0</td>\n",
       "      <td>0</td>\n",
       "      <td>0</td>\n",
       "      <td>0</td>\n",
       "      <td>1</td>\n",
       "      <td>1</td>\n",
       "    </tr>\n",
       "    <tr>\n",
       "      <th>292</th>\n",
       "      <td>0</td>\n",
       "      <td>0</td>\n",
       "      <td>0</td>\n",
       "      <td>0</td>\n",
       "      <td>0</td>\n",
       "      <td>0</td>\n",
       "      <td>1</td>\n",
       "      <td>0</td>\n",
       "      <td>0</td>\n",
       "      <td>1</td>\n",
       "      <td>...</td>\n",
       "      <td>0</td>\n",
       "      <td>0</td>\n",
       "      <td>0</td>\n",
       "      <td>0</td>\n",
       "      <td>0</td>\n",
       "      <td>0</td>\n",
       "      <td>0</td>\n",
       "      <td>0</td>\n",
       "      <td>1</td>\n",
       "      <td>1</td>\n",
       "    </tr>\n",
       "    <tr>\n",
       "      <th>484</th>\n",
       "      <td>0</td>\n",
       "      <td>0</td>\n",
       "      <td>0</td>\n",
       "      <td>0</td>\n",
       "      <td>0</td>\n",
       "      <td>0</td>\n",
       "      <td>0</td>\n",
       "      <td>1</td>\n",
       "      <td>0</td>\n",
       "      <td>1</td>\n",
       "      <td>...</td>\n",
       "      <td>0</td>\n",
       "      <td>0</td>\n",
       "      <td>0</td>\n",
       "      <td>0</td>\n",
       "      <td>0</td>\n",
       "      <td>0</td>\n",
       "      <td>1</td>\n",
       "      <td>0</td>\n",
       "      <td>0</td>\n",
       "      <td>1</td>\n",
       "    </tr>\n",
       "  </tbody>\n",
       "</table>\n",
       "<p>5 rows × 211 columns</p>\n",
       "</div>"
      ],
      "text/plain": [
       "         average_rating_0.0  average_rating_1.5  average_rating_2.0  \\\n",
       "book_id                                                               \n",
       "289                       0                   0                   0   \n",
       "290                       0                   0                   0   \n",
       "291                       0                   0                   0   \n",
       "292                       0                   0                   0   \n",
       "484                       0                   0                   0   \n",
       "\n",
       "         average_rating_2.5  average_rating_3.0  average_rating_3.5  \\\n",
       "book_id                                                               \n",
       "289                       0                   0                   0   \n",
       "290                       0                   0                   0   \n",
       "291                       0                   0                   0   \n",
       "292                       0                   0                   0   \n",
       "484                       0                   0                   0   \n",
       "\n",
       "         average_rating_4.0  average_rating_4.5  average_rating_5.0  \\\n",
       "book_id                                                               \n",
       "289                       1                   0                   0   \n",
       "290                       1                   0                   0   \n",
       "291                       1                   0                   0   \n",
       "292                       1                   0                   0   \n",
       "484                       0                   1                   0   \n",
       "\n",
       "         is_ebook_0.0  ...  ratings_count_(40.0, 49.0]  \\\n",
       "book_id                ...                               \n",
       "289                 1  ...                           0   \n",
       "290                 1  ...                           0   \n",
       "291                 1  ...                           0   \n",
       "292                 1  ...                           0   \n",
       "484                 1  ...                           0   \n",
       "\n",
       "         ratings_count_(49.0, 59.0]  ratings_count_(59.0, 73.0]  \\\n",
       "book_id                                                           \n",
       "289                               0                           0   \n",
       "290                               0                           0   \n",
       "291                               0                           0   \n",
       "292                               0                           0   \n",
       "484                               0                           0   \n",
       "\n",
       "         ratings_count_(73.0, 94.0]  ratings_count_(94.0, 125.0]  \\\n",
       "book_id                                                            \n",
       "289                               0                            0   \n",
       "290                               0                            0   \n",
       "291                               0                            0   \n",
       "292                               0                            0   \n",
       "484                               0                            0   \n",
       "\n",
       "         ratings_count_(125.0, 179.0]  ratings_count_(179.0, 285.0]  \\\n",
       "book_id                                                               \n",
       "289                                 0                             0   \n",
       "290                                 0                             0   \n",
       "291                                 0                             0   \n",
       "292                                 0                             0   \n",
       "484                                 0                             1   \n",
       "\n",
       "         ratings_count_(285.0, 614.0]  ratings_count_(614.0, 1029527.0]  \\\n",
       "book_id                                                                   \n",
       "289                                 1                                 0   \n",
       "290                                 0                                 1   \n",
       "291                                 0                                 1   \n",
       "292                                 0                                 1   \n",
       "484                                 0                                 0   \n",
       "\n",
       "         language_code_eng  \n",
       "book_id                     \n",
       "289                      1  \n",
       "290                      1  \n",
       "291                      1  \n",
       "292                      1  \n",
       "484                      1  \n",
       "\n",
       "[5 rows x 211 columns]"
      ]
     },
     "execution_count": 48,
     "metadata": {},
     "output_type": "execute_result"
    }
   ],
   "source": [
    "books_metadata_selected_transformed1 = pd.get_dummies(books_metadata_selected, columns = ['average_rating', 'is_ebook', 'num_pages', \n",
    "                                                                                         'publication_year', 'ratings_count', \n",
    "                                                                                         'language_code'])\n",
    "\n",
    "books_metadata_selected_transformed1 = books_metadata_selected_transformed1.sort_values('book_id').reset_index().drop('index', axis=1)\n",
    "books_metadata_selected_transformed1 = books_metadata_selected_transformed1.loc[books_metadata_selected_transformed1[\"book_id\"].isin(relevant_item_dict)].set_index(\"book_id\")\n",
    "# books_metadata_selected_transformed = books_metadata_selected_transformed.transpose()\n",
    "books_metadata_selected_transformed1.head(5)"
   ]
  },
  {
   "cell_type": "code",
   "execution_count": 49,
   "metadata": {},
   "outputs": [
    {
     "data": {
      "text/plain": [
       "(2942, 211)"
      ]
     },
     "execution_count": 49,
     "metadata": {},
     "output_type": "execute_result"
    }
   ],
   "source": [
    "books_metadata_selected_transformed1.shape"
   ]
  },
  {
   "cell_type": "code",
   "execution_count": 50,
   "metadata": {},
   "outputs": [
    {
     "data": {
      "text/plain": [
       "<2942x211 sparse matrix of type '<class 'numpy.uint8'>'\n",
       "\twith 17652 stored elements in Compressed Sparse Row format>"
      ]
     },
     "execution_count": 50,
     "metadata": {},
     "output_type": "execute_result"
    }
   ],
   "source": [
    "books_metadata_csr1 = csr_matrix(books_metadata_selected_transformed1.values)\n",
    "books_metadata_csr1"
   ]
  },
  {
   "cell_type": "code",
   "execution_count": 51,
   "metadata": {},
   "outputs": [
    {
     "name": "stdout",
     "output_type": "stream",
     "text": [
      "5000\n"
     ]
    }
   ],
   "source": [
    "user_book_interaction_csr1 = csr_matrix(user_book_interaction1.values)\n",
    "\n",
    "user_id = list(user_book_interaction1.index)\n",
    "user_dict = {}\n",
    "counter = 0 \n",
    "for i in user_id:\n",
    "    user_dict[i] = counter\n",
    "    counter += 1\n",
    "\n",
    "print(len(user_dict))"
   ]
  },
  {
   "cell_type": "code",
   "execution_count": 52,
   "metadata": {},
   "outputs": [
    {
     "data": {
      "text/plain": [
       "<5000x2942 sparse matrix of type '<class 'numpy.float64'>'\n",
       "\twith 8150 stored elements in COOrdinate format>"
      ]
     },
     "execution_count": 52,
     "metadata": {},
     "output_type": "execute_result"
    }
   ],
   "source": [
    "train_interactions, test_interactions = random_train_test_split(user_book_interaction_csr1, test_percentage=0.2)\n",
    "train_interactions"
   ]
  },
  {
   "cell_type": "code",
   "execution_count": 53,
   "metadata": {},
   "outputs": [
    {
     "data": {
      "text/plain": [
       "<5000x2942 sparse matrix of type '<class 'numpy.float64'>'\n",
       "\twith 6520 stored elements in COOrdinate format>"
      ]
     },
     "execution_count": 53,
     "metadata": {},
     "output_type": "execute_result"
    }
   ],
   "source": [
    "train2, validation = random_train_test_split(train_interactions, test_percentage=0.2)\n",
    "train2"
   ]
  },
  {
   "cell_type": "code",
   "execution_count": 54,
   "metadata": {},
   "outputs": [
    {
     "name": "stdout",
     "output_type": "stream",
     "text": [
      "21849\n"
     ]
    }
   ],
   "source": [
    "users = list(interactions_selected1['user_id'])\n",
    "print(len(users))"
   ]
  },
  {
   "cell_type": "code",
   "execution_count": 55,
   "metadata": {},
   "outputs": [],
   "source": [
    "def find_known_items_for_user(model, interactions, user_id, user_dict, \n",
    "                               item_dict,threshold = 0,nrec_items = 10):\n",
    "    \n",
    "    n_users, n_items = interactions.shape\n",
    "    user_x = user_dict[user_id]\n",
    "    scores = pd.Series(model.predict(user_x,np.arange(n_items), item_features=books_metadata_csr1))\n",
    "    scores.index = interactions.columns\n",
    "    scores = list(pd.Series(scores.sort_values(ascending=False).index))\n",
    "    \n",
    "    known_items = list(pd.Series(interactions.loc[user_id,:] \\\n",
    "                                 [interactions.loc[user_id,:] > threshold].index).sort_values(ascending=False))\n",
    "    \n",
    "    return known_items"
   ]
  },
  {
   "cell_type": "code",
   "execution_count": 56,
   "metadata": {},
   "outputs": [
    {
     "name": "stdout",
     "output_type": "stream",
     "text": [
      "3704\n"
     ]
    }
   ],
   "source": [
    "### Find cold-start user\n",
    "cold_start_users = []\n",
    "for user in users:\n",
    "    known_items = find_known_items_for_user(model, user_book_interaction1, user, user_dict, relevant_item_dict)\n",
    "    if len(known_items) == 0:\n",
    "        cold_start_users.append(user)\n",
    "\n",
    "print(len(cold_start_users))"
   ]
  },
  {
   "cell_type": "code",
   "execution_count": 57,
   "metadata": {},
   "outputs": [],
   "source": [
    "def sample_recommendation_user(model, interactions, user_id, user_dict, \n",
    "                               item_dict,threshold = 0,nrec_items = 10, show = True):\n",
    "    \n",
    "    n_users, n_items = interactions.shape\n",
    "    user_x = user_dict[user_id]\n",
    "    scores = pd.Series(model.predict(user_x,np.arange(n_items), item_features=books_metadata_csr1))\n",
    "    scores.index = interactions.columns\n",
    "    scores = list(pd.Series(scores.sort_values(ascending=False).index))\n",
    "    \n",
    "    known_items = list(pd.Series(interactions.loc[user_id,:] \\\n",
    "                                 [interactions.loc[user_id,:] > threshold].index).sort_values(ascending=False))\n",
    "    \n",
    "    scores = [x for x in scores if x not in known_items]\n",
    "    return_score_list = scores[0:nrec_items]\n",
    "    known_items = list(pd.Series(known_items).apply(lambda x: item_dict[x]))\n",
    "    scores = list(pd.Series(return_score_list).apply(lambda x: item_dict[x]))\n",
    "    if show == True:\n",
    "        print (\"User: \" + str(user_id))\n",
    "        print(\"Known Likes:\")\n",
    "        counter = 1\n",
    "        for i in known_items:\n",
    "            print(str(counter) + '- ' + i)\n",
    "            counter+=1\n",
    "\n",
    "        print(\"\\n Recommended Items:\")\n",
    "        counter = 1\n",
    "        for i in scores:\n",
    "            print(str(counter) + '- ' + i)\n",
    "            counter+=1"
   ]
  },
  {
   "cell_type": "markdown",
   "metadata": {},
   "source": [
    "### Hyperparameter Tuning"
   ]
  },
  {
   "cell_type": "code",
   "execution_count": 58,
   "metadata": {},
   "outputs": [
    {
     "name": "stdout",
     "output_type": "stream",
     "text": [
      "Best AUC score 0.9003565907478333 \n",
      "Hyperparameters: \n",
      "{'no_components': 57, 'learning_schedule': 'adadelta', 'loss': 'warp', 'learning_rate': 0.08991239659786136, 'item_alpha': 1.4021047784485973e-08, 'user_alpha': 1.829103815164664e-08, 'max_sampled': 14, 'num_epochs': 6}\n"
     ]
    }
   ],
   "source": [
    "### Best hyperparameters to maximise AUC score\n",
    "(score_auc, hyperparams_auc, model) = max(random_search_auc(train=train_interactions, item_features = books_metadata_csr1, num_threads=1), key=lambda x: x[0])\n",
    "\n",
    "print(\"Best AUC score {} \\nHyperparameters: \\n{}\".format(score_auc, hyperparams_auc))"
   ]
  },
  {
   "cell_type": "code",
   "execution_count": 59,
   "metadata": {},
   "outputs": [
    {
     "name": "stdout",
     "output_type": "stream",
     "text": [
      "\n",
      "Best precision score at k=1: 0.049840934574604034\n",
      "Precision scores at k=1: [0.05882353, 0.03163993, 0.021390375, 0.017825311, 0.014616756, 0.013071896, 0.012477718, 0.011475044, 0.010299069]\n",
      "\n",
      "Best precision score at k=2: 0.029598308727145195\n",
      "Precision scores at k=2: [0.056149732, 0.03787879, 0.029411765, 0.02473262, 0.021212121, 0.019310756, 0.018589254, 0.016822638, 0.015349573]\n",
      "\n",
      "Best precision score at k=3: 0.018808776512742043\n",
      "Precision scores at k=3: [0.047237076, 0.03698752, 0.026737968, 0.021167558, 0.021212121, 0.019607844, 0.018716577, 0.017045455, 0.015547633]\n",
      "\n",
      "Best precision score at k=4: 0.02317708358168602\n",
      "Precision scores at k=4: [0.060606062, 0.030303031, 0.02436126, 0.029411765, 0.02406417, 0.02124183, 0.018843902, 0.01671123, 0.014854427]\n",
      "\n",
      "Best precision score at k=5: 0.028297875076532364\n",
      "Precision scores at k=5: [0.13547237, 0.07308378, 0.05496138, 0.041666668, 0.034937613, 0.030154489, 0.025974026, 0.023284314, 0.021291345]\n",
      "\n",
      "Best precision score at k=6: 0.020789289847016335\n",
      "Precision scores at k=6: [0.0, 0.0, 0.00029708855, 0.0022281639, 0.029233512, 0.025995247, 0.02406417, 0.021947416, 0.020003963]\n",
      "\n",
      "Best precision score at k=7: 0.019725045189261436\n",
      "Precision scores at k=7: [0.0008912656, 0.067736186, 0.04515746, 0.033868093, 0.028163992, 0.023618538, 0.021263052, 0.020499108, 0.019409785]\n",
      "\n",
      "Best precision score at k=8: 0.015673575922846794\n",
      "Precision scores at k=8: [0.011586453, 0.008467023, 0.00802139, 0.008467023, 0.008734403, 0.0089126555, 0.010949835, 0.016934047, 0.01594375]\n",
      "\n",
      "Best precision score at k=9: 0.014921947382390499\n",
      "Precision scores at k=9: [0.019607844, 0.012032085, 0.012477718, 0.011586453, 0.010695187, 0.009655378, 0.011331806, 0.017491087, 0.016835017]\n",
      "\n",
      "Best highest average precision: 0.04898066528969341 \n",
      "Best k: 5 \n",
      "Best hyperparams to maximise precision_at_k score: {'no_components': 62, 'learning_schedule': 'adagrad', 'loss': 'warp', 'learning_rate': 0.008987131441769677, 'item_alpha': 2.2403599085558627e-09, 'user_alpha': 3.6846841813640586e-09, 'max_sampled': 11, 'num_epochs': 18}\n"
     ]
    },
    {
     "data": {
      "image/png": "[encoded data removed]",
      "text/plain": [
       "<Figure size 432x288 with 1 Axes>"
      ]
     },
     "metadata": {
      "needs_background": "light"
     },
     "output_type": "display_data"
    },
    {
     "data": {
      "image/png": "[encoded data removed]",
      "text/plain": [
       "<Figure size 432x288 with 1 Axes>"
      ]
     },
     "metadata": {
      "needs_background": "light"
     },
     "output_type": "display_data"
    },
    {
     "data": {
      "image/png": "[encoded data removed]",
      "text/plain": [
       "<Figure size 432x288 with 1 Axes>"
      ]
     },
     "metadata": {
      "needs_background": "light"
     },
     "output_type": "display_data"
    },
    {
     "data": {
      "image/png": "[encoded data removed]",
      "text/plain": [
       "<Figure size 432x288 with 1 Axes>"
      ]
     },
     "metadata": {
      "needs_background": "light"
     },
     "output_type": "display_data"
    },
    {
     "data": {
      "image/png": "[encoded data removed]",
      "text/plain": [
       "<Figure size 432x288 with 1 Axes>"
      ]
     },
     "metadata": {
      "needs_background": "light"
     },
     "output_type": "display_data"
    },
    {
     "data": {
      "image/png": "[encoded data removed]",
      "text/plain": [
       "<Figure size 432x288 with 1 Axes>"
      ]
     },
     "metadata": {
      "needs_background": "light"
     },
     "output_type": "display_data"
    },
    {
     "data": {
      "image/png": "[encoded data removed]",
      "text/plain": [
       "<Figure size 432x288 with 1 Axes>"
      ]
     },
     "metadata": {
      "needs_background": "light"
     },
     "output_type": "display_data"
    },
    {
     "data": {
      "image/png": "[encoded data removed]",
      "text/plain": [
       "<Figure size 432x288 with 1 Axes>"
      ]
     },
     "metadata": {
      "needs_background": "light"
     },
     "output_type": "display_data"
    },
    {
     "data": {
      "image/png": "[encoded data removed]",
      "text/plain": [
       "<Figure size 432x288 with 1 Axes>"
      ]
     },
     "metadata": {
      "needs_background": "light"
     },
     "output_type": "display_data"
    }
   ],
   "source": [
    "### Best hyperparameters to maximise precision_at_k score\n",
    "\n",
    "counter = 1\n",
    "best_average_score_precision = 0\n",
    "best_hyperparams_precision = None\n",
    "best_model_precision = None\n",
    "best_k = 0\n",
    "for k in range(1, 10):\n",
    "    (score_precision, hyperparams_precision, model) = max(random_search_precision_at_k(k=k, train=train2, item_features = books_metadata_csr1, num_threads=1), key=lambda x: x[0])\n",
    "    print(\"\\nBest precision score at k={}: {}\".format(k, score_precision))\n",
    "    precision_score_array = []\n",
    "    # After getting the best hyperparams for the model at a specific k, we see how its precision score changes as k changes\n",
    "    for j in range(1, 10):\n",
    "        precision_score = precision_at_k(model, validation, train2, k=j, item_features=books_metadata_csr1, preserve_rows=False, num_threads=1, check_intersections=True).mean()\n",
    "        precision_score_array.append(precision_score)\n",
    "    ave_precision_score = sum(precision_score_array) / len(precision_score_array)\n",
    "    if ave_precision_score > best_average_score_precision:\n",
    "        best_average_score_precision = ave_precision_score\n",
    "        best_hyperparams_precision = hyperparams_precision\n",
    "        best_model_precision = model\n",
    "        best_k = k\n",
    "    print(\"Precision scores at k={}: {}\".format(k, precision_score_array))\n",
    "    plt.figure(counter)\n",
    "    plt.plot(range(1, 10), precision_score_array)\n",
    "    plt.xlabel('k')\n",
    "    plt.ylabel('precision')\n",
    "    plt.title(\"Precision scores at different k values. Model: tuned model at k={}\".format(k))\n",
    "    plt.show\n",
    "    counter+=1\n",
    "\n",
    "print(\"\\nBest highest average precision: {} \\nBest k: {} \\nBest hyperparams to maximise precision_at_k score: {}\".format(best_average_score_precision, best_k, hyperparams_precision))"
   ]
  },
  {
   "cell_type": "code",
   "execution_count": 60,
   "metadata": {},
   "outputs": [
    {
     "name": "stdout",
     "output_type": "stream",
     "text": [
      "\n",
      "Best recall score at k=500: 0.8314769856436525\n",
      "Recall scores at k=500: [0.834863339275104, 0.9066558441558441, 0.9381366182836771, 0.9584893048128342, 0.9811200237670825, 1.0, 1.0, 1.0, 1.0, 1.0]\n",
      "\n",
      "Best recall score at k=1000: 0.8982786357786356\n",
      "Recall scores at k=1000: [0.8347243442831679, 0.8998408454290807, 0.9376771920889566, 0.959349800526271, 0.9845811051693403, 1.0, 1.0, 1.0, 1.0, 1.0]\n",
      "\n",
      "Best recall score at k=1500: 0.942241646408313\n",
      "Recall scores at k=1500: [0.7964497920380273, 0.8960911637382225, 0.9387244291656056, 0.9675727866904337, 0.9840909090909091, 1.0, 1.0, 1.0, 1.0, 1.0]\n",
      "\n",
      "Best recall score at k=2000: 0.9694819819819819\n",
      "Recall scores at k=2000: [0.7986524912995501, 0.9038876156523216, 0.9433600713012477, 0.9669340463458111, 0.9881164587046941, 1.0, 1.0, 1.0, 1.0, 1.0]\n",
      "\n",
      "Best recall score at k=2500: 0.987567925067925\n",
      "Recall scores at k=2500: [0.7837970036499449, 0.8891021560139208, 0.9372676343264578, 0.9604575163398692, 0.9876708259061199, 1.0, 1.0, 1.0, 1.0, 1.0]\n",
      "\n",
      "Best recall score at k=3000: 1.0\n",
      "Recall scores at k=3000: [0.833184789067142, 0.9134856973092268, 0.9360729140140905, 0.9666581784228844, 0.9819815805109923, 1.0, 1.0, 1.0, 1.0, 1.0]\n",
      "\n",
      "Best recall score at k=3500: 1.0\n",
      "Recall scores at k=3500: [0.8003915202444615, 0.8864633732280791, 0.9268239113827348, 0.9558441558441558, 0.979025549613785, 1.0, 1.0, 1.0, 1.0, 1.0]\n",
      "\n",
      "Best recall score at k=4000: 1.0\n",
      "Recall scores at k=4000: [0.4868432221373397, 0.6757734912146677, 0.7864814107461165, 0.8474492827434004, 0.9125435022493845, 1.0, 1.0, 1.0, 1.0, 1.0]\n",
      "\n",
      "Best recall score at k=4500: 1.0\n",
      "Recall scores at k=4500: [0.7900729988965283, 0.9023968678380443, 0.9444370172311348, 0.9684863339275104, 0.9835115864527629, 1.0, 1.0, 1.0, 1.0, 1.0]\n",
      "\n",
      "Best recall score at k=5000: 1.0\n",
      "Recall scores at k=5000: [0.45721606824548006, 0.6430958747135217, 0.7488105848399966, 0.8227591036414567, 0.8942778626602156, 1.0, 1.0, 1.0, 1.0, 1.0]\n",
      "\n",
      "Best highest average recall: 0.9631383159324336 \n",
      "Best hyperparams to maximise recall_at_k score: {'no_components': 47, 'learning_schedule': 'adagrad', 'loss': 'bpr', 'learning_rate': 0.05734652834104606, 'item_alpha': 2.8896758288476598e-09, 'user_alpha': 1.6533906856880675e-09, 'max_sampled': 10, 'num_epochs': 11}\n"
     ]
    },
    {
     "data": {
      "image/png": "[encoded data removed]",
      "text/plain": [
       "<Figure size 432x288 with 1 Axes>"
      ]
     },
     "metadata": {
      "needs_background": "light"
     },
     "output_type": "display_data"
    },
    {
     "data": {
      "image/png": "[encoded data removed]",
      "text/plain": [
       "<Figure size 432x288 with 1 Axes>"
      ]
     },
     "metadata": {
      "needs_background": "light"
     },
     "output_type": "display_data"
    },
    {
     "data": {
      "image/png": "[encoded data removed]",
      "text/plain": [
       "<Figure size 432x288 with 1 Axes>"
      ]
     },
     "metadata": {
      "needs_background": "light"
     },
     "output_type": "display_data"
    },
    {
     "data": {
      "image/png": "[encoded data removed]",
      "text/plain": [
       "<Figure size 432x288 with 1 Axes>"
      ]
     },
     "metadata": {
      "needs_background": "light"
     },
     "output_type": "display_data"
    },
    {
     "data": {
      "image/png": "[encoded data removed]",
      "text/plain": [
       "<Figure size 432x288 with 1 Axes>"
      ]
     },
     "metadata": {
      "needs_background": "light"
     },
     "output_type": "display_data"
    },
    {
     "data": {
      "image/png": "[encoded data removed]",
      "text/plain": [
       "<Figure size 432x288 with 1 Axes>"
      ]
     },
     "metadata": {
      "needs_background": "light"
     },
     "output_type": "display_data"
    },
    {
     "data": {
      "image/png": "[encoded data removed]",
      "text/plain": [
       "<Figure size 432x288 with 1 Axes>"
      ]
     },
     "metadata": {
      "needs_background": "light"
     },
     "output_type": "display_data"
    },
    {
     "data": {
      "image/png": "[encoded data removed]",
      "text/plain": [
       "<Figure size 432x288 with 1 Axes>"
      ]
     },
     "metadata": {
      "needs_background": "light"
     },
     "output_type": "display_data"
    },
    {
     "data": {
      "image/png": "[encoded data removed]",
      "text/plain": [
       "<Figure size 432x288 with 1 Axes>"
      ]
     },
     "metadata": {
      "needs_background": "light"
     },
     "output_type": "display_data"
    },
    {
     "data": {
      "image/png": "[encoded data removed]",
      "text/plain": [
       "<Figure size 432x288 with 1 Axes>"
      ]
     },
     "metadata": {
      "needs_background": "light"
     },
     "output_type": "display_data"
    }
   ],
   "source": [
    "### Best hyperparameters to maximise recall_at_k score\n",
    "\n",
    "counter = 1\n",
    "best_average_score_recall = 0\n",
    "best_hyperparams_recall = None\n",
    "best_model_recall = None\n",
    "for k in range(500, 5001, 500):\n",
    "    (score_recall, hyperparams_recall, model) = max(random_search_recall_at_k(k=k, train=train2, item_features = books_metadata_csr1, num_threads=1), key=lambda x: x[0])\n",
    "    print(\"\\nBest recall score at k={}: {}\".format(k, score_recall))\n",
    "    recall_score_array = []\n",
    "    # After getting the best hyperparams for the model at a specific k, we see how its recall score changes as k changes\n",
    "    for j in range(500, 5001, 500):\n",
    "        recall_score = recall_at_k(model, validation, train2, k=j, item_features=books_metadata_csr1, preserve_rows=False, num_threads=1, check_intersections=True).mean()\n",
    "        recall_score_array.append(recall_score)\n",
    "    ave_recall_score = sum(recall_score_array) / len(recall_score_array)\n",
    "    if ave_recall_score > best_average_score_recall:\n",
    "        best_average_score_recall = ave_recall_score\n",
    "        best_hyperparams_recall = hyperparams_recall\n",
    "        best_model_recall = model\n",
    "    print(\"Recall scores at k={}: {}\".format(k, recall_score_array))\n",
    "    plt.figure(counter)\n",
    "    plt.plot(range(500, 5001, 500), recall_score_array)\n",
    "    plt.xlabel('k')\n",
    "    plt.ylabel('recall')\n",
    "    plt.title(\"Recall scores at different k values. Model: tuned model at k={}\".format(k))\n",
    "    plt.show\n",
    "    counter+=1\n",
    "\n",
    "print(\"\\nBest highest average recall: {} \\nBest hyperparams to maximise recall_at_k score: {}\".format(best_average_score_recall, hyperparams_recall))"
   ]
  },
  {
   "cell_type": "code",
   "execution_count": 61,
   "metadata": {},
   "outputs": [],
   "source": [
    "cold_start_user = random.choice(cold_start_users)"
   ]
  },
  {
   "cell_type": "markdown",
   "metadata": {},
   "source": [
    "### 1. Model that maximises AUC Score"
   ]
  },
  {
   "cell_type": "code",
   "execution_count": 62,
   "metadata": {},
   "outputs": [
    {
     "name": "stdout",
     "output_type": "stream",
     "text": [
      "AUC Score:  0.69573843 \n",
      "\n",
      "Precision at k= 5 : 0.0019519519 \n",
      "\n",
      "Recall at k= 500 : 0.4836314127980795 \n",
      "\n",
      "User: fb4420766e4e721ba45c706d3772d70a\n",
      "Known Likes:\n",
      "\n",
      " Recommended Items:\n",
      "1- Rubaiyat of Omar Khayyam\n",
      "2- Selected Poems\n",
      "3- Vile Verses\n",
      "4- A Kick in the Head: An Everyday Guide to Poetic Forms\n",
      "5- The Rig Veda\n",
      "6- Black Coffee Blues\n",
      "7- Boris Godunov\n",
      "8- Hamlet\n",
      "9- Hamlet\n",
      "10- King Ink\n"
     ]
    }
   ],
   "source": [
    "AUC_score = auc_score(model, test_interactions, train_interactions, item_features = books_metadata_csr1, num_threads=1).mean()\n",
    "precision_k = precision_at_k(model, test_interactions, train_interactions, k=5, user_features=None, item_features=books_metadata_csr1, preserve_rows=False, num_threads=1, check_intersections=True).mean()\n",
    "recall_k = recall_at_k(model, test_interactions, train_interactions, k=500, user_features=None, item_features=books_metadata_csr1, preserve_rows=False, num_threads=1, check_intersections=True).mean()\n",
    "print(\"AUC Score: \", AUC_score, \"\\n\")\n",
    "print(\"Precision at k=\", 5, \":\", precision_k, \"\\n\")\n",
    "print(\"Recall at k=\", 500, \":\", recall_k, \"\\n\")\n",
    "\n",
    "sample_recommendation_user(model, user_book_interaction1, cold_start_user, user_dict, relevant_item_dict)"
   ]
  },
  {
   "cell_type": "markdown",
   "metadata": {},
   "source": [
    "### 2. Model that maximises precision_at_k score"
   ]
  },
  {
   "cell_type": "code",
   "execution_count": 63,
   "metadata": {},
   "outputs": [
    {
     "name": "stdout",
     "output_type": "stream",
     "text": [
      "AUC Score:  0.8745766 \n",
      "\n",
      "Precision at k= 5 : 0.03138138 \n",
      "\n",
      "Recall at k= 500 : 0.8128893503893504 \n",
      "\n",
      "User: fb4420766e4e721ba45c706d3772d70a\n",
      "Known Likes:\n",
      "\n",
      " Recommended Items:\n",
      "1- The Odyssey\n",
      "2- Poetry and Prose\n",
      "3- The Canterbury Tales\n",
      "4- Leaves of Grass\n",
      "5- John Donne's Poetry\n",
      "6- Robert Browning's Poetry\n",
      "7- The Book of Disquiet\n",
      "8- The Complete Sonnets and Poems\n",
      "9- The Poetry of Robert Frost: The Collected Poems, Complete and Unabridged\n",
      "10- The Complete English Poems\n"
     ]
    }
   ],
   "source": [
    "AUC_score = auc_score(best_model_precision, test_interactions, train_interactions, item_features = books_metadata_csr1, num_threads=1).mean()\n",
    "k = 5\n",
    "precision_k = precision_at_k(best_model_precision, test_interactions, train_interactions, k=5, user_features=None, item_features=books_metadata_csr1, preserve_rows=False, num_threads=1, check_intersections=True).mean()\n",
    "recall_k = recall_at_k(best_model_precision, test_interactions, train_interactions, k=500, user_features=None, item_features=books_metadata_csr1, preserve_rows=False, num_threads=1, check_intersections=True).mean()\n",
    "print(\"AUC Score: \", AUC_score, \"\\n\")\n",
    "print(\"Precision at k=\", 5, \":\", precision_k, \"\\n\")\n",
    "print(\"Recall at k=\", 500, \":\", recall_k, \"\\n\")\n",
    "\n",
    "sample_recommendation_user(best_model_precision, user_book_interaction1, cold_start_user, user_dict, relevant_item_dict)"
   ]
  },
  {
   "cell_type": "markdown",
   "metadata": {},
   "source": [
    "### 3. Model that maximises recall_at_k score"
   ]
  },
  {
   "cell_type": "code",
   "execution_count": 64,
   "metadata": {},
   "outputs": [
    {
     "name": "stdout",
     "output_type": "stream",
     "text": [
      "AUC Score:  0.8894139 \n",
      "\n",
      "Precision at k= 5 : 0.0069069066 \n",
      "\n",
      "Recall at k= 500 : 0.835131235131235 \n",
      "\n",
      "User: fb4420766e4e721ba45c706d3772d70a\n",
      "Known Likes:\n",
      "\n",
      " Recommended Items:\n",
      "1- The Odyssey\n",
      "2- Poetry and Prose\n",
      "3- The Canterbury Tales\n",
      "4- Leaves of Grass\n",
      "5- John Donne's Poetry\n",
      "6- Robert Browning's Poetry\n",
      "7- The Book of Disquiet\n",
      "8- The Complete Sonnets and Poems\n",
      "9- The Poetry of Robert Frost: The Collected Poems, Complete and Unabridged\n",
      "10- The Complete English Poems\n"
     ]
    }
   ],
   "source": [
    "AUC_score = auc_score(best_model_recall, test_interactions, train_interactions, item_features = books_metadata_csr1, num_threads=1).mean()\n",
    "k = 5\n",
    "precision_k = precision_at_k(best_model_recall, test_interactions, train_interactions, k=5, user_features=None, item_features=books_metadata_csr1, preserve_rows=False, num_threads=1, check_intersections=True).mean()\n",
    "recall_k = recall_at_k(best_model_recall, test_interactions, train_interactions, k=500, user_features=None, item_features=books_metadata_csr1, preserve_rows=False, num_threads=1, check_intersections=True).mean()\n",
    "print(\"AUC Score: \", AUC_score, \"\\n\")\n",
    "print(\"Precision at k=\", 5, \":\", precision_k, \"\\n\")\n",
    "print(\"Recall at k=\", 500, \":\", recall_k, \"\\n\")\n",
    "\n",
    "sample_recommendation_user(best_model_precision, user_book_interaction1, cold_start_user, user_dict, relevant_item_dict)"
   ]
  }
 ],
 "metadata": {
  "kernelspec": {
   "display_name": "Python 3",
   "language": "python",
   "name": "python3"
  },
  "language_info": {
   "codemirror_mode": {
    "name": "ipython",
    "version": 3
   },
   "file_extension": ".py",
   "mimetype": "text/x-python",
   "name": "python",
   "nbconvert_exporter": "python",
   "pygments_lexer": "ipython3",
   "version": "3.8.3"
  }
 },
 "nbformat": 4,
 "nbformat_minor": 4
}
