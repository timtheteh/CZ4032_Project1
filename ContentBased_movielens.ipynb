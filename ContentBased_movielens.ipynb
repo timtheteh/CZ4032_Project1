{
 "cells": [
  {
   "cell_type": "code",
   "execution_count": 3,
   "id": "bd52fee4-d69f-4ed4-906b-2d954a03249b",
   "metadata": {},
   "outputs": [],
   "source": [
    "import pandas as pd\n",
    "from sklearn.feature_extraction.text import TfidfVectorizer\n",
    "from sklearn.metrics.pairwise import linear_kernel"
   ]
  },
  {
   "cell_type": "code",
   "execution_count": 4,
   "id": "4aef03ff-c7b7-4dd3-b69c-c16743b689c3",
   "metadata": {},
   "outputs": [],
   "source": [
    "\n",
    "import numpy as np\n",
    "from sklearn.metrics import pairwise_distances"
   ]
  },
  {
   "cell_type": "code",
   "execution_count": 5,
   "id": "00ea6d93-4b30-463d-8f61-c73a8db6887b",
   "metadata": {},
   "outputs": [],
   "source": [
    "import pandas as pd\n",
    "movies_df = pd.read_csv('movies.csv', sep='\\t', encoding='latin-1', usecols=['movie_id', 'title', 'genres'])"
   ]
  },
  {
   "cell_type": "code",
   "execution_count": 6,
   "id": "e42c14f0-39ca-4893-8c2a-7c6aa11a2792",
   "metadata": {},
   "outputs": [
    {
     "data": {
      "text/html": [
       "<div>\n",
       "<style scoped>\n",
       "    .dataframe tbody tr th:only-of-type {\n",
       "        vertical-align: middle;\n",
       "    }\n",
       "\n",
       "    .dataframe tbody tr th {\n",
       "        vertical-align: top;\n",
       "    }\n",
       "\n",
       "    .dataframe thead th {\n",
       "        text-align: right;\n",
       "    }\n",
       "</style>\n",
       "<table border=\"1\" class=\"dataframe\">\n",
       "  <thead>\n",
       "    <tr style=\"text-align: right;\">\n",
       "      <th></th>\n",
       "      <th>movie_id</th>\n",
       "      <th>title</th>\n",
       "      <th>genres</th>\n",
       "    </tr>\n",
       "  </thead>\n",
       "  <tbody>\n",
       "    <tr>\n",
       "      <th>0</th>\n",
       "      <td>1</td>\n",
       "      <td>Toy Story (1995)</td>\n",
       "      <td>Animation|Children's|Comedy</td>\n",
       "    </tr>\n",
       "    <tr>\n",
       "      <th>1</th>\n",
       "      <td>2</td>\n",
       "      <td>Jumanji (1995)</td>\n",
       "      <td>Adventure|Children's|Fantasy</td>\n",
       "    </tr>\n",
       "    <tr>\n",
       "      <th>2</th>\n",
       "      <td>3</td>\n",
       "      <td>Grumpier Old Men (1995)</td>\n",
       "      <td>Comedy|Romance</td>\n",
       "    </tr>\n",
       "    <tr>\n",
       "      <th>3</th>\n",
       "      <td>4</td>\n",
       "      <td>Waiting to Exhale (1995)</td>\n",
       "      <td>Comedy|Drama</td>\n",
       "    </tr>\n",
       "    <tr>\n",
       "      <th>4</th>\n",
       "      <td>5</td>\n",
       "      <td>Father of the Bride Part II (1995)</td>\n",
       "      <td>Comedy</td>\n",
       "    </tr>\n",
       "  </tbody>\n",
       "</table>\n",
       "</div>"
      ],
      "text/plain": [
       "   movie_id                               title                        genres\n",
       "0         1                    Toy Story (1995)   Animation|Children's|Comedy\n",
       "1         2                      Jumanji (1995)  Adventure|Children's|Fantasy\n",
       "2         3             Grumpier Old Men (1995)                Comedy|Romance\n",
       "3         4            Waiting to Exhale (1995)                  Comedy|Drama\n",
       "4         5  Father of the Bride Part II (1995)                        Comedy"
      ]
     },
     "execution_count": 6,
     "metadata": {},
     "output_type": "execute_result"
    }
   ],
   "source": [
    "movies_df.head()"
   ]
  },
  {
   "cell_type": "code",
   "execution_count": 7,
   "id": "4e427ced-7c2d-45f7-9cc1-cdd8a4de2b44",
   "metadata": {},
   "outputs": [
    {
     "data": {
      "text/plain": [
       "(18,\n",
       " array(['Animation', \"Children's\", 'Comedy', 'Adventure', 'Fantasy',\n",
       "        'Romance', 'Drama', 'Action', 'Crime', 'Thriller', 'Horror',\n",
       "        'Sci-Fi', 'Documentary', 'War', 'Musical', 'Mystery', 'Film-Noir',\n",
       "        'Western'], dtype=object))"
      ]
     },
     "execution_count": 7,
     "metadata": {},
     "output_type": "execute_result"
    }
   ],
   "source": [
    "all_genres = movies_df['genres'].str.split('|').explode()\n",
    "\n",
    "# Get unique genres from the list\n",
    "unique_genres = all_genres.unique()\n",
    "\n",
    "# Count the number of unique genres\n",
    "num_unique_genres = len(unique_genres)\n",
    "num_unique_genres, unique_genres"
   ]
  },
  {
   "cell_type": "code",
   "execution_count": 8,
   "id": "f1535010-596f-4682-929a-025d348662c9",
   "metadata": {},
   "outputs": [
    {
     "data": {
      "text/html": [
       "<div>\n",
       "<style scoped>\n",
       "    .dataframe tbody tr th:only-of-type {\n",
       "        vertical-align: middle;\n",
       "    }\n",
       "\n",
       "    .dataframe tbody tr th {\n",
       "        vertical-align: top;\n",
       "    }\n",
       "\n",
       "    .dataframe thead th {\n",
       "        text-align: right;\n",
       "    }\n",
       "</style>\n",
       "<table border=\"1\" class=\"dataframe\">\n",
       "  <thead>\n",
       "    <tr style=\"text-align: right;\">\n",
       "      <th></th>\n",
       "      <th>movie_id</th>\n",
       "      <th>title</th>\n",
       "      <th>genres</th>\n",
       "    </tr>\n",
       "  </thead>\n",
       "  <tbody>\n",
       "    <tr>\n",
       "      <th>0</th>\n",
       "      <td>1</td>\n",
       "      <td>Toy Story (1995)</td>\n",
       "      <td>Animation Children's Comedy</td>\n",
       "    </tr>\n",
       "    <tr>\n",
       "      <th>1</th>\n",
       "      <td>2</td>\n",
       "      <td>Jumanji (1995)</td>\n",
       "      <td>Adventure Children's Fantasy</td>\n",
       "    </tr>\n",
       "    <tr>\n",
       "      <th>2</th>\n",
       "      <td>3</td>\n",
       "      <td>Grumpier Old Men (1995)</td>\n",
       "      <td>Comedy Romance</td>\n",
       "    </tr>\n",
       "    <tr>\n",
       "      <th>3</th>\n",
       "      <td>4</td>\n",
       "      <td>Waiting to Exhale (1995)</td>\n",
       "      <td>Comedy Drama</td>\n",
       "    </tr>\n",
       "    <tr>\n",
       "      <th>4</th>\n",
       "      <td>5</td>\n",
       "      <td>Father of the Bride Part II (1995)</td>\n",
       "      <td>Comedy</td>\n",
       "    </tr>\n",
       "    <tr>\n",
       "      <th>...</th>\n",
       "      <td>...</td>\n",
       "      <td>...</td>\n",
       "      <td>...</td>\n",
       "    </tr>\n",
       "    <tr>\n",
       "      <th>3878</th>\n",
       "      <td>3948</td>\n",
       "      <td>Meet the Parents (2000)</td>\n",
       "      <td>Comedy</td>\n",
       "    </tr>\n",
       "    <tr>\n",
       "      <th>3879</th>\n",
       "      <td>3949</td>\n",
       "      <td>Requiem for a Dream (2000)</td>\n",
       "      <td>Drama</td>\n",
       "    </tr>\n",
       "    <tr>\n",
       "      <th>3880</th>\n",
       "      <td>3950</td>\n",
       "      <td>Tigerland (2000)</td>\n",
       "      <td>Drama</td>\n",
       "    </tr>\n",
       "    <tr>\n",
       "      <th>3881</th>\n",
       "      <td>3951</td>\n",
       "      <td>Two Family House (2000)</td>\n",
       "      <td>Drama</td>\n",
       "    </tr>\n",
       "    <tr>\n",
       "      <th>3882</th>\n",
       "      <td>3952</td>\n",
       "      <td>Contender, The (2000)</td>\n",
       "      <td>Drama Thriller</td>\n",
       "    </tr>\n",
       "  </tbody>\n",
       "</table>\n",
       "<p>3883 rows × 3 columns</p>\n",
       "</div>"
      ],
      "text/plain": [
       "      movie_id                               title  \\\n",
       "0            1                    Toy Story (1995)   \n",
       "1            2                      Jumanji (1995)   \n",
       "2            3             Grumpier Old Men (1995)   \n",
       "3            4            Waiting to Exhale (1995)   \n",
       "4            5  Father of the Bride Part II (1995)   \n",
       "...        ...                                 ...   \n",
       "3878      3948             Meet the Parents (2000)   \n",
       "3879      3949          Requiem for a Dream (2000)   \n",
       "3880      3950                    Tigerland (2000)   \n",
       "3881      3951             Two Family House (2000)   \n",
       "3882      3952               Contender, The (2000)   \n",
       "\n",
       "                            genres  \n",
       "0      Animation Children's Comedy  \n",
       "1     Adventure Children's Fantasy  \n",
       "2                   Comedy Romance  \n",
       "3                     Comedy Drama  \n",
       "4                           Comedy  \n",
       "...                            ...  \n",
       "3878                        Comedy  \n",
       "3879                         Drama  \n",
       "3880                         Drama  \n",
       "3881                         Drama  \n",
       "3882                Drama Thriller  \n",
       "\n",
       "[3883 rows x 3 columns]"
      ]
     },
     "execution_count": 8,
     "metadata": {},
     "output_type": "execute_result"
    }
   ],
   "source": [
    "movies_df['genres'] = movies_df['genres'].str.replace('|', ' ')\n",
    "movies_df"
   ]
  },
  {
   "cell_type": "code",
   "execution_count": 9,
   "id": "698e46b9-4bd3-4626-8102-38a8f71cb294",
   "metadata": {},
   "outputs": [
    {
     "data": {
      "text/plain": [
       "0        Animation Children's Comedy\n",
       "1       Adventure Children's Fantasy\n",
       "2                     Comedy Romance\n",
       "3                       Comedy Drama\n",
       "4                             Comedy\n",
       "                    ...             \n",
       "3878                          Comedy\n",
       "3879                           Drama\n",
       "3880                           Drama\n",
       "3881                           Drama\n",
       "3882                  Drama Thriller\n",
       "Name: genres, Length: 3883, dtype: object"
      ]
     },
     "execution_count": 9,
     "metadata": {},
     "output_type": "execute_result"
    }
   ],
   "source": [
    "movies_df['genres'].fillna(\"\").astype('str')"
   ]
  },
  {
   "cell_type": "code",
   "execution_count": 10,
   "id": "d0d43c0e-ce40-4a03-9209-6a5d3fbfbb2b",
   "metadata": {},
   "outputs": [],
   "source": [
    "ratings_df = pd.read_csv('ratings.csv', sep='\\t', encoding='latin-1')"
   ]
  },
  {
   "cell_type": "code",
   "execution_count": 11,
   "id": "f1226b4e-97c4-46f7-845e-5ab2d8f4c8c4",
   "metadata": {},
   "outputs": [
    {
     "data": {
      "text/html": [
       "<div>\n",
       "<style scoped>\n",
       "    .dataframe tbody tr th:only-of-type {\n",
       "        vertical-align: middle;\n",
       "    }\n",
       "\n",
       "    .dataframe tbody tr th {\n",
       "        vertical-align: top;\n",
       "    }\n",
       "\n",
       "    .dataframe thead th {\n",
       "        text-align: right;\n",
       "    }\n",
       "</style>\n",
       "<table border=\"1\" class=\"dataframe\">\n",
       "  <thead>\n",
       "    <tr style=\"text-align: right;\">\n",
       "      <th></th>\n",
       "      <th>Unnamed: 0</th>\n",
       "      <th>user_id</th>\n",
       "      <th>movie_id</th>\n",
       "      <th>rating</th>\n",
       "      <th>timestamp</th>\n",
       "      <th>user_emb_id</th>\n",
       "      <th>movie_emb_id</th>\n",
       "    </tr>\n",
       "  </thead>\n",
       "  <tbody>\n",
       "    <tr>\n",
       "      <th>0</th>\n",
       "      <td>0</td>\n",
       "      <td>1</td>\n",
       "      <td>1193</td>\n",
       "      <td>5</td>\n",
       "      <td>978300760</td>\n",
       "      <td>0</td>\n",
       "      <td>1192</td>\n",
       "    </tr>\n",
       "    <tr>\n",
       "      <th>1</th>\n",
       "      <td>1</td>\n",
       "      <td>1</td>\n",
       "      <td>661</td>\n",
       "      <td>3</td>\n",
       "      <td>978302109</td>\n",
       "      <td>0</td>\n",
       "      <td>660</td>\n",
       "    </tr>\n",
       "    <tr>\n",
       "      <th>2</th>\n",
       "      <td>2</td>\n",
       "      <td>1</td>\n",
       "      <td>914</td>\n",
       "      <td>3</td>\n",
       "      <td>978301968</td>\n",
       "      <td>0</td>\n",
       "      <td>913</td>\n",
       "    </tr>\n",
       "    <tr>\n",
       "      <th>3</th>\n",
       "      <td>3</td>\n",
       "      <td>1</td>\n",
       "      <td>3408</td>\n",
       "      <td>4</td>\n",
       "      <td>978300275</td>\n",
       "      <td>0</td>\n",
       "      <td>3407</td>\n",
       "    </tr>\n",
       "    <tr>\n",
       "      <th>4</th>\n",
       "      <td>4</td>\n",
       "      <td>1</td>\n",
       "      <td>2355</td>\n",
       "      <td>5</td>\n",
       "      <td>978824291</td>\n",
       "      <td>0</td>\n",
       "      <td>2354</td>\n",
       "    </tr>\n",
       "    <tr>\n",
       "      <th>...</th>\n",
       "      <td>...</td>\n",
       "      <td>...</td>\n",
       "      <td>...</td>\n",
       "      <td>...</td>\n",
       "      <td>...</td>\n",
       "      <td>...</td>\n",
       "      <td>...</td>\n",
       "    </tr>\n",
       "    <tr>\n",
       "      <th>1000204</th>\n",
       "      <td>1000204</td>\n",
       "      <td>6040</td>\n",
       "      <td>1091</td>\n",
       "      <td>1</td>\n",
       "      <td>956716541</td>\n",
       "      <td>6039</td>\n",
       "      <td>1090</td>\n",
       "    </tr>\n",
       "    <tr>\n",
       "      <th>1000205</th>\n",
       "      <td>1000205</td>\n",
       "      <td>6040</td>\n",
       "      <td>1094</td>\n",
       "      <td>5</td>\n",
       "      <td>956704887</td>\n",
       "      <td>6039</td>\n",
       "      <td>1093</td>\n",
       "    </tr>\n",
       "    <tr>\n",
       "      <th>1000206</th>\n",
       "      <td>1000206</td>\n",
       "      <td>6040</td>\n",
       "      <td>562</td>\n",
       "      <td>5</td>\n",
       "      <td>956704746</td>\n",
       "      <td>6039</td>\n",
       "      <td>561</td>\n",
       "    </tr>\n",
       "    <tr>\n",
       "      <th>1000207</th>\n",
       "      <td>1000207</td>\n",
       "      <td>6040</td>\n",
       "      <td>1096</td>\n",
       "      <td>4</td>\n",
       "      <td>956715648</td>\n",
       "      <td>6039</td>\n",
       "      <td>1095</td>\n",
       "    </tr>\n",
       "    <tr>\n",
       "      <th>1000208</th>\n",
       "      <td>1000208</td>\n",
       "      <td>6040</td>\n",
       "      <td>1097</td>\n",
       "      <td>4</td>\n",
       "      <td>956715569</td>\n",
       "      <td>6039</td>\n",
       "      <td>1096</td>\n",
       "    </tr>\n",
       "  </tbody>\n",
       "</table>\n",
       "<p>1000209 rows × 7 columns</p>\n",
       "</div>"
      ],
      "text/plain": [
       "         Unnamed: 0  user_id  movie_id  rating  timestamp  user_emb_id  \\\n",
       "0                 0        1      1193       5  978300760            0   \n",
       "1                 1        1       661       3  978302109            0   \n",
       "2                 2        1       914       3  978301968            0   \n",
       "3                 3        1      3408       4  978300275            0   \n",
       "4                 4        1      2355       5  978824291            0   \n",
       "...             ...      ...       ...     ...        ...          ...   \n",
       "1000204     1000204     6040      1091       1  956716541         6039   \n",
       "1000205     1000205     6040      1094       5  956704887         6039   \n",
       "1000206     1000206     6040       562       5  956704746         6039   \n",
       "1000207     1000207     6040      1096       4  956715648         6039   \n",
       "1000208     1000208     6040      1097       4  956715569         6039   \n",
       "\n",
       "         movie_emb_id  \n",
       "0                1192  \n",
       "1                 660  \n",
       "2                 913  \n",
       "3                3407  \n",
       "4                2354  \n",
       "...               ...  \n",
       "1000204          1090  \n",
       "1000205          1093  \n",
       "1000206           561  \n",
       "1000207          1095  \n",
       "1000208          1096  \n",
       "\n",
       "[1000209 rows x 7 columns]"
      ]
     },
     "execution_count": 11,
     "metadata": {},
     "output_type": "execute_result"
    }
   ],
   "source": [
    "ratings_df"
   ]
  },
  {
   "cell_type": "markdown",
   "id": "f0669cb8-ffae-4735-9aa0-a65c2674262c",
   "metadata": {},
   "source": [
    "# 1) Changing input data for TFIDF"
   ]
  },
  {
   "cell_type": "markdown",
   "id": "3999bf0c-92c7-4050-b023-5822c0a8f9a2",
   "metadata": {},
   "source": [
    "## TFIDF TRAINED ON ONLY MOVIE GENRE"
   ]
  },
  {
   "cell_type": "code",
   "execution_count": 12,
   "id": "d2db965d-00b0-47cb-b06a-08eb889877a0",
   "metadata": {},
   "outputs": [],
   "source": [
    "tf = TfidfVectorizer(analyzer='word',ngram_range=(1, 1),min_df=0.0)"
   ]
  },
  {
   "cell_type": "code",
   "execution_count": 13,
   "id": "81ac6172-1c70-483b-84f4-fcf40c59c4b4",
   "metadata": {},
   "outputs": [],
   "source": [
    "tfidf_matrix_genres = tf.fit_transform(movies_df['genres'])\n"
   ]
  },
  {
   "cell_type": "code",
   "execution_count": 14,
   "id": "e88594f9-fe54-4422-becc-9fee340ad2d4",
   "metadata": {},
   "outputs": [
    {
     "data": {
      "text/plain": [
       "(3883, 20)"
      ]
     },
     "execution_count": 14,
     "metadata": {},
     "output_type": "execute_result"
    }
   ],
   "source": [
    "(tfidf_matrix_genres.shape)"
   ]
  },
  {
   "cell_type": "code",
   "execution_count": 15,
   "id": "839a9df2-c162-4b88-a1c2-338d9dad9ec3",
   "metadata": {},
   "outputs": [],
   "source": [
    "cosine_sim = linear_kernel(tfidf_matrix_genres, tfidf_matrix_genres)"
   ]
  },
  {
   "cell_type": "code",
   "execution_count": 16,
   "id": "9be483a9-848c-4d8e-82aa-d9b3cfcd5758",
   "metadata": {},
   "outputs": [],
   "source": [
    "# Construct a reverse mapping of indices and movie titles\n",
    "indices = pd.Series(movies_df.index, index=movies_df['title']).to_dict()\n",
    "\n",
    "def get_recommendations(title, k):\n",
    "    # Get the index of the movie that matches the title\n",
    "    idx = indices[title]\n",
    "\n",
    "    # Get the pairwise similarity scores with that movie\n",
    "    sim_scores = list(enumerate(cosine_sim[idx]))\n",
    "\n",
    "    # Sort the movies based on the similarity scores\n",
    "    sim_scores = sorted(sim_scores, key=lambda x: x[1], reverse=True)\n",
    "\n",
    "    # Get the scores of the 10 most similar movies\n",
    "    sim_scores = sim_scores[1:k]\n",
    "\n",
    "    # Get the movie indices\n",
    "    movie_indices = [i[0] for i in sim_scores]\n",
    "\n",
    "    # Return the top 10 most similar movies\n",
    "    return movies_df['title'].iloc[movie_indices]"
   ]
  },
  {
   "cell_type": "code",
   "execution_count": 17,
   "id": "555e4701-1be1-4e3a-bf95-a378f96e0c2c",
   "metadata": {
    "scrolled": true
   },
   "outputs": [],
   "source": [
    "rec_only_genres=get_recommendations('Good Will Hunting (1997)',20).head(20)"
   ]
  },
  {
   "cell_type": "code",
   "execution_count": 18,
   "id": "d6884d58-5705-4de1-a397-d770e4a81a97",
   "metadata": {},
   "outputs": [
    {
     "data": {
      "text/plain": [
       "25                                       Othello (1995)\n",
       "26                                  Now and Then (1995)\n",
       "29    Shanghai Triad (Yao a yao yao dao waipo qiao) ...\n",
       "30                               Dangerous Minds (1995)\n",
       "35                              Dead Man Walking (1995)\n",
       "39                      Cry, the Beloved Country (1995)\n",
       "42                                   Restoration (1995)\n",
       "52                                      Lamerica (1994)\n",
       "54                                       Georgia (1995)\n",
       "56                         Home for the Holidays (1995)\n",
       "61                            Mr. Holland's Opus (1995)\n",
       "66                                      Two Bits (1995)\n",
       "77                           Crossing Guard, The (1995)\n",
       "79         White Balloon, The (Badkonake Sefid ) (1995)\n",
       "81                      Antonia's Line (Antonia) (1995)\n",
       "82      Once Upon a Time... When We Were Colored (1995)\n",
       "89                   Journey of August King, The (1995)\n",
       "92                               Beautiful Girls (1996)\n",
       "95                              Hate (Haine, La) (1995)\n",
       "Name: title, dtype: object"
      ]
     },
     "execution_count": 18,
     "metadata": {},
     "output_type": "execute_result"
    }
   ],
   "source": [
    "rec_only_genres"
   ]
  },
  {
   "cell_type": "markdown",
   "id": "3c1ac1a7-a335-4d97-8336-64880bf1fe1a",
   "metadata": {},
   "source": [
    "## TFIDF WITH TITLES AND GENRES"
   ]
  },
  {
   "cell_type": "code",
   "execution_count": 19,
   "id": "380be9cf-ac20-4f3d-9c65-4547da70be87",
   "metadata": {},
   "outputs": [],
   "source": [
    "movies_df['combined_content'] = movies_df['title'] + \" \" + movies_df['genres']"
   ]
  },
  {
   "cell_type": "code",
   "execution_count": 20,
   "id": "ab5cefe2-9133-4d9f-828c-dc7a8ea952fd",
   "metadata": {},
   "outputs": [],
   "source": [
    "tf =TfidfVectorizer(analyzer='word', ngram_range=(1, 2), min_df=0.0, stop_words='english')"
   ]
  },
  {
   "cell_type": "code",
   "execution_count": 21,
   "id": "8d89d71a-4d5b-4e27-b531-30f12dd18627",
   "metadata": {},
   "outputs": [],
   "source": [
    "tfidf_matrix_combined = tf.fit_transform(movies_df['combined_content'])"
   ]
  },
  {
   "cell_type": "code",
   "execution_count": 22,
   "id": "2eb0742c-8f42-4206-8414-7bf5a3125925",
   "metadata": {},
   "outputs": [
    {
     "data": {
      "text/plain": [
       "(3883, 12883)"
      ]
     },
     "execution_count": 22,
     "metadata": {},
     "output_type": "execute_result"
    }
   ],
   "source": [
    "(tfidf_matrix_combined.shape)"
   ]
  },
  {
   "cell_type": "code",
   "execution_count": 23,
   "id": "d5919f6a-74fc-48ec-8cbd-306cc3888249",
   "metadata": {},
   "outputs": [],
   "source": [
    "cosine_sim = linear_kernel(tfidf_matrix_combined, tfidf_matrix_combined)"
   ]
  },
  {
   "cell_type": "code",
   "execution_count": 24,
   "id": "694ea057-44ea-4468-9dbb-434b3e60d474",
   "metadata": {},
   "outputs": [],
   "source": [
    "# Construct a reverse mapping of indices and movie titles\n",
    "indices = pd.Series(movies_df.index, index=movies_df['title']).to_dict()\n",
    "\n",
    "def get_recommendations(title, k):\n",
    "    # Get the index of the movie that matches the title\n",
    "    idx = indices[title]\n",
    "\n",
    "    # Get the pairwise similarity scores with that movie\n",
    "    sim_scores = list(enumerate(cosine_sim[idx]))\n",
    "\n",
    "    # Sort the movies based on the similarity scores\n",
    "    sim_scores = sorted(sim_scores, key=lambda x: x[1], reverse=True)\n",
    "\n",
    "    # Get the scores of the 10 most similar movies\n",
    "    sim_scores = sim_scores[1:k]\n",
    "\n",
    "    # Get the movie indices\n",
    "    movie_indices = [i[0] for i in sim_scores]\n",
    "\n",
    "    # Return the top 10 most similar movies\n",
    "    return movies_df['title'].iloc[movie_indices]"
   ]
  },
  {
   "cell_type": "code",
   "execution_count": 25,
   "id": "f74eb1a0-afe8-44ec-b95e-8f71c3b42024",
   "metadata": {},
   "outputs": [],
   "source": [
    "rec_combined=get_recommendations('Good Will Hunting (1997)',20).head(20)"
   ]
  },
  {
   "cell_type": "code",
   "execution_count": 26,
   "id": "99ca64c5-27e7-48af-8655-5dbc0d3a85fb",
   "metadata": {},
   "outputs": [
    {
     "data": {
      "text/plain": [
       "1475              All Over Me (1997)\n",
       "1493                  Nowhere (1997)\n",
       "1726       As Good As It Gets (1997)\n",
       "2208    Somewhere in the City (1997)\n",
       "2626                Boys, The (1997)\n",
       "3380         Good Mother, The (1988)\n",
       "1670     Sweet Hereafter, The (1997)\n",
       "1677             Postman, The (1997)\n",
       "1750                     Eden (1997)\n",
       "2493                  Bandits (1997)\n",
       "2996                Ten Benny (1997)\n",
       "3378          Good Earth, The (1937)\n",
       "2199          Few Good Men, A (1992)\n",
       "1103                   Drunks (1997)\n",
       "1417              Prefontaine (1997)\n",
       "1438                 Rosewood (1997)\n",
       "1474                Traveller (1997)\n",
       "1567                      187 (1997)\n",
       "1585             Locusts, The (1997)\n",
       "Name: title, dtype: object"
      ]
     },
     "execution_count": 26,
     "metadata": {},
     "output_type": "execute_result"
    }
   ],
   "source": [
    "rec_combined"
   ]
  },
  {
   "cell_type": "markdown",
   "id": "e6d6fb7f-bd00-4a07-a818-a9e06a1522f5",
   "metadata": {},
   "source": [
    "## The interesting thing we found is that by traininng with the title names, if you do not remove the year from the title, the recommendations will be quite similar in those terms, but if that is good or bad really depends on the overall goal of the system\n",
    "### Here we can see how such factors can influence a content based model. \n",
    "### We will now try it with removing the year from the title to see how it affects our model"
   ]
  },
  {
   "cell_type": "markdown",
   "id": "9894a702-15bc-4fbc-adc4-cc86467ecb75",
   "metadata": {},
   "source": [
    "## TFIDF WITH CLEANED TITLES"
   ]
  },
  {
   "cell_type": "code",
   "execution_count": 27,
   "id": "ddd77077-b022-4a2b-948b-e609c61863dc",
   "metadata": {},
   "outputs": [],
   "source": [
    "movies_df['clean_title'] = movies_df['title']\n"
   ]
  },
  {
   "cell_type": "code",
   "execution_count": 28,
   "id": "942492c8-652a-43a7-9456-c41df9eef25b",
   "metadata": {},
   "outputs": [],
   "source": [
    "def remove_year(title):\n",
    "    if '(' in title and ')' in title:\n",
    "        title = title.split('(')[0]\n",
    "    return title.strip()\n",
    "\n",
    "movies_df['clean_title'] = movies_df['clean_title'].apply(remove_year)"
   ]
  },
  {
   "cell_type": "code",
   "execution_count": 29,
   "id": "e04aac32-cfdf-488a-95f2-ce34db2f4609",
   "metadata": {},
   "outputs": [
    {
     "data": {
      "text/html": [
       "<div>\n",
       "<style scoped>\n",
       "    .dataframe tbody tr th:only-of-type {\n",
       "        vertical-align: middle;\n",
       "    }\n",
       "\n",
       "    .dataframe tbody tr th {\n",
       "        vertical-align: top;\n",
       "    }\n",
       "\n",
       "    .dataframe thead th {\n",
       "        text-align: right;\n",
       "    }\n",
       "</style>\n",
       "<table border=\"1\" class=\"dataframe\">\n",
       "  <thead>\n",
       "    <tr style=\"text-align: right;\">\n",
       "      <th></th>\n",
       "      <th>movie_id</th>\n",
       "      <th>title</th>\n",
       "      <th>genres</th>\n",
       "      <th>combined_content</th>\n",
       "      <th>clean_title</th>\n",
       "    </tr>\n",
       "  </thead>\n",
       "  <tbody>\n",
       "    <tr>\n",
       "      <th>0</th>\n",
       "      <td>1</td>\n",
       "      <td>Toy Story (1995)</td>\n",
       "      <td>Animation Children's Comedy</td>\n",
       "      <td>Toy Story (1995) Animation Children's Comedy</td>\n",
       "      <td>Toy Story</td>\n",
       "    </tr>\n",
       "    <tr>\n",
       "      <th>1</th>\n",
       "      <td>2</td>\n",
       "      <td>Jumanji (1995)</td>\n",
       "      <td>Adventure Children's Fantasy</td>\n",
       "      <td>Jumanji (1995) Adventure Children's Fantasy</td>\n",
       "      <td>Jumanji</td>\n",
       "    </tr>\n",
       "    <tr>\n",
       "      <th>2</th>\n",
       "      <td>3</td>\n",
       "      <td>Grumpier Old Men (1995)</td>\n",
       "      <td>Comedy Romance</td>\n",
       "      <td>Grumpier Old Men (1995) Comedy Romance</td>\n",
       "      <td>Grumpier Old Men</td>\n",
       "    </tr>\n",
       "    <tr>\n",
       "      <th>3</th>\n",
       "      <td>4</td>\n",
       "      <td>Waiting to Exhale (1995)</td>\n",
       "      <td>Comedy Drama</td>\n",
       "      <td>Waiting to Exhale (1995) Comedy Drama</td>\n",
       "      <td>Waiting to Exhale</td>\n",
       "    </tr>\n",
       "    <tr>\n",
       "      <th>4</th>\n",
       "      <td>5</td>\n",
       "      <td>Father of the Bride Part II (1995)</td>\n",
       "      <td>Comedy</td>\n",
       "      <td>Father of the Bride Part II (1995) Comedy</td>\n",
       "      <td>Father of the Bride Part II</td>\n",
       "    </tr>\n",
       "    <tr>\n",
       "      <th>...</th>\n",
       "      <td>...</td>\n",
       "      <td>...</td>\n",
       "      <td>...</td>\n",
       "      <td>...</td>\n",
       "      <td>...</td>\n",
       "    </tr>\n",
       "    <tr>\n",
       "      <th>3878</th>\n",
       "      <td>3948</td>\n",
       "      <td>Meet the Parents (2000)</td>\n",
       "      <td>Comedy</td>\n",
       "      <td>Meet the Parents (2000) Comedy</td>\n",
       "      <td>Meet the Parents</td>\n",
       "    </tr>\n",
       "    <tr>\n",
       "      <th>3879</th>\n",
       "      <td>3949</td>\n",
       "      <td>Requiem for a Dream (2000)</td>\n",
       "      <td>Drama</td>\n",
       "      <td>Requiem for a Dream (2000) Drama</td>\n",
       "      <td>Requiem for a Dream</td>\n",
       "    </tr>\n",
       "    <tr>\n",
       "      <th>3880</th>\n",
       "      <td>3950</td>\n",
       "      <td>Tigerland (2000)</td>\n",
       "      <td>Drama</td>\n",
       "      <td>Tigerland (2000) Drama</td>\n",
       "      <td>Tigerland</td>\n",
       "    </tr>\n",
       "    <tr>\n",
       "      <th>3881</th>\n",
       "      <td>3951</td>\n",
       "      <td>Two Family House (2000)</td>\n",
       "      <td>Drama</td>\n",
       "      <td>Two Family House (2000) Drama</td>\n",
       "      <td>Two Family House</td>\n",
       "    </tr>\n",
       "    <tr>\n",
       "      <th>3882</th>\n",
       "      <td>3952</td>\n",
       "      <td>Contender, The (2000)</td>\n",
       "      <td>Drama Thriller</td>\n",
       "      <td>Contender, The (2000) Drama Thriller</td>\n",
       "      <td>Contender, The</td>\n",
       "    </tr>\n",
       "  </tbody>\n",
       "</table>\n",
       "<p>3883 rows × 5 columns</p>\n",
       "</div>"
      ],
      "text/plain": [
       "      movie_id                               title  \\\n",
       "0            1                    Toy Story (1995)   \n",
       "1            2                      Jumanji (1995)   \n",
       "2            3             Grumpier Old Men (1995)   \n",
       "3            4            Waiting to Exhale (1995)   \n",
       "4            5  Father of the Bride Part II (1995)   \n",
       "...        ...                                 ...   \n",
       "3878      3948             Meet the Parents (2000)   \n",
       "3879      3949          Requiem for a Dream (2000)   \n",
       "3880      3950                    Tigerland (2000)   \n",
       "3881      3951             Two Family House (2000)   \n",
       "3882      3952               Contender, The (2000)   \n",
       "\n",
       "                            genres  \\\n",
       "0      Animation Children's Comedy   \n",
       "1     Adventure Children's Fantasy   \n",
       "2                   Comedy Romance   \n",
       "3                     Comedy Drama   \n",
       "4                           Comedy   \n",
       "...                            ...   \n",
       "3878                        Comedy   \n",
       "3879                         Drama   \n",
       "3880                         Drama   \n",
       "3881                         Drama   \n",
       "3882                Drama Thriller   \n",
       "\n",
       "                                  combined_content  \\\n",
       "0     Toy Story (1995) Animation Children's Comedy   \n",
       "1      Jumanji (1995) Adventure Children's Fantasy   \n",
       "2           Grumpier Old Men (1995) Comedy Romance   \n",
       "3            Waiting to Exhale (1995) Comedy Drama   \n",
       "4        Father of the Bride Part II (1995) Comedy   \n",
       "...                                            ...   \n",
       "3878                Meet the Parents (2000) Comedy   \n",
       "3879              Requiem for a Dream (2000) Drama   \n",
       "3880                        Tigerland (2000) Drama   \n",
       "3881                 Two Family House (2000) Drama   \n",
       "3882          Contender, The (2000) Drama Thriller   \n",
       "\n",
       "                      clean_title  \n",
       "0                       Toy Story  \n",
       "1                         Jumanji  \n",
       "2                Grumpier Old Men  \n",
       "3               Waiting to Exhale  \n",
       "4     Father of the Bride Part II  \n",
       "...                           ...  \n",
       "3878             Meet the Parents  \n",
       "3879          Requiem for a Dream  \n",
       "3880                    Tigerland  \n",
       "3881             Two Family House  \n",
       "3882               Contender, The  \n",
       "\n",
       "[3883 rows x 5 columns]"
      ]
     },
     "execution_count": 29,
     "metadata": {},
     "output_type": "execute_result"
    }
   ],
   "source": [
    "movies_df"
   ]
  },
  {
   "cell_type": "code",
   "execution_count": 30,
   "id": "50ac059c-1f77-4ecb-a224-5158189dd92f",
   "metadata": {},
   "outputs": [],
   "source": [
    "movies_df['combined_content'] = movies_df['clean_title'] + \" \" + movies_df['genres']"
   ]
  },
  {
   "cell_type": "code",
   "execution_count": 31,
   "id": "7d8e3d5c-5270-436b-85f5-243658b8a3b7",
   "metadata": {},
   "outputs": [
    {
     "data": {
      "text/html": [
       "<div>\n",
       "<style scoped>\n",
       "    .dataframe tbody tr th:only-of-type {\n",
       "        vertical-align: middle;\n",
       "    }\n",
       "\n",
       "    .dataframe tbody tr th {\n",
       "        vertical-align: top;\n",
       "    }\n",
       "\n",
       "    .dataframe thead th {\n",
       "        text-align: right;\n",
       "    }\n",
       "</style>\n",
       "<table border=\"1\" class=\"dataframe\">\n",
       "  <thead>\n",
       "    <tr style=\"text-align: right;\">\n",
       "      <th></th>\n",
       "      <th>movie_id</th>\n",
       "      <th>title</th>\n",
       "      <th>genres</th>\n",
       "      <th>combined_content</th>\n",
       "      <th>clean_title</th>\n",
       "    </tr>\n",
       "  </thead>\n",
       "  <tbody>\n",
       "    <tr>\n",
       "      <th>0</th>\n",
       "      <td>1</td>\n",
       "      <td>Toy Story (1995)</td>\n",
       "      <td>Animation Children's Comedy</td>\n",
       "      <td>Toy Story Animation Children's Comedy</td>\n",
       "      <td>Toy Story</td>\n",
       "    </tr>\n",
       "    <tr>\n",
       "      <th>1</th>\n",
       "      <td>2</td>\n",
       "      <td>Jumanji (1995)</td>\n",
       "      <td>Adventure Children's Fantasy</td>\n",
       "      <td>Jumanji Adventure Children's Fantasy</td>\n",
       "      <td>Jumanji</td>\n",
       "    </tr>\n",
       "    <tr>\n",
       "      <th>2</th>\n",
       "      <td>3</td>\n",
       "      <td>Grumpier Old Men (1995)</td>\n",
       "      <td>Comedy Romance</td>\n",
       "      <td>Grumpier Old Men Comedy Romance</td>\n",
       "      <td>Grumpier Old Men</td>\n",
       "    </tr>\n",
       "    <tr>\n",
       "      <th>3</th>\n",
       "      <td>4</td>\n",
       "      <td>Waiting to Exhale (1995)</td>\n",
       "      <td>Comedy Drama</td>\n",
       "      <td>Waiting to Exhale Comedy Drama</td>\n",
       "      <td>Waiting to Exhale</td>\n",
       "    </tr>\n",
       "    <tr>\n",
       "      <th>4</th>\n",
       "      <td>5</td>\n",
       "      <td>Father of the Bride Part II (1995)</td>\n",
       "      <td>Comedy</td>\n",
       "      <td>Father of the Bride Part II Comedy</td>\n",
       "      <td>Father of the Bride Part II</td>\n",
       "    </tr>\n",
       "    <tr>\n",
       "      <th>...</th>\n",
       "      <td>...</td>\n",
       "      <td>...</td>\n",
       "      <td>...</td>\n",
       "      <td>...</td>\n",
       "      <td>...</td>\n",
       "    </tr>\n",
       "    <tr>\n",
       "      <th>3878</th>\n",
       "      <td>3948</td>\n",
       "      <td>Meet the Parents (2000)</td>\n",
       "      <td>Comedy</td>\n",
       "      <td>Meet the Parents Comedy</td>\n",
       "      <td>Meet the Parents</td>\n",
       "    </tr>\n",
       "    <tr>\n",
       "      <th>3879</th>\n",
       "      <td>3949</td>\n",
       "      <td>Requiem for a Dream (2000)</td>\n",
       "      <td>Drama</td>\n",
       "      <td>Requiem for a Dream Drama</td>\n",
       "      <td>Requiem for a Dream</td>\n",
       "    </tr>\n",
       "    <tr>\n",
       "      <th>3880</th>\n",
       "      <td>3950</td>\n",
       "      <td>Tigerland (2000)</td>\n",
       "      <td>Drama</td>\n",
       "      <td>Tigerland Drama</td>\n",
       "      <td>Tigerland</td>\n",
       "    </tr>\n",
       "    <tr>\n",
       "      <th>3881</th>\n",
       "      <td>3951</td>\n",
       "      <td>Two Family House (2000)</td>\n",
       "      <td>Drama</td>\n",
       "      <td>Two Family House Drama</td>\n",
       "      <td>Two Family House</td>\n",
       "    </tr>\n",
       "    <tr>\n",
       "      <th>3882</th>\n",
       "      <td>3952</td>\n",
       "      <td>Contender, The (2000)</td>\n",
       "      <td>Drama Thriller</td>\n",
       "      <td>Contender, The Drama Thriller</td>\n",
       "      <td>Contender, The</td>\n",
       "    </tr>\n",
       "  </tbody>\n",
       "</table>\n",
       "<p>3883 rows × 5 columns</p>\n",
       "</div>"
      ],
      "text/plain": [
       "      movie_id                               title  \\\n",
       "0            1                    Toy Story (1995)   \n",
       "1            2                      Jumanji (1995)   \n",
       "2            3             Grumpier Old Men (1995)   \n",
       "3            4            Waiting to Exhale (1995)   \n",
       "4            5  Father of the Bride Part II (1995)   \n",
       "...        ...                                 ...   \n",
       "3878      3948             Meet the Parents (2000)   \n",
       "3879      3949          Requiem for a Dream (2000)   \n",
       "3880      3950                    Tigerland (2000)   \n",
       "3881      3951             Two Family House (2000)   \n",
       "3882      3952               Contender, The (2000)   \n",
       "\n",
       "                            genres                       combined_content  \\\n",
       "0      Animation Children's Comedy  Toy Story Animation Children's Comedy   \n",
       "1     Adventure Children's Fantasy   Jumanji Adventure Children's Fantasy   \n",
       "2                   Comedy Romance        Grumpier Old Men Comedy Romance   \n",
       "3                     Comedy Drama         Waiting to Exhale Comedy Drama   \n",
       "4                           Comedy     Father of the Bride Part II Comedy   \n",
       "...                            ...                                    ...   \n",
       "3878                        Comedy                Meet the Parents Comedy   \n",
       "3879                         Drama              Requiem for a Dream Drama   \n",
       "3880                         Drama                        Tigerland Drama   \n",
       "3881                         Drama                 Two Family House Drama   \n",
       "3882                Drama Thriller          Contender, The Drama Thriller   \n",
       "\n",
       "                      clean_title  \n",
       "0                       Toy Story  \n",
       "1                         Jumanji  \n",
       "2                Grumpier Old Men  \n",
       "3               Waiting to Exhale  \n",
       "4     Father of the Bride Part II  \n",
       "...                           ...  \n",
       "3878             Meet the Parents  \n",
       "3879          Requiem for a Dream  \n",
       "3880                    Tigerland  \n",
       "3881             Two Family House  \n",
       "3882               Contender, The  \n",
       "\n",
       "[3883 rows x 5 columns]"
      ]
     },
     "execution_count": 31,
     "metadata": {},
     "output_type": "execute_result"
    }
   ],
   "source": [
    "movies_df"
   ]
  },
  {
   "cell_type": "code",
   "execution_count": 32,
   "id": "7c2c0c9d-19b1-40de-bce0-15c0d5ecdb78",
   "metadata": {},
   "outputs": [],
   "source": [
    "tf =TfidfVectorizer(analyzer='word', ngram_range=(1, 2), min_df=0.0, stop_words='english')"
   ]
  },
  {
   "cell_type": "code",
   "execution_count": 33,
   "id": "85850867-8b1e-4319-8a74-1774c00d40ea",
   "metadata": {},
   "outputs": [],
   "source": [
    "tfidf_matrix_combined = tf.fit_transform(movies_df['combined_content'])"
   ]
  },
  {
   "cell_type": "code",
   "execution_count": 34,
   "id": "c02daf9a-7d27-4d2e-ae8e-43cba18456a1",
   "metadata": {},
   "outputs": [
    {
     "data": {
      "text/plain": [
       "(3883, 10471)"
      ]
     },
     "execution_count": 34,
     "metadata": {},
     "output_type": "execute_result"
    }
   ],
   "source": [
    "(tfidf_matrix_combined.shape)"
   ]
  },
  {
   "cell_type": "code",
   "execution_count": 35,
   "id": "26fcd918-afef-414c-9b15-5fc4eaf29f43",
   "metadata": {},
   "outputs": [],
   "source": [
    "cosine_sim = linear_kernel(tfidf_matrix_combined, tfidf_matrix_combined)"
   ]
  },
  {
   "cell_type": "code",
   "execution_count": 36,
   "id": "bb7e910f-1e80-4233-95e0-d81ee6a7a37a",
   "metadata": {},
   "outputs": [],
   "source": [
    "# Construct a reverse mapping of indices and movie titles\n",
    "indices = pd.Series(movies_df.index, index=movies_df['title']).to_dict()\n",
    "\n",
    "def get_recommendations(title, k):\n",
    "    # Get the index of the movie that matches the title\n",
    "    idx = indices[title]\n",
    "\n",
    "    # Get the pairwise similarity scores with that movie\n",
    "    sim_scores = list(enumerate(cosine_sim[idx]))\n",
    "\n",
    "    # Sort the movies based on the similarity scores\n",
    "    sim_scores = sorted(sim_scores, key=lambda x: x[1], reverse=True)\n",
    "\n",
    "    # Get the scores of the 10 most similar movies\n",
    "    sim_scores = sim_scores[1:k]\n",
    "\n",
    "    # Get the movie indices\n",
    "    movie_indices = [i[0] for i in sim_scores]\n",
    "\n",
    "    # Return the top 10 most similar movies\n",
    "    return movies_df['title'].iloc[movie_indices]"
   ]
  },
  {
   "cell_type": "code",
   "execution_count": 37,
   "id": "db2b0f0d-f558-45cb-b5e1-41dd4a17846a",
   "metadata": {
    "scrolled": true
   },
   "outputs": [],
   "source": [
    "rec_combined_without_year=get_recommendations('Good Will Hunting (1997)',20).head(20)"
   ]
  },
  {
   "cell_type": "code",
   "execution_count": 38,
   "id": "d3849c19-3624-4bd1-94bb-a87b976e0f52",
   "metadata": {},
   "outputs": [
    {
     "data": {
      "text/plain": [
       "3378                            Good Earth, The (1937)\n",
       "3380                           Good Mother, The (1988)\n",
       "2199                            Few Good Men, A (1992)\n",
       "1726                         As Good As It Gets (1997)\n",
       "458                       Good Man in Africa, A (1994)\n",
       "3379                      Good Morning, Vietnam (1987)\n",
       "1183            Good, The Bad and The Ugly, The (1966)\n",
       "1663    Midnight in the Garden of Good and Evil (1997)\n",
       "26                                 Now and Then (1995)\n",
       "382                                      S.F.W. (1994)\n",
       "1126                                Get Over It (1996)\n",
       "1231                                      8 1/2 (1963)\n",
       "1475                                All Over Me (1997)\n",
       "1493                                    Nowhere (1997)\n",
       "1516                            To Have, or Not (1995)\n",
       "1803                                     Go Now (1995)\n",
       "1853                                   Whatever (1998)\n",
       "2216                                     If.... (1968)\n",
       "2864           Fire Within, The (Le Feu Follet) (1963)\n",
       "Name: title, dtype: object"
      ]
     },
     "execution_count": 38,
     "metadata": {},
     "output_type": "execute_result"
    }
   ],
   "source": [
    "rec_combined_without_year "
   ]
  },
  {
   "cell_type": "code",
   "execution_count": 39,
   "id": "6c4eb3aa-bc21-48c3-9757-9aba7cdcd070",
   "metadata": {},
   "outputs": [
    {
     "data": {
      "text/plain": [
       "1475              All Over Me (1997)\n",
       "1493                  Nowhere (1997)\n",
       "1726       As Good As It Gets (1997)\n",
       "2208    Somewhere in the City (1997)\n",
       "2626                Boys, The (1997)\n",
       "3380         Good Mother, The (1988)\n",
       "1670     Sweet Hereafter, The (1997)\n",
       "1677             Postman, The (1997)\n",
       "1750                     Eden (1997)\n",
       "2493                  Bandits (1997)\n",
       "2996                Ten Benny (1997)\n",
       "3378          Good Earth, The (1937)\n",
       "2199          Few Good Men, A (1992)\n",
       "1103                   Drunks (1997)\n",
       "1417              Prefontaine (1997)\n",
       "1438                 Rosewood (1997)\n",
       "1474                Traveller (1997)\n",
       "1567                      187 (1997)\n",
       "1585             Locusts, The (1997)\n",
       "Name: title, dtype: object"
      ]
     },
     "execution_count": 39,
     "metadata": {},
     "output_type": "execute_result"
    }
   ],
   "source": [
    "rec_combined "
   ]
  },
  {
   "cell_type": "code",
   "execution_count": 40,
   "id": "b4b58538-c56b-4eb5-95e7-78ebc218f299",
   "metadata": {},
   "outputs": [
    {
     "data": {
      "text/plain": [
       "25                                       Othello (1995)\n",
       "26                                  Now and Then (1995)\n",
       "29    Shanghai Triad (Yao a yao yao dao waipo qiao) ...\n",
       "30                               Dangerous Minds (1995)\n",
       "35                              Dead Man Walking (1995)\n",
       "39                      Cry, the Beloved Country (1995)\n",
       "42                                   Restoration (1995)\n",
       "52                                      Lamerica (1994)\n",
       "54                                       Georgia (1995)\n",
       "56                         Home for the Holidays (1995)\n",
       "61                            Mr. Holland's Opus (1995)\n",
       "66                                      Two Bits (1995)\n",
       "77                           Crossing Guard, The (1995)\n",
       "79         White Balloon, The (Badkonake Sefid ) (1995)\n",
       "81                      Antonia's Line (Antonia) (1995)\n",
       "82      Once Upon a Time... When We Were Colored (1995)\n",
       "89                   Journey of August King, The (1995)\n",
       "92                               Beautiful Girls (1996)\n",
       "95                              Hate (Haine, La) (1995)\n",
       "Name: title, dtype: object"
      ]
     },
     "execution_count": 40,
     "metadata": {},
     "output_type": "execute_result"
    }
   ],
   "source": [
    "rec_only_genres"
   ]
  },
  {
   "cell_type": "code",
   "execution_count": null,
   "id": "68cca391-7672-4063-b088-ee49c20fdc91",
   "metadata": {},
   "outputs": [],
   "source": []
  },
  {
   "cell_type": "code",
   "execution_count": null,
   "id": "d658bdf6-f59c-4d69-aa91-b424ed51967c",
   "metadata": {},
   "outputs": [],
   "source": []
  },
  {
   "cell_type": "code",
   "execution_count": null,
   "id": "d532cd01-74ab-45c0-b93e-1e20e71ed0a2",
   "metadata": {},
   "outputs": [],
   "source": []
  },
  {
   "cell_type": "markdown",
   "id": "239f822f-1ae2-4ca5-a46f-4be9cc16216a",
   "metadata": {},
   "source": [
    "# TFIDF BUT USING OTHER DISTANCE METRICS \n",
    "## Manhattan Distance, Pearsons Correrelation Coefficient"
   ]
  },
  {
   "cell_type": "code",
   "execution_count": 41,
   "id": "7caf0848-ba0e-422a-8916-b351b67a0253",
   "metadata": {},
   "outputs": [],
   "source": [
    "from sklearn.metrics import pairwise_distances\n",
    "\n",
    "manhattan_distance = pairwise_distances(tfidf_matrix_combined, metric='manhattan')\n"
   ]
  },
  {
   "cell_type": "code",
   "execution_count": 42,
   "id": "ab1a0090-f964-4d78-81ab-c57dd3f38103",
   "metadata": {},
   "outputs": [],
   "source": [
    "manhattan_similarity = 1 / (1 + manhattan_distance)\n"
   ]
  },
  {
   "cell_type": "code",
   "execution_count": 43,
   "id": "121e7c86-d8a8-4f46-8920-a5ccca4ba314",
   "metadata": {},
   "outputs": [
    {
     "data": {
      "text/plain": [
       "array([[1.        , 0.16903147, 0.15590055, ..., 0.1861037 , 0.16919777,\n",
       "        0.1721361 ],\n",
       "       [0.16903147, 1.        , 0.1581829 , ..., 0.19758144, 0.17863206,\n",
       "        0.18191038],\n",
       "       [0.15590055, 0.1581829 , 1.        , ..., 0.18647447, 0.16950418,\n",
       "        0.17245326],\n",
       "       ...,\n",
       "       [0.1861037 , 0.19758144, 0.18647447, ..., 1.        , 0.22760129,\n",
       "        0.23479629],\n",
       "       [0.16919777, 0.17863206, 0.16950418, ..., 0.22760129, 1.        ,\n",
       "        0.20705406],\n",
       "       [0.1721361 , 0.18191038, 0.17245326, ..., 0.23479629, 0.20705406,\n",
       "        1.        ]])"
      ]
     },
     "execution_count": 43,
     "metadata": {},
     "output_type": "execute_result"
    }
   ],
   "source": [
    "manhattan_similarity"
   ]
  },
  {
   "cell_type": "code",
   "execution_count": 44,
   "id": "b376609a-45a3-4d06-8acc-0907d4a2cae8",
   "metadata": {},
   "outputs": [],
   "source": [
    "\n",
    "\n",
    "# Calculate the Pearson Correlation Coefficient\n",
    "pearson_correlation = np.corrcoef(tfidf_matrix_combined.toarray())\n"
   ]
  },
  {
   "cell_type": "code",
   "execution_count": 45,
   "id": "f72567ce-bd96-42ba-a027-46de50b7133d",
   "metadata": {},
   "outputs": [
    {
     "name": "stdout",
     "output_type": "stream",
     "text": [
      "(3883, 3883)\n"
     ]
    }
   ],
   "source": [
    "print(pearson_correlation.shape)\n"
   ]
  },
  {
   "cell_type": "code",
   "execution_count": 46,
   "id": "9842ec80-ff1e-4a15-9bf1-a459d0e59f2a",
   "metadata": {},
   "outputs": [],
   "source": [
    "indices = pd.Series(movies_df.index, index=movies_df['title']).to_dict()\n",
    "\n",
    "def get_recommendations(title, k):\n",
    "    # Get the index of the movie that matches the title\n",
    "    idx = indices[title]\n",
    "\n",
    "    # Get the pairwise similarity scores with that movie\n",
    "    sim_scores = list(enumerate(manhattan_similarity[idx]))\n",
    "\n",
    "    # Sort the movies based on the similarity scores\n",
    "    sim_scores = sorted(sim_scores, key=lambda x: x[1], reverse=True)\n",
    "\n",
    "    # Get the scores of the 10 most similar movies\n",
    "    sim_scores = sim_scores[1:k]\n",
    "\n",
    "    # Get the movie indices\n",
    "    movie_indices = [i[0] for i in sim_scores]\n",
    "   \n",
    "    # Return the top 10 most similar movies\n",
    "    return movies_df['title'].iloc[movie_indices]"
   ]
  },
  {
   "cell_type": "code",
   "execution_count": 47,
   "id": "04de3fd2-74a5-4963-b0e8-c472c4e49c59",
   "metadata": {},
   "outputs": [],
   "source": [
    "rec_combined_without_year_manhattan=get_recommendations('Good Will Hunting (1997)',20).head(20)"
   ]
  },
  {
   "cell_type": "code",
   "execution_count": 48,
   "id": "9d52d86a-e9a5-4ed1-91cb-43ba94204d2c",
   "metadata": {},
   "outputs": [],
   "source": [
    "indices = pd.Series(movies_df.index, index=movies_df['title']).to_dict()\n",
    "\n",
    "def get_recommendations(title, k):\n",
    "    # Get the index of the movie that matches the title\n",
    "    idx = indices[title]\n",
    "\n",
    "    # Get the pairwise similarity scores with that movie\n",
    "    sim_scores = list(enumerate(pearson_correlation[idx]))\n",
    "\n",
    "    # Sort the movies based on the similarity scores\n",
    "    sim_scores = sorted(sim_scores, key=lambda x: x[1], reverse=True)\n",
    "\n",
    "    # Get the scores of the 10 most similar movies\n",
    "    sim_scores = sim_scores[1:k]\n",
    "\n",
    "    # Get the movie indices\n",
    "    movie_indices = [i[0] for i in sim_scores]\n",
    "   \n",
    "    # Return the top 10 most similar movies\n",
    "    return movies_df['title'].iloc[movie_indices]"
   ]
  },
  {
   "cell_type": "code",
   "execution_count": 49,
   "id": "79a220d0-6a46-4bba-b4f3-812287674c3b",
   "metadata": {},
   "outputs": [],
   "source": [
    "rec_combined_without_year_pearsons=get_recommendations('Good Will Hunting (1997)',20).head(20)"
   ]
  },
  {
   "cell_type": "code",
   "execution_count": 63,
   "id": "962c40b1-459c-4fa2-9b3e-7dacd84b2a87",
   "metadata": {},
   "outputs": [
    {
     "data": {
      "text/plain": [
       "26                               Now and Then (1995)\n",
       "382                                    S.F.W. (1994)\n",
       "1126                              Get Over It (1996)\n",
       "1231                                    8 1/2 (1963)\n",
       "1475                              All Over Me (1997)\n",
       "1493                                  Nowhere (1997)\n",
       "1516                          To Have, or Not (1995)\n",
       "1803                                   Go Now (1995)\n",
       "1853                                 Whatever (1998)\n",
       "2216                                   If.... (1968)\n",
       "2864         Fire Within, The (Le Feu Follet) (1963)\n",
       "2982                        Anywhere But Here (1999)\n",
       "3220    Not One Less (Yi ge dou bu neng shao) (1999)\n",
       "190                                 Show, The (1995)\n",
       "1272                              Being There (1979)\n",
       "1460                                  B*A*P*S (1997)\n",
       "1572                                 In & Out (1997)\n",
       "1865               You Can't Take It With You (1938)\n",
       "2511                                       Go (1999)\n",
       "Name: title, dtype: object"
      ]
     },
     "execution_count": 63,
     "metadata": {},
     "output_type": "execute_result"
    }
   ],
   "source": [
    "rec_combined_without_year_manhattan"
   ]
  },
  {
   "cell_type": "code",
   "execution_count": 51,
   "id": "1e18f051-5aef-4e63-b18a-22fcb894361c",
   "metadata": {},
   "outputs": [
    {
     "data": {
      "text/plain": [
       "3378                            Good Earth, The (1937)\n",
       "3380                           Good Mother, The (1988)\n",
       "2199                            Few Good Men, A (1992)\n",
       "1726                         As Good As It Gets (1997)\n",
       "458                       Good Man in Africa, A (1994)\n",
       "3379                      Good Morning, Vietnam (1987)\n",
       "1183            Good, The Bad and The Ugly, The (1966)\n",
       "1663    Midnight in the Garden of Good and Evil (1997)\n",
       "26                                 Now and Then (1995)\n",
       "382                                      S.F.W. (1994)\n",
       "1126                                Get Over It (1996)\n",
       "1231                                      8 1/2 (1963)\n",
       "1475                                All Over Me (1997)\n",
       "1493                                    Nowhere (1997)\n",
       "1516                            To Have, or Not (1995)\n",
       "1803                                     Go Now (1995)\n",
       "1853                                   Whatever (1998)\n",
       "2216                                     If.... (1968)\n",
       "2864           Fire Within, The (Le Feu Follet) (1963)\n",
       "Name: title, dtype: object"
      ]
     },
     "execution_count": 51,
     "metadata": {},
     "output_type": "execute_result"
    }
   ],
   "source": [
    "rec_combined_without_year_pearsons"
   ]
  },
  {
   "cell_type": "code",
   "execution_count": 52,
   "id": "84025fd9-57ee-487b-8dda-175bd1c85ce0",
   "metadata": {},
   "outputs": [
    {
     "data": {
      "text/plain": [
       "3378                            Good Earth, The (1937)\n",
       "3380                           Good Mother, The (1988)\n",
       "2199                            Few Good Men, A (1992)\n",
       "1726                         As Good As It Gets (1997)\n",
       "458                       Good Man in Africa, A (1994)\n",
       "3379                      Good Morning, Vietnam (1987)\n",
       "1183            Good, The Bad and The Ugly, The (1966)\n",
       "1663    Midnight in the Garden of Good and Evil (1997)\n",
       "26                                 Now and Then (1995)\n",
       "382                                      S.F.W. (1994)\n",
       "1126                                Get Over It (1996)\n",
       "1231                                      8 1/2 (1963)\n",
       "1475                                All Over Me (1997)\n",
       "1493                                    Nowhere (1997)\n",
       "1516                            To Have, or Not (1995)\n",
       "1803                                     Go Now (1995)\n",
       "1853                                   Whatever (1998)\n",
       "2216                                     If.... (1968)\n",
       "2864           Fire Within, The (Le Feu Follet) (1963)\n",
       "Name: title, dtype: object"
      ]
     },
     "execution_count": 52,
     "metadata": {},
     "output_type": "execute_result"
    }
   ],
   "source": [
    "rec_combined_without_year"
   ]
  },
  {
   "cell_type": "code",
   "execution_count": null,
   "id": "f54123a9-40c1-4b3b-a1d6-3ff59ec45da0",
   "metadata": {},
   "outputs": [],
   "source": []
  },
  {
   "cell_type": "code",
   "execution_count": 53,
   "id": "4109a70f-0f98-44fe-8b8a-d77c9dfd82dc",
   "metadata": {},
   "outputs": [
    {
     "name": "stdout",
     "output_type": "stream",
     "text": [
      "Defaulting to user installation because normal site-packages is not writeable\n",
      "Requirement already satisfied: gensim in /home/FYP/nipun001/.local/lib/python3.11/site-packages (4.3.2)\n",
      "Requirement already satisfied: numpy>=1.18.5 in /home/FYP/nipun001/.local/lib/python3.11/site-packages (from gensim) (1.24.4)\n",
      "Requirement already satisfied: scipy>=1.7.0 in /home/FYP/nipun001/.local/lib/python3.11/site-packages (from gensim) (1.11.3)\n",
      "Requirement already satisfied: smart-open>=1.8.1 in /home/FYP/nipun001/.local/lib/python3.11/site-packages (from gensim) (6.4.0)\n"
     ]
    }
   ],
   "source": [
    "!pip install gensim"
   ]
  },
  {
   "cell_type": "markdown",
   "id": "25c37df4-3eb8-4168-9e29-4dae8d6a615f",
   "metadata": {},
   "source": [
    "# WORD2VEC"
   ]
  },
  {
   "cell_type": "code",
   "execution_count": 54,
   "id": "9ee03449-8803-48a5-b8c3-644c716adb99",
   "metadata": {},
   "outputs": [
    {
     "name": "stderr",
     "output_type": "stream",
     "text": [
      "[nltk_data] Downloading package punkt to\n",
      "[nltk_data]     /home/FYP/nipun001/nltk_data...\n",
      "[nltk_data]   Package punkt is already up-to-date!\n"
     ]
    }
   ],
   "source": [
    "import nltk\n",
    "nltk.download('punkt')\n",
    "from nltk.tokenize import word_tokenize\n",
    "\n",
    "# Convert titles to lowercase and tokenize\n",
    "movies_df['tokens'] = movies_df['title'].str.lower().apply(word_tokenize)\n"
   ]
  },
  {
   "cell_type": "code",
   "execution_count": 55,
   "id": "4499f8b7-4c22-4585-ac25-65a2ecff05d4",
   "metadata": {},
   "outputs": [
    {
     "data": {
      "text/html": [
       "<div>\n",
       "<style scoped>\n",
       "    .dataframe tbody tr th:only-of-type {\n",
       "        vertical-align: middle;\n",
       "    }\n",
       "\n",
       "    .dataframe tbody tr th {\n",
       "        vertical-align: top;\n",
       "    }\n",
       "\n",
       "    .dataframe thead th {\n",
       "        text-align: right;\n",
       "    }\n",
       "</style>\n",
       "<table border=\"1\" class=\"dataframe\">\n",
       "  <thead>\n",
       "    <tr style=\"text-align: right;\">\n",
       "      <th></th>\n",
       "      <th>movie_id</th>\n",
       "      <th>title</th>\n",
       "      <th>genres</th>\n",
       "      <th>combined_content</th>\n",
       "      <th>clean_title</th>\n",
       "      <th>tokens</th>\n",
       "    </tr>\n",
       "  </thead>\n",
       "  <tbody>\n",
       "    <tr>\n",
       "      <th>0</th>\n",
       "      <td>1</td>\n",
       "      <td>Toy Story (1995)</td>\n",
       "      <td>Animation Children's Comedy</td>\n",
       "      <td>Toy Story Animation Children's Comedy</td>\n",
       "      <td>Toy Story</td>\n",
       "      <td>[toy, story, (, 1995, )]</td>\n",
       "    </tr>\n",
       "    <tr>\n",
       "      <th>1</th>\n",
       "      <td>2</td>\n",
       "      <td>Jumanji (1995)</td>\n",
       "      <td>Adventure Children's Fantasy</td>\n",
       "      <td>Jumanji Adventure Children's Fantasy</td>\n",
       "      <td>Jumanji</td>\n",
       "      <td>[jumanji, (, 1995, )]</td>\n",
       "    </tr>\n",
       "    <tr>\n",
       "      <th>2</th>\n",
       "      <td>3</td>\n",
       "      <td>Grumpier Old Men (1995)</td>\n",
       "      <td>Comedy Romance</td>\n",
       "      <td>Grumpier Old Men Comedy Romance</td>\n",
       "      <td>Grumpier Old Men</td>\n",
       "      <td>[grumpier, old, men, (, 1995, )]</td>\n",
       "    </tr>\n",
       "    <tr>\n",
       "      <th>3</th>\n",
       "      <td>4</td>\n",
       "      <td>Waiting to Exhale (1995)</td>\n",
       "      <td>Comedy Drama</td>\n",
       "      <td>Waiting to Exhale Comedy Drama</td>\n",
       "      <td>Waiting to Exhale</td>\n",
       "      <td>[waiting, to, exhale, (, 1995, )]</td>\n",
       "    </tr>\n",
       "    <tr>\n",
       "      <th>4</th>\n",
       "      <td>5</td>\n",
       "      <td>Father of the Bride Part II (1995)</td>\n",
       "      <td>Comedy</td>\n",
       "      <td>Father of the Bride Part II Comedy</td>\n",
       "      <td>Father of the Bride Part II</td>\n",
       "      <td>[father, of, the, bride, part, ii, (, 1995, )]</td>\n",
       "    </tr>\n",
       "    <tr>\n",
       "      <th>...</th>\n",
       "      <td>...</td>\n",
       "      <td>...</td>\n",
       "      <td>...</td>\n",
       "      <td>...</td>\n",
       "      <td>...</td>\n",
       "      <td>...</td>\n",
       "    </tr>\n",
       "    <tr>\n",
       "      <th>3878</th>\n",
       "      <td>3948</td>\n",
       "      <td>Meet the Parents (2000)</td>\n",
       "      <td>Comedy</td>\n",
       "      <td>Meet the Parents Comedy</td>\n",
       "      <td>Meet the Parents</td>\n",
       "      <td>[meet, the, parents, (, 2000, )]</td>\n",
       "    </tr>\n",
       "    <tr>\n",
       "      <th>3879</th>\n",
       "      <td>3949</td>\n",
       "      <td>Requiem for a Dream (2000)</td>\n",
       "      <td>Drama</td>\n",
       "      <td>Requiem for a Dream Drama</td>\n",
       "      <td>Requiem for a Dream</td>\n",
       "      <td>[requiem, for, a, dream, (, 2000, )]</td>\n",
       "    </tr>\n",
       "    <tr>\n",
       "      <th>3880</th>\n",
       "      <td>3950</td>\n",
       "      <td>Tigerland (2000)</td>\n",
       "      <td>Drama</td>\n",
       "      <td>Tigerland Drama</td>\n",
       "      <td>Tigerland</td>\n",
       "      <td>[tigerland, (, 2000, )]</td>\n",
       "    </tr>\n",
       "    <tr>\n",
       "      <th>3881</th>\n",
       "      <td>3951</td>\n",
       "      <td>Two Family House (2000)</td>\n",
       "      <td>Drama</td>\n",
       "      <td>Two Family House Drama</td>\n",
       "      <td>Two Family House</td>\n",
       "      <td>[two, family, house, (, 2000, )]</td>\n",
       "    </tr>\n",
       "    <tr>\n",
       "      <th>3882</th>\n",
       "      <td>3952</td>\n",
       "      <td>Contender, The (2000)</td>\n",
       "      <td>Drama Thriller</td>\n",
       "      <td>Contender, The Drama Thriller</td>\n",
       "      <td>Contender, The</td>\n",
       "      <td>[contender, ,, the, (, 2000, )]</td>\n",
       "    </tr>\n",
       "  </tbody>\n",
       "</table>\n",
       "<p>3883 rows × 6 columns</p>\n",
       "</div>"
      ],
      "text/plain": [
       "      movie_id                               title  \\\n",
       "0            1                    Toy Story (1995)   \n",
       "1            2                      Jumanji (1995)   \n",
       "2            3             Grumpier Old Men (1995)   \n",
       "3            4            Waiting to Exhale (1995)   \n",
       "4            5  Father of the Bride Part II (1995)   \n",
       "...        ...                                 ...   \n",
       "3878      3948             Meet the Parents (2000)   \n",
       "3879      3949          Requiem for a Dream (2000)   \n",
       "3880      3950                    Tigerland (2000)   \n",
       "3881      3951             Two Family House (2000)   \n",
       "3882      3952               Contender, The (2000)   \n",
       "\n",
       "                            genres                       combined_content  \\\n",
       "0      Animation Children's Comedy  Toy Story Animation Children's Comedy   \n",
       "1     Adventure Children's Fantasy   Jumanji Adventure Children's Fantasy   \n",
       "2                   Comedy Romance        Grumpier Old Men Comedy Romance   \n",
       "3                     Comedy Drama         Waiting to Exhale Comedy Drama   \n",
       "4                           Comedy     Father of the Bride Part II Comedy   \n",
       "...                            ...                                    ...   \n",
       "3878                        Comedy                Meet the Parents Comedy   \n",
       "3879                         Drama              Requiem for a Dream Drama   \n",
       "3880                         Drama                        Tigerland Drama   \n",
       "3881                         Drama                 Two Family House Drama   \n",
       "3882                Drama Thriller          Contender, The Drama Thriller   \n",
       "\n",
       "                      clean_title  \\\n",
       "0                       Toy Story   \n",
       "1                         Jumanji   \n",
       "2                Grumpier Old Men   \n",
       "3               Waiting to Exhale   \n",
       "4     Father of the Bride Part II   \n",
       "...                           ...   \n",
       "3878             Meet the Parents   \n",
       "3879          Requiem for a Dream   \n",
       "3880                    Tigerland   \n",
       "3881             Two Family House   \n",
       "3882               Contender, The   \n",
       "\n",
       "                                              tokens  \n",
       "0                           [toy, story, (, 1995, )]  \n",
       "1                              [jumanji, (, 1995, )]  \n",
       "2                   [grumpier, old, men, (, 1995, )]  \n",
       "3                  [waiting, to, exhale, (, 1995, )]  \n",
       "4     [father, of, the, bride, part, ii, (, 1995, )]  \n",
       "...                                              ...  \n",
       "3878                [meet, the, parents, (, 2000, )]  \n",
       "3879            [requiem, for, a, dream, (, 2000, )]  \n",
       "3880                         [tigerland, (, 2000, )]  \n",
       "3881                [two, family, house, (, 2000, )]  \n",
       "3882                 [contender, ,, the, (, 2000, )]  \n",
       "\n",
       "[3883 rows x 6 columns]"
      ]
     },
     "execution_count": 55,
     "metadata": {},
     "output_type": "execute_result"
    }
   ],
   "source": [
    "movies_df"
   ]
  },
  {
   "cell_type": "code",
   "execution_count": 98,
   "id": "03b24ed4-4fc6-4a2f-80b0-f5d80855f666",
   "metadata": {},
   "outputs": [],
   "source": [
    "from gensim.models import Word2Vec\n",
    "\n",
    "# Train the model\n",
    "model = Word2Vec(sentences=movies_df['tokens'], vector_size=50, window=5, min_count=1)\n"
   ]
  },
  {
   "cell_type": "code",
   "execution_count": 99,
   "id": "b8396108-e34a-489c-a383-9477e0122dd8",
   "metadata": {},
   "outputs": [],
   "source": [
    "import numpy as np\n",
    "\n",
    "def get_title_embedding(title_tokens):\n",
    "    embeddings = [model.wv[token] for token in title_tokens if token in model.wv]\n",
    "    if embeddings:\n",
    "        return np.mean(embeddings, axis=0)\n",
    "    else:\n",
    "        return np.zeros(model.vector_size)\n",
    "\n",
    "movies_df['title_embedding'] = movies_df['tokens'].apply(get_title_embedding)\n"
   ]
  },
  {
   "cell_type": "code",
   "execution_count": 100,
   "id": "dd843886-8462-40c7-a07f-78c32baffd67",
   "metadata": {},
   "outputs": [
    {
     "data": {
      "text/plain": [
       "0       [-0.35110056, 0.20834465, -0.11387561, -0.0544...\n",
       "1       [-0.39149696, 0.23860687, -0.1231528, -0.05967...\n",
       "2       [-0.31545684, 0.18669872, -0.10016296, -0.0495...\n",
       "3       [-0.35059738, 0.2144134, -0.107361175, -0.0606...\n",
       "4       [-0.3623083, 0.21314543, -0.11584376, -0.06079...\n",
       "                              ...                        \n",
       "3878    [-0.3444371, 0.20149797, -0.103228986, -0.0489...\n",
       "3879    [-0.34421477, 0.20708129, -0.10991713, -0.0513...\n",
       "3880    [-0.38391754, 0.22588325, -0.121586286, -0.056...\n",
       "3881    [-0.31579086, 0.19382073, -0.10466689, -0.0472...\n",
       "3882    [-0.40558735, 0.23630808, -0.12762702, -0.0607...\n",
       "Name: title_embedding, Length: 3883, dtype: object"
      ]
     },
     "execution_count": 100,
     "metadata": {},
     "output_type": "execute_result"
    }
   ],
   "source": [
    "movies_df['title_embedding']"
   ]
  },
  {
   "cell_type": "code",
   "execution_count": null,
   "id": "5770ebd5-bb49-4a0a-8ee2-4259a38246d5",
   "metadata": {},
   "outputs": [],
   "source": []
  },
  {
   "cell_type": "code",
   "execution_count": 101,
   "id": "91c1f350-872d-4253-baec-27db2c2da4aa",
   "metadata": {},
   "outputs": [],
   "source": [
    "from sklearn.preprocessing import MultiLabelBinarizer\n",
    "\n",
    "# Split genres by \"|\" and encode\n",
    "mlb = MultiLabelBinarizer()\n",
    "movies_df['genres_list'] = movies_df['genres'].str.split('|')\n",
    "genre_encoded = mlb.fit_transform(movies_df['genres_list'])\n",
    "genre_df = pd.DataFrame(genre_encoded, columns=mlb.classes_)\n"
   ]
  },
  {
   "cell_type": "code",
   "execution_count": 102,
   "id": "5e1f9923-8ef8-4c72-8039-7a4ca8f3fb3c",
   "metadata": {},
   "outputs": [],
   "source": [
    "from sklearn.preprocessing import MinMaxScaler\n",
    "\n",
    "# Scale title embeddings\n",
    "scaler = MinMaxScaler()\n",
    "scaled_embeddings = scaler.fit_transform(movies_df['title_embedding'].tolist())\n"
   ]
  },
  {
   "cell_type": "code",
   "execution_count": 103,
   "id": "7f88923e-d390-4ad3-9159-0eb5bef55637",
   "metadata": {},
   "outputs": [],
   "source": [
    "combined_features = np.hstack((scaled_embeddings, genre_df.values))\n"
   ]
  },
  {
   "cell_type": "code",
   "execution_count": 104,
   "id": "97dcec8f-d8f1-4413-9b34-c25537ee9056",
   "metadata": {},
   "outputs": [],
   "source": [
    "\n",
    "# Compute cosine similarities\n",
    "similarities = linear_kernel(combined_features)\n"
   ]
  },
  {
   "cell_type": "code",
   "execution_count": 105,
   "id": "9fb70769-0bf3-4d1f-a9c6-c57a30892f81",
   "metadata": {},
   "outputs": [
    {
     "data": {
      "text/plain": [
       "3883"
      ]
     },
     "execution_count": 105,
     "metadata": {},
     "output_type": "execute_result"
    }
   ],
   "source": [
    "len(similarities[0])"
   ]
  },
  {
   "cell_type": "code",
   "execution_count": 65,
   "id": "6daae368-0892-4c87-9b57-d8c552004524",
   "metadata": {},
   "outputs": [],
   "source": [
    "\n",
    "def get_combined_recommendations(title, num_recommendations=10):\n",
    "    idx = movies_df[movies_df['title'] == title].index[0]\n",
    "    sim_scores = list(enumerate(similarities[idx]))\n",
    "    sim_scores = sorted(sim_scores, key=lambda x: x[1], reverse=True)\n",
    "    sim_scores = sim_scores[1:num_recommendations+1]  # Exclude the input movie itself\n",
    "    movie_indices = [i[0] for i in sim_scores]\n",
    "    return movies_df['title'].iloc[movie_indices]\n",
    "\n",
    "\n"
   ]
  },
  {
   "cell_type": "code",
   "execution_count": 66,
   "id": "861d07dc-bb06-4e74-9adf-bb7e1ade0dd6",
   "metadata": {
    "scrolled": true
   },
   "outputs": [
    {
     "name": "stdout",
     "output_type": "stream",
     "text": [
      "2978     Experience Preferred... But Not Essential (1982)\n",
      "2778                        Only Angels Have Wings (1939)\n",
      "720     Institute Benjamenta, or This Dream People Cal...\n",
      "1886                             Kramer Vs. Kramer (1979)\n",
      "82        Once Upon a Time... When We Were Colored (1995)\n",
      "2161                         Always Tell Your Wife (1923)\n",
      "2170    Swept Away (Travolti da un insolito destino ne...\n",
      "3220         Not One Less (Yi ge dou bu neng shao) (1999)\n",
      "949                         Little Lord Fauntleroy (1936)\n",
      "2636    Late August, Early September (Fin aoÃ»t, dÃ©bu...\n",
      "648                      Und keiner weint mir nach (1996)\n",
      "2028               Something Wicked This Way Comes (1983)\n",
      "3063                               Daddy Long Legs (1919)\n",
      "1836                          Marie Baie Des Anges (1997)\n",
      "2095                           Surf Nazis Must Die (1987)\n",
      "1148          Two or Three Things I Know About Her (1966)\n",
      "961                                  Meet John Doe (1941)\n",
      "1866                       How Green Was My Valley (1941)\n",
      "3706                               Make Mine Music (1946)\n",
      "3775    And God Created Woman (Et Dieu&#8230;CrÃ©a la ...\n",
      "Name: title, dtype: object\n"
     ]
    }
   ],
   "source": [
    "print(get_combined_recommendations('Good Will Hunting (1997)',20))"
   ]
  },
  {
   "cell_type": "code",
   "execution_count": null,
   "id": "582cfb28-bed6-49f5-aedc-53cfab010678",
   "metadata": {},
   "outputs": [],
   "source": []
  },
  {
   "cell_type": "code",
   "execution_count": null,
   "id": "127b470c-8900-469a-beb1-0b4c1788b9aa",
   "metadata": {},
   "outputs": [],
   "source": []
  },
  {
   "cell_type": "code",
   "execution_count": 67,
   "id": "513f739f-f240-48f7-9471-ad9d2a9b9dee",
   "metadata": {},
   "outputs": [
    {
     "name": "stderr",
     "output_type": "stream",
     "text": [
      "[nltk_data] Downloading package punkt to\n",
      "[nltk_data]     /home/FYP/nipun001/nltk_data...\n",
      "[nltk_data]   Package punkt is already up-to-date!\n"
     ]
    }
   ],
   "source": [
    "import nltk\n",
    "nltk.download('punkt')\n",
    "from nltk.tokenize import word_tokenize\n",
    "\n",
    "# Convert titles to lowercase and tokenize\n",
    "movies_df['tokens'] = movies_df['title'].str.lower().apply(word_tokenize)\n"
   ]
  },
  {
   "cell_type": "code",
   "execution_count": 68,
   "id": "b9cb7a95-9780-4ae5-a653-c3dfc0060c09",
   "metadata": {},
   "outputs": [
    {
     "data": {
      "text/html": [
       "<div>\n",
       "<style scoped>\n",
       "    .dataframe tbody tr th:only-of-type {\n",
       "        vertical-align: middle;\n",
       "    }\n",
       "\n",
       "    .dataframe tbody tr th {\n",
       "        vertical-align: top;\n",
       "    }\n",
       "\n",
       "    .dataframe thead th {\n",
       "        text-align: right;\n",
       "    }\n",
       "</style>\n",
       "<table border=\"1\" class=\"dataframe\">\n",
       "  <thead>\n",
       "    <tr style=\"text-align: right;\">\n",
       "      <th></th>\n",
       "      <th>movie_id</th>\n",
       "      <th>title</th>\n",
       "      <th>genres</th>\n",
       "      <th>combined_content</th>\n",
       "      <th>clean_title</th>\n",
       "      <th>tokens</th>\n",
       "      <th>title_embedding</th>\n",
       "      <th>genres_list</th>\n",
       "    </tr>\n",
       "  </thead>\n",
       "  <tbody>\n",
       "    <tr>\n",
       "      <th>0</th>\n",
       "      <td>1</td>\n",
       "      <td>Toy Story (1995)</td>\n",
       "      <td>Animation Children's Comedy</td>\n",
       "      <td>Toy Story Animation Children's Comedy</td>\n",
       "      <td>Toy Story</td>\n",
       "      <td>[toy, story, (, 1995, )]</td>\n",
       "      <td>[-0.35262355, 0.21018216, -0.11309519, -0.0541...</td>\n",
       "      <td>[Animation Children's Comedy]</td>\n",
       "    </tr>\n",
       "    <tr>\n",
       "      <th>1</th>\n",
       "      <td>2</td>\n",
       "      <td>Jumanji (1995)</td>\n",
       "      <td>Adventure Children's Fantasy</td>\n",
       "      <td>Jumanji Adventure Children's Fantasy</td>\n",
       "      <td>Jumanji</td>\n",
       "      <td>[jumanji, (, 1995, )]</td>\n",
       "      <td>[-0.39333522, 0.2407487, -0.12231919, -0.05939...</td>\n",
       "      <td>[Adventure Children's Fantasy]</td>\n",
       "    </tr>\n",
       "    <tr>\n",
       "      <th>2</th>\n",
       "      <td>3</td>\n",
       "      <td>Grumpier Old Men (1995)</td>\n",
       "      <td>Comedy Romance</td>\n",
       "      <td>Grumpier Old Men Comedy Romance</td>\n",
       "      <td>Grumpier Old Men</td>\n",
       "      <td>[grumpier, old, men, (, 1995, )]</td>\n",
       "      <td>[-0.3168321, 0.18835324, -0.09946834, -0.04933...</td>\n",
       "      <td>[Comedy Romance]</td>\n",
       "    </tr>\n",
       "    <tr>\n",
       "      <th>3</th>\n",
       "      <td>4</td>\n",
       "      <td>Waiting to Exhale (1995)</td>\n",
       "      <td>Comedy Drama</td>\n",
       "      <td>Waiting to Exhale Comedy Drama</td>\n",
       "      <td>Waiting to Exhale</td>\n",
       "      <td>[waiting, to, exhale, (, 1995, )]</td>\n",
       "      <td>[-0.35216215, 0.21629919, -0.10654348, -0.0603...</td>\n",
       "      <td>[Comedy Drama]</td>\n",
       "    </tr>\n",
       "    <tr>\n",
       "      <th>4</th>\n",
       "      <td>5</td>\n",
       "      <td>Father of the Bride Part II (1995)</td>\n",
       "      <td>Comedy</td>\n",
       "      <td>Father of the Bride Part II Comedy</td>\n",
       "      <td>Father of the Bride Part II</td>\n",
       "      <td>[father, of, the, bride, part, ii, (, 1995, )]</td>\n",
       "      <td>[-0.3637832, 0.21499942, -0.11500202, -0.06050...</td>\n",
       "      <td>[Comedy]</td>\n",
       "    </tr>\n",
       "    <tr>\n",
       "      <th>...</th>\n",
       "      <td>...</td>\n",
       "      <td>...</td>\n",
       "      <td>...</td>\n",
       "      <td>...</td>\n",
       "      <td>...</td>\n",
       "      <td>...</td>\n",
       "      <td>...</td>\n",
       "      <td>...</td>\n",
       "    </tr>\n",
       "    <tr>\n",
       "      <th>3878</th>\n",
       "      <td>3948</td>\n",
       "      <td>Meet the Parents (2000)</td>\n",
       "      <td>Comedy</td>\n",
       "      <td>Meet the Parents Comedy</td>\n",
       "      <td>Meet the Parents</td>\n",
       "      <td>[meet, the, parents, (, 2000, )]</td>\n",
       "      <td>[-0.34609175, 0.20340843, -0.102523856, -0.048...</td>\n",
       "      <td>[Comedy]</td>\n",
       "    </tr>\n",
       "    <tr>\n",
       "      <th>3879</th>\n",
       "      <td>3949</td>\n",
       "      <td>Requiem for a Dream (2000)</td>\n",
       "      <td>Drama</td>\n",
       "      <td>Requiem for a Dream Drama</td>\n",
       "      <td>Requiem for a Dream</td>\n",
       "      <td>[requiem, for, a, dream, (, 2000, )]</td>\n",
       "      <td>[-0.34573635, 0.20892248, -0.10909706, -0.0510...</td>\n",
       "      <td>[Drama]</td>\n",
       "    </tr>\n",
       "    <tr>\n",
       "      <th>3880</th>\n",
       "      <td>3950</td>\n",
       "      <td>Tigerland (2000)</td>\n",
       "      <td>Drama</td>\n",
       "      <td>Tigerland Drama</td>\n",
       "      <td>Tigerland</td>\n",
       "      <td>[tigerland, (, 2000, )]</td>\n",
       "      <td>[-0.38561624, 0.22790691, -0.12071073, -0.0557...</td>\n",
       "      <td>[Drama]</td>\n",
       "    </tr>\n",
       "    <tr>\n",
       "      <th>3881</th>\n",
       "      <td>3951</td>\n",
       "      <td>Two Family House (2000)</td>\n",
       "      <td>Drama</td>\n",
       "      <td>Two Family House Drama</td>\n",
       "      <td>Two Family House</td>\n",
       "      <td>[two, family, house, (, 2000, )]</td>\n",
       "      <td>[-0.31723642, 0.19551755, -0.10393145, -0.0470...</td>\n",
       "      <td>[Drama]</td>\n",
       "    </tr>\n",
       "    <tr>\n",
       "      <th>3882</th>\n",
       "      <td>3952</td>\n",
       "      <td>Contender, The (2000)</td>\n",
       "      <td>Drama Thriller</td>\n",
       "      <td>Contender, The Drama Thriller</td>\n",
       "      <td>Contender, The</td>\n",
       "      <td>[contender, ,, the, (, 2000, )]</td>\n",
       "      <td>[-0.40748677, 0.23857452, -0.12673847, -0.0604...</td>\n",
       "      <td>[Drama Thriller]</td>\n",
       "    </tr>\n",
       "  </tbody>\n",
       "</table>\n",
       "<p>3883 rows × 8 columns</p>\n",
       "</div>"
      ],
      "text/plain": [
       "      movie_id                               title  \\\n",
       "0            1                    Toy Story (1995)   \n",
       "1            2                      Jumanji (1995)   \n",
       "2            3             Grumpier Old Men (1995)   \n",
       "3            4            Waiting to Exhale (1995)   \n",
       "4            5  Father of the Bride Part II (1995)   \n",
       "...        ...                                 ...   \n",
       "3878      3948             Meet the Parents (2000)   \n",
       "3879      3949          Requiem for a Dream (2000)   \n",
       "3880      3950                    Tigerland (2000)   \n",
       "3881      3951             Two Family House (2000)   \n",
       "3882      3952               Contender, The (2000)   \n",
       "\n",
       "                            genres                       combined_content  \\\n",
       "0      Animation Children's Comedy  Toy Story Animation Children's Comedy   \n",
       "1     Adventure Children's Fantasy   Jumanji Adventure Children's Fantasy   \n",
       "2                   Comedy Romance        Grumpier Old Men Comedy Romance   \n",
       "3                     Comedy Drama         Waiting to Exhale Comedy Drama   \n",
       "4                           Comedy     Father of the Bride Part II Comedy   \n",
       "...                            ...                                    ...   \n",
       "3878                        Comedy                Meet the Parents Comedy   \n",
       "3879                         Drama              Requiem for a Dream Drama   \n",
       "3880                         Drama                        Tigerland Drama   \n",
       "3881                         Drama                 Two Family House Drama   \n",
       "3882                Drama Thriller          Contender, The Drama Thriller   \n",
       "\n",
       "                      clean_title  \\\n",
       "0                       Toy Story   \n",
       "1                         Jumanji   \n",
       "2                Grumpier Old Men   \n",
       "3               Waiting to Exhale   \n",
       "4     Father of the Bride Part II   \n",
       "...                           ...   \n",
       "3878             Meet the Parents   \n",
       "3879          Requiem for a Dream   \n",
       "3880                    Tigerland   \n",
       "3881             Two Family House   \n",
       "3882               Contender, The   \n",
       "\n",
       "                                              tokens  \\\n",
       "0                           [toy, story, (, 1995, )]   \n",
       "1                              [jumanji, (, 1995, )]   \n",
       "2                   [grumpier, old, men, (, 1995, )]   \n",
       "3                  [waiting, to, exhale, (, 1995, )]   \n",
       "4     [father, of, the, bride, part, ii, (, 1995, )]   \n",
       "...                                              ...   \n",
       "3878                [meet, the, parents, (, 2000, )]   \n",
       "3879            [requiem, for, a, dream, (, 2000, )]   \n",
       "3880                         [tigerland, (, 2000, )]   \n",
       "3881                [two, family, house, (, 2000, )]   \n",
       "3882                 [contender, ,, the, (, 2000, )]   \n",
       "\n",
       "                                        title_embedding  \\\n",
       "0     [-0.35262355, 0.21018216, -0.11309519, -0.0541...   \n",
       "1     [-0.39333522, 0.2407487, -0.12231919, -0.05939...   \n",
       "2     [-0.3168321, 0.18835324, -0.09946834, -0.04933...   \n",
       "3     [-0.35216215, 0.21629919, -0.10654348, -0.0603...   \n",
       "4     [-0.3637832, 0.21499942, -0.11500202, -0.06050...   \n",
       "...                                                 ...   \n",
       "3878  [-0.34609175, 0.20340843, -0.102523856, -0.048...   \n",
       "3879  [-0.34573635, 0.20892248, -0.10909706, -0.0510...   \n",
       "3880  [-0.38561624, 0.22790691, -0.12071073, -0.0557...   \n",
       "3881  [-0.31723642, 0.19551755, -0.10393145, -0.0470...   \n",
       "3882  [-0.40748677, 0.23857452, -0.12673847, -0.0604...   \n",
       "\n",
       "                         genres_list  \n",
       "0      [Animation Children's Comedy]  \n",
       "1     [Adventure Children's Fantasy]  \n",
       "2                   [Comedy Romance]  \n",
       "3                     [Comedy Drama]  \n",
       "4                           [Comedy]  \n",
       "...                              ...  \n",
       "3878                        [Comedy]  \n",
       "3879                         [Drama]  \n",
       "3880                         [Drama]  \n",
       "3881                         [Drama]  \n",
       "3882                [Drama Thriller]  \n",
       "\n",
       "[3883 rows x 8 columns]"
      ]
     },
     "execution_count": 68,
     "metadata": {},
     "output_type": "execute_result"
    }
   ],
   "source": [
    "movies_df"
   ]
  },
  {
   "cell_type": "code",
   "execution_count": 69,
   "id": "9bfe5a03-1a2b-4302-919f-58505a53a10e",
   "metadata": {},
   "outputs": [],
   "source": [
    "from gensim.models import Word2Vec\n",
    "\n",
    "# Train the model\n",
    "model = Word2Vec(sentences=movies_df['tokens'], vector_size=50, window=5, min_count=1)\n"
   ]
  },
  {
   "cell_type": "code",
   "execution_count": 70,
   "id": "81de067e-0d11-416d-b62e-62101d76a5e2",
   "metadata": {},
   "outputs": [],
   "source": [
    "import numpy as np\n",
    "\n",
    "def get_title_embedding(title_tokens):\n",
    "    embeddings = [model.wv[token] for token in title_tokens if token in model.wv]\n",
    "    if embeddings:\n",
    "        return np.mean(embeddings, axis=0)\n",
    "    else:\n",
    "        return np.zeros(model.vector_size)\n",
    "\n",
    "movies_df['title_embedding'] = movies_df['tokens'].apply(get_title_embedding)\n"
   ]
  },
  {
   "cell_type": "code",
   "execution_count": 71,
   "id": "1d375b1f-cec2-455f-b791-f99b3076f0f5",
   "metadata": {},
   "outputs": [
    {
     "data": {
      "text/plain": [
       "0       [-0.3586381, 0.21743126, -0.11372642, -0.05476...\n",
       "1       [-0.3998636, 0.24879414, -0.123040065, -0.0599...\n",
       "2       [-0.3217158, 0.19448669, -0.09997342, -0.04975...\n",
       "3       [-0.35751662, 0.22319867, -0.10698814, -0.0607...\n",
       "4       [-0.3698722, 0.22245795, -0.11583826, -0.06089...\n",
       "                              ...                        \n",
       "3878    [-0.3515142, 0.21021126, -0.103111684, -0.0491...\n",
       "3879    [-0.35147074, 0.21595035, -0.109595545, -0.051...\n",
       "3880    [-0.39140192, 0.23522708, -0.12105024, -0.0562...\n",
       "3881    [-0.3218303, 0.20148814, -0.10415309, -0.04745...\n",
       "3882    [-0.41413784, 0.24668558, -0.12736605, -0.0609...\n",
       "Name: title_embedding, Length: 3883, dtype: object"
      ]
     },
     "execution_count": 71,
     "metadata": {},
     "output_type": "execute_result"
    }
   ],
   "source": [
    "movies_df['title_embedding']"
   ]
  },
  {
   "cell_type": "code",
   "execution_count": null,
   "id": "3895ca1e-979e-4aa2-beed-4a2ddc5af3ea",
   "metadata": {},
   "outputs": [],
   "source": []
  },
  {
   "cell_type": "code",
   "execution_count": 72,
   "id": "c01dabd2-57f7-4146-95ba-327b7964572a",
   "metadata": {},
   "outputs": [],
   "source": [
    "from sklearn.preprocessing import MultiLabelBinarizer\n",
    "\n",
    "# Split genres by \"|\" and encode\n",
    "mlb = MultiLabelBinarizer()\n",
    "movies_df['genres_list'] = movies_df['genres'].str.split('|')\n",
    "genre_encoded = mlb.fit_transform(movies_df['genres_list'])\n",
    "genre_df = pd.DataFrame(genre_encoded, columns=mlb.classes_)\n"
   ]
  },
  {
   "cell_type": "code",
   "execution_count": 73,
   "id": "bee586ac-15a8-46d5-8c6c-855603f5159d",
   "metadata": {},
   "outputs": [],
   "source": [
    "from sklearn.preprocessing import MinMaxScaler\n",
    "\n",
    "# Scale title embeddings\n",
    "scaler = MinMaxScaler()\n",
    "scaled_embeddings = scaler.fit_transform(movies_df['title_embedding'].tolist())\n"
   ]
  },
  {
   "cell_type": "code",
   "execution_count": 74,
   "id": "5032d091-0f08-4427-84fe-642dfa441bd6",
   "metadata": {},
   "outputs": [],
   "source": [
    "combined_features = np.hstack((scaled_embeddings, genre_df.values))\n"
   ]
  },
  {
   "cell_type": "code",
   "execution_count": 77,
   "id": "2fa85933-9d2c-4e71-b697-f4427d652ccc",
   "metadata": {},
   "outputs": [],
   "source": [
    "\n",
    "# Compute cosine similarities\n",
    "similarities = linear_kernel(combined_features)\n"
   ]
  },
  {
   "cell_type": "code",
   "execution_count": 78,
   "id": "6c04d140-4b33-481c-bf1b-5ad2d71f5808",
   "metadata": {},
   "outputs": [],
   "source": [
    "\n",
    "def get_combined_recommendations(title, num_recommendations=10):\n",
    "    idx = movies_df[movies_df['title'] == title].index[0]\n",
    "    sim_scores = list(enumerate(similarities[idx]))\n",
    "    sim_scores = sorted(sim_scores, key=lambda x: x[1], reverse=True)\n",
    "    sim_scores = sim_scores[1:num_recommendations+1]  # Exclude the input movie itself\n",
    "    movie_indices = [i[0] for i in sim_scores]\n",
    "    return movies_df['title'].iloc[movie_indices]\n",
    "\n",
    "\n"
   ]
  },
  {
   "cell_type": "code",
   "execution_count": 79,
   "id": "88541ec8-7b5d-40e2-b233-235b5bbe98ce",
   "metadata": {
    "scrolled": true
   },
   "outputs": [
    {
     "name": "stdout",
     "output_type": "stream",
     "text": [
      "2978     Experience Preferred... But Not Essential (1982)\n",
      "2778                        Only Angels Have Wings (1939)\n",
      "720     Institute Benjamenta, or This Dream People Cal...\n",
      "1886                             Kramer Vs. Kramer (1979)\n",
      "82        Once Upon a Time... When We Were Colored (1995)\n",
      "2161                         Always Tell Your Wife (1923)\n",
      "3220         Not One Less (Yi ge dou bu neng shao) (1999)\n",
      "2170    Swept Away (Travolti da un insolito destino ne...\n",
      "949                         Little Lord Fauntleroy (1936)\n",
      "648                      Und keiner weint mir nach (1996)\n",
      "2636    Late August, Early September (Fin aoÃ»t, dÃ©bu...\n",
      "2028               Something Wicked This Way Comes (1983)\n",
      "1836                          Marie Baie Des Anges (1997)\n",
      "3063                               Daddy Long Legs (1919)\n",
      "2095                           Surf Nazis Must Die (1987)\n",
      "1148          Two or Three Things I Know About Her (1966)\n",
      "1866                       How Green Was My Valley (1941)\n",
      "961                                  Meet John Doe (1941)\n",
      "3706                               Make Mine Music (1946)\n",
      "1079                           Glengarry Glen Ross (1992)\n",
      "Name: title, dtype: object\n"
     ]
    }
   ],
   "source": [
    "print(get_combined_recommendations('Good Will Hunting (1997)',20))"
   ]
  },
  {
   "cell_type": "code",
   "execution_count": null,
   "id": "159bd50b-b17a-4db7-923d-a473454e70b4",
   "metadata": {},
   "outputs": [],
   "source": [
    "\n",
    "\n"
   ]
  },
  {
   "cell_type": "code",
   "execution_count": null,
   "id": "cb058e04-9e2d-4dce-889a-845ae489b3a5",
   "metadata": {},
   "outputs": [],
   "source": []
  },
  {
   "cell_type": "markdown",
   "id": "9c9b058f-5255-4f73-9d20-6b5b932d963e",
   "metadata": {},
   "source": [
    "# Evaluation"
   ]
  },
  {
   "cell_type": "code",
   "execution_count": 82,
   "id": "af1b92b8-d5e4-44e4-bb73-baa195ab8431",
   "metadata": {},
   "outputs": [
    {
     "data": {
      "text/html": [
       "<div>\n",
       "<style scoped>\n",
       "    .dataframe tbody tr th:only-of-type {\n",
       "        vertical-align: middle;\n",
       "    }\n",
       "\n",
       "    .dataframe tbody tr th {\n",
       "        vertical-align: top;\n",
       "    }\n",
       "\n",
       "    .dataframe thead th {\n",
       "        text-align: right;\n",
       "    }\n",
       "</style>\n",
       "<table border=\"1\" class=\"dataframe\">\n",
       "  <thead>\n",
       "    <tr style=\"text-align: right;\">\n",
       "      <th></th>\n",
       "      <th>user_id</th>\n",
       "      <th>movie_id</th>\n",
       "      <th>rating</th>\n",
       "    </tr>\n",
       "  </thead>\n",
       "  <tbody>\n",
       "    <tr>\n",
       "      <th>0</th>\n",
       "      <td>1</td>\n",
       "      <td>1193</td>\n",
       "      <td>5</td>\n",
       "    </tr>\n",
       "    <tr>\n",
       "      <th>1</th>\n",
       "      <td>1</td>\n",
       "      <td>2355</td>\n",
       "      <td>5</td>\n",
       "    </tr>\n",
       "    <tr>\n",
       "      <th>2</th>\n",
       "      <td>1</td>\n",
       "      <td>1287</td>\n",
       "      <td>5</td>\n",
       "    </tr>\n",
       "    <tr>\n",
       "      <th>3</th>\n",
       "      <td>1</td>\n",
       "      <td>2804</td>\n",
       "      <td>5</td>\n",
       "    </tr>\n",
       "    <tr>\n",
       "      <th>4</th>\n",
       "      <td>1</td>\n",
       "      <td>595</td>\n",
       "      <td>5</td>\n",
       "    </tr>\n",
       "  </tbody>\n",
       "</table>\n",
       "</div>"
      ],
      "text/plain": [
       "   user_id  movie_id  rating\n",
       "0        1      1193       5\n",
       "1        1      2355       5\n",
       "2        1      1287       5\n",
       "3        1      2804       5\n",
       "4        1       595       5"
      ]
     },
     "execution_count": 82,
     "metadata": {},
     "output_type": "execute_result"
    }
   ],
   "source": [
    "# Load the user movie data\n",
    "\n",
    "movie_data = pd.read_csv('movie_f.csv')\n",
    "movie_data.head()"
   ]
  },
  {
   "cell_type": "code",
   "execution_count": 83,
   "id": "8f4240cf-6251-459d-9375-05849cf7d607",
   "metadata": {},
   "outputs": [
    {
     "ename": "NameError",
     "evalue": "name 'cosine_similarity' is not defined",
     "output_type": "error",
     "traceback": [
      "\u001b[0;31m---------------------------------------------------------------------------\u001b[0m",
      "\u001b[0;31mNameError\u001b[0m                                 Traceback (most recent call last)",
      "Cell \u001b[0;32mIn[83], line 2\u001b[0m\n\u001b[1;32m      1\u001b[0m \u001b[38;5;66;03m# Compute the cosine similarity matrix\u001b[39;00m\n\u001b[0;32m----> 2\u001b[0m cosine_sim_matrix \u001b[38;5;241m=\u001b[39m \u001b[43mcosine_similarity\u001b[49m(\u001b[38;5;28mlist\u001b[39m(tfidf_vectors\u001b[38;5;241m.\u001b[39mvalues()))\n",
      "\u001b[0;31mNameError\u001b[0m: name 'cosine_similarity' is not defined"
     ]
    }
   ],
   "source": [
    "# Compute the cosine similarity matrix\n",
    "cosine_sim_matrix = cosine_similarity(list(tfidf_vectors.values()))\n"
   ]
  },
  {
   "cell_type": "code",
   "execution_count": 86,
   "id": "6886c408-ba4d-478b-857b-2c8a6e8f6875",
   "metadata": {},
   "outputs": [],
   "source": [
    "# # Adapted get_recommendations function\n",
    "# def get_user_recommendations(user_profile, k=10):\n",
    "#     # Compute cosine similarity between the user profile and all movie vectors\n",
    "#     sim_scores = cosine_similarity([user_profile], list(tfidf_vectors.values())).flatten()\n",
    "    \n",
    "#     # Get the indices of the top k movies\n",
    "#     movie_indices = sim_scores.argsort()[-k:][::-1]\n",
    "    \n",
    "#     # Convert indices to movie IDs (for the sake of this example, we're using a hypothetical mapping)\n",
    "#     recommended_movie_ids = [f\"movie_id_{idx+1}\" for idx in movie_indices]\n",
    "    \n",
    "#     return recommended_movie_ids\n",
    "\n",
    "# # Example usage:\n",
    "# # For a hypothetical user who liked movie_id_1 and movie_id_2\n",
    "# user_liked_movies = ['movie_id_1', 'movie_id_2']\n",
    "# user_profile = np.mean([tfidf_vectors[movie_id] for movie_id in user_liked_movies], axis=0)\n",
    "\n",
    "# recommendations = get_user_recommendations(user_profile, k=5)\n",
    "# recommendations"
   ]
  },
  {
   "cell_type": "code",
   "execution_count": 90,
   "id": "1ac1e064-26c8-49cb-9952-c58903eddef6",
   "metadata": {},
   "outputs": [
    {
     "name": "stdout",
     "output_type": "stream",
     "text": [
      "(3883, 10471)\n"
     ]
    }
   ],
   "source": [
    "print(tfidf_matrix_combined.shape)\n"
   ]
  },
  {
   "cell_type": "code",
   "execution_count": 91,
   "id": "c296eb4a-230e-437a-ad2b-4b139f5b8f8e",
   "metadata": {},
   "outputs": [],
   "source": [
    "movie_id_to_row_index = {movie_id: index for index, movie_id in enumerate(movie_data['movie_id'].unique())}\n"
   ]
  },
  {
   "cell_type": "code",
   "execution_count": 92,
   "id": "7657e496-c2f6-4396-916b-9f4ccf8e45c3",
   "metadata": {},
   "outputs": [
    {
     "ename": "NameError",
     "evalue": "name 'liked_movie_ids' is not defined",
     "output_type": "error",
     "traceback": [
      "\u001b[0;31m---------------------------------------------------------------------------\u001b[0m",
      "\u001b[0;31mNameError\u001b[0m                                 Traceback (most recent call last)",
      "Cell \u001b[0;32mIn[92], line 2\u001b[0m\n\u001b[1;32m      1\u001b[0m \u001b[38;5;66;03m# Convert liked_movie_ids to liked_movie_indices using the mapping\u001b[39;00m\n\u001b[0;32m----> 2\u001b[0m liked_movie_indices \u001b[38;5;241m=\u001b[39m [movie_id_to_row_index[movie_id] \u001b[38;5;28;01mfor\u001b[39;00m movie_id \u001b[38;5;129;01min\u001b[39;00m \u001b[43mliked_movie_ids\u001b[49m]\n",
      "\u001b[0;31mNameError\u001b[0m: name 'liked_movie_ids' is not defined"
     ]
    }
   ],
   "source": [
    "# Convert liked_movie_ids to liked_movie_indices using the mapping\n",
    "liked_movie_indices = [movie_id_to_row_index[movie_id] for movie_id in liked_movie_ids]\n"
   ]
  },
  {
   "cell_type": "code",
   "execution_count": null,
   "id": "592dd2ff-c649-43fe-9dbd-1a86d5572a85",
   "metadata": {},
   "outputs": [],
   "source": []
  },
  {
   "cell_type": "code",
   "execution_count": 93,
   "id": "53866dc5-c3bf-4773-93a3-95e1863f0d67",
   "metadata": {},
   "outputs": [],
   "source": [
    "def get_user_recommendations(user_id, k=10):\n",
    "    # Create a mapping from movie_id to row index in the matrix\n",
    "    movie_id_to_row_index = {movie_id: index for index, movie_id in enumerate(movie_data['movie_id'].unique())}\n",
    "    \n",
    "    # Fetch movies liked or rated highly by the user\n",
    "    liked_movies = movie_data[movie_data['user_id'] == user_id]\n",
    "    \n",
    "    # For simplicity, let's consider movies rated 5 as liked movies\n",
    "    liked_movie_ids = liked_movies[liked_movies['rating'] == 5]['movie_id'].tolist()\n",
    "\n",
    "    # Convert liked_movie_ids to liked_movie_indices using the mapping, \n",
    "    # and filter out any indices that are out of bounds\n",
    "    liked_movie_indices = [movie_id_to_row_index[movie_id] for movie_id in liked_movie_ids if movie_id_to_row_index.get(movie_id, None) is not None and movie_id_to_row_index[movie_id] < tfidf_matrix_combined.shape[0]]\n",
    "    \n",
    "    # If no liked movies found in the bounds of the matrix, return an empty list or handle this scenario accordingly\n",
    "    if not liked_movie_indices:\n",
    "        return []\n",
    "\n",
    "    # Create a user profile by averaging the TF-IDF vectors of movies they liked\n",
    "    # Note: We reshape the user profile here.\n",
    "    user_profile = np.mean(np.vstack([tfidf_matrix_combined[i].toarray() for i in liked_movie_indices]), axis=0)\n",
    "\n",
    "    # Compute cosine similarity between the user profile and all movie vectors\n",
    "    sim_scores = linear_kernel([user_profile], tfidf_matrix_combined).flatten()\n",
    "    \n",
    "    # Get the indices of the top k movies\n",
    "    movie_indices = sim_scores.argsort()[-k:][::-1]\n",
    "    \n",
    "    return movie_indices\n"
   ]
  },
  {
   "cell_type": "code",
   "execution_count": 94,
   "id": "a761732e-dbb5-45e3-904a-12fdef6351ea",
   "metadata": {},
   "outputs": [
    {
     "name": "stdout",
     "output_type": "stream",
     "text": [
      "Average Precision at k: 0.00566225165562914\n"
     ]
    }
   ],
   "source": [
    "from sklearn.metrics.pairwise import linear_kernel\n",
    "\n",
    "# Assuming tfidf_matrix_combined contains TF-IDF vectors for each movie\n",
    "# indexed by the movie's position in the dataset.\n",
    "\n",
    "# Assuming you've already computed:\n",
    "# cosine_sim = linear_kernel(tfidf_matrix_combined, tfidf_matrix_combined)\n",
    "\n",
    "\n",
    "\n",
    "def precision_at_k(user_id, k=10):\n",
    "    # Get the top k recommendations for the user\n",
    "    recommended_movie_indices = get_user_recommendations(user_id, k)\n",
    "\n",
    "    # Fetch movies liked or rated highly by the user\n",
    "    liked_movies = movie_data[movie_data['user_id'] == user_id]\n",
    "    liked_movie_indices = liked_movies[liked_movies['rating'] == 5]['movie_id'].tolist()\n",
    "\n",
    "    # Calculate how many of the top k recommended movies were actually liked by the user\n",
    "    relevant_recommendations = len(set(recommended_movie_indices) & set(liked_movie_indices))\n",
    "\n",
    "    return relevant_recommendations / k\n",
    "\n",
    "# Compute average P@k for all users\n",
    "all_users = movie_data['user_id'].unique()\n",
    "average_P_at_k = np.mean([precision_at_k(user_id) for user_id in all_users])\n",
    "\n",
    "\n"
   ]
  },
  {
   "cell_type": "code",
   "execution_count": 126,
   "id": "735e5507-4481-4be8-a3b8-86cab7aba220",
   "metadata": {},
   "outputs": [
    {
     "name": "stdout",
     "output_type": "stream",
     "text": [
      "Average Precision at k=10: 0.00566225165562914\n"
     ]
    }
   ],
   "source": [
    "print(f\"Average Precision at k=10: 0.00566225165562914\")"
   ]
  },
  {
   "cell_type": "code",
   "execution_count": null,
   "id": "5f9ea25a-d0a8-45df-9ecf-9f0870cd12bc",
   "metadata": {},
   "outputs": [],
   "source": []
  },
  {
   "cell_type": "code",
   "execution_count": 112,
   "id": "05fa86f0-9791-4b5f-9003-8555312d701a",
   "metadata": {},
   "outputs": [],
   "source": [
    "\n",
    "word2vec_matrix=similarities"
   ]
  },
  {
   "cell_type": "code",
   "execution_count": 110,
   "id": "265b8a7f-cf85-40f0-8cd6-991580a0c385",
   "metadata": {},
   "outputs": [],
   "source": [
    "def get_movie_title_from_id(movie_id):\n",
    "    return movies_df[movies_df['movie_id'] == movie_id]['title'].iloc[0]\n",
    "\n"
   ]
  },
  {
   "cell_type": "code",
   "execution_count": 121,
   "id": "c129b831-80a2-494b-b0c9-5f8fbcfbbbb1",
   "metadata": {},
   "outputs": [
    {
     "data": {
      "text/html": [
       "<div>\n",
       "<style scoped>\n",
       "    .dataframe tbody tr th:only-of-type {\n",
       "        vertical-align: middle;\n",
       "    }\n",
       "\n",
       "    .dataframe tbody tr th {\n",
       "        vertical-align: top;\n",
       "    }\n",
       "\n",
       "    .dataframe thead th {\n",
       "        text-align: right;\n",
       "    }\n",
       "</style>\n",
       "<table border=\"1\" class=\"dataframe\">\n",
       "  <thead>\n",
       "    <tr style=\"text-align: right;\">\n",
       "      <th></th>\n",
       "      <th>user_id</th>\n",
       "      <th>movie_id</th>\n",
       "      <th>rating</th>\n",
       "    </tr>\n",
       "  </thead>\n",
       "  <tbody>\n",
       "    <tr>\n",
       "      <th>0</th>\n",
       "      <td>1</td>\n",
       "      <td>1193</td>\n",
       "      <td>5</td>\n",
       "    </tr>\n",
       "    <tr>\n",
       "      <th>1</th>\n",
       "      <td>1</td>\n",
       "      <td>2355</td>\n",
       "      <td>5</td>\n",
       "    </tr>\n",
       "    <tr>\n",
       "      <th>2</th>\n",
       "      <td>1</td>\n",
       "      <td>1287</td>\n",
       "      <td>5</td>\n",
       "    </tr>\n",
       "    <tr>\n",
       "      <th>3</th>\n",
       "      <td>1</td>\n",
       "      <td>2804</td>\n",
       "      <td>5</td>\n",
       "    </tr>\n",
       "    <tr>\n",
       "      <th>4</th>\n",
       "      <td>1</td>\n",
       "      <td>595</td>\n",
       "      <td>5</td>\n",
       "    </tr>\n",
       "    <tr>\n",
       "      <th>...</th>\n",
       "      <td>...</td>\n",
       "      <td>...</td>\n",
       "      <td>...</td>\n",
       "    </tr>\n",
       "    <tr>\n",
       "      <th>226565</th>\n",
       "      <td>6040</td>\n",
       "      <td>1077</td>\n",
       "      <td>5</td>\n",
       "    </tr>\n",
       "    <tr>\n",
       "      <th>226566</th>\n",
       "      <td>6040</td>\n",
       "      <td>2022</td>\n",
       "      <td>5</td>\n",
       "    </tr>\n",
       "    <tr>\n",
       "      <th>226567</th>\n",
       "      <td>6040</td>\n",
       "      <td>2028</td>\n",
       "      <td>5</td>\n",
       "    </tr>\n",
       "    <tr>\n",
       "      <th>226568</th>\n",
       "      <td>6040</td>\n",
       "      <td>1094</td>\n",
       "      <td>5</td>\n",
       "    </tr>\n",
       "    <tr>\n",
       "      <th>226569</th>\n",
       "      <td>6040</td>\n",
       "      <td>562</td>\n",
       "      <td>5</td>\n",
       "    </tr>\n",
       "  </tbody>\n",
       "</table>\n",
       "<p>226570 rows × 3 columns</p>\n",
       "</div>"
      ],
      "text/plain": [
       "        user_id  movie_id  rating\n",
       "0             1      1193       5\n",
       "1             1      2355       5\n",
       "2             1      1287       5\n",
       "3             1      2804       5\n",
       "4             1       595       5\n",
       "...         ...       ...     ...\n",
       "226565     6040      1077       5\n",
       "226566     6040      2022       5\n",
       "226567     6040      2028       5\n",
       "226568     6040      1094       5\n",
       "226569     6040       562       5\n",
       "\n",
       "[226570 rows x 3 columns]"
      ]
     },
     "execution_count": 121,
     "metadata": {},
     "output_type": "execute_result"
    }
   ],
   "source": [
    "movie_data"
   ]
  },
  {
   "cell_type": "code",
   "execution_count": 122,
   "id": "4e6a47e1-a612-484a-908c-59c7171856df",
   "metadata": {},
   "outputs": [],
   "source": [
    "# Combine 'movie_id' and 'title' columns in movies_df\n",
    "movies_df['combined_id_title'] = movies_df['movie_id'].astype(str) + ': ' + movies_df['title']\n"
   ]
  },
  {
   "cell_type": "code",
   "execution_count": 123,
   "id": "cc9833b1-c671-4b3e-add8-b6560adbe277",
   "metadata": {},
   "outputs": [
    {
     "data": {
      "text/html": [
       "<div>\n",
       "<style scoped>\n",
       "    .dataframe tbody tr th:only-of-type {\n",
       "        vertical-align: middle;\n",
       "    }\n",
       "\n",
       "    .dataframe tbody tr th {\n",
       "        vertical-align: top;\n",
       "    }\n",
       "\n",
       "    .dataframe thead th {\n",
       "        text-align: right;\n",
       "    }\n",
       "</style>\n",
       "<table border=\"1\" class=\"dataframe\">\n",
       "  <thead>\n",
       "    <tr style=\"text-align: right;\">\n",
       "      <th></th>\n",
       "      <th>movie_id</th>\n",
       "      <th>title</th>\n",
       "      <th>genres</th>\n",
       "      <th>combined_content</th>\n",
       "      <th>clean_title</th>\n",
       "      <th>tokens</th>\n",
       "      <th>title_embedding</th>\n",
       "      <th>genres_list</th>\n",
       "      <th>combined_id_title</th>\n",
       "    </tr>\n",
       "  </thead>\n",
       "  <tbody>\n",
       "    <tr>\n",
       "      <th>0</th>\n",
       "      <td>1</td>\n",
       "      <td>Toy Story (1995)</td>\n",
       "      <td>Animation Children's Comedy</td>\n",
       "      <td>Toy Story Animation Children's Comedy</td>\n",
       "      <td>Toy Story</td>\n",
       "      <td>[toy, story, (, 1995, )]</td>\n",
       "      <td>[-0.35110056, 0.20834465, -0.11387561, -0.0544...</td>\n",
       "      <td>[Animation Children's Comedy]</td>\n",
       "      <td>1: Toy Story (1995)</td>\n",
       "    </tr>\n",
       "    <tr>\n",
       "      <th>1</th>\n",
       "      <td>2</td>\n",
       "      <td>Jumanji (1995)</td>\n",
       "      <td>Adventure Children's Fantasy</td>\n",
       "      <td>Jumanji Adventure Children's Fantasy</td>\n",
       "      <td>Jumanji</td>\n",
       "      <td>[jumanji, (, 1995, )]</td>\n",
       "      <td>[-0.39149696, 0.23860687, -0.1231528, -0.05967...</td>\n",
       "      <td>[Adventure Children's Fantasy]</td>\n",
       "      <td>2: Jumanji (1995)</td>\n",
       "    </tr>\n",
       "    <tr>\n",
       "      <th>2</th>\n",
       "      <td>3</td>\n",
       "      <td>Grumpier Old Men (1995)</td>\n",
       "      <td>Comedy Romance</td>\n",
       "      <td>Grumpier Old Men Comedy Romance</td>\n",
       "      <td>Grumpier Old Men</td>\n",
       "      <td>[grumpier, old, men, (, 1995, )]</td>\n",
       "      <td>[-0.31545684, 0.18669872, -0.10016296, -0.0495...</td>\n",
       "      <td>[Comedy Romance]</td>\n",
       "      <td>3: Grumpier Old Men (1995)</td>\n",
       "    </tr>\n",
       "    <tr>\n",
       "      <th>3</th>\n",
       "      <td>4</td>\n",
       "      <td>Waiting to Exhale (1995)</td>\n",
       "      <td>Comedy Drama</td>\n",
       "      <td>Waiting to Exhale Comedy Drama</td>\n",
       "      <td>Waiting to Exhale</td>\n",
       "      <td>[waiting, to, exhale, (, 1995, )]</td>\n",
       "      <td>[-0.35059738, 0.2144134, -0.107361175, -0.0606...</td>\n",
       "      <td>[Comedy Drama]</td>\n",
       "      <td>4: Waiting to Exhale (1995)</td>\n",
       "    </tr>\n",
       "    <tr>\n",
       "      <th>4</th>\n",
       "      <td>5</td>\n",
       "      <td>Father of the Bride Part II (1995)</td>\n",
       "      <td>Comedy</td>\n",
       "      <td>Father of the Bride Part II Comedy</td>\n",
       "      <td>Father of the Bride Part II</td>\n",
       "      <td>[father, of, the, bride, part, ii, (, 1995, )]</td>\n",
       "      <td>[-0.3623083, 0.21314543, -0.11584376, -0.06079...</td>\n",
       "      <td>[Comedy]</td>\n",
       "      <td>5: Father of the Bride Part II (1995)</td>\n",
       "    </tr>\n",
       "    <tr>\n",
       "      <th>...</th>\n",
       "      <td>...</td>\n",
       "      <td>...</td>\n",
       "      <td>...</td>\n",
       "      <td>...</td>\n",
       "      <td>...</td>\n",
       "      <td>...</td>\n",
       "      <td>...</td>\n",
       "      <td>...</td>\n",
       "      <td>...</td>\n",
       "    </tr>\n",
       "    <tr>\n",
       "      <th>3878</th>\n",
       "      <td>3948</td>\n",
       "      <td>Meet the Parents (2000)</td>\n",
       "      <td>Comedy</td>\n",
       "      <td>Meet the Parents Comedy</td>\n",
       "      <td>Meet the Parents</td>\n",
       "      <td>[meet, the, parents, (, 2000, )]</td>\n",
       "      <td>[-0.3444371, 0.20149797, -0.103228986, -0.0489...</td>\n",
       "      <td>[Comedy]</td>\n",
       "      <td>3948: Meet the Parents (2000)</td>\n",
       "    </tr>\n",
       "    <tr>\n",
       "      <th>3879</th>\n",
       "      <td>3949</td>\n",
       "      <td>Requiem for a Dream (2000)</td>\n",
       "      <td>Drama</td>\n",
       "      <td>Requiem for a Dream Drama</td>\n",
       "      <td>Requiem for a Dream</td>\n",
       "      <td>[requiem, for, a, dream, (, 2000, )]</td>\n",
       "      <td>[-0.34421477, 0.20708129, -0.10991713, -0.0513...</td>\n",
       "      <td>[Drama]</td>\n",
       "      <td>3949: Requiem for a Dream (2000)</td>\n",
       "    </tr>\n",
       "    <tr>\n",
       "      <th>3880</th>\n",
       "      <td>3950</td>\n",
       "      <td>Tigerland (2000)</td>\n",
       "      <td>Drama</td>\n",
       "      <td>Tigerland Drama</td>\n",
       "      <td>Tigerland</td>\n",
       "      <td>[tigerland, (, 2000, )]</td>\n",
       "      <td>[-0.38391754, 0.22588325, -0.121586286, -0.056...</td>\n",
       "      <td>[Drama]</td>\n",
       "      <td>3950: Tigerland (2000)</td>\n",
       "    </tr>\n",
       "    <tr>\n",
       "      <th>3881</th>\n",
       "      <td>3951</td>\n",
       "      <td>Two Family House (2000)</td>\n",
       "      <td>Drama</td>\n",
       "      <td>Two Family House Drama</td>\n",
       "      <td>Two Family House</td>\n",
       "      <td>[two, family, house, (, 2000, )]</td>\n",
       "      <td>[-0.31579086, 0.19382073, -0.10466689, -0.0472...</td>\n",
       "      <td>[Drama]</td>\n",
       "      <td>3951: Two Family House (2000)</td>\n",
       "    </tr>\n",
       "    <tr>\n",
       "      <th>3882</th>\n",
       "      <td>3952</td>\n",
       "      <td>Contender, The (2000)</td>\n",
       "      <td>Drama Thriller</td>\n",
       "      <td>Contender, The Drama Thriller</td>\n",
       "      <td>Contender, The</td>\n",
       "      <td>[contender, ,, the, (, 2000, )]</td>\n",
       "      <td>[-0.40558735, 0.23630808, -0.12762702, -0.0607...</td>\n",
       "      <td>[Drama Thriller]</td>\n",
       "      <td>3952: Contender, The (2000)</td>\n",
       "    </tr>\n",
       "  </tbody>\n",
       "</table>\n",
       "<p>3883 rows × 9 columns</p>\n",
       "</div>"
      ],
      "text/plain": [
       "      movie_id                               title  \\\n",
       "0            1                    Toy Story (1995)   \n",
       "1            2                      Jumanji (1995)   \n",
       "2            3             Grumpier Old Men (1995)   \n",
       "3            4            Waiting to Exhale (1995)   \n",
       "4            5  Father of the Bride Part II (1995)   \n",
       "...        ...                                 ...   \n",
       "3878      3948             Meet the Parents (2000)   \n",
       "3879      3949          Requiem for a Dream (2000)   \n",
       "3880      3950                    Tigerland (2000)   \n",
       "3881      3951             Two Family House (2000)   \n",
       "3882      3952               Contender, The (2000)   \n",
       "\n",
       "                            genres                       combined_content  \\\n",
       "0      Animation Children's Comedy  Toy Story Animation Children's Comedy   \n",
       "1     Adventure Children's Fantasy   Jumanji Adventure Children's Fantasy   \n",
       "2                   Comedy Romance        Grumpier Old Men Comedy Romance   \n",
       "3                     Comedy Drama         Waiting to Exhale Comedy Drama   \n",
       "4                           Comedy     Father of the Bride Part II Comedy   \n",
       "...                            ...                                    ...   \n",
       "3878                        Comedy                Meet the Parents Comedy   \n",
       "3879                         Drama              Requiem for a Dream Drama   \n",
       "3880                         Drama                        Tigerland Drama   \n",
       "3881                         Drama                 Two Family House Drama   \n",
       "3882                Drama Thriller          Contender, The Drama Thriller   \n",
       "\n",
       "                      clean_title  \\\n",
       "0                       Toy Story   \n",
       "1                         Jumanji   \n",
       "2                Grumpier Old Men   \n",
       "3               Waiting to Exhale   \n",
       "4     Father of the Bride Part II   \n",
       "...                           ...   \n",
       "3878             Meet the Parents   \n",
       "3879          Requiem for a Dream   \n",
       "3880                    Tigerland   \n",
       "3881             Two Family House   \n",
       "3882               Contender, The   \n",
       "\n",
       "                                              tokens  \\\n",
       "0                           [toy, story, (, 1995, )]   \n",
       "1                              [jumanji, (, 1995, )]   \n",
       "2                   [grumpier, old, men, (, 1995, )]   \n",
       "3                  [waiting, to, exhale, (, 1995, )]   \n",
       "4     [father, of, the, bride, part, ii, (, 1995, )]   \n",
       "...                                              ...   \n",
       "3878                [meet, the, parents, (, 2000, )]   \n",
       "3879            [requiem, for, a, dream, (, 2000, )]   \n",
       "3880                         [tigerland, (, 2000, )]   \n",
       "3881                [two, family, house, (, 2000, )]   \n",
       "3882                 [contender, ,, the, (, 2000, )]   \n",
       "\n",
       "                                        title_embedding  \\\n",
       "0     [-0.35110056, 0.20834465, -0.11387561, -0.0544...   \n",
       "1     [-0.39149696, 0.23860687, -0.1231528, -0.05967...   \n",
       "2     [-0.31545684, 0.18669872, -0.10016296, -0.0495...   \n",
       "3     [-0.35059738, 0.2144134, -0.107361175, -0.0606...   \n",
       "4     [-0.3623083, 0.21314543, -0.11584376, -0.06079...   \n",
       "...                                                 ...   \n",
       "3878  [-0.3444371, 0.20149797, -0.103228986, -0.0489...   \n",
       "3879  [-0.34421477, 0.20708129, -0.10991713, -0.0513...   \n",
       "3880  [-0.38391754, 0.22588325, -0.121586286, -0.056...   \n",
       "3881  [-0.31579086, 0.19382073, -0.10466689, -0.0472...   \n",
       "3882  [-0.40558735, 0.23630808, -0.12762702, -0.0607...   \n",
       "\n",
       "                         genres_list                      combined_id_title  \n",
       "0      [Animation Children's Comedy]                    1: Toy Story (1995)  \n",
       "1     [Adventure Children's Fantasy]                      2: Jumanji (1995)  \n",
       "2                   [Comedy Romance]             3: Grumpier Old Men (1995)  \n",
       "3                     [Comedy Drama]            4: Waiting to Exhale (1995)  \n",
       "4                           [Comedy]  5: Father of the Bride Part II (1995)  \n",
       "...                              ...                                    ...  \n",
       "3878                        [Comedy]          3948: Meet the Parents (2000)  \n",
       "3879                         [Drama]       3949: Requiem for a Dream (2000)  \n",
       "3880                         [Drama]                 3950: Tigerland (2000)  \n",
       "3881                         [Drama]          3951: Two Family House (2000)  \n",
       "3882                [Drama Thriller]            3952: Contender, The (2000)  \n",
       "\n",
       "[3883 rows x 9 columns]"
      ]
     },
     "execution_count": 123,
     "metadata": {},
     "output_type": "execute_result"
    }
   ],
   "source": [
    "movies_df"
   ]
  },
  {
   "cell_type": "code",
   "execution_count": null,
   "id": "de2e6359-ad67-4837-a3e3-05321943f584",
   "metadata": {},
   "outputs": [],
   "source": []
  },
  {
   "cell_type": "code",
   "execution_count": null,
   "id": "b9bf1819-b041-4637-9fab-d63b244d3d6c",
   "metadata": {},
   "outputs": [],
   "source": []
  },
  {
   "cell_type": "code",
   "execution_count": null,
   "id": "a02df96e-730c-4e67-8dd1-3989d39b5107",
   "metadata": {},
   "outputs": [],
   "source": []
  },
  {
   "cell_type": "code",
   "execution_count": null,
   "id": "4b06922c-402b-4549-80be-2538bf442697",
   "metadata": {},
   "outputs": [],
   "source": [
    "def get_movie_title_from_id(movie_id):\n",
    "    movie_slice = movies_df[movies_df['movie_id'] == movie_id]['title']\n",
    "    \n",
    "    if not movie_slice.empty:  # Check if the slice is not empty\n",
    "        return movie_slice.iloc[0]\n",
    "    else:\n",
    "        return None  # or return some default string like 'Unknown'\n"
   ]
  },
  {
   "cell_type": "code",
   "execution_count": null,
   "id": "0f4ccb14-5b14-41b8-ac57-36337808692d",
   "metadata": {},
   "outputs": [],
   "source": [
    "def get_movie_id_from_title(title):\n",
    "    return movies_df[movies_df['title'] == title]['movie_id'].iloc[0]\n"
   ]
  },
  {
   "cell_type": "code",
   "execution_count": 181,
   "id": "bce17c65-0f91-4f56-a4cb-8aa82e2a6b6d",
   "metadata": {},
   "outputs": [],
   "source": [
    "def get_user_recommendations_for_word2vec(user_id, num_recommendations=10):\n",
    "    liked_movies = movie_data[movie_data['user_id'] == user_id]\n",
    "    liked_movie_titles = [get_movie_title_from_id(mid) for mid in liked_movies[liked_movies['rating'] == 5]['movie_id'].tolist()]\n",
    "\n",
    "    # Filter out titles that are not in the word2vec_matrix\n",
    "    valid_titles = [title for title in liked_movie_titles if get_movie_id_from_title(title) < word2vec_matrix.shape[0]]\n",
    "\n",
    "    if not valid_titles:\n",
    "        return []\n",
    "\n",
    "    # Create a user profile by averaging the Word2Vec vectors of movies they liked\n",
    "    user_profile = np.mean([word2vec_matrix[get_movie_id_from_title(title)] for title in valid_titles], axis=0)\n",
    "\n",
    "    sim_scores = linear_kernel([user_profile], word2vec_matrix)[0] \n",
    "\n",
    "    # Get the indices of the top movies based on similarity scores\n",
    "    recommended_movie_ids = np.argsort(sim_scores)[-num_recommendations:][::-1]  # sorts and fetches top indices\n",
    "    \n",
    "    movie_titles = [get_movie_title_from_id(mid) for mid in recommended_movie_ids]\n",
    "\n",
    "    return movie_titles\n"
   ]
  },
  {
   "cell_type": "code",
   "execution_count": null,
   "id": "29d6b1a6-7175-4c65-ae85-90e89ab27e8c",
   "metadata": {},
   "outputs": [],
   "source": [
    "from tqdm import tqdm\n",
    "def precision_at_k(user_id, k=10):\n",
    "    recommended_movie_titles = get_user_recommendations_for_word2vec(user_id, k)\n",
    "    liked_movies = movie_data[movie_data['user_id'] == user_id]\n",
    "    liked_movie_titles = [get_movie_title_from_id(mid) for mid in liked_movies[liked_movies['rating'] == 5]['movie_id'].tolist()]\n",
    "    # print(liked_movie_titles)\n",
    "    # print(recommended_movie_titles)\n",
    "    relevant_recommendations = len(set(recommended_movie_titles) & set(liked_movie_titles))\n",
    "\n",
    "    \n",
    "    return relevant_recommendations / k\n",
    "\n",
    "all_users = movie_data['user_id'].unique()\n",
    "average_P_at_k = np.mean([precision_at_k(user_id,10) for user_id in all_users])\n"
   ]
  },
  {
   "cell_type": "code",
   "execution_count": 187,
   "id": "59b360e6-de4d-4c0a-9c31-4ca9fc93ab49",
   "metadata": {},
   "outputs": [
    {
     "name": "stdout",
     "output_type": "stream",
     "text": [
      "Average Precision at k = 10: 0.015927152317880795\n"
     ]
    }
   ],
   "source": [
    "print(f\"Average Precision at k = 10: {average_P_at_k}\")"
   ]
  },
  {
   "cell_type": "code",
   "execution_count": null,
   "id": "93826f58-e669-481c-a167-4781f4abc6ee",
   "metadata": {},
   "outputs": [],
   "source": []
  },
  {
   "cell_type": "markdown",
   "id": "8bd1d6bf-02fa-4725-a96c-34556a8094f4",
   "metadata": {},
   "source": [
    "# END"
   ]
  },
  {
   "cell_type": "code",
   "execution_count": null,
   "id": "89f00014-63d5-4a0c-8639-2743ac396473",
   "metadata": {},
   "outputs": [],
   "source": []
  },
  {
   "cell_type": "code",
   "execution_count": 186,
   "id": "409abd2b-2a56-4640-abe1-4aa4b630b2c1",
   "metadata": {},
   "outputs": [
    {
     "data": {
      "text/plain": [
       "['S.F.W. (1994)',\n",
       " 'I Got the Hook Up (1998)',\n",
       " 'Cook the Thief His Wife & Her Lover, The (1989)',\n",
       " None,\n",
       " 'Out of the Past (1947)',\n",
       " 'Exorcist II: The Heretic (1977)',\n",
       " 'Homegrown (1998)',\n",
       " 'Shaggy D.A., The (1976)',\n",
       " 'Being John Malkovich (1999)',\n",
       " 'Still Breathing (1997)',\n",
       " 'Heartburn (1986)',\n",
       " 'Birds, The (1963)',\n",
       " 'Affair of Love, An (Une Liaison Pornographique) (1999)',\n",
       " 'Symphonie pastorale, La (1946)',\n",
       " 'Illtown (1996)',\n",
       " 'Cobb (1994)',\n",
       " 'Matilda (1996)',\n",
       " 'Poison Ivy (1992)',\n",
       " 'Great White Hype, The (1996)',\n",
       " 'Die Hard 2 (1990)',\n",
       " 'Touch of Evil (1958)',\n",
       " 'Dumbo (1941)',\n",
       " 'If Lucy Fell (1996)',\n",
       " 'On Golden Pond (1981)',\n",
       " 'Inventing the Abbotts (1997)',\n",
       " 'Life Less Ordinary, A (1997)',\n",
       " 'Moonstruck (1987)',\n",
       " 'To Have, or Not (1995)',\n",
       " 'Scream of Stone (Schrei aus Stein) (1991)',\n",
       " \"Jumpin' Jack Flash (1986)\",\n",
       " 'Good Man in Africa, A (1994)',\n",
       " None,\n",
       " 'Amos & Andrew (1993)',\n",
       " 'People vs. Larry Flynt, The (1996)',\n",
       " \"Someone Else's America (1995)\",\n",
       " 'Night Flier (1997)',\n",
       " 'Easy Money (1983)',\n",
       " 'Commandments (1997)',\n",
       " 'Striptease (1996)',\n",
       " 'Sabotage (1936)',\n",
       " 'Outlaw Josey Wales, The (1976)',\n",
       " 'Out of Sight (1998)',\n",
       " 'Bedknobs and Broomsticks (1971)',\n",
       " 'Bamba, La (1987)',\n",
       " 'Mr. Jealousy (1997)',\n",
       " 'Six Ways to Sunday (1997)',\n",
       " 'Butterfly Kiss (1995)',\n",
       " 'D3: The Mighty Ducks (1996)',\n",
       " 'Meatballs III (1987)',\n",
       " 'Final Conflict, The (a.k.a. Omen III: The Final Conflict) (1981)',\n",
       " 'Boys and Girls (2000)',\n",
       " 'Adventures of Buckaroo Bonzai Across the 8th Dimension, The (1984)',\n",
       " 'Fight Club (1999)',\n",
       " 'Harvest (1998)',\n",
       " 'City Hall (1996)',\n",
       " 'Rush Hour (1998)',\n",
       " 'Blood In, Blood Out (a.k.a. Bound by Honor) (1993)',\n",
       " \"Soldier's Daughter Never Cries, A (1998)\",\n",
       " 'Bicycle Thief, The (Ladri di biciclette) (1948)',\n",
       " 'Wrong Trousers, The (1993)',\n",
       " 'Four Rooms (1995)',\n",
       " 'I Went Down (1997)',\n",
       " 'Son in Law (1993)',\n",
       " 'Nights of Cabiria (Le Notti di Cabiria) (1957)',\n",
       " None,\n",
       " 'Source, The (1999)',\n",
       " None,\n",
       " 'Ape, The (1940)',\n",
       " 'Airport 1975 (1974)',\n",
       " 'Dunston Checks In (1996)',\n",
       " 'Alan Smithee Film: Burn Hollywood Burn, An (1997)',\n",
       " 'Ghost and the Darkness, The (1996)',\n",
       " 'Ben-Hur (1959)',\n",
       " 'Yards, The (1999)',\n",
       " 'Nadja (1994)',\n",
       " 'Pump Up the Volume (1990)',\n",
       " 'Arachnophobia (1990)',\n",
       " 'Twelve Chairs, The (1970)',\n",
       " '7th Voyage of Sinbad, The (1958)',\n",
       " 'Three Wishes (1995)',\n",
       " 'Lawnmower Man 2: Beyond Cyberspace (1996)',\n",
       " 'Seven Beauties (Pasqualino Settebellezze) (1976)',\n",
       " 'Being There (1979)',\n",
       " 'Mission to Mars (2000)',\n",
       " \"Mr. Holland's Opus (1995)\",\n",
       " 'Messenger: The Story of Joan of Arc, The (1999)',\n",
       " 'Tales of Terror (1962)',\n",
       " 'War of the Worlds, The (1953)',\n",
       " 'Lawnmower Man, The (1992)',\n",
       " 'Out of Africa (1985)',\n",
       " 'Little Mermaid, The (1989)',\n",
       " 'Fish Called Wanda, A (1988)',\n",
       " 'Nico Icon (1995)',\n",
       " 'Beauty (1998)',\n",
       " 'Dangerous Minds (1995)',\n",
       " 'Animal House (1978)',\n",
       " 'Grapes of Wrath, The (1940)',\n",
       " 'Breakdown (1997)',\n",
       " 'Clan of the Cave Bear, The (1986)',\n",
       " 'Spy Who Loved Me, The (1977)']"
      ]
     },
     "execution_count": 186,
     "metadata": {},
     "output_type": "execute_result"
    }
   ],
   "source": [
    "get_user_recommendations_for_word2vec(1, 100)"
   ]
  },
  {
   "cell_type": "code",
   "execution_count": 134,
   "id": "48c1ba08-9db5-4b2f-a09f-48cd3a567ea2",
   "metadata": {},
   "outputs": [],
   "source": [
    "liked_movies = movie_data[movie_data['user_id'] == 1]\n",
    "liked_movie_titles = [get_movie_title_from_id(mid) for mid in liked_movies[liked_movies['rating'] == 5]['movie_id'].tolist()]\n"
   ]
  },
  {
   "cell_type": "code",
   "execution_count": 136,
   "id": "6519c90c-7f02-4ce7-af81-20bceeb22bf3",
   "metadata": {},
   "outputs": [
    {
     "data": {
      "text/plain": [
       "[\"One Flew Over the Cuckoo's Nest (1975)\",\n",
       " \"Bug's Life, A (1998)\",\n",
       " 'Ben-Hur (1959)',\n",
       " 'Christmas Story, A (1983)',\n",
       " 'Beauty and the Beast (1991)',\n",
       " 'Sound of Music, The (1965)',\n",
       " 'Awakenings (1990)',\n",
       " 'Back to the Future (1985)',\n",
       " \"Schindler's List (1993)\",\n",
       " 'Pocahontas (1995)',\n",
       " 'Last Days of Disco, The (1998)',\n",
       " 'Cinderella (1950)',\n",
       " 'Apollo 13 (1995)',\n",
       " 'Toy Story (1995)',\n",
       " 'Rain Man (1988)',\n",
       " 'Mary Poppins (1964)',\n",
       " 'Dumbo (1941)',\n",
       " 'Saving Private Ryan (1998)']"
      ]
     },
     "execution_count": 136,
     "metadata": {},
     "output_type": "execute_result"
    }
   ],
   "source": [
    "liked_movie_titles"
   ]
  },
  {
   "cell_type": "code",
   "execution_count": 138,
   "id": "cb64ac4a-590a-4ee0-b699-d46f9a0a75c9",
   "metadata": {},
   "outputs": [
    {
     "data": {
      "text/plain": [
       "[\"One Flew Over the Cuckoo's Nest (1975)\",\n",
       " \"Bug's Life, A (1998)\",\n",
       " 'Ben-Hur (1959)',\n",
       " 'Christmas Story, A (1983)',\n",
       " 'Beauty and the Beast (1991)',\n",
       " 'Sound of Music, The (1965)',\n",
       " 'Awakenings (1990)',\n",
       " 'Back to the Future (1985)',\n",
       " \"Schindler's List (1993)\",\n",
       " 'Pocahontas (1995)',\n",
       " 'Last Days of Disco, The (1998)',\n",
       " 'Cinderella (1950)',\n",
       " 'Apollo 13 (1995)',\n",
       " 'Toy Story (1995)',\n",
       " 'Rain Man (1988)',\n",
       " 'Mary Poppins (1964)',\n",
       " 'Dumbo (1941)',\n",
       " 'Saving Private Ryan (1998)']"
      ]
     },
     "execution_count": 138,
     "metadata": {},
     "output_type": "execute_result"
    }
   ],
   "source": [
    "valid_titles = [title for title in liked_movie_titles if get_movie_id_from_title(title) < word2vec_matrix.shape[0]]\n",
    "valid_titles"
   ]
  },
  {
   "cell_type": "code",
   "execution_count": 140,
   "id": "fe307811-cff7-43cc-9223-77646e687fd1",
   "metadata": {},
   "outputs": [
    {
     "data": {
      "text/plain": [
       "array([12.08581777, 12.41044991, 13.16569507, ..., 12.13722309,\n",
       "       13.11593839, 12.0620283 ])"
      ]
     },
     "execution_count": 140,
     "metadata": {},
     "output_type": "execute_result"
    }
   ],
   "source": [
    "# Create a user profile by averaging the Word2Vec vectors of movies they liked\n",
    "user_profile = np.mean([word2vec_matrix[get_movie_id_from_title(title)] for title in valid_titles], axis=0)\n",
    "user_profile"
   ]
  },
  {
   "cell_type": "code",
   "execution_count": 158,
   "id": "eb07d841-8235-4cb4-af70-b753cbea5a98",
   "metadata": {},
   "outputs": [],
   "source": [
    "# Compute similarities between user profile and all movie vectors\n",
    "sim_scores = list(enumerate(linear_kernel([user_profile], similarities)))\n",
    "\n",
    "# Sort by similarity scores\n",
    "sim_scores = sorted(sim_scores, key=lambda x: x[1], reverse=True)\n",
    "\n",
    "# Get the top movie titles\n",
    "movie_titles = [get_movie_title_from_id(i[0]) for i in sim_scores[:10]]\n"
   ]
  },
  {
   "cell_type": "code",
   "execution_count": 173,
   "id": "8feb68ac-6b36-4f3f-8060-e6631bd42189",
   "metadata": {},
   "outputs": [
    {
     "name": "stdout",
     "output_type": "stream",
     "text": [
      "[581705.75959142 609740.68698731 618315.22157904 ... 599839.62936544\n",
      " 626579.41029563 599967.27470421]\n",
      "None\n"
     ]
    }
   ],
   "source": [
    "for i in sim_scores[:10]:\n",
    "    print(i[1])\n",
    "    print(get_movie_title_from_id(i[1]))"
   ]
  },
  {
   "cell_type": "code",
   "execution_count": 174,
   "id": "33c570ba-872f-4e47-b357-2365217d62ba",
   "metadata": {},
   "outputs": [
    {
     "data": {
      "text/plain": [
       "[(0,\n",
       "  array([581705.75959142, 609740.68698731, 618315.22157904, ...,\n",
       "         599839.62936544, 626579.41029563, 599967.27470421]))]"
      ]
     },
     "execution_count": 174,
     "metadata": {},
     "output_type": "execute_result"
    }
   ],
   "source": [
    "sim_scores"
   ]
  },
  {
   "cell_type": "code",
   "execution_count": 179,
   "id": "a77f7b10-16fa-4088-b035-4be159fd98bf",
   "metadata": {},
   "outputs": [],
   "source": [
    "sim_scores = linear_kernel([user_profile], word2vec_matrix)[0] \n",
    "\n",
    "# Get the indices of the top movies based on similarity scores\n",
    "recommended_movie_ids = np.argsort(sim_scores)[-10:][::-1]  # sorts and fetches top indices\n",
    "\n",
    "movie_titles = [get_movie_title_from_id(mid) for mid in recommended_movie_ids]\n"
   ]
  },
  {
   "cell_type": "code",
   "execution_count": 180,
   "id": "4acecf3d-8755-4823-a4be-f1da367617c0",
   "metadata": {},
   "outputs": [
    {
     "data": {
      "text/plain": [
       "['S.F.W. (1994)',\n",
       " 'I Got the Hook Up (1998)',\n",
       " 'Cook the Thief His Wife & Her Lover, The (1989)',\n",
       " None,\n",
       " 'Out of the Past (1947)',\n",
       " 'Exorcist II: The Heretic (1977)',\n",
       " 'Homegrown (1998)',\n",
       " 'Shaggy D.A., The (1976)',\n",
       " 'Being John Malkovich (1999)',\n",
       " 'Still Breathing (1997)']"
      ]
     },
     "execution_count": 180,
     "metadata": {},
     "output_type": "execute_result"
    }
   ],
   "source": [
    "movie_titles"
   ]
  },
  {
   "cell_type": "code",
   "execution_count": null,
   "id": "0c1039b7-cc9e-4ec0-90bb-fabed6079121",
   "metadata": {},
   "outputs": [],
   "source": []
  }
 ],
 "metadata": {
  "kernelspec": {
   "display_name": "Python 3 (ipykernel)",
   "language": "python",
   "name": "python3"
  },
  "language_info": {
   "codemirror_mode": {
    "name": "ipython",
    "version": 3
   },
   "file_extension": ".py",
   "mimetype": "text/x-python",
   "name": "python",
   "nbconvert_exporter": "python",
   "pygments_lexer": "ipython3",
   "version": "3.11.4"
  }
 },
 "nbformat": 4,
 "nbformat_minor": 5
}
